{
 "cells": [
  {
   "cell_type": "code",
   "execution_count": 10,
   "outputs": [],
   "source": [
    "import numpy as np\n",
    "from matricesFW import FW_objective_function, FW_inface, FrankWolfe\n",
    "from scipy import sparse\n",
    "import matplotlib.pyplot as plt\n",
    "import scipy.sparse.linalg\n",
    "from scipy import stats"
   ],
   "metadata": {
    "collapsed": false,
    "pycharm": {
     "name": "#%%\n"
    }
   }
  },
  {
   "cell_type": "markdown",
   "source": [
    "# Artificial Data Generation"
   ],
   "metadata": {
    "collapsed": false,
    "pycharm": {
     "name": "#%% md\n"
    }
   }
  },
  {
   "cell_type": "code",
   "execution_count": 4,
   "outputs": [],
   "source": [
    "def data_generation(n, m, rho):\n",
    "    X_test = sparse.random(m, n, density=rho, format='csr', data_rvs=None)\n",
    "    return X_test"
   ],
   "metadata": {
    "collapsed": false,
    "pycharm": {
     "name": "#%%\n"
    }
   }
  },
  {
   "cell_type": "code",
   "execution_count": null,
   "outputs": [],
   "source": [
    "n = 400\n",
    "m = 200\n",
    "rho = 0.1\n",
    "\n",
    "#This is outside for loop because this way it's always the same data\n",
    "X_test = data_generation(n, m, rho)\n",
    "\n",
    "\n",
    "for i in range(1, 60, 4):\n",
    "    delta = i\n",
    "    for i in range(1,20):\n",
    "        gamma1 = i*0.1\n",
    "        gamma2 = (i*0.1)+0.1\n",
    "        pred_ratings_reg, loss_reg, loss_track_reg, ranks_reg = FrankWolfe(X_test, FW_objective_function, delta = delta, max_iter=250, patience=1e-7, printing = False)\n",
    "        pred_ratings_inface, loss_inface, loss_track_inface, ranks_inface = FW_inface(X_test, FW_objective_function, gamma1 = gamma1, gamma2 = gamma2 , delta = delta, max_iter = 250, patience = 1e-7, printing=False)\n",
    "        fig = plt.figure(figsize = (20,10))\n",
    "        fig.suptitle(t = 'n = %i, m = %i, δ =%i, γ1 = %.2f, γ2= %.2f, ρ = %.2f'%(n, m, delta, gamma1, gamma2, rho), fontsize=20)\n",
    "        ax1 = fig.add_subplot(121)\n",
    "        ax1.set_title(label = 'error vs iterations' , fontsize = 18)\n",
    "        ax1.set_xlabel('iterations', size = 16)\n",
    "        ax1.set_ylabel('log(f)',size = 16)\n",
    "        ax1.plot(np.log10(loss_track_reg), label = 'FW', color = 'orange')\n",
    "        ax1.plot(np.log10(loss_track_inface), label = 'FW_IF', color = 'blue')\n",
    "        ax1.legend(loc = 'best')\n",
    "        ax2 = fig.add_subplot(122)\n",
    "        ax2.set_title(label = 'rank vs iterations', fontsize = 18)\n",
    "        ax2.set_xlabel('iterations', size = 16)\n",
    "        ax2.set_ylabel('rank',size = 16)\n",
    "        ax2.plot(ranks_reg, label = 'FW', color = 'orange')\n",
    "        ax2.plot(ranks_inface, label = 'FW_IF', color = 'blue')\n",
    "        ax2.legend(loc = 'best')\n",
    "        #plt.savefig('/home/kabo/Documents/Optimization/deltatry/n=%i_m=%i_δ =%i_γ1=%.2f_γ2= %.2f_ρ=%.2f.png'%(n, m, delta, gamma1, gamma2, rho))"
   ],
   "metadata": {
    "collapsed": false,
    "pycharm": {
     "name": "#%%\n"
    }
   }
  },
  {
   "cell_type": "markdown",
   "source": [
    "## Data Generation #2"
   ],
   "metadata": {
    "collapsed": false
   }
  },
  {
   "cell_type": "code",
   "execution_count": null,
   "outputs": [],
   "source": [
    "# Parameters\n",
    "n = 400\n",
    "m = 200\n",
    "r = 10\n",
    "rho = 0.10\n",
    "SNR = 5\n",
    "delta = 3.75\n",
    "\n",
    "\n",
    "# taking data\n",
    "U = sparse.random(m, r, density=0.1, format='csr', data_rvs=None)\n",
    "V = sparse.random(r, n, density=0.1, format='csr', data_rvs=None)\n",
    "E = sparse.random(m, n, density=0.1, format='csr', data_rvs=None)\n",
    "\n",
    "VT = V.transpose(copy=True)\n",
    "\n",
    "UVT = U*V\n",
    "#print(UVT. shape)\n",
    "\n",
    "w1 = 1/(sparse.linalg.norm(UVT, ord='fro'))\n",
    "\n",
    "w2 = 1/(SNR*sparse.linalg.norm(E, ord='fro'))\n",
    "\n",
    "#Finally observed data matrix is:\n",
    "X_test = w1*UVT + w2*E\n",
    "\n",
    "# Non zero values\n",
    "idx_ratings = np.argwhere(X_test != 0.)\n",
    "idx_rows = idx_ratings[:,0]\n",
    "idx_cols = idx_ratings[:,1]\n",
    "\n",
    "# Nuclear norm of the test set\n",
    "rank = np.linalg.matrix_rank(X_test)\n",
    "U_thin, s_thin, Vh_thin = sparse.linalg.svds(X_test, k = rank, which='LM')\n",
    "nuc_norm = s_thin.sum()\n",
    "\n",
    "# Print some info about the generated data\n",
    "print('Nuclear norm:', nuc_norm)\n",
    "print('Data shape:', np.shape(X_test))\n",
    "print('Number of observed values:', len(idx_rows))\n",
    "print('Rank of the matrix:', rank)\n",
    "print('Minimum and maximum values:', X_test.max(), X_test.min())"
   ],
   "metadata": {
    "collapsed": false,
    "pycharm": {
     "name": "#%%\n"
    }
   }
  },
  {
   "cell_type": "code",
   "execution_count": null,
   "outputs": [],
   "source": [],
   "metadata": {
    "collapsed": false,
    "pycharm": {
     "name": "#%%\n"
    }
   }
  },
  {
   "cell_type": "markdown",
   "source": [
    "# Data Generation #3"
   ],
   "metadata": {
    "collapsed": false,
    "pycharm": {
     "name": "#%% md\n"
    }
   }
  },
  {
   "cell_type": "code",
   "execution_count": null,
   "outputs": [],
   "source": [
    "# Create a random sparse matrix for testing\n",
    "rvs = stats.randint(1,6).rvs\n",
    "X_test = sparse.random(1500, 2000,              # shape of the sparse matrix\n",
    "            density = 0.05,             # density of the sparse matrix\n",
    "            dtype = np.int32,           # data type\n",
    "            data_rvs=rvs).toarray()     # distribution\n",
    "\n",
    "#Normalize the values\n",
    "X_test_norm = X_test/5"
   ],
   "metadata": {
    "collapsed": false,
    "pycharm": {
     "name": "#%%\n"
    }
   }
  }
 ],
 "metadata": {
  "kernelspec": {
   "display_name": "Python 3",
   "language": "python",
   "name": "python3"
  },
  "language_info": {
   "codemirror_mode": {
    "name": "ipython",
    "version": 2
   },
   "file_extension": ".py",
   "mimetype": "text/x-python",
   "name": "python",
   "nbconvert_exporter": "python",
   "pygments_lexer": "ipython2",
   "version": "2.7.6"
  }
 },
 "nbformat": 4,
 "nbformat_minor": 0
}