{
 "cells": [
  {
   "cell_type": "code",
   "execution_count": null,
   "metadata": {
    "collapsed": true
   },
   "outputs": [],
   "source": [
    "import numpy as np\n",
    "from matricesFW import FW_objective_function, FW_inface, FrankWolfe\n",
    "from scipy import sparse\n",
    "import matplotlib.pyplot as plt\n",
    "import scipy.sparse.linalg\n",
    "from scipy import stats"
   ]
  },
  {
   "cell_type": "markdown",
   "metadata": {
    "pycharm": {
     "name": "#%% md\n"
    }
   },
   "source": [
    "# Artificial Data Generation"
   ]
  },
  {
   "cell_type": "code",
   "execution_count": null,
   "metadata": {
    "pycharm": {
     "name": "#%%\n"
    }
   },
   "outputs": [],
   "source": [
    "def data_generation(n, m, r, rho, SNR):\n",
    "    U = sparse.random(m, r, density=rho, format='csr', data_rvs=None)\n",
    "    V = sparse.random(r, n, density=rho, format='csr', data_rvs=None)\n",
    "    E = sparse.random(m, n, density=rho, format='csr', data_rvs=None)\n",
    "    VT = V.transpose(copy=True)\n",
    "    UVT = U*V\n",
    "    w1 = 1/(sparse.linalg.norm(UVT, ord='fro'))\n",
    "    w2 = 1/(SNR*sparse.linalg.norm(E, ord='fro'))\n",
    "    X_test = w1*UVT + w2*E\n",
    "    return X_test"
   ]
  },
  {
   "cell_type": "markdown",
   "metadata": {
    "pycharm": {
     "name": "#%% md\n"
    }
   },
   "source": [
    "### Frank Wolfe Implementation"
   ]
  },
  {
   "cell_type": "code",
   "execution_count": null,
   "metadata": {
    "pycharm": {
     "name": "#%%\n"
    }
   },
   "outputs": [],
   "source": [
    "n = 400\n",
    "m = 200\n",
    "r = 10\n",
    "SNR = 5\n",
    "rho = 0.1\n",
    "\n",
    "X_test = data_generation(n, m, r, rho, SNR)\n",
    "\n",
    "\n",
    "#This for loop is testing various deltas\n",
    "\n",
    "\n",
    "for i in range(1, 20):\n",
    "    delta = i # change this accordingly\n",
    "    for i in range(1, 10):\n",
    "        gamma1 = 0.1*i\n",
    "        gamma2 = (0.1*i)+0.1\n",
    "        pred_ratings_reg, loss_reg, loss_track_reg, ranks_reg = FrankWolfe(X_test, FW_objective_function, delta = delta, max_iter=100, patience=1e-7, printing_res = False)\n",
    "        pred_ratings_inface, loss_inface, loss_track_inface, ranks_inface = FW_inface(X_test, FW_objective_function, gamma1 = gamma1, gamma2 = gamma2 , delta = delta, THRES = 10, max_iter = 100, patience = 1e-7, printing=False)\n",
    "        fig = plt.figure(figsize = (20,10))\n",
    "        fig.suptitle(t = 'n = %i, m = %i, delta =%i, γ1 = %.2f, γ2 = %.2f' %(n, m, delta, gamma1, gamma2), fontsize=20)\n",
    "        ax1 = fig.add_subplot(121)\n",
    "        ax1.set_title(label = 'error vs iterations' , fontsize = 18)\n",
    "        ax1.set_xlabel('iterations', size = 16)\n",
    "        ax1.set_ylabel('log(f)',size = 16)\n",
    "        ax1.plot(np.log10(loss_track_reg), label = 'FW', color = 'orange')\n",
    "        ax1.plot(np.log10(loss_track_inface), label = 'FW_IF', color = 'blue')\n",
    "        ax1.legend(loc = 'best')\n",
    "        ax2 = fig.add_subplot(122)\n",
    "        ax2.set_title(label = 'rank vs iterations', fontsize = 18)\n",
    "        ax2.set_xlabel('iterations', size = 16)\n",
    "        ax2.set_ylabel('rank',size = 16)\n",
    "        ax2.plot(ranks_reg, label = 'FW', color = 'orange')\n",
    "        ax2.plot(ranks_inface, label = 'FW_IF', color = 'blue')\n",
    "        ax2.legend(loc = 'best')\n",
    "        plt.savefig('n = %i_m = %i_delta =%i_γ1 = %.2f_γ2 = %.2f.png' %(n, m, delta, gamma1, gamma2))"
   ]
  },
  {
   "cell_type": "markdown",
   "metadata": {
    "pycharm": {
     "name": "#%% md\n"
    }
   },
   "source": [
    "# Goodreads Book Reviews Dataset"
   ]
  },
  {
   "cell_type": "code",
   "execution_count": null,
   "metadata": {
    "pycharm": {
     "name": "#%%\n"
    }
   },
   "outputs": [],
   "source": [
    "import pandas as pd\n",
    "\n",
    "pd.set_option('display.max_rows', 100)\n",
    "pd.set_option('display.max_columns', 100)"
   ]
  },
  {
   "cell_type": "code",
   "execution_count": null,
   "metadata": {
    "pycharm": {
     "name": "#%%\n"
    }
   },
   "outputs": [],
   "source": [
    "# import the data\n",
    "path = 'DATA/goodreads_cleaned.csv'\n",
    "\n",
    "df = pd.read_csv(path, sep = \";\")\n",
    "df['book_id_count'] = df.groupby('book_id')['book_id'].transform('count')\n",
    "df['user_id_count'] = df.groupby('user_id')['user_id'].transform('count')\n",
    "\n",
    "book_quantile = 0.95\n",
    "user_quantile = 0.9\n",
    "\n",
    "df = df.loc[(df.book_id_count >= df.book_id.value_counts().quantile(book_quantile)) & (df.user_id_count >= df.user_id.value_counts().quantile(user_quantile)),:]"
   ]
  },
  {
   "cell_type": "markdown",
   "metadata": {
    "pycharm": {
     "name": "#%% md\n"
    }
   },
   "source": [
    "### Data exploration"
   ]
  },
  {
   "cell_type": "code",
   "execution_count": null,
   "metadata": {
    "pycharm": {
     "name": "#%%\n"
    }
   },
   "outputs": [],
   "source": [
    "df.user_id.value_counts().describe()"
   ]
  },
  {
   "cell_type": "code",
   "execution_count": null,
   "metadata": {
    "pycharm": {
     "name": "#%%\n"
    }
   },
   "outputs": [],
   "source": [
    "df.book_id.value_counts().describe()"
   ]
  },
  {
   "cell_type": "markdown",
   "metadata": {
    "pycharm": {
     "name": "#%% md\n"
    }
   },
   "source": [
    "### Matrix from data"
   ]
  },
  {
   "cell_type": "code",
   "execution_count": null,
   "metadata": {
    "pycharm": {
     "name": "#%%\n"
    }
   },
   "outputs": [],
   "source": [
    "df = pd.pivot_table(df, columns=\"book_id\", index=\"user_id\", values=\"rating\")\n",
    "df.head(10)"
   ]
  },
  {
   "cell_type": "code",
   "execution_count": null,
   "metadata": {
    "pycharm": {
     "name": "#%%\n"
    }
   },
   "outputs": [],
   "source": [
    "df.reset_index(drop=True)\n",
    "df"
   ]
  },
  {
   "cell_type": "code",
   "execution_count": null,
   "metadata": {
    "pycharm": {
     "name": "#%%\n"
    }
   },
   "outputs": [],
   "source": [
    "df = (df + 1)/6\n",
    "df.dropna(axis=0, how='all', inplace=True)\n",
    "df.dropna(axis=1, how='all', inplace=True)\n",
    "data_matrix = df.to_numpy(na_value=np.nan)\n",
    "print(data_matrix)"
   ]
  },
  {
   "cell_type": "code",
   "execution_count": null,
   "metadata": {
    "pycharm": {
     "name": "#%%\n"
    }
   },
   "outputs": [],
   "source": [
    "idx = np.argwhere(~np.isnan(data_matrix))\n",
    "print(idx)"
   ]
  },
  {
   "cell_type": "code",
   "execution_count": null,
   "metadata": {
    "pycharm": {
     "name": "#%%\n"
    }
   },
   "outputs": [],
   "source": [
    "new_data = np.nan_to_num(data_matrix, 0)\n",
    "\n",
    "print(new_data)\n",
    "\n",
    "print(np.linalg.matrix_rank(new_data))"
   ]
  },
  {
   "cell_type": "markdown",
   "metadata": {
    "pycharm": {
     "name": "#%% md\n"
    }
   },
   "source": [
    "### Frank Wolfe Implementations"
   ]
  },
  {
   "cell_type": "code",
   "execution_count": null,
   "metadata": {
    "pycharm": {
     "name": "#%%\n"
    }
   },
   "outputs": [],
   "source": [
    "for i in [0,1,2,3,4,5]:\n",
    "    delta = 1000+(i*200)\n",
    "    #for i in range(1,10):\n",
    "    gamma1 = 0\n",
    "    gamma2 = 1\n",
    "    pred_ratings_reg, loss_reg, loss_track_reg, ranks_reg = FrankWolfe(new_data, FW_objective_function, delta = delta, max_iter=200, patience=1e-7, printing_res = False)\n",
    "    pred_ratings_inface, loss_inface, loss_track_inface, ranks_inface = FW_inface(new_data, FW_objective_function, gamma1 = gamma1, gamma2 = gamma2 , delta = delta, THRES = 10, max_iter = 200, patience = 1e-7, printing=False)\n",
    "    fig = plt.figure(figsize = (20,10))\n",
    "    fig.suptitle(t = 'GoodReads δ =%i, γ1 = %.2f, γ2= %.2f'%(delta, gamma1, gamma2), fontsize=20)\n",
    "    ax1 = fig.add_subplot(121)\n",
    "    ax1.set_title(label = 'error vs iterations' , fontsize = 18)\n",
    "    ax1.set_xlabel('iterations', size = 16)\n",
    "    ax1.set_ylabel('log(f)',size = 16)\n",
    "    ax1.plot(np.log10(loss_track_reg), label = 'FW', color = 'orange')\n",
    "    ax1.plot(np.log10(loss_track_inface), label = 'FW_IF', color = 'blue')\n",
    "    ax1.legend(loc = 'best')\n",
    "    ax2 = fig.add_subplot(122)\n",
    "    ax2.set_title(label = 'rank vs iterations', fontsize = 18)\n",
    "    ax2.set_xlabel('iterations', size = 16)\n",
    "    ax2.set_ylabel('rank',size = 16)\n",
    "    ax2.plot(ranks_reg, label = 'FW', color = 'orange')\n",
    "    ax2.plot(ranks_inface, label = 'FW_IF', color = 'blue')\n",
    "    ax2.legend(loc = 'best')\n",
    "    plt.savefig('goodreads_δ =%i_γ1 = %.2f_γ2= %.2f.png'%(delta, gamma1, gamma2))"
   ]
  }
 ],
 "metadata": {
  "kernelspec": {
   "display_name": "Python 3",
   "language": "python",
   "name": "python3"
  },
  "language_info": {
   "codemirror_mode": {
    "name": "ipython",
    "version": 3
   },
   "file_extension": ".py",
   "mimetype": "text/x-python",
   "name": "python",
   "nbconvert_exporter": "python",
   "pygments_lexer": "ipython3",
   "version": "3.8.10"
  }
 },
 "nbformat": 4,
 "nbformat_minor": 1
}
