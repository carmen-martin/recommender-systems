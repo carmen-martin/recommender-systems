{
 "cells": [
  {
   "cell_type": "code",
   "execution_count": 129,
   "outputs": [],
   "source": [
    "# Imports\n",
    "from scipy import sparse\n",
    "import scipy\n",
    "import numpy as np\n",
    "from scipy import stats\n",
    "import matplotlib.pyplot as plt\n",
    "import time\n",
    "from numpy import linalg as LA"
   ],
   "metadata": {
    "pycharm": {
     "name": "#%%\n"
    },
    "id": "FhsevKDsg9Kg"
   }
  },
  {
   "cell_type": "markdown",
   "source": [
    "# Frank-Wolfe - standard algorithm"
   ],
   "metadata": {
    "collapsed": false,
    "id": "LTGH57Rtg9Kl"
   }
  },
  {
   "cell_type": "code",
   "execution_count": 130,
   "metadata": {
    "id": "kobsOmgimqL_",
    "jupyter": {
     "outputs_hidden": false
    },
    "pycharm": {
     "name": "#%%\n"
    }
   },
   "outputs": [],
   "source": [
    "# FW objective function\n",
    "def FW_objective_function(diff_vec):\n",
    "    return 0.5*(np.power(diff_vec,2).sum())\n",
    "\n",
    "# Regular FW algorithm\n",
    "def FrankWolfe(X, objective_function, delta, empties = 0, printing_res = True, Z_init = None, max_iter = 150, patience = 1e-3):\n",
    "    '''\n",
    "    :param X: sparse matrix with ratings and 'empty values', rows - users, columns - books.\n",
    "    :param objective_function: objective function that we would like to minimize with FW\n",
    "    :param delta: Radius of the feasible's set ball\n",
    "    :param empties (optional): Empty values of X are zeros (0) or NaN ('nan'). Default = 0\n",
    "    :param Z_init (optional): In case we want to initialize Z with a known matrix, if not given Z_init will be a zeros matrix. Default = None.\n",
    "    :param max_iter (optional): max number of iterations for the method. Default = 150.\n",
    "    :param patience (optional): once reached this tolerance provide the result. Default = 1e-3.\n",
    "    :return: Z: matrix of predicted ratings - it should be like X but with no 'empty values'\n",
    "    :return: accuracy: difference between original values (X) and predicted ones (Z)\n",
    "    '''\n",
    "\n",
    "    # Get X indexes for not empty values\n",
    "    if empties == 0:\n",
    "        idx_ratings = np.argwhere(X != 0)\n",
    "    elif empties == 'nan':\n",
    "        idx_ratings = np.argwhere(~np.isnan(X))\n",
    "    else:\n",
    "        return print('Error: Empties argument', empties, 'not valid.')\n",
    "\n",
    "    idx_rows = idx_ratings[:,0]\n",
    "    idx_cols = idx_ratings[:,1]\n",
    "\n",
    "    # Initialize Z\n",
    "    if Z_init == 'random uniform':\n",
    "        Z = np.random.uniform(low = 0.01, high = 1, size = X.shape)\n",
    "    elif Z_init is not None:\n",
    "        Z = Z_init\n",
    "    else:\n",
    "        Z = np.zeros(X.shape)\n",
    "\n",
    "    # Create vectors with the not empty features of the sparse matrix\n",
    "    X_rated = X[idx_rows, idx_cols]\n",
    "    Z_rated = Z[idx_rows, idx_cols]\n",
    "    diff_vec = np.array(Z_rated - X_rated)[0]\n",
    "\n",
    "    # Create needed variables\n",
    "    diff_loss = patience + 1\n",
    "    loss = objective_function(diff_vec)\n",
    "    res_list = [loss]\n",
    "    it = 0\n",
    "    while (diff_loss > patience) and (it < max_iter):\n",
    "\n",
    "        # Gradient\n",
    "        grad = sparse.csr_matrix((diff_vec, (idx_rows, idx_cols)))\n",
    "\n",
    "        # SVD - Compute k = 1 singular values and its vectors, starting from the largest (which = 'LM')\n",
    "        u_max, s_max, v_max = sparse.linalg.svds(grad, k = 1, which='LM')   #\n",
    "\n",
    "        # Update\n",
    "        Zk_tilde = -delta*np.outer(u_max,v_max)\n",
    "\n",
    "        alpha_k = 2/(it+2) #alpha - as studied in class\n",
    "        Z = (1-alpha_k)*Z + alpha_k*Zk_tilde\n",
    "\n",
    "        # Loss\n",
    "        diff_vec = np.array(Z[idx_rows, idx_cols] - X_rated)[0]\n",
    "        new_loss = objective_function(diff_vec)\n",
    "\n",
    "        # Improvement at this iteration\n",
    "        diff_loss = np.abs(loss - new_loss)\n",
    "        loss = new_loss\n",
    "\n",
    "        if printing_res == True:\n",
    "            if it == 1 or it % 50 == 0:\n",
    "                print('Iteration:', it, 'Loss:', loss, 'Loss diff:', diff_loss, 'Rank(Z): ', np.linalg.matrix_rank(Z))\n",
    "\n",
    "        # Count iteration\n",
    "        it += 1\n",
    "\n",
    "        res_list.append(loss)\n",
    "        \n",
    "    return Z, loss, res_list"
   ]
  },
  {
   "cell_type": "markdown",
   "metadata": {
    "id": "6y-VOlLMvfq8"
   },
   "source": [
    "# Frank-Wolfe In-face"
   ]
  },
  {
   "cell_type": "code",
   "execution_count": 131,
   "outputs": [],
   "source": [
    "# Binary search for alpha stop\n",
    "def alpha_binary_search(Zk, Dk, delta, max_value = 1, min_value = 0, tol = 0.1):\n",
    "\n",
    "    #Inizialization\n",
    "\n",
    "    best_alpha = step = (max_value - min_value) / 2\n",
    "\n",
    "    #Binary Search\n",
    "\n",
    "    while step >= tol:\n",
    "\n",
    "      testing_matrix = Zk + best_alpha * Dk\n",
    "\n",
    "      testing_mat_nuclear_norm = LA.norm(testing_matrix, ord = 'nuc')\n",
    "      \n",
    "      step = step / 2 \n",
    "\n",
    "      if testing_mat_nuclear_norm > delta:\n",
    "\n",
    "          best_alpha = best_alpha + step\n",
    "\n",
    "      if testing_mat_nuclear_norm <= delta:\n",
    "\n",
    "          best_alpha = best_alpha - step\n",
    "\n",
    "    return best_alpha"
   ],
   "metadata": {
    "pycharm": {
     "name": "#%%\n"
    },
    "id": "o8094r4Hg9Kq"
   }
  },
  {
   "cell_type": "code",
   "source": [
    "# # Evaluate Best Beta\n",
    "# def compute_best_beta(grad, Dk, L, alpha_stop):\n",
    "\n",
    "#   grad = grad.toarray()\n",
    "\n",
    "#   operator1 = -np.dot(grad.T, Dk)\n",
    "#   operator2 = L * LA.norm(Dk)**2\n",
    "#   fraction = operator1/operator2\n",
    "#   fraction = fraction.sum()\n",
    "\n",
    "#   if fraction < alpha_stop:\n",
    "#     best_beta = fraction\n",
    "\n",
    "#   else:\n",
    "#     best_beta = alpha_stop\n",
    "\n",
    "#   return best_beta"
   ],
   "metadata": {
    "id": "EqUfMVSCjJ1I"
   },
   "execution_count": 132,
   "outputs": []
  },
  {
   "cell_type": "code",
   "source": [
    "def compute_best_beta(Zk, X_rated, Dk, idx_rows, idx_cols, alpha_stop, stepsize = 0.003, tol = 0.001):\n",
    "\n",
    "  best_beta = alpha_stop / 2\n",
    "\n",
    "  step = tol\n",
    "\n",
    "  while step >= tol:\n",
    "\n",
    "    Zk = Zk + best_beta * Dk                              # compute new Zk\n",
    "\n",
    "    Z_rated = Zk[idx_rows, idx_cols]                      # take only known values\n",
    "\n",
    "    diff_vec = np.array(Z_rated - X_rated)[0].sum()       # compute the difference vector\n",
    "\n",
    "    #loss = 0.5*(np.power(diff_vec,2).sum())              # compute the loss # didn't take this one because it's always positive!\n",
    "\n",
    "    step = diff_vec * stepsize\n",
    "\n",
    "    best_beta = best_beta + step\n",
    "\n",
    "    if best_beta <= 0:\n",
    "      best_beta = 0\n",
    "      break\n",
    "\n",
    "    if best_beta >= alpha_stop:\n",
    "      best_beta = alpha_stop\n",
    "      break\n",
    "\n",
    "  print(best_beta)\n",
    "\n",
    "  return best_beta"
   ],
   "metadata": {
    "id": "F1T2z-z4HlTv"
   },
   "execution_count": 157,
   "outputs": []
  },
  {
   "cell_type": "code",
   "execution_count": 143,
   "outputs": [],
   "source": [
    "def FW_inface(X, objective_function, delta, L = 1, D = None, gamma1 = 0, gamma2 = 1, THRES = 0.001, empties = 0, max_iter=150, patience=1e-3, printing = True, delta_change = False):\n",
    "    '''\n",
    "    :param X: sparse matrix with ratings and 'empty values', rows - users, columns - books.\n",
    "    :param objective_function: objective function that we would like to minimize with FW.\n",
    "    :param delta: Radius of the feasible's set ball\n",
    "    :param L: must be greater than 1\n",
    "    :param D: if not inputed = 2*delta\n",
    "    :param gamma1:\n",
    "    :param gamma2:\n",
    "    :param THRES:\n",
    "    :param empties (optional): Empty values of X are zeros (0) or NaN ('nan'). Default = 0\n",
    "    :param max_iter: max number of iterations for the method.\n",
    "    :param patience: once reached this tolerance provide the result.\n",
    "    :return: Z: matrix of predicted ratings - it should be like X but with no 'empty values'\n",
    "            loss: difference between original values (X) and predicted ones (Z).\n",
    "    '''\n",
    "\n",
    "    # Get X indexes for not empty values\n",
    "    if empties == 0:\n",
    "        idx_ratings = np.argwhere(X != 0)\n",
    "    elif empties == 'nan':\n",
    "        idx_ratings = np.argwhere(~np.isnan(X))\n",
    "    else:\n",
    "        return print('Empties argument', empties, 'not valid.')\n",
    "\n",
    "    idx_rows = idx_ratings[:,0]\n",
    "    idx_cols = idx_ratings[:,1]\n",
    "\n",
    "    # Initialize Z_{-1}\n",
    "    Z_1 = np.zeros(X.shape)\n",
    "\n",
    "    # Create vectors with the not empty features of the sparse matrix\n",
    "    X_rated = X[idx_rows, idx_cols]\n",
    "    Z_rated = Z_1[idx_rows, idx_cols]\n",
    "    diff_vec_1 = np.array(Z_rated - X_rated)[0]\n",
    "\n",
    "    # Initial gradient and Z0\n",
    "    grad_1 = sparse.csr_matrix((diff_vec_1, (idx_rows, idx_cols)))\n",
    "    u_max, s_max, v_max = sparse.linalg.svds(grad_1, k = 1, which='LM')\n",
    "    Zk = -delta*np.outer(u_max,v_max)\n",
    "    Z_rated = Zk[idx_rows, idx_cols]\n",
    "\n",
    "    print('Initial Zk Rank: ', LA.matrix_rank(Zk))\n",
    "\n",
    "    # Initialize lower bound on the optimal objective function (f*)\n",
    "    diff_vec = np.array(Z_rated - X_rated)[0]\n",
    "    #new_low_bound = np.max((objective_function(diff_vec_1) + np.multiply(grad_1.toarray(),Zk).sum()), 0)\n",
    "    new_low_bound = 0\n",
    "    #new_low_bound = np.max((objective_function(diff_vec_1) + (grad_1.dot(Zk)).trace()), 0)\n",
    "    #new_low_bound = 0 #used 0 otherwise the other new_low_bound was too high!\n",
    "\n",
    "    # Set D\n",
    "    if D is not None:\n",
    "        D = D\n",
    "    else:\n",
    "        D = 2*delta\n",
    "\n",
    "    rank_Z = LA.matrix_rank(Zk)   # rank of Zk to find thin SVD size\n",
    "\n",
    "    # Additional needed parameters\n",
    "    diff_loss = patience + 1\n",
    "    loss = objective_function(diff_vec)\n",
    "    it = 0\n",
    "    res_list = [objective_function(diff_vec_1), loss]\n",
    "    ranks = [rank_Z]\n",
    "    not_in_ball=False\n",
    "\n",
    "    B_used = 0\n",
    "    A_used = 0\n",
    "    not_entered = 0\n",
    "    regularFW = 0\n",
    "\n",
    "    in_border = 0\n",
    "    inside = 0\n",
    "    outside = 0\n",
    "\n",
    "    while (diff_loss > patience) and (it < max_iter):\n",
    "\n",
    "        # Thin SVD\n",
    "        U_thin, s_thin, Vh_thin = sparse.linalg.svds(Zk, k = rank_Z, which='LM')   # Compute k = rank singular values\n",
    "\n",
    "        # Lower bound update\n",
    "        low_bound = new_low_bound\n",
    "\n",
    "        # Gradient\n",
    "        grad = sparse.csr_matrix((diff_vec, (idx_rows, idx_cols)))\n",
    "\n",
    "        # In-face direction with the away step strategy: two calculations depending of where Z lies within the feasible set\n",
    "        if np.isclose(s_thin.sum(), delta, rtol=1e-3)==True: # Z in border (sum of singular values == radius of feasible set)\n",
    "            in_border += 1\n",
    "            G = 0.5 * (Vh_thin.dot(grad.T.dot(U_thin)) + U_thin.T.dot(grad.dot(Vh_thin.T)))\n",
    "            # Obtain unitary eigenvector corresponding to smallest eigenvalue of G\n",
    "            eigvalues, eigvectors = LA.eig(G)  #find the eigenvalues\n",
    "            min_eig = np.argmin(eigvalues)  #find the index of the smallest eigenvalue\n",
    "            u = eigvectors[:, min_eig]  #take the eigenvector corresponding to the smallest eigenvalue\n",
    "\n",
    "            # Update value\n",
    "            M = np.outer(u,u.T)\n",
    "            Zk_tilde = delta*U_thin.dot(M.dot(Vh_thin))\n",
    "            Dk = Zk - Zk_tilde\n",
    "\n",
    "            inv_s_thin = np.diag(1/s_thin)\n",
    "            alpha_stop = 1/(delta*u.T.dot(inv_s_thin.dot(u))-1)\n",
    "\n",
    "        elif s_thin.sum() < delta: #inside\n",
    "            inside += 1\n",
    "            u_max, s_max, v_max = sparse.linalg.svds(grad, k = 1, which='LM')\n",
    "            Zk_tilde = delta*np.outer(u_max,v_max)\n",
    "            Dk = Zk - Zk_tilde\n",
    "            #BINARY SEARCH\n",
    "\n",
    "            alpha_stop = alpha_binary_search(Zk,\n",
    "                                          Dk,\n",
    "                                          delta)\n",
    "\n",
    "        else:\n",
    "            not_in_ball = True\n",
    "            outside += 1\n",
    "\n",
    "        #nuclear_norm = s_thin.sum()\n",
    "        # We check if Zk is inside the feasible set and the rank in order to decide which type steps to do\n",
    "        if rank_Z > 1 and not_in_ball==False:\n",
    "            if delta_change is True:\n",
    "                delta = delta * (1 -0.03)\n",
    "            Z_B = Zk + alpha_stop*Dk\n",
    "            diff_vec_B = np.array(Z_B[idx_rows, idx_cols] - X_rated)[0]\n",
    "            if 1/(objective_function(diff_vec_B)-low_bound) >= (1/(loss-low_bound)+gamma1/(2*L*D**2)):\n",
    "              # 1. Move to a lower dimensional face\n",
    "                B_used += 1\n",
    "                Zk = Z_B\n",
    "\n",
    "            else:\n",
    "\n",
    "                beta = compute_best_beta(Zk, X_rated, Dk, idx_rows, idx_cols, alpha_stop)\n",
    "\n",
    "                Z_A = Zk + beta*Dk\n",
    "\n",
    "                diff_vec_A = np.array(Z_A[idx_rows, idx_cols] - X_rated)[0]\n",
    "\n",
    "                if 1/(objective_function(diff_vec_A)-low_bound) >= (1/(loss-low_bound)+gamma2/(2*L*D**2)):\n",
    "                    # 2. Stay in the current face\n",
    "                    A_used += 1\n",
    "                    Zk = Z_A\n",
    "                else:\n",
    "                    # 3. Do a regular FW step and update the lower bound\n",
    "                    regularFW += 1\n",
    "                    #Zk update\n",
    "                    u_max, s_max, v_max = sparse.linalg.svds(grad, k = 1, which='LM')\n",
    "                    Zk_tilde = -delta*np.outer(u_max,v_max)\n",
    "\n",
    "                    '''# Lower bound update\n",
    "                    B_w = loss + grad.T.dot(Zk_tilde - Zk)\n",
    "                    print(B_w, low_bound)\n",
    "                    new_low_bound = np.max(low_bound, B_w)'''\n",
    "\n",
    "                    direction_vec = Zk_tilde.flatten() - Zk.flatten()\n",
    "                    grad = grad.toarray()\n",
    "                    wolfe_gap = grad.T.flatten() * direction_vec\n",
    "                    B_w = loss + wolfe_gap.sum()\n",
    "\n",
    "                    #TRIED THIS INSTEAD\n",
    "                    if low_bound >= B_w:\n",
    "                        new_low_bound = low_bound\n",
    "                    else:\n",
    "                        new_low_bound = B_w\n",
    "\n",
    "                    # Z_(k+1)\n",
    "                    alpha_k = 2/(it+2)\n",
    "                    Zk = (1-alpha_k)*Zk + alpha_k*Zk_tilde\n",
    "\n",
    "        else:\n",
    "\n",
    "            # 3. Do a regular FW step and update the lower bound\n",
    "            not_entered += 1\n",
    "            #Zk update\n",
    "            grad = sparse.csr_matrix((diff_vec, (idx_rows, idx_cols)))\n",
    "            u_max, s_max, v_max = sparse.linalg.svds(grad, k = 1, which='LM')\n",
    "            Zk_tilde = -delta*np.outer(u_max,v_max)\n",
    "\n",
    "            '''# Lower bound update\n",
    "            B_w = loss + grad.T.dot(Zk_tilde - Zk)\n",
    "            print(B_w, low_bound)\n",
    "            new_low_bound = np.max(low_bound, B_w)'''\n",
    "\n",
    "            direction_vec = Zk_tilde.flatten() - Zk.flatten()\n",
    "            grad = grad.toarray()\n",
    "            wolfe_gap = grad.T.flatten() * direction_vec\n",
    "            B_w = loss + wolfe_gap.sum()\n",
    "\n",
    "            #TRIED THIS INSTEAD\n",
    "            if low_bound >= B_w:\n",
    "                new_low_bound = low_bound\n",
    "            else:\n",
    "                new_low_bound = B_w\n",
    "\n",
    "            # Z_(k+1)\n",
    "            alpha_k = 2/(it+2)\n",
    "            Zk = (1-alpha_k)*Zk + alpha_k*Zk_tilde\n",
    "\n",
    "            not_in_ball=False\n",
    "\n",
    "        # Loss\n",
    "        diff_vec = np.array(Zk[idx_rows, idx_cols] - X_rated)[0]\n",
    "        new_loss = objective_function(diff_vec)\n",
    "\n",
    "        # Improvement at this iteration\n",
    "        diff_loss = np.abs(loss - new_loss)\n",
    "        loss = new_loss\n",
    "\n",
    "        rank_Z = LA.matrix_rank(Zk)   # rank of Zk to find thin SVD size\n",
    "\n",
    "        # Count iteration\n",
    "        it += 1\n",
    "\n",
    "        res_list.append(loss)\n",
    "        ranks.append(rank_Z)\n",
    "        if printing == True:\n",
    "          if it % 10 == 0 or it == 1:\n",
    "            print('Iteration:', it, 'Loss:', loss, 'Loss diff:', diff_loss, 'Rank(Z): ', rank_Z)\n",
    "\n",
    "    print('Iteration:', it, 'Loss:', loss, 'Loss diff:', diff_loss, 'Rank(Z): ', rank_Z)\n",
    "    print('Went to lower dim face:', B_used)\n",
    "    print('Stayed:', A_used)\n",
    "    print('Regular:', regularFW)\n",
    "    print('Not entered if:', not_entered)\n",
    "\n",
    "    print('in_border:', in_border)\n",
    "    print('Inside ball:', inside)\n",
    "    print('Outside ball:', outside)\n",
    "    return Zk, loss, res_list"
   ],
   "metadata": {
    "pycharm": {
     "name": "#%%\n"
    },
    "id": "3N5XmMzLg9Kr"
   }
  },
  {
   "cell_type": "markdown",
   "source": [
    "## Data Generation"
   ],
   "metadata": {
    "collapsed": false,
    "id": "CkoTxB7ng9Ks"
   }
  },
  {
   "cell_type": "code",
   "execution_count": 135,
   "outputs": [
    {
     "output_type": "stream",
     "name": "stdout",
     "text": [
      "Nuclear norm: 0.5480558536354957\n",
      "Data shape: (200, 400)\n",
      "Number of observed values: 14806\n",
      "Rank of the matrix: 1\n",
      "Minimum and maximum values: 0.05014722050197155 0.0\n"
     ]
    },
    {
     "output_type": "stream",
     "name": "stderr",
     "text": [
      "<string>:6: SparseEfficiencyWarning: Comparing a sparse matrix with 0 using == is inefficient, try using != instead.\n"
     ]
    }
   ],
   "source": [
    "# Parameters\n",
    "n = 400\n",
    "m = 200\n",
    "r = 10\n",
    "rho = 0.10\n",
    "SNR = 5\n",
    "delta = 3.75\n",
    "\n",
    "\n",
    "\n",
    "# taking data\n",
    "U = sparse.random(m, r, density=0.1, format='csr', data_rvs=None)\n",
    "V = sparse.random(r, n, density=0.1, format='csr', data_rvs=None)\n",
    "E = sparse.random(m, n, density=0.1, format='csr', data_rvs=None)\n",
    "\n",
    "\n",
    "\n",
    "VT = V.transpose(copy=True)\n",
    "\n",
    "UVT = U*V\n",
    "#print(UVT. shape)\n",
    "\n",
    "w1 = 1/(sparse.linalg.norm(UVT, ord='fro'))\n",
    "\n",
    "w2 = 1/(SNR*sparse.linalg.norm(E, ord='fro'))\n",
    "\n",
    "#Finally observed data matrix is:\n",
    "X_test = w1*UVT + w2*E\n",
    "\n",
    "# Non zero values\n",
    "idx_ratings = np.argwhere(X_test != 0.)\n",
    "idx_rows = idx_ratings[:,0]\n",
    "idx_cols = idx_ratings[:,1]\n",
    "\n",
    "# Nuclear norm of the test set\n",
    "rank = np.linalg.matrix_rank(X_test)\n",
    "U_thin, s_thin, Vh_thin = sparse.linalg.svds(X_test, k = rank, which='LM')\n",
    "nuc_norm = s_thin.sum()\n",
    "\n",
    "# Print some info about the generated data\n",
    "print('Nuclear norm:', nuc_norm)\n",
    "print('Data shape:', np.shape(X_test))\n",
    "print('Number of observed values:', len(idx_rows))\n",
    "print('Rank of the matrix:', rank)\n",
    "print('Minimum and maximum values:', X_test.max(), X_test.min())"
   ],
   "metadata": {
    "pycharm": {
     "name": "#%%\n"
    },
    "colab": {
     "base_uri": "https://localhost:8080/"
    },
    "id": "LUkkHOaGg9Kt",
    "outputId": "f2dcaa4e-e3d6-444c-ae10-9d022911f0b2"
   }
  },
  {
   "cell_type": "code",
   "execution_count": 164,
   "outputs": [
    {
     "output_type": "stream",
     "name": "stdout",
     "text": [
      "Iteration: 0 Loss: 2353.4647851924415 Loss diff: 2352.9314165471037 Rank(Z):  1\n",
      "Iteration: 1 Loss: 531.6487806830557 Loss diff: 1821.8160045093857 Rank(Z):  2\n",
      "Iteration: 50 Loss: 2.1445817640604465 Loss diff: 0.4189502069055231 Rank(Z):  25\n",
      "CPU times: user 597 ms, sys: 248 ms, total: 846 ms\n",
      "Wall time: 579 ms\n"
     ]
    }
   ],
   "source": [
    "%time pred_ratings_reg, loss_reg, loss_track_reg = FrankWolfe(X_test, FW_objective_function, delta = 100, max_iter=100, patience=1e-7)"
   ],
   "metadata": {
    "pycharm": {
     "name": "#%%\n"
    },
    "colab": {
     "base_uri": "https://localhost:8080/"
    },
    "id": "W_GBUCHbg9Kv",
    "outputId": "11b10b7c-bdb1-4d5b-9b78-1f2bda34e13c"
   }
  },
  {
   "cell_type": "code",
   "execution_count": 137,
   "outputs": [
    {
     "output_type": "display_data",
     "data": {
      "text/plain": [
       "<Figure size 432x288 with 1 Axes>"
      ],
      "image/png": "[encoded data removed]"
     },
     "metadata": {
      "needs_background": "light"
     }
    }
   ],
   "source": [
    "plt.plot(np.log10(loss_track_reg))\n",
    "\n",
    "plt.show()"
   ],
   "metadata": {
    "pycharm": {
     "name": "#%%\n"
    },
    "colab": {
     "base_uri": "https://localhost:8080/",
     "height": 266
    },
    "id": "6wkgai8Kg9Kv",
    "outputId": "656ce192-bf60-41cc-80d3-e309a5c42cab"
   }
  },
  {
   "cell_type": "code",
   "execution_count": 161,
   "outputs": [
    {
     "output_type": "stream",
     "name": "stdout",
     "text": [
      "Initial Zk Rank:  1\n",
      "Iteration: 1 Loss: 211.3849950393774 Loss diff: 74.06946011551119 Rank(Z):  1\n",
      "Iteration: 2 Loss: 31.57342419499254 Loss diff: 179.81157084438485 Rank(Z):  2\n",
      "Iteration: 3 Loss: 24.55882879946578 Loss diff: 7.0145953955267615 Rank(Z):  3\n",
      "Iteration: 4 Loss: 18.166632241466186 Loss diff: 6.392196557999593 Rank(Z):  4\n",
      "Iteration: 5 Loss: 12.542416286053156 Loss diff: 5.62421595541303 Rank(Z):  5\n",
      "Iteration: 6 Loss: 7.8450241195485315 Loss diff: 4.697392166504624 Rank(Z):  6\n",
      "Iteration: 7 Loss: 4.2418301443154265 Loss diff: 3.603193975233105 Rank(Z):  7\n",
      "Iteration: 8 Loss: 1.896240771696574 Loss diff: 2.3455893726188526 Rank(Z):  8\n",
      "Iteration: 9 Loss: 0.9318102589398787 Loss diff: 0.9644305127566952 Rank(Z):  8\n",
      "Iteration: 10 Loss: 0.40810027459849485 Loss diff: 0.5237099843413838 Rank(Z):  9\n",
      "0\n",
      "Iteration: 11 Loss: 5.743699223912744 Loss diff: 5.335598949314249 Rank(Z):  10\n",
      "Iteration: 12 Loss: 2.44626013202243 Loss diff: 3.297439091890314 Rank(Z):  11\n",
      "Iteration: 13 Loss: 0.685592933380903 Loss diff: 1.760667198641527 Rank(Z):  12\n",
      "Iteration: 14 Loss: 0.4482893324003605 Loss diff: 0.23730360098054248 Rank(Z):  13\n",
      "0\n",
      "Iteration: 15 Loss: 3.460105361217252 Loss diff: 3.0118160288168916 Rank(Z):  14\n",
      "Iteration: 16 Loss: 0.9715804999359422 Loss diff: 2.48852486128131 Rank(Z):  15\n",
      "Iteration: 17 Loss: 0.3580767617500148 Loss diff: 0.6135037381859274 Rank(Z):  16\n",
      "0\n",
      "Iteration: 18 Loss: 2.7362933504445452 Loss diff: 2.3782165886945306 Rank(Z):  17\n",
      "Iteration: 19 Loss: 0.6218566041790994 Loss diff: 2.114436746265446 Rank(Z):  18\n",
      "Iteration: 20 Loss: 0.521664799352418 Loss diff: 0.10019180482668133 Rank(Z):  19\n",
      "0\n",
      "Iteration: 21 Loss: 1.6230896075837107 Loss diff: 1.1014248082312927 Rank(Z):  20\n",
      "Iteration: 22 Loss: 0.2938006173912935 Loss diff: 1.3292889901924172 Rank(Z):  21\n",
      "0\n",
      "Iteration: 23 Loss: 1.1590160851464473 Loss diff: 0.8652154677551538 Rank(Z):  22\n",
      "Iteration: 24 Loss: 0.30672588792537214 Loss diff: 0.8522901972210751 Rank(Z):  23\n",
      "0\n",
      "Iteration: 25 Loss: 1.4599565888179027 Loss diff: 1.1532307008925304 Rank(Z):  24\n",
      "Iteration: 26 Loss: 0.26628099032408414 Loss diff: 1.1936755984938185 Rank(Z):  25\n",
      "0\n",
      "Iteration: 27 Loss: 1.178415085270038 Loss diff: 0.9121340949459538 Rank(Z):  26\n",
      "Iteration: 28 Loss: 0.23531621127728766 Loss diff: 0.9430988739927503 Rank(Z):  27\n",
      "0.008004625461738739\n",
      "Iteration: 29 Loss: 0.21067364026173085 Loss diff: 0.024642571015556808 Rank(Z):  28\n",
      "0\n",
      "Iteration: 30 Loss: 0.779510391221961 Loss diff: 0.5688367509602301 Rank(Z):  29\n",
      "Iteration: 31 Loss: 0.26697334878313683 Loss diff: 0.5125370424388241 Rank(Z):  30\n",
      "0.00036447692644353546\n",
      "Iteration: 32 Loss: 0.26340268244491305 Loss diff: 0.0035706663382237824 Rank(Z):  31\n",
      "0.0005425817470559001\n",
      "Iteration: 33 Loss: 0.2582316121397114 Loss diff: 0.005171070305201642 Rank(Z):  32\n",
      "0.0008072810377533907\n",
      "Iteration: 34 Loss: 0.2508576039631777 Loss diff: 0.0073740081765337195 Rank(Z):  33\n",
      "0.0012001352975186882\n",
      "Iteration: 35 Loss: 0.24060177262115726 Loss diff: 0.010255831342020433 Rank(Z):  33\n",
      "0.001782069415268369\n",
      "Iteration: 36 Loss: 0.22692933215387234 Loss diff: 0.013672440467284913 Rank(Z):  34\n",
      "0.002642836149567916\n",
      "Iteration: 37 Loss: 0.21005780425266174 Loss diff: 0.016871527901210603 Rank(Z):  34\n",
      "0.003939224288300507\n",
      "Iteration: 38 Loss: 0.19223396984848956 Loss diff: 0.01782383440417218 Rank(Z):  35\n",
      "0.0072436311518023315\n",
      "Iteration: 39 Loss: 0.17015182109561486 Loss diff: 0.022082148752874703 Rank(Z):  36\n",
      "0.001305893607720765\n",
      "Iteration: 40 Loss: 0.16491277235826918 Loss diff: 0.005239048737345681 Rank(Z):  37\n",
      "0.028561056945987928\n",
      "Iteration: 41 Loss: 0.4109063506742854 Loss diff: 0.2459935783160162 Rank(Z):  38\n",
      "0.008983989016661888\n",
      "Iteration: 42 Loss: 0.2864108416991161 Loss diff: 0.12449550897516926 Rank(Z):  39\n",
      "0.0032361734352591015\n",
      "Iteration: 43 Loss: 0.25138603466247206 Loss diff: 0.03502480703664407 Rank(Z):  40\n",
      "0.001067344034152297\n",
      "Iteration: 44 Loss: 0.24095436626502742 Loss diff: 0.010431668397444638 Rank(Z):  41\n",
      "0.0003398131839514665\n",
      "Iteration: 45 Loss: 0.2377486270744331 Loss diff: 0.003205739190594331 Rank(Z):  42\n",
      "0.00010697293974571559\n",
      "Iteration: 46 Loss: 0.23675095457846762 Loss diff: 0.0009976724959654681 Rank(Z):  42\n",
      "3.3557403538518604e-05\n",
      "Iteration: 47 Loss: 0.23643911723062017 Loss diff: 0.00031183734784745454 Rank(Z):  42\n",
      "1.0515493439323259e-05\n",
      "Iteration: 48 Loss: 0.23634151163117706 Loss diff: 9.760559944310687e-05 Rank(Z):  42\n",
      "3.2939961733570444e-06\n",
      "Iteration: 49 Loss: 0.23631094742896225 Loss diff: 3.0564202214811154e-05 Rank(Z):  42\n",
      "1.0317399356148116e-06\n",
      "Iteration: 50 Loss: 0.23630137523211814 Loss diff: 9.572196844109815e-06 Rank(Z):  42\n",
      "3.231490616657784e-07\n",
      "Iteration: 51 Loss: 0.23629837724986555 Loss diff: 2.997982252589404e-06 Rank(Z):  42\n",
      "1.0121176963889811e-07\n",
      "Iteration: 52 Loss: 0.23629743827836855 Loss diff: 9.389714969998408e-07 Rank(Z):  42\n",
      "3.1699887131919624e-08\n",
      "Iteration: 53 Loss: 0.23629714419015885 Loss diff: 2.9408820970133753e-07 Rank(Z):  42\n",
      "9.928507505724271e-09\n",
      "Iteration: 54 Loss: 0.23629705208087654 Loss diff: 9.210928231251359e-08 Rank(Z):  42\n",
      "3.109639764437011e-09\n",
      "Iteration: 55 Loss: 0.22649521688739627 Loss diff: 0.009801835193480268 Rank(Z):  42\n",
      "0.010194694631675213\n",
      "Iteration: 56 Loss: 0.14789381587531236 Loss diff: 0.0786014010120839 Rank(Z):  43\n",
      "0.01923597069218876\n",
      "Iteration: 57 Loss: 0.33419302630003067 Loss diff: 0.1862992104247183 Rank(Z):  44\n",
      "0\n",
      "Iteration: 58 Loss: 0.14864323593811848 Loss diff: 0.1855497903619122 Rank(Z):  45\n",
      "0.005401009156345633\n",
      "Iteration: 59 Loss: 0.12662259548562904 Loss diff: 0.022020640452489443 Rank(Z):  46\n",
      "0.014315144612840124\n",
      "Iteration: 60 Loss: 0.11203639310229878 Loss diff: 0.014586202383330263 Rank(Z):  47\n",
      "0.012396400428692486\n",
      "Iteration: 61 Loss: 0.10920383151354679 Loss diff: 0.002832561588751989 Rank(Z):  48\n",
      "0\n",
      "Iteration: 62 Loss: 0.29352016249354507 Loss diff: 0.18431633097999828 Rank(Z):  49\n",
      "0\n",
      "Iteration: 63 Loss: 0.10839414811644425 Loss diff: 0.1851260143771008 Rank(Z):  50\n",
      "0\n",
      "Iteration: 64 Loss: 0.27426200235594334 Loss diff: 0.16586785423949907 Rank(Z):  51\n",
      "0\n",
      "Iteration: 65 Loss: 0.1093972049674494 Loss diff: 0.16486479738849394 Rank(Z):  52\n",
      "0\n",
      "Iteration: 66 Loss: 0.2639166265386599 Loss diff: 0.15451942157121049 Rank(Z):  53\n",
      "0\n",
      "Iteration: 67 Loss: 0.11226814272568138 Loss diff: 0.15164848381297852 Rank(Z):  54\n",
      "0\n",
      "Iteration: 68 Loss: 0.25568983591685585 Loss diff: 0.14342169319117448 Rank(Z):  55\n",
      "0\n",
      "Iteration: 69 Loss: 0.1168139299834959 Loss diff: 0.13887590593335994 Rank(Z):  56\n",
      "0\n",
      "Iteration: 70 Loss: 0.2512339981171574 Loss diff: 0.1344200681336615 Rank(Z):  57\n",
      "0\n",
      "Iteration: 71 Loss: 0.12251899026452523 Loss diff: 0.12871500785263218 Rank(Z):  58\n",
      "0\n",
      "Iteration: 72 Loss: 0.23000206359490544 Loss diff: 0.10748307333038021 Rank(Z):  58\n",
      "0\n",
      "Iteration: 73 Loss: 0.12823731300225735 Loss diff: 0.10176475059264808 Rank(Z):  60\n",
      "0\n",
      "Iteration: 74 Loss: 0.2264233234876852 Loss diff: 0.09818601048542785 Rank(Z):  60\n",
      "0\n",
      "Iteration: 75 Loss: 0.1344986530797424 Loss diff: 0.0919246704079428 Rank(Z):  61\n",
      "0\n",
      "Iteration: 76 Loss: 0.21761687622852538 Loss diff: 0.08311822314878298 Rank(Z):  62\n",
      "0\n",
      "Iteration: 77 Loss: 0.14058407958532565 Loss diff: 0.07703279664319973 Rank(Z):  63\n",
      "0\n",
      "Iteration: 78 Loss: 0.21878801852678376 Loss diff: 0.0782039389414581 Rank(Z):  64\n",
      "0\n",
      "Iteration: 79 Loss: 0.14695030072561732 Loss diff: 0.07183771780116643 Rank(Z):  65\n",
      "0\n",
      "Iteration: 80 Loss: 0.1903745115627599 Loss diff: 0.04342421083714257 Rank(Z):  66\n",
      "0\n",
      "Iteration: 81 Loss: 0.15281191114111278 Loss diff: 0.03756260042164711 Rank(Z):  67\n",
      "0\n",
      "Iteration: 82 Loss: 0.19245419907437708 Loss diff: 0.0396422879332643 Rank(Z):  68\n",
      "0\n",
      "Iteration: 83 Loss: 0.15759327465273318 Loss diff: 0.0348609244216439 Rank(Z):  69\n",
      "0\n",
      "Iteration: 84 Loss: 0.19432916064230393 Loss diff: 0.036735885989570755 Rank(Z):  70\n",
      "0\n",
      "Iteration: 85 Loss: 0.16213819985676955 Loss diff: 0.03219096078553438 Rank(Z):  71\n",
      "0\n",
      "Iteration: 86 Loss: 0.19523632600269158 Loss diff: 0.03309812614592203 Rank(Z):  72\n",
      "0\n",
      "Iteration: 87 Loss: 0.16605461451263928 Loss diff: 0.029181711490052303 Rank(Z):  73\n",
      "0\n",
      "Iteration: 88 Loss: 0.1903364986267428 Loss diff: 0.024281884114103508 Rank(Z):  74\n",
      "0\n",
      "Iteration: 89 Loss: 0.16813071235341812 Loss diff: 0.022205786273324674 Rank(Z):  75\n",
      "0\n",
      "Iteration: 90 Loss: 0.17363858482781364 Loss diff: 0.00550787247439552 Rank(Z):  76\n",
      "0.006160697358405524\n",
      "Iteration: 91 Loss: 0.140526730813525 Loss diff: 0.03311185401428862 Rank(Z):  77\n",
      "0.01056506002852799\n",
      "Iteration: 92 Loss: 0.10692814948606842 Loss diff: 0.03359858132745659 Rank(Z):  78\n",
      "0.012242992924900123\n",
      "Iteration: 93 Loss: 0.17203557524380297 Loss diff: 0.06510742575773455 Rank(Z):  79\n",
      "0\n",
      "Iteration: 94 Loss: 0.1109140447534886 Loss diff: 0.06112153049031438 Rank(Z):  80\n",
      "0.01813827835758635\n",
      "Iteration: 95 Loss: 0.16222978727404005 Loss diff: 0.05131574252055146 Rank(Z):  81\n",
      "0\n",
      "Iteration: 96 Loss: 0.11537664245339375 Loss diff: 0.0468531448206463 Rank(Z):  82\n",
      "0.013601160702158048\n",
      "Iteration: 97 Loss: 0.11225074183209202 Loss diff: 0.003125900621301733 Rank(Z):  83\n",
      "0\n",
      "Iteration: 98 Loss: 0.15921357068020642 Loss diff: 0.046962828848114396 Rank(Z):  84\n",
      "0.004131118466311954\n",
      "Iteration: 99 Loss: 0.12895588610100162 Loss diff: 0.030257684579204802 Rank(Z):  85\n",
      "0.008455663183927736\n",
      "Iteration: 100 Loss: 0.09956896792356369 Loss diff: 0.029386918177437923 Rank(Z):  86\n",
      "Went to lower dim face: 20\n",
      "Stayed: 32\n",
      "Regular: 46\n",
      "Not entered if: 2\n",
      "in_border: 0\n",
      "Inside ball: 99\n",
      "Outside ball: 1\n",
      "CPU times: user 13.3 s, sys: 13.7 s, total: 27 s\n",
      "Wall time: 17.2 s\n"
     ]
    }
   ],
   "source": [
    "%time pred_ratings_inface, loss_inface, loss_track_inface = FW_inface(X_test, FW_objective_function, gamma1 = 0, gamma2 = 0.00000001, delta = 25, THRES = 10, max_iter = 100, patience = 1e-30, printing=True)"
   ],
   "metadata": {
    "pycharm": {
     "name": "#%%\n"
    },
    "colab": {
     "base_uri": "https://localhost:8080/"
    },
    "id": "fngVix0Mg9Kw",
    "outputId": "0bec1f2e-4b82-4b54-e647-4018ff5e5f2b"
   }
  },
  {
   "cell_type": "code",
   "execution_count": 139,
   "outputs": [
    {
     "output_type": "display_data",
     "data": {
      "text/plain": [
       "<Figure size 432x288 with 1 Axes>"
      ],
      "image/png": "[encoded data removed]"
     },
     "metadata": {
      "needs_background": "light"
     }
    }
   ],
   "source": [
    "plt.plot(np.log10(loss_track_inface))\n",
    "plt.show()"
   ],
   "metadata": {
    "pycharm": {
     "name": "#%%\n"
    },
    "colab": {
     "base_uri": "https://localhost:8080/",
     "height": 265
    },
    "id": "OiHllKbPg9Kw",
    "outputId": "11132bcc-b3a0-4667-f6cd-6bf19f8991ee"
   }
  },
  {
   "cell_type": "code",
   "source": [
    "%time pred_ratings_inface2, loss_inface2, loss_track_inface2 = FW_inface(X_test, FW_objective_function, gamma1 = 0, gamma2 = 1, delta = 25, THRES = 10, max_iter = 100, patience = 1e-7, printing=True, delta_change = True)"
   ],
   "metadata": {
    "colab": {
     "base_uri": "https://localhost:8080/"
    },
    "id": "zlhTY1KYsAAS",
    "outputId": "49c43322-eb50-468e-e025-ea671a5dff26"
   },
   "execution_count": 163,
   "outputs": [
    {
     "output_type": "stream",
     "name": "stdout",
     "text": [
      "Initial Zk Rank:  1\n",
      "Iteration: 1 Loss: 211.38499503937715 Loss diff: 74.06946011551085 Rank(Z):  1\n",
      "Iteration: 2 Loss: 31.57342419499249 Loss diff: 179.81157084438465 Rank(Z):  2\n",
      "Iteration: 3 Loss: 24.55882879946573 Loss diff: 7.0145953955267615 Rank(Z):  3\n",
      "Iteration: 4 Loss: 18.424848589500378 Loss diff: 6.133980209965351 Rank(Z):  4\n",
      "Iteration: 5 Loss: 13.186062937786467 Loss diff: 5.238785651713911 Rank(Z):  5\n",
      "Iteration: 6 Loss: 8.860054392636865 Loss diff: 4.326008545149602 Rank(Z):  6\n",
      "Iteration: 7 Loss: 5.465398186080437 Loss diff: 3.3946562065564283 Rank(Z):  7\n",
      "Iteration: 8 Loss: 3.0179235543235543 Loss diff: 2.4474746317568825 Rank(Z):  7\n",
      "Iteration: 9 Loss: 1.5233488974368703 Loss diff: 1.494574656886684 Rank(Z):  8\n",
      "Iteration: 10 Loss: 0.957453036860505 Loss diff: 0.5658958605763653 Rank(Z):  9\n",
      "Iteration: 11 Loss: 0.403870704971968 Loss diff: 0.553582331888537 Rank(Z):  10\n",
      "Iteration: 12 Loss: 0.3693742100482151 Loss diff: 0.034496494923752896 Rank(Z):  11\n",
      "0\n",
      "Iteration: 13 Loss: 2.1234042036335774 Loss diff: 1.7540299935853623 Rank(Z):  12\n",
      "Iteration: 14 Loss: 0.7517734625636401 Loss diff: 1.3716307410699373 Rank(Z):  13\n",
      "Iteration: 15 Loss: 0.2921190455017939 Loss diff: 0.4596544170618462 Rank(Z):  14\n",
      "0\n",
      "Iteration: 16 Loss: 1.052760674843331 Loss diff: 0.760641629341537 Rank(Z):  15\n",
      "Iteration: 17 Loss: 0.3487407949202036 Loss diff: 0.7040198799231273 Rank(Z):  16\n",
      "Iteration: 18 Loss: 0.2988238325720425 Loss diff: 0.04991696234816112 Rank(Z):  17\n",
      "0\n",
      "Iteration: 19 Loss: 0.7910062172782646 Loss diff: 0.4921823847062221 Rank(Z):  18\n",
      "Iteration: 20 Loss: 0.2424232725151214 Loss diff: 0.5485829447631432 Rank(Z):  19\n",
      "0\n",
      "Iteration: 21 Loss: 0.6814029346145882 Loss diff: 0.4389796620994668 Rank(Z):  20\n",
      "Iteration: 22 Loss: 0.229914465955017 Loss diff: 0.45148846865957126 Rank(Z):  21\n",
      "0\n",
      "Iteration: 23 Loss: 0.3543017594090042 Loss diff: 0.12438729345398722 Rank(Z):  22\n",
      "Iteration: 24 Loss: 0.21961239944759475 Loss diff: 0.13468935996140946 Rank(Z):  23\n",
      "0\n",
      "Iteration: 25 Loss: 0.36539982168432605 Loss diff: 0.1457874222367313 Rank(Z):  24\n",
      "Iteration: 26 Loss: 0.17948956821147172 Loss diff: 0.18591025347285434 Rank(Z):  25\n",
      "0\n",
      "Iteration: 27 Loss: 0.2731783055918946 Loss diff: 0.09368873738042288 Rank(Z):  26\n",
      "Iteration: 28 Loss: 0.16506294895885953 Loss diff: 0.10811535663303506 Rank(Z):  27\n",
      "0\n",
      "Iteration: 29 Loss: 0.23297057839000368 Loss diff: 0.06790762943114415 Rank(Z):  28\n",
      "Iteration: 30 Loss: 0.15394151547635243 Loss diff: 0.07902906291365125 Rank(Z):  29\n",
      "0.9375\n",
      "Iteration: 31 Loss: 0.21937639324235947 Loss diff: 0.06543487776600704 Rank(Z):  30\n",
      "Iteration: 32 Loss: 0.14745857276377883 Loss diff: 0.07191782047858064 Rank(Z):  31\n",
      "0.9375\n",
      "Iteration: 33 Loss: 0.190596816763517 Loss diff: 0.043138243999738174 Rank(Z):  32\n",
      "Iteration: 34 Loss: 0.15025843966633562 Loss diff: 0.04033837709718138 Rank(Z):  33\n",
      "0.9375\n",
      "Iteration: 35 Loss: 0.1626878433757937 Loss diff: 0.012429403709458081 Rank(Z):  34\n",
      "0.43391305448058537\n",
      "Iteration: 36 Loss: 0.14877567527475005 Loss diff: 0.013912168101043648 Rank(Z):  35\n",
      "0.9375\n",
      "Iteration: 37 Loss: 0.15812234189961274 Loss diff: 0.009346666624862693 Rank(Z):  36\n",
      "0.40626739363073316\n",
      "Iteration: 38 Loss: 0.15348356408419273 Loss diff: 0.00463877781542002 Rank(Z):  37\n",
      "0.9375\n",
      "Iteration: 39 Loss: 0.16136404209660543 Loss diff: 0.007880478012412706 Rank(Z):  38\n",
      "0.4074489300574098\n",
      "Iteration: 40 Loss: 0.16102065977948615 Loss diff: 0.00034338231711927847 Rank(Z):  39\n",
      "0.9375\n",
      "Iteration: 41 Loss: 0.1195846578638587 Loss diff: 0.04143600191562745 Rank(Z):  40\n",
      "0.9375\n",
      "Iteration: 42 Loss: 0.12214689891589307 Loss diff: 0.0025622410520343697 Rank(Z):  41\n",
      "0.43158724307577095\n",
      "Iteration: 43 Loss: 0.12560350885252025 Loss diff: 0.003456609936627178 Rank(Z):  42\n",
      "0.9375\n",
      "Iteration: 44 Loss: 0.1045486965598675 Loss diff: 0.021054812292652755 Rank(Z):  43\n",
      "0.9375\n",
      "Iteration: 45 Loss: 0.09519920711352964 Loss diff: 0.009349489446337858 Rank(Z):  44\n",
      "0.9375\n",
      "Iteration: 46 Loss: 0.08926971232127506 Loss diff: 0.005929494792254575 Rank(Z):  45\n",
      "0.9375\n",
      "Iteration: 47 Loss: 0.07825596568109547 Loss diff: 0.011013746640179595 Rank(Z):  46\n",
      "0.9375\n",
      "Iteration: 48 Loss: 0.06625545744426517 Loss diff: 0.012000508236830298 Rank(Z):  47\n",
      "0.9375\n",
      "Iteration: 49 Loss: 0.04946313597091792 Loss diff: 0.01679232147334725 Rank(Z):  48\n",
      "0.9375\n",
      "Iteration: 50 Loss: 0.0449193165737648 Loss diff: 0.0045438193971531204 Rank(Z):  49\n",
      "0.9375\n",
      "Iteration: 51 Loss: 0.0398112916936676 Loss diff: 0.005108024880097199 Rank(Z):  50\n",
      "0.9375\n",
      "Iteration: 52 Loss: 0.033037812896775307 Loss diff: 0.006773478796892295 Rank(Z):  51\n",
      "0.9375\n",
      "Iteration: 53 Loss: 0.031604266021603336 Loss diff: 0.0014335468751719704 Rank(Z):  52\n",
      "0.4501502899767963\n",
      "Iteration: 54 Loss: 0.03490129849713901 Loss diff: 0.0032970324755356717 Rank(Z):  53\n",
      "0.9375\n",
      "Iteration: 55 Loss: 0.03403046728349741 Loss diff: 0.0008708312136415999 Rank(Z):  54\n",
      "0.9375\n",
      "Iteration: 56 Loss: 0.03136804100407768 Loss diff: 0.002662426279419726 Rank(Z):  55\n",
      "0.9375\n",
      "Iteration: 57 Loss: 0.02618268114490728 Loss diff: 0.005185359859170402 Rank(Z):  56\n",
      "0.9375\n",
      "Iteration: 58 Loss: 0.023753966921775817 Loss diff: 0.002428714223131463 Rank(Z):  57\n",
      "0.9375\n",
      "Iteration: 59 Loss: 0.023596695776940207 Loss diff: 0.00015727114483560928 Rank(Z):  58\n",
      "0.9375\n",
      "Iteration: 60 Loss: 0.022756628203119657 Loss diff: 0.00084006757382055 Rank(Z):  59\n",
      "0.9375\n",
      "Iteration: 61 Loss: 0.021768497503316546 Loss diff: 0.0009881306998031116 Rank(Z):  60\n",
      "0.9375\n",
      "Iteration: 62 Loss: 0.021475296708923446 Loss diff: 0.0002932007943931003 Rank(Z):  61\n",
      "0.9375\n",
      "Iteration: 63 Loss: 0.01954018411241429 Loss diff: 0.0019351125965091573 Rank(Z):  62\n",
      "0.9375\n",
      "Iteration: 64 Loss: 0.018755390031572006 Loss diff: 0.0007847940808422826 Rank(Z):  62\n",
      "0.9375\n",
      "Iteration: 65 Loss: 0.018766882076985972 Loss diff: 1.149204541396609e-05 Rank(Z):  63\n",
      "0.9375\n",
      "Iteration: 66 Loss: 0.018516551402240164 Loss diff: 0.00025033067474580784 Rank(Z):  64\n",
      "0.9375\n",
      "Iteration: 67 Loss: 0.01663982165828047 Loss diff: 0.001876729743959693 Rank(Z):  65\n",
      "0.9375\n",
      "Iteration: 68 Loss: 0.015552275026363584 Loss diff: 0.0010875466319168869 Rank(Z):  66\n",
      "Iteration: 69 Loss: 0.015286662176592185 Loss diff: 0.0002656128497713992 Rank(Z):  67\n",
      "Iteration: 70 Loss: 0.014370222460703342 Loss diff: 0.0009164397158888428 Rank(Z):  68\n",
      "Iteration: 71 Loss: 0.014722356663211329 Loss diff: 0.00035213420250798655 Rank(Z):  69\n",
      "Iteration: 72 Loss: 0.01486027763248783 Loss diff: 0.00013792096927650078 Rank(Z):  70\n",
      "0.9375\n",
      "Iteration: 73 Loss: 0.013444994559873961 Loss diff: 0.0014152830726138679 Rank(Z):  71\n",
      "Iteration: 74 Loss: 0.012342770733777066 Loss diff: 0.0011022238260968951 Rank(Z):  72\n",
      "Iteration: 75 Loss: 0.012435084135440193 Loss diff: 9.231340166312649e-05 Rank(Z):  73\n",
      "Iteration: 76 Loss: 0.012221196073908326 Loss diff: 0.00021388806153186703 Rank(Z):  74\n",
      "Iteration: 77 Loss: 0.011946389778360133 Loss diff: 0.0002748062955481925 Rank(Z):  75\n",
      "Iteration: 78 Loss: 0.012170276402162845 Loss diff: 0.00022388662380271214 Rank(Z):  76\n",
      "Iteration: 79 Loss: 0.011625915724667504 Loss diff: 0.0005443606774953418 Rank(Z):  77\n",
      "Iteration: 80 Loss: 0.01208027843089442 Loss diff: 0.00045436270622691705 Rank(Z):  78\n",
      "Iteration: 81 Loss: 0.01186373035830139 Loss diff: 0.00021654807259303098 Rank(Z):  79\n",
      "Iteration: 82 Loss: 0.012022989426415512 Loss diff: 0.00015925906811412212 Rank(Z):  80\n",
      "Iteration: 83 Loss: 0.011642700797703654 Loss diff: 0.0003802886287118581 Rank(Z):  81\n",
      "Iteration: 84 Loss: 0.0117357922979521 Loss diff: 9.309150024844684e-05 Rank(Z):  82\n",
      "Iteration: 85 Loss: 0.011462931903500829 Loss diff: 0.00027286039445127176 Rank(Z):  83\n",
      "Iteration: 86 Loss: 0.011017824564116888 Loss diff: 0.00044510733938394123 Rank(Z):  84\n",
      "Iteration: 87 Loss: 0.01080512696173592 Loss diff: 0.00021269760238096756 Rank(Z):  85\n",
      "Iteration: 88 Loss: 0.010547214898014908 Loss diff: 0.00025791206372101187 Rank(Z):  86\n",
      "Iteration: 89 Loss: 0.010140157172197305 Loss diff: 0.0004070577258176028 Rank(Z):  87\n",
      "Iteration: 90 Loss: 0.010341513029393703 Loss diff: 0.00020135585719639748 Rank(Z):  88\n",
      "Iteration: 91 Loss: 0.010031405199283704 Loss diff: 0.00031010783010999854 Rank(Z):  89\n",
      "Iteration: 92 Loss: 0.009680912049623465 Loss diff: 0.0003504931496602394 Rank(Z):  90\n",
      "0.9375\n",
      "Iteration: 93 Loss: 0.009809242054657902 Loss diff: 0.00012833000503443756 Rank(Z):  91\n",
      "Iteration: 94 Loss: 0.009746447072059275 Loss diff: 6.279498259862716e-05 Rank(Z):  92\n",
      "Iteration: 95 Loss: 0.00960735178659422 Loss diff: 0.0001390952854650549 Rank(Z):  93\n",
      "Iteration: 96 Loss: 0.009122659978912954 Loss diff: 0.00048469180768126625 Rank(Z):  94\n",
      "Iteration: 97 Loss: 0.009243796272836016 Loss diff: 0.00012113629392306209 Rank(Z):  95\n",
      "Iteration: 98 Loss: 0.009262974837565201 Loss diff: 1.9178564729185194e-05 Rank(Z):  96\n",
      "Iteration: 99 Loss: 0.0092867972204295 Loss diff: 2.3822382864299024e-05 Rank(Z):  97\n",
      "Iteration: 100 Loss: 0.009213922236700041 Loss diff: 7.287498372945955e-05 Rank(Z):  98\n",
      "Went to lower dim face: 22\n",
      "Stayed: 0\n",
      "Regular: 46\n",
      "Not entered if: 32\n",
      "in_border: 0\n",
      "Inside ball: 69\n",
      "Outside ball: 31\n",
      "CPU times: user 11.9 s, sys: 12.3 s, total: 24.2 s\n",
      "Wall time: 15.8 s\n"
     ]
    }
   ]
  },
  {
   "cell_type": "code",
   "execution_count": 165,
   "outputs": [
    {
     "output_type": "display_data",
     "data": {
      "text/plain": [
       "<Figure size 1200x640 with 1 Axes>"
      ],
      "image/png": "[encoded data removed]"
     },
     "metadata": {
      "needs_background": "light"
     }
    }
   ],
   "source": [
    "import matplotlib.pyplot as plt\n",
    "from matplotlib.pyplot import figure\n",
    "\n",
    "figure(figsize=(15, 8), dpi=80)\n",
    "\n",
    "plt.plot(np.log10(loss_track_reg), label = 'Frank Wolfe')\n",
    "plt.plot(np.log10(loss_track_inface), label = 'In-Face Frank Wolfe')\n",
    "plt.plot(np.log10(loss_track_inface2), label = 'In-Face Frank Wolfe with Delta Increaser')\n",
    "plt.legend()\n",
    "plt.show()"
   ],
   "metadata": {
    "pycharm": {
     "name": "#%%\n"
    },
    "colab": {
     "base_uri": "https://localhost:8080/",
     "height": 533
    },
    "id": "SlwkkoMhg9Kx",
    "outputId": "8c0282f2-82ab-4ab1-a938-dae0360841ed"
   }
  },
  {
   "cell_type": "code",
   "source": [
    ""
   ],
   "metadata": {
    "id": "mQH8kINrvqMs"
   },
   "execution_count": null,
   "outputs": []
  },
  {
   "cell_type": "markdown",
   "source": [
    "# Tuned Model\n",
    "\n"
   ],
   "metadata": {
    "collapsed": false,
    "id": "1fDMKs3qg9Ky"
   }
  },
  {
   "cell_type": "markdown",
   "metadata": {
    "id": "x0manG1buepT"
   },
   "source": [
    "# Grid Searching"
   ]
  },
  {
   "cell_type": "markdown",
   "metadata": {
    "id": "Y_MUb9nrwJyA"
   },
   "source": [
    "##Delta"
   ]
  },
  {
   "cell_type": "code",
   "execution_count": null,
   "metadata": {
    "colab": {
     "base_uri": "https://localhost:8080/"
    },
    "id": "QUZGgSUsudah",
    "outputId": "bd7fb5f1-3a5b-4467-e5cc-23f3784569fe"
   },
   "outputs": [
    {
     "name": "stdout",
     "output_type": "stream",
     "text": [
      "Delta: 0.001    ------     Final Loss: 1995299.6906607011   at iteration 2\n",
      "Delta: 0.01    ------     Final Loss: 1995296.9066038157   at iteration 2\n",
      "Delta: 0.1    ------     Final Loss: 1995269.065718345   at iteration 2\n",
      "Delta: 1    ------     Final Loss: 1994990.6592616318   at iteration 4\n",
      "Delta: 10    ------     Final Loss: 1992207.8429168023   at iteration 19\n",
      "Delta: 100    ------     Final Loss: 1964496.978598407   at iteration 84\n",
      "Delta: 1000    ------     Final Loss: 1699162.6623283497   at iteration 201\n",
      "Delta: 10000    ------     Final Loss: 302150.77467486466   at iteration 64\n",
      "Delta: 100000    ------     Final Loss: 175474.63085276185   at iteration 70\n",
      "Delta: 1000000    ------     Final Loss: 146671.28662048402   at iteration 201\n",
      "Delta: 10000000    ------     Final Loss: 672843.1813172555   at iteration 201\n",
      "Delta: 100000000    ------     Final Loss: 1757112480.4694064   at iteration 201\n"
     ]
    }
   ],
   "source": [
    "deltas = [0.001, 0.01, 0.1, 1, 10, 100, 1000, 10000, 100000, 1000000, 10000000, 100000000]\n",
    "\n",
    "for delta in deltas:\n",
    "  pred_ratings, loss, it = FW_inface(new_data, FW_objective_function, delta = delta, max_iter=201, patience = 0.01, printing = False)\n",
    "  print('Delta: ' + str(delta) + '    ------     Final Loss: ' + str(loss) + '   at iteration ' + str(it))"
   ]
  },
  {
   "cell_type": "code",
   "execution_count": null,
   "metadata": {
    "colab": {
     "base_uri": "https://localhost:8080/"
    },
    "id": "--BkRQqIxmSw",
    "outputId": "f9c17983-9fb7-40c8-dc83-c9d8c099cf3e"
   },
   "outputs": [
    {
     "name": "stdout",
     "output_type": "stream",
     "text": [
      "Delta: 250000    ------     Final Loss: 184966.58801373874   at iteration 142\n",
      "Delta: 500000    ------     Final Loss: 169552.51866399613   at iteration 201\n",
      "Delta: 750000    ------     Final Loss: 420615.6132565984   at iteration 201\n",
      "Delta: 1250000    ------     Final Loss: 216412.31880627264   at iteration 201\n",
      "Delta: 1500000    ------     Final Loss: 273680.42343568715   at iteration 201\n",
      "Delta: 2500000    ------     Final Loss: 417712.4612960932   at iteration 201\n",
      "Delta: 5000000    ------     Final Loss: 571545.4612269908   at iteration 201\n",
      "Delta: 7500000    ------     Final Loss: 632556.1542439449   at iteration 201\n"
     ]
    }
   ],
   "source": [
    "deltas = [250000,\n",
    "          500000,\n",
    "          750000,\n",
    "          1250000,\n",
    "          1500000,\n",
    "          2500000,\n",
    "          5000000,\n",
    "          7500000]\n",
    "\n",
    "for delta in deltas:\n",
    "  pred_ratings, loss, it = FW_inface(new_data, FW_objective_function, delta = delta, max_iter=201, patience = 0.01, printing = False)\n",
    "  print('Delta: ' + str(delta) + '    ------     Final Loss: ' + str(loss) + '   at iteration ' + str(it))"
   ]
  },
  {
   "cell_type": "code",
   "execution_count": null,
   "metadata": {
    "colab": {
     "base_uri": "https://localhost:8080/"
    },
    "id": "M5Xei-9Gy3hh",
    "outputId": "47a9fd59-b0a5-4bca-ab08-992677a90c73"
   },
   "outputs": [
    {
     "name": "stdout",
     "output_type": "stream",
     "text": [
      "Delta: 150000    ------     Final Loss: 180502.69121015765   at iteration 95\n",
      "Delta: 300000    ------     Final Loss: 186151.14181067253   at iteration 165\n",
      "Delta: 450000    ------     Final Loss: 188191.3045520871   at iteration 231\n",
      "Delta: 600000    ------     Final Loss: 189243.6150128576   at iteration 297\n",
      "Delta: 900000    ------     Final Loss: 190318.32554160611   at iteration 425\n",
      "Delta: 1200000    ------     Final Loss: 189679.94593613478   at iteration 501\n",
      "Delta: 1500000    ------     Final Loss: 149600.4326080835   at iteration 501\n"
     ]
    }
   ],
   "source": [
    "deltas = [150000,\n",
    "          300000,\n",
    "          450000,\n",
    "          600000,\n",
    "          900000,\n",
    "          1200000,\n",
    "          1500000]\n",
    "\n",
    "for delta in deltas:\n",
    "  pred_ratings, loss, it = FW_inface(new_data, FW_objective_function, delta = delta, max_iter=501, patience = 0.01, printing = False)\n",
    "  print('Delta: ' + str(delta) + '    ------     Final Loss: ' + str(loss) + '   at iteration ' + str(it))"
   ]
  },
  {
   "cell_type": "code",
   "execution_count": null,
   "metadata": {
    "colab": {
     "base_uri": "https://localhost:8080/"
    },
    "id": "2W5PqtaH0eZu",
    "outputId": "c519e67f-c98e-4186-a5a2-8d0d6a031872"
   },
   "outputs": [
    {
     "name": "stdout",
     "output_type": "stream",
     "text": [
      "Delta: 1750000    ------     Final Loss: 191384.43819455765   at iteration 786\n",
      "Delta: 2000000    ------     Final Loss: 191527.2106760225   at iteration 889\n",
      "Delta: 2250000    ------     Final Loss: 191638.53051798942   at iteration 991\n"
     ]
    }
   ],
   "source": [
    "deltas = [1750000,\n",
    "          2000000,\n",
    "          2250000]\n",
    "\n",
    "for delta in deltas:\n",
    "  pred_ratings, loss, it = FW_inface(new_data, FW_objective_function, delta = delta, max_iter = 1000, patience = 0.001, printing = False)\n",
    "  print('Delta: ' + str(delta) + '    ------     Final Loss: ' + str(loss) + '   at iteration ' + str(it))"
   ]
  },
  {
   "cell_type": "code",
   "execution_count": null,
   "metadata": {
    "colab": {
     "base_uri": "https://localhost:8080/"
    },
    "id": "MkpvJqQi2YxJ",
    "outputId": "c4eeadcf-f4a5-4873-94aa-33a40b766bd6"
   },
   "outputs": [
    {
     "name": "stdout",
     "output_type": "stream",
     "text": [
      "Delta: 1375000    ------     Final Loss: 191074.29727334835   at iteration 630\n",
      "Delta: 1500000    ------     Final Loss: 191194.6863524153   at iteration 682\n",
      "Delta: 1625000    ------     Final Loss: 191296.77299220837   at iteration 734\n"
     ]
    }
   ],
   "source": [
    "deltas = [1375000,\n",
    "          1500000,\n",
    "          1625000]\n",
    "\n",
    "for delta in deltas:\n",
    "  pred_ratings, loss, it = FW_inface(new_data, FW_objective_function, delta = delta, max_iter = 1000, patience = 0.001, printing = False)\n",
    "  print('Delta: ' + str(delta) + '    ------     Final Loss: ' + str(loss) + '   at iteration ' + str(it))"
   ]
  },
  {
   "cell_type": "markdown",
   "metadata": {
    "id": "PO5uv6UZ33wJ"
   },
   "source": [
    "## Gammas"
   ]
  },
  {
   "cell_type": "code",
   "execution_count": null,
   "metadata": {
    "colab": {
     "base_uri": "https://localhost:8080/"
    },
    "id": "45FR0xoX323p",
    "outputId": "51369768-d4dc-4455-f573-83822546ef54"
   },
   "outputs": [
    {
     "name": "stdout",
     "output_type": "stream",
     "text": [
      "Gamma1: 0   Gamma2: 0.1    ------     Final Loss: 335449.4737096828   at iteration 500\n",
      "Gamma1: 0   Gamma2: 1    ------     Final Loss: 335449.4737096833   at iteration 500\n",
      "Gamma1: 0.1   Gamma2: 1    ------     Final Loss: 149460.45148459333   at iteration 500\n",
      "Gamma1: 1   Gamma2: 1    ------     Final Loss: 149460.451484515   at iteration 500\n",
      "Gamma1: 1   Gamma2: 10    ------     Final Loss: 335449.47370968235   at iteration 500\n",
      "Gamma1: 1   Gamma2: 100    ------     Final Loss: 149460.4514845148   at iteration 500\n",
      "Gamma1: 10   Gamma2: 100    ------     Final Loss: 149460.451484515   at iteration 500\n"
     ]
    }
   ],
   "source": [
    "gammas = [[0,    0.1],\n",
    "          [0,    1],\n",
    "          [0.1,  1],\n",
    "          [1,    1],\n",
    "          [1,   10],\n",
    "          [1,  100],\n",
    "          [10, 100]]\n",
    "\n",
    "for gamma1, gamma2 in gammas:\n",
    "  pred_ratings, loss, it = FW_inface(new_data, FW_objective_function, gamma1 = gamma1, gamma2 = gamma2, delta = 1500000, max_iter = 500, patience = 0.001, printing = False)\n",
    "  print('Gamma1: ' + str(gamma1) + '   Gamma2: ' + str(gamma2) + '    ------     Final Loss: ' + str(loss) + '   at iteration ' + str(it))"
   ]
  },
  {
   "cell_type": "code",
   "execution_count": null,
   "metadata": {
    "colab": {
     "base_uri": "https://localhost:8080/"
    },
    "id": "EOD4CGHO884Z",
    "outputId": "f4ddeb2d-b605-4c9c-fab8-d096648bc3e6"
   },
   "outputs": [
    {
     "name": "stdout",
     "output_type": "stream",
     "text": [
      "Gamma1: 1   Gamma2: 100    ------     Final Loss: 149460.45148459318   at iteration 500\n",
      "Gamma1: 100   Gamma2: 100    ------     Final Loss: 149460.45148451466   at iteration 500\n",
      "Gamma1: 0.1   Gamma2: 100    ------     Final Loss: 149460.4514845149   at iteration 500\n",
      "Gamma1: 1   Gamma2: 1000    ------     Final Loss: 335449.4737115356   at iteration 500\n"
     ]
    }
   ],
   "source": [
    "gammas = [[1,  100],\n",
    "          [100, 100],\n",
    "          [0.1,  100],\n",
    "          [1,    1000]]\n",
    "\n",
    "for gamma1, gamma2 in gammas:\n",
    "  pred_ratings, loss, it = FW_inface(new_data, FW_objective_function, gamma1 = gamma1, gamma2 = gamma2, delta = 1500000, max_iter = 500, patience = 0.001, printing = False)\n",
    "  print('Gamma1: ' + str(gamma1) + '   Gamma2: ' + str(gamma2) + '    ------     Final Loss: ' + str(loss) + '   at iteration ' + str(it))"
   ]
  },
  {
   "cell_type": "code",
   "execution_count": null,
   "metadata": {
    "colab": {
     "base_uri": "https://localhost:8080/"
    },
    "id": "oMpXvq5S-ZvP",
    "outputId": "ac623233-b516-433e-a7f7-041981b1ed94"
   },
   "outputs": [
    {
     "name": "stdout",
     "output_type": "stream",
     "text": [
      "Gamma1: 0   Gamma2: 100    ------     Final Loss: 335449.47371153446   at iteration 500\n",
      "Gamma1: 0   Gamma2: 1000    ------     Final Loss: 149460.4514845933   at iteration 500\n",
      "Gamma1: 0.1   Gamma2: 0.1    ------     Final Loss: 149460.45148451495   at iteration 500\n"
     ]
    }
   ],
   "source": [
    "gammas = [[0,  100],\n",
    "          [0, 1000],\n",
    "          [0.1,  0.1]]\n",
    "\n",
    "for gamma1, gamma2 in gammas:\n",
    "  pred_ratings, loss, it = FW_inface(new_data, FW_objective_function, gamma1 = gamma1, gamma2 = gamma2, delta = 1500000, max_iter = 500, patience = 0.001, printing = False)\n",
    "  print('Gamma1: ' + str(gamma1) + '   Gamma2: ' + str(gamma2) + '    ------     Final Loss: ' + str(loss) + '   at iteration ' + str(it))"
   ]
  },
  {
   "cell_type": "markdown",
   "metadata": {
    "id": "cpS5jRz4vpHa"
   },
   "source": [
    "## Sub-Chapter"
   ]
  }
 ],
 "metadata": {
  "colab": {
   "collapsed_sections": [],
   "name": "FW_matrix_completition.ipynb",
   "provenance": [],
   "toc_visible": true
  },
  "kernelspec": {
   "display_name": "Python 3",
   "language": "python",
   "name": "python3"
  },
  "language_info": {
   "codemirror_mode": {
    "name": "ipython",
    "version": 3
   },
   "file_extension": ".py",
   "mimetype": "text/x-python",
   "name": "python",
   "nbconvert_exporter": "python",
   "pygments_lexer": "ipython3",
   "version": "3.8.10"
  }
 },
 "nbformat": 4,
 "nbformat_minor": 0
}