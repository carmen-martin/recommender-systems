{
  "cells": [
    {
      "cell_type": "code",
      "execution_count": 129,
      "outputs": [],
      "source": [
        "# Imports\n",
        "from scipy import sparse\n",
        "import scipy\n",
        "import numpy as np\n",
        "from scipy import stats\n",
        "import matplotlib.pyplot as plt\n",
        "import time\n",
        "from numpy import linalg as LA"
      ],
      "metadata": {
        "pycharm": {
          "name": "#%%\n"
        },
        "id": "FhsevKDsg9Kg"
      }
    },
    {
      "cell_type": "markdown",
      "source": [
        "# Frank-Wolfe - standard algorithm"
      ],
      "metadata": {
        "collapsed": false,
        "id": "LTGH57Rtg9Kl"
      }
    },
    {
      "cell_type": "code",
      "execution_count": 130,
      "metadata": {
        "id": "kobsOmgimqL_",
        "jupyter": {
          "outputs_hidden": false
        },
        "pycharm": {
          "name": "#%%\n"
        }
      },
      "outputs": [],
      "source": [
        "# FW objective function\n",
        "def FW_objective_function(diff_vec):\n",
        "    return 0.5*(np.power(diff_vec,2).sum())\n",
        "\n",
        "# Regular FW algorithm\n",
        "def FrankWolfe(X, objective_function, delta, empties = 0, printing_res = True, Z_init = None, max_iter = 150, patience = 1e-3):\n",
        "    '''\n",
        "    :param X: sparse matrix with ratings and 'empty values', rows - users, columns - books.\n",
        "    :param objective_function: objective function that we would like to minimize with FW\n",
        "    :param delta: Radius of the feasible's set ball\n",
        "    :param empties (optional): Empty values of X are zeros (0) or NaN ('nan'). Default = 0\n",
        "    :param Z_init (optional): In case we want to initialize Z with a known matrix, if not given Z_init will be a zeros matrix. Default = None.\n",
        "    :param max_iter (optional): max number of iterations for the method. Default = 150.\n",
        "    :param patience (optional): once reached this tolerance provide the result. Default = 1e-3.\n",
        "    :return: Z: matrix of predicted ratings - it should be like X but with no 'empty values'\n",
        "    :return: accuracy: difference between original values (X) and predicted ones (Z)\n",
        "    '''\n",
        "\n",
        "    # Get X indexes for not empty values\n",
        "    if empties == 0:\n",
        "        idx_ratings = np.argwhere(X != 0)\n",
        "    elif empties == 'nan':\n",
        "        idx_ratings = np.argwhere(~np.isnan(X))\n",
        "    else:\n",
        "        return print('Error: Empties argument', empties, 'not valid.')\n",
        "\n",
        "    idx_rows = idx_ratings[:,0]\n",
        "    idx_cols = idx_ratings[:,1]\n",
        "\n",
        "    # Initialize Z\n",
        "    if Z_init == 'random uniform':\n",
        "        Z = np.random.uniform(low = 0.01, high = 1, size = X.shape)\n",
        "    elif Z_init is not None:\n",
        "        Z = Z_init\n",
        "    else:\n",
        "        Z = np.zeros(X.shape)\n",
        "\n",
        "    # Create vectors with the not empty features of the sparse matrix\n",
        "    X_rated = X[idx_rows, idx_cols]\n",
        "    Z_rated = Z[idx_rows, idx_cols]\n",
        "    diff_vec = np.array(Z_rated - X_rated)[0]\n",
        "\n",
        "    # Create needed variables\n",
        "    diff_loss = patience + 1\n",
        "    loss = objective_function(diff_vec)\n",
        "    res_list = [loss]\n",
        "    it = 0\n",
        "    while (diff_loss > patience) and (it < max_iter):\n",
        "\n",
        "        # Gradient\n",
        "        grad = sparse.csr_matrix((diff_vec, (idx_rows, idx_cols)))\n",
        "\n",
        "        # SVD - Compute k = 1 singular values and its vectors, starting from the largest (which = 'LM')\n",
        "        u_max, s_max, v_max = sparse.linalg.svds(grad, k = 1, which='LM')   #\n",
        "\n",
        "        # Update\n",
        "        Zk_tilde = -delta*np.outer(u_max,v_max)\n",
        "\n",
        "        alpha_k = 2/(it+2) #alpha - as studied in class\n",
        "        Z = (1-alpha_k)*Z + alpha_k*Zk_tilde\n",
        "\n",
        "        # Loss\n",
        "        diff_vec = np.array(Z[idx_rows, idx_cols] - X_rated)[0]\n",
        "        new_loss = objective_function(diff_vec)\n",
        "\n",
        "        # Improvement at this iteration\n",
        "        diff_loss = np.abs(loss - new_loss)\n",
        "        loss = new_loss\n",
        "\n",
        "        if printing_res == True:\n",
        "            if it == 1 or it % 50 == 0:\n",
        "                print('Iteration:', it, 'Loss:', loss, 'Loss diff:', diff_loss, 'Rank(Z): ', np.linalg.matrix_rank(Z))\n",
        "\n",
        "        # Count iteration\n",
        "        it += 1\n",
        "\n",
        "        res_list.append(loss)\n",
        "        \n",
        "    return Z, loss, res_list"
      ]
    },
    {
      "cell_type": "markdown",
      "metadata": {
        "id": "6y-VOlLMvfq8"
      },
      "source": [
        "# Frank-Wolfe In-face"
      ]
    },
    {
      "cell_type": "code",
      "execution_count": 131,
      "outputs": [],
      "source": [
        "# Binary search for alpha stop\n",
        "def alpha_binary_search(Zk, Dk, delta, max_value = 1, min_value = 0, tol = 0.1):\n",
        "\n",
        "    #Inizialization\n",
        "\n",
        "    best_alpha = step = (max_value - min_value) / 2\n",
        "\n",
        "    #Binary Search\n",
        "\n",
        "    while step >= tol:\n",
        "\n",
        "      testing_matrix = Zk + best_alpha * Dk\n",
        "\n",
        "      testing_mat_nuclear_norm = LA.norm(testing_matrix, ord = 'nuc')\n",
        "      \n",
        "      step = step / 2 \n",
        "\n",
        "      if testing_mat_nuclear_norm > delta:\n",
        "\n",
        "          best_alpha = best_alpha + step\n",
        "\n",
        "      if testing_mat_nuclear_norm <= delta:\n",
        "\n",
        "          best_alpha = best_alpha - step\n",
        "\n",
        "    return best_alpha"
      ],
      "metadata": {
        "pycharm": {
          "name": "#%%\n"
        },
        "id": "o8094r4Hg9Kq"
      }
    },
    {
      "cell_type": "code",
      "source": [
        "# # Evaluate Best Beta\n",
        "# def compute_best_beta(grad, Dk, L, alpha_stop):\n",
        "\n",
        "#   grad = grad.toarray()\n",
        "\n",
        "#   operator1 = -np.dot(grad.T, Dk)\n",
        "#   operator2 = L * LA.norm(Dk)**2\n",
        "#   fraction = operator1/operator2\n",
        "#   fraction = fraction.sum()\n",
        "\n",
        "#   if fraction < alpha_stop:\n",
        "#     best_beta = fraction\n",
        "\n",
        "#   else:\n",
        "#     best_beta = alpha_stop\n",
        "\n",
        "#   return best_beta"
      ],
      "metadata": {
        "id": "EqUfMVSCjJ1I"
      },
      "execution_count": 132,
      "outputs": []
    },
    {
      "cell_type": "code",
      "source": [
        "def compute_best_beta(Zk, X_rated, Dk, idx_rows, idx_cols, alpha_stop, stepsize = 0.003, tol = 0.001):\n",
        "\n",
        "  best_beta = alpha_stop / 2\n",
        "\n",
        "  step = tol\n",
        "\n",
        "  while step >= tol:\n",
        "\n",
        "    Zk = Zk + best_beta * Dk                              # compute new Zk\n",
        "\n",
        "    Z_rated = Zk[idx_rows, idx_cols]                      # take only known values\n",
        "\n",
        "    diff_vec = np.array(Z_rated - X_rated)[0].sum()       # compute the difference vector\n",
        "\n",
        "    #loss = 0.5*(np.power(diff_vec,2).sum())              # compute the loss # didn't take this one because it's always positive!\n",
        "\n",
        "    step = diff_vec * stepsize\n",
        "\n",
        "    best_beta = best_beta + step\n",
        "\n",
        "    if best_beta <= 0:\n",
        "      best_beta = 0\n",
        "      break\n",
        "\n",
        "    if best_beta >= alpha_stop:\n",
        "      best_beta = alpha_stop\n",
        "      break\n",
        "\n",
        "  print(best_beta)\n",
        "\n",
        "  return best_beta"
      ],
      "metadata": {
        "id": "F1T2z-z4HlTv"
      },
      "execution_count": 157,
      "outputs": []
    },
    {
      "cell_type": "code",
      "execution_count": 143,
      "outputs": [],
      "source": [
        "def FW_inface(X, objective_function, delta, L = 1, D = None, gamma1 = 0, gamma2 = 1, THRES = 0.001, empties = 0, max_iter=150, patience=1e-3, printing = True, delta_change = False):\n",
        "    '''\n",
        "    :param X: sparse matrix with ratings and 'empty values', rows - users, columns - books.\n",
        "    :param objective_function: objective function that we would like to minimize with FW.\n",
        "    :param delta: Radius of the feasible's set ball\n",
        "    :param L: must be greater than 1\n",
        "    :param D: if not inputed = 2*delta\n",
        "    :param gamma1:\n",
        "    :param gamma2:\n",
        "    :param THRES:\n",
        "    :param empties (optional): Empty values of X are zeros (0) or NaN ('nan'). Default = 0\n",
        "    :param max_iter: max number of iterations for the method.\n",
        "    :param patience: once reached this tolerance provide the result.\n",
        "    :return: Z: matrix of predicted ratings - it should be like X but with no 'empty values'\n",
        "            loss: difference between original values (X) and predicted ones (Z).\n",
        "    '''\n",
        "\n",
        "    # Get X indexes for not empty values\n",
        "    if empties == 0:\n",
        "        idx_ratings = np.argwhere(X != 0)\n",
        "    elif empties == 'nan':\n",
        "        idx_ratings = np.argwhere(~np.isnan(X))\n",
        "    else:\n",
        "        return print('Empties argument', empties, 'not valid.')\n",
        "\n",
        "    idx_rows = idx_ratings[:,0]\n",
        "    idx_cols = idx_ratings[:,1]\n",
        "\n",
        "    # Initialize Z_{-1}\n",
        "    Z_1 = np.zeros(X.shape)\n",
        "\n",
        "    # Create vectors with the not empty features of the sparse matrix\n",
        "    X_rated = X[idx_rows, idx_cols]\n",
        "    Z_rated = Z_1[idx_rows, idx_cols]\n",
        "    diff_vec_1 = np.array(Z_rated - X_rated)[0]\n",
        "\n",
        "    # Initial gradient and Z0\n",
        "    grad_1 = sparse.csr_matrix((diff_vec_1, (idx_rows, idx_cols)))\n",
        "    u_max, s_max, v_max = sparse.linalg.svds(grad_1, k = 1, which='LM')\n",
        "    Zk = -delta*np.outer(u_max,v_max)\n",
        "    Z_rated = Zk[idx_rows, idx_cols]\n",
        "\n",
        "    print('Initial Zk Rank: ', LA.matrix_rank(Zk))\n",
        "\n",
        "    # Initialize lower bound on the optimal objective function (f*)\n",
        "    diff_vec = np.array(Z_rated - X_rated)[0]\n",
        "    #new_low_bound = np.max((objective_function(diff_vec_1) + np.multiply(grad_1.toarray(),Zk).sum()), 0)\n",
        "    new_low_bound = 0\n",
        "    #new_low_bound = np.max((objective_function(diff_vec_1) + (grad_1.dot(Zk)).trace()), 0)\n",
        "    #new_low_bound = 0 #used 0 otherwise the other new_low_bound was too high!\n",
        "\n",
        "    # Set D\n",
        "    if D is not None:\n",
        "        D = D\n",
        "    else:\n",
        "        D = 2*delta\n",
        "\n",
        "    rank_Z = LA.matrix_rank(Zk)   # rank of Zk to find thin SVD size\n",
        "\n",
        "    # Additional needed parameters\n",
        "    diff_loss = patience + 1\n",
        "    loss = objective_function(diff_vec)\n",
        "    it = 0\n",
        "    res_list = [objective_function(diff_vec_1), loss]\n",
        "    ranks = [rank_Z]\n",
        "    not_in_ball=False\n",
        "\n",
        "    B_used = 0\n",
        "    A_used = 0\n",
        "    not_entered = 0\n",
        "    regularFW = 0\n",
        "\n",
        "    in_border = 0\n",
        "    inside = 0\n",
        "    outside = 0\n",
        "\n",
        "    while (diff_loss > patience) and (it < max_iter):\n",
        "\n",
        "        # Thin SVD\n",
        "        U_thin, s_thin, Vh_thin = sparse.linalg.svds(Zk, k = rank_Z, which='LM')   # Compute k = rank singular values\n",
        "\n",
        "        # Lower bound update\n",
        "        low_bound = new_low_bound\n",
        "\n",
        "        # Gradient\n",
        "        grad = sparse.csr_matrix((diff_vec, (idx_rows, idx_cols)))\n",
        "\n",
        "        # In-face direction with the away step strategy: two calculations depending of where Z lies within the feasible set\n",
        "        if s_thin.sum() == delta: # Z in border (sum of singular values == radius of feasible set)\n",
        "            in_border += 1\n",
        "            G = 0.5 * (Vh_thin.dot(grad.T.dot(U_thin)) + U_thin.T.dot(grad.dot(Vh_thin.T)))\n",
        "            # Obtain unitary eigenvector corresponding to smallest eigenvalue of G\n",
        "            eigvalues, eigvectors = LA.eig(G)  #find the eigenvalues\n",
        "            min_eig = np.argmin(eigvalues)  #find the index of the smallest eigenvalue\n",
        "            u = eigvectors[:, min_eig]  #take the eigenvector corresponding to the smallest eigenvalue\n",
        "\n",
        "            # Update value\n",
        "            M = np.outer(u,u.T)\n",
        "            Zk_tilde = delta*U_thin.dot(M.dot(Vh_thin))\n",
        "            Dk = Zk - Zk_tilde\n",
        "\n",
        "            inv_s_thin = np.diag(1/s_thin)\n",
        "            alpha_stop = 1/(delta*u.T.dot(inv_s_thin.dot(u))-1)\n",
        "\n",
        "        elif s_thin.sum() < delta: #inside\n",
        "            inside += 1\n",
        "            u_max, s_max, v_max = sparse.linalg.svds(grad, k = 1, which='LM')\n",
        "            Zk_tilde = delta*np.outer(u_max,v_max)\n",
        "            Dk = Zk - Zk_tilde\n",
        "            #BINARY SEARCH\n",
        "\n",
        "            alpha_stop = alpha_binary_search(Zk,\n",
        "                                          Dk,\n",
        "                                          delta)\n",
        "\n",
        "        else:\n",
        "            not_in_ball = True\n",
        "            outside += 1\n",
        "\n",
        "        nuclear_norm = s_thin.sum()\n",
        "        # We check if Zk is inside the feasible set and the rank in order to decide which type steps to do\n",
        "        if rank_Z > 1 and not_in_ball==False:\n",
        "            if delta_change is True:\n",
        "              delta = delta * (1 -0.03)\n",
        "            Z_B = Zk + alpha_stop*Dk\n",
        "            diff_vec_B = np.array(Z_B[idx_rows, idx_cols] - X_rated)[0]\n",
        "            if 1/(objective_function(diff_vec_B)-low_bound) >= (1/(loss-low_bound)+gamma1/(2*L*D**2)):\n",
        "              # 1. Move to a lower dimensional face\n",
        "              B_used += 1\n",
        "              Zk = Z_B\n",
        "\n",
        "            else:\n",
        "\n",
        "                beta = compute_best_beta(Zk, X_rated, Dk, idx_rows, idx_cols, alpha_stop)\n",
        "\n",
        "                #beta = alpha_stop/5 # FIND A GOOD VALUE -- a binary search is also suggested by the paper\n",
        "\n",
        "\n",
        "                Z_A = Zk + beta*Dk\n",
        "                diff_vec_A = np.array(Z_A[idx_rows, idx_cols] - X_rated)[0]\n",
        "\n",
        "                if 1/(objective_function(diff_vec_A)-low_bound) >= (1/(loss-low_bound)+gamma2/(2*L*D**2)):\n",
        "                    # 2. Stay in the current face\n",
        "                    A_used += 1\n",
        "                    Zk = Z_A\n",
        "                else:\n",
        "                    # 3. Do a regular FW step and update the lower bound\n",
        "                    regularFW += 1\n",
        "                    #Zk update\n",
        "                    u_max, s_max, v_max = sparse.linalg.svds(grad, k = 1, which='LM')\n",
        "                    Zk_tilde = -delta*np.outer(u_max,v_max)\n",
        "\n",
        "                    '''# Lower bound update\n",
        "                    B_w = loss + grad.T.dot(Zk_tilde - Zk)\n",
        "                    print(B_w, low_bound)\n",
        "                    new_low_bound = np.max(low_bound, B_w)'''\n",
        "\n",
        "                    direction_vec = Zk_tilde.flatten() - Zk.flatten()\n",
        "                    grad = grad.toarray()\n",
        "                    wolfe_gap = grad.T.flatten() * direction_vec\n",
        "                    B_w = loss + wolfe_gap.sum()\n",
        "\n",
        "                    #TRIED THIS INSTEAD\n",
        "                    if low_bound >= B_w:\n",
        "                        new_low_bound = low_bound\n",
        "                    else:\n",
        "                        new_low_bound = B_w\n",
        "\n",
        "                    # Z_(k+1)\n",
        "                    alpha_k = 2/(it+2)\n",
        "                    Zk = (1-alpha_k)*Zk + alpha_k*Zk_tilde\n",
        "\n",
        "        else:\n",
        "\n",
        "            # 3. Do a regular FW step and update the lower bound\n",
        "            not_entered += 1\n",
        "            #Zk update\n",
        "            grad = sparse.csr_matrix((diff_vec, (idx_rows, idx_cols)))\n",
        "            u_max, s_max, v_max = sparse.linalg.svds(grad, k = 1, which='LM')\n",
        "            Zk_tilde = -delta*np.outer(u_max,v_max)\n",
        "\n",
        "            '''# Lower bound update\n",
        "            B_w = loss + grad.T.dot(Zk_tilde - Zk)\n",
        "            print(B_w, low_bound)\n",
        "            new_low_bound = np.max(low_bound, B_w)'''\n",
        "\n",
        "            direction_vec = Zk_tilde.flatten() - Zk.flatten()\n",
        "            grad = grad.toarray()\n",
        "            wolfe_gap = grad.T.flatten() * direction_vec\n",
        "            B_w = loss + wolfe_gap.sum()\n",
        "\n",
        "            #TRIED THIS INSTEAD\n",
        "            if low_bound >= B_w:\n",
        "                new_low_bound = low_bound\n",
        "            else:\n",
        "                new_low_bound = B_w\n",
        "\n",
        "            # Z_(k+1)\n",
        "            alpha_k = 2/(it+2)\n",
        "            Zk = (1-alpha_k)*Zk + alpha_k*Zk_tilde\n",
        "\n",
        "            not_in_ball=False\n",
        "\n",
        "        # Loss\n",
        "        diff_vec = np.array(Zk[idx_rows, idx_cols] - X_rated)[0]\n",
        "        new_loss = objective_function(diff_vec)\n",
        "\n",
        "        # Improvement at this iteration\n",
        "        diff_loss = np.abs(loss - new_loss)\n",
        "        loss = new_loss\n",
        "\n",
        "        rank_Z = LA.matrix_rank(Zk)   # rank of Zk to find thin SVD size\n",
        "\n",
        "        # Count iteration\n",
        "        it += 1\n",
        "\n",
        "        res_list.append(loss)\n",
        "        ranks.append(rank_Z)\n",
        "        if printing == True:\n",
        "          if it % 1 == 0 or it == 1:\n",
        "            print('Iteration:', it, 'Loss:', loss, 'Loss diff:', diff_loss, 'Rank(Z): ', rank_Z)\n",
        "\n",
        "    print('Went to lower dim face:', B_used)\n",
        "    print('Stayed:', A_used)\n",
        "    print('Regular:', regularFW)\n",
        "    print('Not entered if:', not_entered)\n",
        "\n",
        "    print('in_border:', in_border)\n",
        "    print('Inside ball:', inside)\n",
        "    print('Outside ball:', outside)\n",
        "    return Zk, loss, res_list"
      ],
      "metadata": {
        "pycharm": {
          "name": "#%%\n"
        },
        "id": "3N5XmMzLg9Kr"
      }
    },
    {
      "cell_type": "markdown",
      "source": [
        "## Data Generation"
      ],
      "metadata": {
        "collapsed": false,
        "id": "CkoTxB7ng9Ks"
      }
    },
    {
      "cell_type": "code",
      "execution_count": 135,
      "outputs": [
        {
          "output_type": "stream",
          "name": "stdout",
          "text": [
            "Nuclear norm: 0.5480558536354957\n",
            "Data shape: (200, 400)\n",
            "Number of observed values: 14806\n",
            "Rank of the matrix: 1\n",
            "Minimum and maximum values: 0.05014722050197155 0.0\n"
          ]
        },
        {
          "output_type": "stream",
          "name": "stderr",
          "text": [
            "<string>:6: SparseEfficiencyWarning: Comparing a sparse matrix with 0 using == is inefficient, try using != instead.\n"
          ]
        }
      ],
      "source": [
        "# Parameters\n",
        "n = 400\n",
        "m = 200\n",
        "r = 10\n",
        "rho = 0.10\n",
        "SNR = 5\n",
        "delta = 3.75\n",
        "\n",
        "\n",
        "\n",
        "# taking data\n",
        "U = sparse.random(m, r, density=0.1, format='csr', data_rvs=None)\n",
        "V = sparse.random(r, n, density=0.1, format='csr', data_rvs=None)\n",
        "E = sparse.random(m, n, density=0.1, format='csr', data_rvs=None)\n",
        "\n",
        "\n",
        "\n",
        "VT = V.transpose(copy=True)\n",
        "\n",
        "UVT = U*V\n",
        "#print(UVT. shape)\n",
        "\n",
        "w1 = 1/(sparse.linalg.norm(UVT, ord='fro'))\n",
        "\n",
        "w2 = 1/(SNR*sparse.linalg.norm(E, ord='fro'))\n",
        "\n",
        "#Finally observed data matrix is:\n",
        "X_test = w1*UVT + w2*E\n",
        "\n",
        "# Non zero values\n",
        "idx_ratings = np.argwhere(X_test != 0.)\n",
        "idx_rows = idx_ratings[:,0]\n",
        "idx_cols = idx_ratings[:,1]\n",
        "\n",
        "# Nuclear norm of the test set\n",
        "rank = np.linalg.matrix_rank(X_test)\n",
        "U_thin, s_thin, Vh_thin = sparse.linalg.svds(X_test, k = rank, which='LM')\n",
        "nuc_norm = s_thin.sum()\n",
        "\n",
        "# Print some info about the generated data\n",
        "print('Nuclear norm:', nuc_norm)\n",
        "print('Data shape:', np.shape(X_test))\n",
        "print('Number of observed values:', len(idx_rows))\n",
        "print('Rank of the matrix:', rank)\n",
        "print('Minimum and maximum values:', X_test.max(), X_test.min())"
      ],
      "metadata": {
        "pycharm": {
          "name": "#%%\n"
        },
        "colab": {
          "base_uri": "https://localhost:8080/"
        },
        "id": "LUkkHOaGg9Kt",
        "outputId": "f2dcaa4e-e3d6-444c-ae10-9d022911f0b2"
      }
    },
    {
      "cell_type": "code",
      "execution_count": 136,
      "outputs": [
        {
          "output_type": "stream",
          "name": "stdout",
          "text": [
            "Iteration: 0 Loss: 2353.4647851924415 Loss diff: 2352.9314165471037 Rank(Z):  1\n",
            "Iteration: 1 Loss: 531.6487806830569 Loss diff: 1821.8160045093846 Rank(Z):  2\n",
            "Iteration: 50 Loss: 2.144581764060448 Loss diff: 0.4189502069055222 Rank(Z):  25\n",
            "CPU times: user 659 ms, sys: 238 ms, total: 897 ms\n",
            "Wall time: 660 ms\n"
          ]
        }
      ],
      "source": [
        "%time pred_ratings_reg, loss_reg, loss_track_reg = FrankWolfe(X_test, FW_objective_function, delta = 100, max_iter=100, patience=1e-7)"
      ],
      "metadata": {
        "pycharm": {
          "name": "#%%\n"
        },
        "colab": {
          "base_uri": "https://localhost:8080/"
        },
        "id": "W_GBUCHbg9Kv",
        "outputId": "9b7b5c0b-f3bb-49fb-b82d-8a6b4f1cfff1"
      }
    },
    {
      "cell_type": "code",
      "execution_count": 137,
      "outputs": [
        {
          "output_type": "display_data",
          "data": {
            "text/plain": [
              "<Figure size 432x288 with 1 Axes>"
            ],
            "image/png": "[encoded data removed]"
          },
          "metadata": {
            "needs_background": "light"
          }
        }
      ],
      "source": [
        "plt.plot(np.log10(loss_track_reg))\n",
        "\n",
        "plt.show()"
      ],
      "metadata": {
        "pycharm": {
          "name": "#%%\n"
        },
        "colab": {
          "base_uri": "https://localhost:8080/",
          "height": 266
        },
        "id": "6wkgai8Kg9Kv",
        "outputId": "656ce192-bf60-41cc-80d3-e309a5c42cab"
      }
    },
    {
      "cell_type": "code",
      "execution_count": 158,
      "outputs": [
        {
          "output_type": "stream",
          "name": "stdout",
          "text": [
            "Initial Zk Rank:  1\n",
            "Iteration: 1 Loss: 37.7277488855364 Loss diff: 18.597568757446954 Rank(Z):  1\n",
            "Iteration: 2 Loss: 4.551970411863959 Loss diff: 33.17577847367244 Rank(Z):  2\n",
            "Iteration: 3 Loss: 3.501882253127149 Loss diff: 1.0500881587368096 Rank(Z):  3\n",
            "Iteration: 4 Loss: 2.564706749643879 Loss diff: 0.9371755034832701 Rank(Z):  4\n",
            "Iteration: 5 Loss: 1.7648021224662496 Loss diff: 0.7999046271776296 Rank(Z):  5\n",
            "Iteration: 6 Loss: 1.1281456528492764 Loss diff: 0.6366564696169732 Rank(Z):  6\n",
            "Iteration: 7 Loss: 0.6807571621414881 Loss diff: 0.4473884907077883 Rank(Z):  7\n",
            "Iteration: 8 Loss: 0.4441164169057377 Loss diff: 0.23664074523575035 Rank(Z):  8\n",
            "Iteration: 9 Loss: 0.28944166820693606 Loss diff: 0.15467474869880166 Rank(Z):  9\n",
            "Iteration: 10 Loss: 0.23290187259869202 Loss diff: 0.05653979560824404 Rank(Z):  10\n",
            "Iteration: 11 Loss: 0.21050252712454984 Loss diff: 0.022399345474142185 Rank(Z):  11\n",
            "0\n",
            "Iteration: 12 Loss: 0.9554278768018012 Loss diff: 0.7449253496772513 Rank(Z):  12\n",
            "Iteration: 13 Loss: 0.42197337190206125 Loss diff: 0.5334545048997399 Rank(Z):  13\n",
            "Iteration: 14 Loss: 0.18848274048647165 Loss diff: 0.2334906314155896 Rank(Z):  14\n",
            "Iteration: 15 Loss: 0.1728388778608861 Loss diff: 0.015643862625585564 Rank(Z):  15\n",
            "0\n",
            "Iteration: 16 Loss: 0.5424010607524673 Loss diff: 0.3695621828915812 Rank(Z):  16\n",
            "Iteration: 17 Loss: 0.203195851454594 Loss diff: 0.3392052092978733 Rank(Z):  17\n",
            "Iteration: 18 Loss: 0.17068490527923083 Loss diff: 0.03251094617536318 Rank(Z):  18\n",
            "0\n",
            "Iteration: 19 Loss: 0.4275836846964398 Loss diff: 0.25689877941720896 Rank(Z):  19\n",
            "Iteration: 20 Loss: 0.15557654294005185 Loss diff: 0.27200714175638796 Rank(Z):  20\n",
            "0\n",
            "Iteration: 21 Loss: 0.3784428571532995 Loss diff: 0.22286631421324765 Rank(Z):  21\n",
            "Iteration: 22 Loss: 0.14561233091909914 Loss diff: 0.23283052623420036 Rank(Z):  22\n",
            "0\n",
            "Iteration: 23 Loss: 0.2098399069069935 Loss diff: 0.06422757598789436 Rank(Z):  23\n",
            "Iteration: 24 Loss: 0.1307434805029687 Loss diff: 0.07909642640402481 Rank(Z):  24\n",
            "0\n",
            "Iteration: 25 Loss: 0.2732598491881253 Loss diff: 0.1425163686851566 Rank(Z):  25\n",
            "Iteration: 26 Loss: 0.11258114359238186 Loss diff: 0.16067870559574343 Rank(Z):  26\n",
            "0\n",
            "Iteration: 27 Loss: 0.20948104272558454 Loss diff: 0.09689989913320268 Rank(Z):  27\n",
            "Iteration: 28 Loss: 0.10542285795437645 Loss diff: 0.1040581847712081 Rank(Z):  28\n",
            "Iteration: 29 Loss: 28.791758437484585 Loss diff: 28.68633557953021 Rank(Z):  29\n",
            "Iteration: 30 Loss: 21.184738977825297 Loss diff: 7.607019459659288 Rank(Z):  30\n",
            "Iteration: 31 Loss: 15.329758892172379 Loss diff: 5.854980085652919 Rank(Z):  31\n",
            "Iteration: 32 Loss: 10.860222546827057 Loss diff: 4.469536345345322 Rank(Z):  32\n",
            "Iteration: 33 Loss: 7.488541735447193 Loss diff: 3.371680811379864 Rank(Z):  33\n",
            "Iteration: 34 Loss: 4.987452477036992 Loss diff: 2.5010892584102002 Rank(Z):  33\n",
            "0.9375\n",
            "Iteration: 35 Loss: 3.1758794150547125 Loss diff: 1.8115730619822799 Rank(Z):  33\n",
            "0.9375\n",
            "Iteration: 36 Loss: 1.9080304256592668 Loss diff: 1.2678489893954457 Rank(Z):  34\n",
            "Iteration: 37 Loss: 1.3459509154134905 Loss diff: 0.5620795102457763 Rank(Z):  34\n",
            "Iteration: 38 Loss: 0.9220031505336215 Loss diff: 0.42394776487986907 Rank(Z):  35\n",
            "0.5304894052896965\n",
            "Iteration: 39 Loss: 0.5005551229174239 Loss diff: 0.4214480276161976 Rank(Z):  36\n",
            "0.5007528610971559\n",
            "Iteration: 40 Loss: 0.27233258455120124 Loss diff: 0.22822253836622264 Rank(Z):  37\n",
            "Iteration: 41 Loss: 30.11109123491358 Loss diff: 29.83875865036238 Rank(Z):  38\n",
            "Iteration: 42 Loss: 24.209598286617826 Loss diff: 5.901492948295754 Rank(Z):  39\n",
            "Iteration: 43 Loss: 19.303766796419207 Loss diff: 4.905831490198619 Rank(Z):  40\n",
            "Iteration: 44 Loss: 15.240655306262678 Loss diff: 4.06311149015653 Rank(Z):  41\n",
            "Iteration: 45 Loss: 11.89195442076102 Loss diff: 3.348700885501657 Rank(Z):  41\n",
            "Iteration: 46 Loss: 9.149654380783701 Loss diff: 2.7423000399773194 Rank(Z):  42\n",
            "Iteration: 47 Loss: 6.922522544927237 Loss diff: 2.227131835856464 Rank(Z):  42\n",
            "Iteration: 48 Loss: 5.1332191970886285 Loss diff: 1.789303347838609 Rank(Z):  42\n",
            "Iteration: 49 Loss: 3.7159128971587188 Loss diff: 1.4173062999299098 Rank(Z):  42\n",
            "Iteration: 50 Loss: 2.6142769882827572 Loss diff: 1.1016359088759615 Rank(Z):  43\n",
            "Iteration: 51 Loss: 1.7797538480434947 Loss diff: 0.8345231402392626 Rank(Z):  43\n",
            "0.9375\n",
            "Iteration: 52 Loss: 1.1699509503048389 Loss diff: 0.6098028977386558 Rank(Z):  43\n",
            "0.9375\n",
            "Iteration: 53 Loss: 0.7469448797594976 Loss diff: 0.42300607054534123 Rank(Z):  44\n",
            "0.9375\n",
            "Iteration: 54 Loss: 0.47500353544011903 Loss diff: 0.2719413443193786 Rank(Z):  44\n",
            "0.9375\n",
            "Iteration: 55 Loss: 0.31666874345512797 Loss diff: 0.15833479198499106 Rank(Z):  45\n",
            "0.9375\n",
            "Iteration: 56 Loss: 0.23104336927502467 Loss diff: 0.0856253741801033 Rank(Z):  46\n",
            "0.9375\n",
            "Iteration: 57 Loss: 0.17172802899420697 Loss diff: 0.0593153402808177 Rank(Z):  47\n",
            "0.9375\n",
            "Iteration: 58 Loss: 0.1356934197994953 Loss diff: 0.03603460919471166 Rank(Z):  48\n",
            "0.9375\n",
            "Iteration: 59 Loss: 0.11954942764732743 Loss diff: 0.016143992152167885 Rank(Z):  49\n",
            "Iteration: 60 Loss: 33.39805971245815 Loss diff: 33.27851028481082 Rank(Z):  49\n",
            "Iteration: 61 Loss: 28.89753571125974 Loss diff: 4.500524001198411 Rank(Z):  50\n",
            "Iteration: 62 Loss: 24.919962108547992 Loss diff: 3.9775736027117468 Rank(Z):  51\n",
            "Iteration: 63 Loss: 21.40887879450171 Loss diff: 3.5110833140462816 Rank(Z):  52\n",
            "Iteration: 64 Loss: 18.31428914236109 Loss diff: 3.0945896521406198 Rank(Z):  52\n",
            "Iteration: 65 Loss: 15.591848901821702 Loss diff: 2.722440240539388 Rank(Z):  52\n",
            "Iteration: 66 Loss: 13.202165073397689 Loss diff: 2.3896838284240136 Rank(Z):  53\n",
            "Iteration: 67 Loss: 11.110188309367622 Loss diff: 2.0919767640300666 Rank(Z):  53\n",
            "Iteration: 68 Loss: 9.284684940298959 Loss diff: 1.825503369068663 Rank(Z):  54\n",
            "Iteration: 69 Loss: 7.697776812048839 Loss diff: 1.58690812825012 Rank(Z):  54\n",
            "Iteration: 70 Loss: 6.324538805328764 Loss diff: 1.373238006720075 Rank(Z):  54\n",
            "Iteration: 71 Loss: 5.142645244323457 Loss diff: 1.1818935610053067 Rank(Z):  54\n",
            "Iteration: 72 Loss: 4.132057404216262 Loss diff: 1.0105878401071955 Rank(Z):  54\n",
            "Iteration: 73 Loss: 3.2747449928408225 Loss diff: 0.8573124113754393 Rank(Z):  54\n",
            "Iteration: 74 Loss: 2.5544347657344213 Loss diff: 0.7203102271064012 Rank(Z):  55\n",
            "Iteration: 75 Loss: 1.9563792504006021 Loss diff: 0.5980555153338192 Rank(Z):  55\n",
            "Iteration: 76 Loss: 1.4671377928394014 Loss diff: 0.48924145756120074 Rank(Z):  55\n",
            "0.9375\n",
            "Iteration: 77 Loss: 1.0743607948482448 Loss diff: 0.3927769979911566 Rank(Z):  55\n",
            "0.9375\n",
            "Iteration: 78 Loss: 0.7665667874988884 Loss diff: 0.30779400734935636 Rank(Z):  56\n",
            "0.9375\n",
            "Iteration: 79 Loss: 0.532904473457863 Loss diff: 0.23366231404102544 Rank(Z):  56\n",
            "0.9375\n",
            "Iteration: 80 Loss: 0.36291093377477723 Loss diff: 0.16999353968308573 Rank(Z):  57\n",
            "0.9375\n",
            "Iteration: 81 Loss: 0.24634362939301677 Loss diff: 0.11656730438176047 Rank(Z):  57\n",
            "0.9375\n",
            "Iteration: 82 Loss: 0.1732718889000795 Loss diff: 0.07307174049293727 Rank(Z):  58\n",
            "0.9375\n",
            "Iteration: 83 Loss: 0.13434350049048327 Loss diff: 0.038928388409596226 Rank(Z):  58\n",
            "0.9375\n",
            "Iteration: 84 Loss: 0.11013844753307422 Loss diff: 0.024205052957409046 Rank(Z):  59\n",
            "0.9375\n",
            "Iteration: 85 Loss: 0.09275336643119858 Loss diff: 0.017385081101875643 Rank(Z):  60\n",
            "0.9375\n",
            "Iteration: 86 Loss: 0.08128213299588927 Loss diff: 0.011471233435309314 Rank(Z):  61\n",
            "0.9375\n",
            "Iteration: 87 Loss: 0.07581799481175992 Loss diff: 0.005464138184129344 Rank(Z):  62\n",
            "0.9375\n",
            "Iteration: 88 Loss: 0.07154700579276242 Loss diff: 0.004270989018997501 Rank(Z):  63\n",
            "Iteration: 89 Loss: 37.765389678366475 Loss diff: 37.693842672573716 Rank(Z):  63\n",
            "Iteration: 90 Loss: 34.33564870109798 Loss diff: 3.4297409772684944 Rank(Z):  64\n",
            "Iteration: 91 Loss: 31.174485874362517 Loss diff: 3.1611628267354632 Rank(Z):  65\n",
            "Iteration: 92 Loss: 28.262023904284284 Loss diff: 2.9124619700782333 Rank(Z):  65\n",
            "Iteration: 93 Loss: 25.579963678209424 Loss diff: 2.68206022607486 Rank(Z):  66\n",
            "Iteration: 94 Loss: 23.1114466319307 Loss diff: 2.4685170462787234 Rank(Z):  66\n",
            "Iteration: 95 Loss: 20.840930242281836 Loss diff: 2.270516389648865 Rank(Z):  66\n",
            "Iteration: 96 Loss: 18.75407527637907 Loss diff: 2.0868549659027664 Rank(Z):  66\n",
            "Iteration: 97 Loss: 16.837643582404482 Loss diff: 1.9164316939745873 Rank(Z):  66\n",
            "Iteration: 98 Loss: 15.079405341659267 Loss diff: 1.7582382407452144 Rank(Z):  66\n",
            "Iteration: 99 Loss: 13.46805482005395 Loss diff: 1.611350521605317 Rank(Z):  66\n",
            "Iteration: 100 Loss: 11.993133761287698 Loss diff: 1.4749210587662525 Rank(Z):  66\n",
            "Went to lower dim face: 25\n",
            "Stayed: 0\n",
            "Regular: 31\n",
            "Not entered if: 44\n",
            "in_border: 0\n",
            "Inside ball: 57\n",
            "Outside ball: 43\n",
            "CPU times: user 10.7 s, sys: 10.9 s, total: 21.6 s\n",
            "Wall time: 11.4 s\n"
          ]
        }
      ],
      "source": [
        "%time pred_ratings_inface, loss_inface, loss_track_inface = FW_inface(X_test, FW_objective_function, gamma1 = 0, gamma2 = 0.00000001, delta = 10, THRES = 10, max_iter = 100, patience = 1e-30, printing=True)"
      ],
      "metadata": {
        "pycharm": {
          "name": "#%%\n"
        },
        "colab": {
          "base_uri": "https://localhost:8080/"
        },
        "id": "fngVix0Mg9Kw",
        "outputId": "7f2851ac-7942-4854-b379-b956c74d3eff"
      }
    },
    {
      "cell_type": "code",
      "execution_count": 139,
      "outputs": [
        {
          "output_type": "display_data",
          "data": {
            "text/plain": [
              "<Figure size 432x288 with 1 Axes>"
            ],
            "image/png": "[encoded data removed]"
          },
          "metadata": {
            "needs_background": "light"
          }
        }
      ],
      "source": [
        "plt.plot(np.log10(loss_track_inface))\n",
        "plt.show()"
      ],
      "metadata": {
        "pycharm": {
          "name": "#%%\n"
        },
        "colab": {
          "base_uri": "https://localhost:8080/",
          "height": 265
        },
        "id": "OiHllKbPg9Kw",
        "outputId": "11132bcc-b3a0-4667-f6cd-6bf19f8991ee"
      }
    },
    {
      "cell_type": "code",
      "source": [
        "%time pred_ratings_inface2, loss_inface2, loss_track_inface2 = FW_inface(X_test, FW_objective_function, gamma1 = 0, gamma2 = 1, delta = 100, THRES = 10, max_iter = 100, patience = 1e-7, printing=True, delta_change = True)"
      ],
      "metadata": {
        "colab": {
          "base_uri": "https://localhost:8080/"
        },
        "id": "zlhTY1KYsAAS",
        "outputId": "3a2e4277-29aa-4b8b-f099-88ab66e43d3f"
      },
      "execution_count": 140,
      "outputs": [
        {
          "output_type": "stream",
          "name": "stdout",
          "text": [
            "Initial Zk Rank:  1\n",
            "Iteration: 1 Loss: 3200.379811997308 Loss diff: 846.9150268048675 Rank(Z):  1\n",
            "Iteration: 10 Loss: 10.95645289860316 Loss diff: 15.184820334115482 Rank(Z):  9\n",
            "Iteration: 20 Loss: 1.704341723983502 Loss diff: 7.974932413791988 Rank(Z):  19\n",
            "Iteration: 30 Loss: 0.6808228470051525 Loss diff: 2.3745445421927753 Rank(Z):  29\n",
            "Iteration: 40 Loss: 0.8811470517020472 Loss diff: 0.16540200327064714 Rank(Z):  38\n",
            "Iteration: 50 Loss: 0.4928321936929956 Loss diff: 0.05974344932908959 Rank(Z):  48\n",
            "Iteration: 60 Loss: 0.2575422872135369 Loss diff: 0.02356043136163144 Rank(Z):  58\n",
            "Iteration: 70 Loss: 0.105405782395227 Loss diff: 0.017281239033817397 Rank(Z):  68\n",
            "Iteration: 80 Loss: 0.06791191819477074 Loss diff: 0.0007551187972204831 Rank(Z):  78\n",
            "Iteration: 90 Loss: 0.03396821469541075 Loss diff: 0.0036173739390276544 Rank(Z):  88\n",
            "Iteration: 100 Loss: 0.019462538526299755 Loss diff: 0.00028540171500768957 Rank(Z):  98\n",
            "Went to lower dim face: 24\n",
            "Stayed: 0\n",
            "Regular: 74\n",
            "Not entered if: 2\n",
            "in_border: 0\n",
            "Inside ball: 100\n",
            "Outside ball: 0\n",
            "CPU times: user 14.3 s, sys: 13.5 s, total: 27.8 s\n",
            "Wall time: 15.8 s\n"
          ]
        }
      ]
    },
    {
      "cell_type": "code",
      "execution_count": 141,
      "outputs": [
        {
          "output_type": "display_data",
          "data": {
            "text/plain": [
              "<Figure size 1200x640 with 1 Axes>"
            ],
            "image/png": "[encoded data removed]"
          },
          "metadata": {
            "needs_background": "light"
          }
        }
      ],
      "source": [
        "import matplotlib.pyplot as plt\n",
        "from matplotlib.pyplot import figure\n",
        "\n",
        "figure(figsize=(15, 8), dpi=80)\n",
        "\n",
        "plt.plot(np.log10(loss_track_reg), label = 'Frank Wolfe')\n",
        "plt.plot(np.log10(loss_track_inface), label = 'In-Face Frank Wolfe')\n",
        "plt.plot(np.log10(loss_track_inface2), label = 'In-Face Frank Wolfe with Delta Increaser')\n",
        "plt.legend()\n",
        "plt.show()"
      ],
      "metadata": {
        "pycharm": {
          "name": "#%%\n"
        },
        "colab": {
          "base_uri": "https://localhost:8080/",
          "height": 533
        },
        "id": "SlwkkoMhg9Kx",
        "outputId": "38165016-94f8-408b-ae69-54acc7cbd6a7"
      }
    },
    {
      "cell_type": "code",
      "source": [
        ""
      ],
      "metadata": {
        "id": "mQH8kINrvqMs"
      },
      "execution_count": null,
      "outputs": []
    },
    {
      "cell_type": "markdown",
      "source": [
        "# Tuned Model\n",
        "\n"
      ],
      "metadata": {
        "collapsed": false,
        "id": "1fDMKs3qg9Ky"
      }
    },
    {
      "cell_type": "markdown",
      "metadata": {
        "id": "x0manG1buepT"
      },
      "source": [
        "# Grid Searching"
      ]
    },
    {
      "cell_type": "markdown",
      "metadata": {
        "id": "Y_MUb9nrwJyA"
      },
      "source": [
        "##Delta"
      ]
    },
    {
      "cell_type": "code",
      "execution_count": null,
      "metadata": {
        "colab": {
          "base_uri": "https://localhost:8080/"
        },
        "id": "QUZGgSUsudah",
        "outputId": "bd7fb5f1-3a5b-4467-e5cc-23f3784569fe"
      },
      "outputs": [
        {
          "name": "stdout",
          "output_type": "stream",
          "text": [
            "Delta: 0.001    ------     Final Loss: 1995299.6906607011   at iteration 2\n",
            "Delta: 0.01    ------     Final Loss: 1995296.9066038157   at iteration 2\n",
            "Delta: 0.1    ------     Final Loss: 1995269.065718345   at iteration 2\n",
            "Delta: 1    ------     Final Loss: 1994990.6592616318   at iteration 4\n",
            "Delta: 10    ------     Final Loss: 1992207.8429168023   at iteration 19\n",
            "Delta: 100    ------     Final Loss: 1964496.978598407   at iteration 84\n",
            "Delta: 1000    ------     Final Loss: 1699162.6623283497   at iteration 201\n",
            "Delta: 10000    ------     Final Loss: 302150.77467486466   at iteration 64\n",
            "Delta: 100000    ------     Final Loss: 175474.63085276185   at iteration 70\n",
            "Delta: 1000000    ------     Final Loss: 146671.28662048402   at iteration 201\n",
            "Delta: 10000000    ------     Final Loss: 672843.1813172555   at iteration 201\n",
            "Delta: 100000000    ------     Final Loss: 1757112480.4694064   at iteration 201\n"
          ]
        }
      ],
      "source": [
        "deltas = [0.001, 0.01, 0.1, 1, 10, 100, 1000, 10000, 100000, 1000000, 10000000, 100000000]\n",
        "\n",
        "for delta in deltas:\n",
        "  pred_ratings, loss, it = FW_inface(new_data, FW_objective_function, delta = delta, max_iter=201, patience = 0.01, printing = False)\n",
        "  print('Delta: ' + str(delta) + '    ------     Final Loss: ' + str(loss) + '   at iteration ' + str(it))"
      ]
    },
    {
      "cell_type": "code",
      "execution_count": null,
      "metadata": {
        "colab": {
          "base_uri": "https://localhost:8080/"
        },
        "id": "--BkRQqIxmSw",
        "outputId": "f9c17983-9fb7-40c8-dc83-c9d8c099cf3e"
      },
      "outputs": [
        {
          "name": "stdout",
          "output_type": "stream",
          "text": [
            "Delta: 250000    ------     Final Loss: 184966.58801373874   at iteration 142\n",
            "Delta: 500000    ------     Final Loss: 169552.51866399613   at iteration 201\n",
            "Delta: 750000    ------     Final Loss: 420615.6132565984   at iteration 201\n",
            "Delta: 1250000    ------     Final Loss: 216412.31880627264   at iteration 201\n",
            "Delta: 1500000    ------     Final Loss: 273680.42343568715   at iteration 201\n",
            "Delta: 2500000    ------     Final Loss: 417712.4612960932   at iteration 201\n",
            "Delta: 5000000    ------     Final Loss: 571545.4612269908   at iteration 201\n",
            "Delta: 7500000    ------     Final Loss: 632556.1542439449   at iteration 201\n"
          ]
        }
      ],
      "source": [
        "deltas = [250000,\n",
        "          500000,\n",
        "          750000,\n",
        "          1250000,\n",
        "          1500000,\n",
        "          2500000,\n",
        "          5000000,\n",
        "          7500000]\n",
        "\n",
        "for delta in deltas:\n",
        "  pred_ratings, loss, it = FW_inface(new_data, FW_objective_function, delta = delta, max_iter=201, patience = 0.01, printing = False)\n",
        "  print('Delta: ' + str(delta) + '    ------     Final Loss: ' + str(loss) + '   at iteration ' + str(it))"
      ]
    },
    {
      "cell_type": "code",
      "execution_count": null,
      "metadata": {
        "colab": {
          "base_uri": "https://localhost:8080/"
        },
        "id": "M5Xei-9Gy3hh",
        "outputId": "47a9fd59-b0a5-4bca-ab08-992677a90c73"
      },
      "outputs": [
        {
          "name": "stdout",
          "output_type": "stream",
          "text": [
            "Delta: 150000    ------     Final Loss: 180502.69121015765   at iteration 95\n",
            "Delta: 300000    ------     Final Loss: 186151.14181067253   at iteration 165\n",
            "Delta: 450000    ------     Final Loss: 188191.3045520871   at iteration 231\n",
            "Delta: 600000    ------     Final Loss: 189243.6150128576   at iteration 297\n",
            "Delta: 900000    ------     Final Loss: 190318.32554160611   at iteration 425\n",
            "Delta: 1200000    ------     Final Loss: 189679.94593613478   at iteration 501\n",
            "Delta: 1500000    ------     Final Loss: 149600.4326080835   at iteration 501\n"
          ]
        }
      ],
      "source": [
        "deltas = [150000,\n",
        "          300000,\n",
        "          450000,\n",
        "          600000,\n",
        "          900000,\n",
        "          1200000,\n",
        "          1500000]\n",
        "\n",
        "for delta in deltas:\n",
        "  pred_ratings, loss, it = FW_inface(new_data, FW_objective_function, delta = delta, max_iter=501, patience = 0.01, printing = False)\n",
        "  print('Delta: ' + str(delta) + '    ------     Final Loss: ' + str(loss) + '   at iteration ' + str(it))"
      ]
    },
    {
      "cell_type": "code",
      "execution_count": null,
      "metadata": {
        "colab": {
          "base_uri": "https://localhost:8080/"
        },
        "id": "2W5PqtaH0eZu",
        "outputId": "c519e67f-c98e-4186-a5a2-8d0d6a031872"
      },
      "outputs": [
        {
          "name": "stdout",
          "output_type": "stream",
          "text": [
            "Delta: 1750000    ------     Final Loss: 191384.43819455765   at iteration 786\n",
            "Delta: 2000000    ------     Final Loss: 191527.2106760225   at iteration 889\n",
            "Delta: 2250000    ------     Final Loss: 191638.53051798942   at iteration 991\n"
          ]
        }
      ],
      "source": [
        "deltas = [1750000,\n",
        "          2000000,\n",
        "          2250000]\n",
        "\n",
        "for delta in deltas:\n",
        "  pred_ratings, loss, it = FW_inface(new_data, FW_objective_function, delta = delta, max_iter = 1000, patience = 0.001, printing = False)\n",
        "  print('Delta: ' + str(delta) + '    ------     Final Loss: ' + str(loss) + '   at iteration ' + str(it))"
      ]
    },
    {
      "cell_type": "code",
      "execution_count": null,
      "metadata": {
        "colab": {
          "base_uri": "https://localhost:8080/"
        },
        "id": "MkpvJqQi2YxJ",
        "outputId": "c4eeadcf-f4a5-4873-94aa-33a40b766bd6"
      },
      "outputs": [
        {
          "name": "stdout",
          "output_type": "stream",
          "text": [
            "Delta: 1375000    ------     Final Loss: 191074.29727334835   at iteration 630\n",
            "Delta: 1500000    ------     Final Loss: 191194.6863524153   at iteration 682\n",
            "Delta: 1625000    ------     Final Loss: 191296.77299220837   at iteration 734\n"
          ]
        }
      ],
      "source": [
        "deltas = [1375000,\n",
        "          1500000,\n",
        "          1625000]\n",
        "\n",
        "for delta in deltas:\n",
        "  pred_ratings, loss, it = FW_inface(new_data, FW_objective_function, delta = delta, max_iter = 1000, patience = 0.001, printing = False)\n",
        "  print('Delta: ' + str(delta) + '    ------     Final Loss: ' + str(loss) + '   at iteration ' + str(it))"
      ]
    },
    {
      "cell_type": "markdown",
      "metadata": {
        "id": "PO5uv6UZ33wJ"
      },
      "source": [
        "## Gammas"
      ]
    },
    {
      "cell_type": "code",
      "execution_count": null,
      "metadata": {
        "colab": {
          "base_uri": "https://localhost:8080/"
        },
        "id": "45FR0xoX323p",
        "outputId": "51369768-d4dc-4455-f573-83822546ef54"
      },
      "outputs": [
        {
          "name": "stdout",
          "output_type": "stream",
          "text": [
            "Gamma1: 0   Gamma2: 0.1    ------     Final Loss: 335449.4737096828   at iteration 500\n",
            "Gamma1: 0   Gamma2: 1    ------     Final Loss: 335449.4737096833   at iteration 500\n",
            "Gamma1: 0.1   Gamma2: 1    ------     Final Loss: 149460.45148459333   at iteration 500\n",
            "Gamma1: 1   Gamma2: 1    ------     Final Loss: 149460.451484515   at iteration 500\n",
            "Gamma1: 1   Gamma2: 10    ------     Final Loss: 335449.47370968235   at iteration 500\n",
            "Gamma1: 1   Gamma2: 100    ------     Final Loss: 149460.4514845148   at iteration 500\n",
            "Gamma1: 10   Gamma2: 100    ------     Final Loss: 149460.451484515   at iteration 500\n"
          ]
        }
      ],
      "source": [
        "gammas = [[0,    0.1],\n",
        "          [0,    1],\n",
        "          [0.1,  1],\n",
        "          [1,    1],\n",
        "          [1,   10],\n",
        "          [1,  100],\n",
        "          [10, 100]]\n",
        "\n",
        "for gamma1, gamma2 in gammas:\n",
        "  pred_ratings, loss, it = FW_inface(new_data, FW_objective_function, gamma1 = gamma1, gamma2 = gamma2, delta = 1500000, max_iter = 500, patience = 0.001, printing = False)\n",
        "  print('Gamma1: ' + str(gamma1) + '   Gamma2: ' + str(gamma2) + '    ------     Final Loss: ' + str(loss) + '   at iteration ' + str(it))"
      ]
    },
    {
      "cell_type": "code",
      "execution_count": null,
      "metadata": {
        "colab": {
          "base_uri": "https://localhost:8080/"
        },
        "id": "EOD4CGHO884Z",
        "outputId": "f4ddeb2d-b605-4c9c-fab8-d096648bc3e6"
      },
      "outputs": [
        {
          "name": "stdout",
          "output_type": "stream",
          "text": [
            "Gamma1: 1   Gamma2: 100    ------     Final Loss: 149460.45148459318   at iteration 500\n",
            "Gamma1: 100   Gamma2: 100    ------     Final Loss: 149460.45148451466   at iteration 500\n",
            "Gamma1: 0.1   Gamma2: 100    ------     Final Loss: 149460.4514845149   at iteration 500\n",
            "Gamma1: 1   Gamma2: 1000    ------     Final Loss: 335449.4737115356   at iteration 500\n"
          ]
        }
      ],
      "source": [
        "gammas = [[1,  100],\n",
        "          [100, 100],\n",
        "          [0.1,  100],\n",
        "          [1,    1000]]\n",
        "\n",
        "for gamma1, gamma2 in gammas:\n",
        "  pred_ratings, loss, it = FW_inface(new_data, FW_objective_function, gamma1 = gamma1, gamma2 = gamma2, delta = 1500000, max_iter = 500, patience = 0.001, printing = False)\n",
        "  print('Gamma1: ' + str(gamma1) + '   Gamma2: ' + str(gamma2) + '    ------     Final Loss: ' + str(loss) + '   at iteration ' + str(it))"
      ]
    },
    {
      "cell_type": "code",
      "execution_count": null,
      "metadata": {
        "colab": {
          "base_uri": "https://localhost:8080/"
        },
        "id": "oMpXvq5S-ZvP",
        "outputId": "ac623233-b516-433e-a7f7-041981b1ed94"
      },
      "outputs": [
        {
          "name": "stdout",
          "output_type": "stream",
          "text": [
            "Gamma1: 0   Gamma2: 100    ------     Final Loss: 335449.47371153446   at iteration 500\n",
            "Gamma1: 0   Gamma2: 1000    ------     Final Loss: 149460.4514845933   at iteration 500\n",
            "Gamma1: 0.1   Gamma2: 0.1    ------     Final Loss: 149460.45148451495   at iteration 500\n"
          ]
        }
      ],
      "source": [
        "gammas = [[0,  100],\n",
        "          [0, 1000],\n",
        "          [0.1,  0.1]]\n",
        "\n",
        "for gamma1, gamma2 in gammas:\n",
        "  pred_ratings, loss, it = FW_inface(new_data, FW_objective_function, gamma1 = gamma1, gamma2 = gamma2, delta = 1500000, max_iter = 500, patience = 0.001, printing = False)\n",
        "  print('Gamma1: ' + str(gamma1) + '   Gamma2: ' + str(gamma2) + '    ------     Final Loss: ' + str(loss) + '   at iteration ' + str(it))"
      ]
    },
    {
      "cell_type": "markdown",
      "metadata": {
        "id": "cpS5jRz4vpHa"
      },
      "source": [
        "## Sub-Chapter"
      ]
    }
  ],
  "metadata": {
    "colab": {
      "collapsed_sections": [],
      "name": "FW_matrix_completition.ipynb",
      "provenance": [],
      "toc_visible": true
    },
    "kernelspec": {
      "display_name": "Python 3",
      "language": "python",
      "name": "python3"
    },
    "language_info": {
      "codemirror_mode": {
        "name": "ipython",
        "version": 3
      },
      "file_extension": ".py",
      "mimetype": "text/x-python",
      "name": "python",
      "nbconvert_exporter": "python",
      "pygments_lexer": "ipython3",
      "version": "3.8.10"
    }
  },
  "nbformat": 4,
  "nbformat_minor": 0
}