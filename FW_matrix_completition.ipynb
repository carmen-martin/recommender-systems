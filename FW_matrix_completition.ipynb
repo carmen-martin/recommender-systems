{
  "cells": [
    {
      "cell_type": "code",
      "execution_count": 1,
      "outputs": [],
      "source": [
        "# Imports\n",
        "from scipy import sparse\n",
        "import scipy\n",
        "import numpy as np\n",
        "from scipy import stats\n",
        "import matplotlib.pyplot as plt\n",
        "import time\n",
        "from numpy import linalg as LA"
      ],
      "metadata": {
        "pycharm": {
          "name": "#%%\n"
        },
        "id": "FhsevKDsg9Kg"
      }
    },
    {
      "cell_type": "markdown",
      "source": [
        "# Frank-Wolfe - standard algorithm"
      ],
      "metadata": {
        "collapsed": false,
        "id": "LTGH57Rtg9Kl"
      }
    },
    {
      "cell_type": "code",
      "execution_count": 2,
      "metadata": {
        "id": "kobsOmgimqL_",
        "jupyter": {
          "outputs_hidden": false
        },
        "pycharm": {
          "name": "#%%\n"
        }
      },
      "outputs": [],
      "source": [
        "# FW objective function\n",
        "def FW_objective_function(diff_vec):\n",
        "    return 0.5*(np.power(diff_vec,2).sum())\n",
        "\n",
        "# Regular FW algorithm\n",
        "def FrankWolfe(X, objective_function, delta, empties = 0, printing_res = True, Z_init = None, max_iter = 150, patience = 1e-3):\n",
        "    '''\n",
        "    :param X: sparse matrix with ratings and 'empty values', rows - users, columns - books.\n",
        "    :param objective_function: objective function that we would like to minimize with FW\n",
        "    :param delta: Radius of the feasible's set ball\n",
        "    :param empties (optional): Empty values of X are zeros (0) or NaN ('nan'). Default = 0\n",
        "    :param Z_init (optional): In case we want to initialize Z with a known matrix, if not given Z_init will be a zeros matrix. Default = None.\n",
        "    :param max_iter (optional): max number of iterations for the method. Default = 150.\n",
        "    :param patience (optional): once reached this tolerance provide the result. Default = 1e-3.\n",
        "    :return: Z: matrix of predicted ratings - it should be like X but with no 'empty values'\n",
        "    :return: accuracy: difference between original values (X) and predicted ones (Z)\n",
        "    '''\n",
        "\n",
        "    # Get X indexes for not empty values\n",
        "    if empties == 0:\n",
        "        idx_ratings = np.argwhere(X != 0)\n",
        "    elif empties == 'nan':\n",
        "        idx_ratings = np.argwhere(~np.isnan(X))\n",
        "    else:\n",
        "        return print('Error: Empties argument', empties, 'not valid.')\n",
        "\n",
        "    idx_rows = idx_ratings[:,0]\n",
        "    idx_cols = idx_ratings[:,1]\n",
        "\n",
        "    # Initialize Z\n",
        "    if Z_init == 'random uniform':\n",
        "        Z = np.random.uniform(low = 0.01, high = 1, size = X.shape)\n",
        "    elif Z_init is not None:\n",
        "        Z = Z_init\n",
        "    else:\n",
        "        Z = np.zeros(X.shape)\n",
        "\n",
        "    # Create vectors with the not empty features of the sparse matrix\n",
        "    X_rated = X[idx_rows, idx_cols]\n",
        "    Z_rated = Z[idx_rows, idx_cols]\n",
        "    diff_vec = np.array(Z_rated - X_rated)[0]\n",
        "\n",
        "    # Create needed variables\n",
        "    diff_loss = patience + 1\n",
        "    loss = objective_function(diff_vec)\n",
        "    res_list = [loss]\n",
        "    it = 0\n",
        "    while (diff_loss > patience) and (it < max_iter):\n",
        "\n",
        "        # Gradient\n",
        "        grad = sparse.csr_matrix((diff_vec, (idx_rows, idx_cols)))\n",
        "\n",
        "        # SVD - Compute k = 1 singular values and its vectors, starting from the largest (which = 'LM')\n",
        "        u_max, s_max, v_max = sparse.linalg.svds(grad, k = 1, which='LM')   #\n",
        "\n",
        "        # Update\n",
        "        Zk_tilde = -delta*np.outer(u_max,v_max)\n",
        "\n",
        "        alpha_k = 2/(it+2) #alpha - as studied in class\n",
        "        Z = (1-alpha_k)*Z + alpha_k*Zk_tilde\n",
        "\n",
        "        # Loss\n",
        "        diff_vec = np.array(Z[idx_rows, idx_cols] - X_rated)[0]\n",
        "        new_loss = objective_function(diff_vec)\n",
        "\n",
        "        # Improvement at this iteration\n",
        "        diff_loss = np.abs(loss - new_loss)\n",
        "        loss = new_loss\n",
        "\n",
        "        if printing_res == True:\n",
        "            if it == 1 or it % 50 == 0:\n",
        "                print('Iteration:', it, 'Loss:', loss, 'Loss diff:', diff_loss, 'Rank(Z): ', np.linalg.matrix_rank(Z))\n",
        "\n",
        "        # Count iteration\n",
        "        it += 1\n",
        "\n",
        "        res_list.append(loss)\n",
        "        \n",
        "    return Z, loss, res_list"
      ]
    },
    {
      "cell_type": "markdown",
      "metadata": {
        "id": "6y-VOlLMvfq8"
      },
      "source": [
        "# Frank-Wolfe In-face"
      ]
    },
    {
      "cell_type": "code",
      "execution_count": 5,
      "outputs": [],
      "source": [
        "# Binary search for alpha stop\n",
        "def alpha_binary_search(Zk, Dk, delta, max_value = 1, min_value = 0, tol = 0.05):\n",
        "\n",
        "    #Inizialization\n",
        "\n",
        "    best_alpha = (max_value - min_value) / 2\n",
        "\n",
        "    testing_matrix = Zk + best_alpha * Dk\n",
        "\n",
        "    sentinel = False\n",
        "\n",
        "    testing_mat_nuclear_norm = LA.norm(testing_matrix, ord = 'nuc')\n",
        "\n",
        "    #Binary Search\n",
        "\n",
        "    while testing_mat_nuclear_norm <= delta and (max_value - min_value) >= tol and time.process_time() <= time_out:\n",
        "\n",
        "        min_value = best_alpha\n",
        "\n",
        "        best_alpha = (max_value - min_value) / 2\n",
        "\n",
        "        testing_matrix = Zk + best_alpha * Dk\n",
        "\n",
        "        testing_mat_nuclear_norm = LA.norm(testing_matrix, ord = 'nuc')\n",
        "\n",
        "    return best_alpha"
      ],
      "metadata": {
        "pycharm": {
          "name": "#%%\n"
        },
        "id": "o8094r4Hg9Kq"
      }
    },
    {
      "cell_type": "code",
      "source": [
        "# Evaluate Best Beta\n",
        "def compute_best_beta(grad, Dk, L, alpha_stop):\n",
        "\n",
        "  grad = grad.toarray()\n",
        "\n",
        "  operator1 = -np.dot(grad.T, Dk)\n",
        "  operator2 = L * LA.norm(Dk)**2\n",
        "  fraction = operator1/operator2\n",
        "  fraction = fraction.sum()\n",
        "\n",
        "  if fraction < alpha_stop:\n",
        "    best_beta = fraction\n",
        "\n",
        "  else:\n",
        "    best_beta = alpha_stop\n",
        "\n",
        "  return best_beta"
      ],
      "metadata": {
        "id": "EqUfMVSCjJ1I"
      },
      "execution_count": 24,
      "outputs": []
    },
    {
      "cell_type": "code",
      "execution_count": 15,
      "outputs": [],
      "source": [
        "def FW_inface(X, objective_function, delta, L = 1, D = None, gamma1 = 0, gamma2 = 1, THRES = 0.001, empties = 0, max_iter=150, patience=1e-3, printing = True):\n",
        "    '''\n",
        "    :param X: sparse matrix with ratings and 'empty values', rows - users, columns - books.\n",
        "    :param objective_function: objective function that we would like to minimize with FW.\n",
        "    :param delta: Radius of the feasible's set ball\n",
        "    :param L: must be greater than 1\n",
        "    :param D: if not inputed = 2*delta\n",
        "    :param gamma1:\n",
        "    :param gamma2:\n",
        "    :param THRES:\n",
        "    :param empties (optional): Empty values of X are zeros (0) or NaN ('nan'). Default = 0\n",
        "    :param max_iter: max number of iterations for the method.\n",
        "    :param patience: once reached this tolerance provide the result.\n",
        "    :return: Z: matrix of predicted ratings - it should be like X but with no 'empty values'\n",
        "            loss: difference between original values (X) and predicted ones (Z).\n",
        "    '''\n",
        "\n",
        "    # Get X indexes for not empty values\n",
        "    if empties == 0:\n",
        "        idx_ratings = np.argwhere(X != 0)\n",
        "    elif empties == 'nan':\n",
        "        idx_ratings = np.argwhere(~np.isnan(X))\n",
        "    else:\n",
        "        return print('Empties argument', empties, 'not valid.')\n",
        "\n",
        "    idx_rows = idx_ratings[:,0]\n",
        "    idx_cols = idx_ratings[:,1]\n",
        "\n",
        "    # Initialize Z_{-1}\n",
        "    Z_1 = np.zeros(X.shape)\n",
        "\n",
        "    # Create vectors with the not empty features of the sparse matrix\n",
        "    X_rated = X[idx_rows, idx_cols]\n",
        "    Z_rated = Z_1[idx_rows, idx_cols]\n",
        "    diff_vec_1 = np.array(Z_rated - X_rated)[0]\n",
        "\n",
        "    # Initial gradient and Z0\n",
        "    grad_1 = sparse.csr_matrix((diff_vec_1, (idx_rows, idx_cols)))\n",
        "    u_max, s_max, v_max = sparse.linalg.svds(grad_1, k = 1, which='LM')\n",
        "    Zk = -delta*np.outer(u_max,v_max)\n",
        "    Z_rated = Zk[idx_rows, idx_cols]\n",
        "\n",
        "    print('Initial Zk Rank: ', LA.matrix_rank(Zk))\n",
        "\n",
        "    # Initialize lower bound on the optimal objective function (f*)\n",
        "    diff_vec = np.array(Z_rated - X_rated)[0]\n",
        "    #new_low_bound = np.max((objective_function(diff_vec_1) + np.multiply(grad_1.toarray(),Zk).sum()), 0)\n",
        "    new_low_bound = 0\n",
        "    #new_low_bound = np.max((objective_function(diff_vec_1) + (grad_1.dot(Zk)).trace()), 0)\n",
        "    #new_low_bound = 0 #used 0 otherwise the other new_low_bound was too high!\n",
        "\n",
        "    # Set D\n",
        "    if D is not None:\n",
        "        D = D\n",
        "    else:\n",
        "        D = 2*delta\n",
        "\n",
        "    rank_Z = LA.matrix_rank(Zk)   # rank of Zk to find thin SVD size\n",
        "\n",
        "    # Additional needed parameters\n",
        "    diff_loss = patience + 1\n",
        "    loss = objective_function(diff_vec)\n",
        "    it = 0\n",
        "    res_list = [objective_function(diff_vec_1), loss]\n",
        "    ranks = [rank_Z]\n",
        "    not_in_ball=False\n",
        "\n",
        "    B_used = 0\n",
        "    A_used = 0\n",
        "    not_entered = 0\n",
        "    regularFW = 0\n",
        "\n",
        "    in_border = 0\n",
        "    inside = 0\n",
        "    outside = 0\n",
        "\n",
        "    while (diff_loss > patience) and (it < max_iter):\n",
        "\n",
        "        # Thin SVD\n",
        "        U_thin, s_thin, Vh_thin = sparse.linalg.svds(Zk, k = rank_Z, which='LM')   # Compute k = rank singular values\n",
        "\n",
        "        # Lower bound update\n",
        "        low_bound = new_low_bound\n",
        "\n",
        "        # Gradient\n",
        "        grad = sparse.csr_matrix((diff_vec, (idx_rows, idx_cols)))\n",
        "\n",
        "        # In-face direction with the away step strategy: two calculations depending of where Z lies within the feasible set\n",
        "        if s_thin.sum() == delta: # Z in border (sum of singular values == radius of feasible set)\n",
        "            in_border += 1\n",
        "            G = 0.5 * (Vh_thin.dot(grad.T.dot(U_thin)) + U_thin.T.dot(grad.dot(Vh_thin.T)))\n",
        "            # Obtain unitary eigenvector corresponding to smallest eigenvalue of G\n",
        "            eigvalues, eigvectors = LA.eig(G)  #find the eigenvalues\n",
        "            min_eig = np.argmin(eigvalues)  #find the index of the smallest eigenvalue\n",
        "            u = eigvectors[:, min_eig]  #take the eigenvector corresponding to the smallest eigenvalue\n",
        "\n",
        "            # Update value\n",
        "            M = np.outer(u,u.T)\n",
        "            Zk_tilde = delta*U_thin.dot(M.dot(Vh_thin))\n",
        "            Dk = Zk - Zk_tilde\n",
        "\n",
        "            inv_s_thin = np.diag(1/s_thin)\n",
        "            alpha_stop = 1/(delta*u.T.dot(inv_s_thin.dot(u))-1)\n",
        "\n",
        "        elif s_thin.sum() < delta: #inside\n",
        "            inside += 1\n",
        "            u_max, s_max, v_max = sparse.linalg.svds(grad, k = 1, which='LM')\n",
        "            Zk_tilde = delta*np.outer(u_max,v_max)\n",
        "            Dk = Zk - Zk_tilde\n",
        "            #BINARY SEARCH\n",
        "\n",
        "            alpha_stop = alpha_binary_search(Zk,\n",
        "                                          Dk,\n",
        "                                          delta)\n",
        "\n",
        "        else:\n",
        "            not_in_ball = True\n",
        "            outside += 1\n",
        "\n",
        "        nuclear_norm = s_thin.sum()\n",
        "        # We check if Zk is inside the feasible set and the rank in order to decide which type steps to do\n",
        "        if rank_Z > 1 and not_in_ball==False:\n",
        "            Z_B = Zk + alpha_stop*Dk\n",
        "            diff_vec_B = np.array(Z_B[idx_rows, idx_cols] - X_rated)[0]\n",
        "            if 1/(objective_function(diff_vec_B)-low_bound) >= (1/(loss-low_bound)+gamma1/(2*L*D**2)):\n",
        "              # 1. Move to a lower dimensional face\n",
        "              B_used += 1\n",
        "              Zk = Z_B\n",
        "\n",
        "            else:\n",
        "\n",
        "                beta = compute_best_beta(grad, Dk, L, alpha_stop)\n",
        "\n",
        "                #beta = alpha_stop/5 # FIND A GOOD VALUE -- a binary search is also suggested by the paper\n",
        "\n",
        "\n",
        "                Z_A = Zk + beta*Dk\n",
        "                diff_vec_A = np.array(Z_A[idx_rows, idx_cols] - X_rated)[0]\n",
        "\n",
        "                if 1/(objective_function(diff_vec_A)-low_bound) >= (1/(loss-low_bound)+gamma2/(2*L*D**2)):\n",
        "                    # 2. Stay in the current face\n",
        "                    A_used += 1\n",
        "                    Zk = Z_A\n",
        "                else:\n",
        "                    # 3. Do a regular FW step and update the lower bound\n",
        "                    regularFW += 1\n",
        "                    #Zk update\n",
        "                    u_max, s_max, v_max = sparse.linalg.svds(grad, k = 1, which='LM')\n",
        "                    Zk_tilde = -delta*np.outer(u_max,v_max)\n",
        "\n",
        "                    '''# Lower bound update\n",
        "                    B_w = loss + grad.T.dot(Zk_tilde - Zk)\n",
        "                    print(B_w, low_bound)\n",
        "                    new_low_bound = np.max(low_bound, B_w)'''\n",
        "\n",
        "                    direction_vec = Zk_tilde.flatten() - Zk.flatten()\n",
        "                    grad = grad.toarray()\n",
        "                    wolfe_gap = grad.T.flatten() * direction_vec\n",
        "                    B_w = loss + wolfe_gap.sum()\n",
        "\n",
        "                    #TRIED THIS INSTEAD\n",
        "                    if low_bound >= B_w:\n",
        "                        new_low_bound = low_bound\n",
        "                    else:\n",
        "                        new_low_bound = B_w\n",
        "\n",
        "                    # Z_(k+1)\n",
        "                    alpha_k = 2/(it+2)\n",
        "                    Zk = (1-alpha_k)*Zk + alpha_k*Zk_tilde\n",
        "\n",
        "        else:\n",
        "\n",
        "            # 3. Do a regular FW step and update the lower bound\n",
        "            not_entered += 1\n",
        "            #Zk update\n",
        "            grad = sparse.csr_matrix((diff_vec, (idx_rows, idx_cols)))\n",
        "            u_max, s_max, v_max = sparse.linalg.svds(grad, k = 1, which='LM')\n",
        "            Zk_tilde = -delta*np.outer(u_max,v_max)\n",
        "\n",
        "            '''# Lower bound update\n",
        "            B_w = loss + grad.T.dot(Zk_tilde - Zk)\n",
        "            print(B_w, low_bound)\n",
        "            new_low_bound = np.max(low_bound, B_w)'''\n",
        "\n",
        "            direction_vec = Zk_tilde.flatten() - Zk.flatten()\n",
        "            grad = grad.toarray()\n",
        "            wolfe_gap = grad.T.flatten() * direction_vec\n",
        "            B_w = loss + wolfe_gap.sum()\n",
        "\n",
        "            #TRIED THIS INSTEAD\n",
        "            if low_bound >= B_w:\n",
        "                new_low_bound = low_bound\n",
        "            else:\n",
        "                new_low_bound = B_w\n",
        "\n",
        "            # Z_(k+1)\n",
        "            alpha_k = 2/(it+2)\n",
        "            Zk = (1-alpha_k)*Zk + alpha_k*Zk_tilde\n",
        "\n",
        "            not_in_ball=False\n",
        "\n",
        "        # Loss\n",
        "        diff_vec = np.array(Zk[idx_rows, idx_cols] - X_rated)[0]\n",
        "        new_loss = objective_function(diff_vec)\n",
        "\n",
        "        # Improvement at this iteration\n",
        "        diff_loss = np.abs(loss - new_loss)\n",
        "        loss = new_loss\n",
        "\n",
        "        rank_Z = LA.matrix_rank(Zk)   # rank of Zk to find thin SVD size\n",
        "\n",
        "        # Count iteration\n",
        "        it += 1\n",
        "\n",
        "        res_list.append(loss)\n",
        "        ranks.append(rank_Z)\n",
        "        if printing == True:\n",
        "          if it % 5 == 0 or it == 1:\n",
        "            print('Iteration:', it, 'Loss:', loss, 'Loss diff:', diff_loss, 'Rank(Z): ', rank_Z)\n",
        "\n",
        "    print('Went to lower dim face:', B_used)\n",
        "    print('Stayed:', A_used)\n",
        "    print('Regular:', regularFW)\n",
        "    print('Not entered if:', not_entered)\n",
        "\n",
        "    print('in_border:', in_border)\n",
        "    print('Inside ball:', inside)\n",
        "    print('Outside ball:', outside)\n",
        "    return Zk, loss, res_list\n"
      ],
      "metadata": {
        "pycharm": {
          "name": "#%%\n"
        },
        "id": "3N5XmMzLg9Kr"
      }
    },
    {
      "cell_type": "markdown",
      "source": [
        "## Data Generation"
      ],
      "metadata": {
        "collapsed": false,
        "id": "CkoTxB7ng9Ks"
      }
    },
    {
      "cell_type": "code",
      "execution_count": 7,
      "outputs": [
        {
          "output_type": "stream",
          "name": "stdout",
          "text": [
            "Nuclear norm: 0.5846391750704965\n",
            "Data shape: (200, 400)\n",
            "Number of observed values: 14883\n",
            "Rank of the matrix: 1\n",
            "Minimum and maximum values: 0.05980139588505789 0.0\n"
          ]
        },
        {
          "output_type": "stream",
          "name": "stderr",
          "text": [
            "<string>:6: SparseEfficiencyWarning: Comparing a sparse matrix with 0 using == is inefficient, try using != instead.\n"
          ]
        }
      ],
      "source": [
        "# Parameters\n",
        "n = 400\n",
        "m = 200\n",
        "r = 10\n",
        "rho = 0.10\n",
        "SNR = 5\n",
        "delta = 3.75\n",
        "\n",
        "\n",
        "\n",
        "# taking data\n",
        "U = sparse.random(m, r, density=0.1, format='csr', data_rvs=None)\n",
        "V = sparse.random(r, n, density=0.1, format='csr', data_rvs=None)\n",
        "E = sparse.random(m, n, density=0.1, format='csr', data_rvs=None)\n",
        "\n",
        "\n",
        "\n",
        "VT = V.transpose(copy=True)\n",
        "\n",
        "UVT = U*V\n",
        "#print(UVT. shape)\n",
        "\n",
        "w1 = 1/(sparse.linalg.norm(UVT, ord='fro'))\n",
        "\n",
        "w2 = 1/(SNR*sparse.linalg.norm(E, ord='fro'))\n",
        "\n",
        "#Finally observed data matrix is:\n",
        "X_test = w1*UVT + w2*E\n",
        "\n",
        "# Non zero values\n",
        "idx_ratings = np.argwhere(X_test != 0.)\n",
        "idx_rows = idx_ratings[:,0]\n",
        "idx_cols = idx_ratings[:,1]\n",
        "\n",
        "# Nuclear norm of the test set\n",
        "rank = np.linalg.matrix_rank(X_test)\n",
        "U_thin, s_thin, Vh_thin = sparse.linalg.svds(X_test, k = rank, which='LM')\n",
        "nuc_norm = s_thin.sum()\n",
        "\n",
        "# Print some info about the generated data\n",
        "print('Nuclear norm:', nuc_norm)\n",
        "print('Data shape:', np.shape(X_test))\n",
        "print('Number of observed values:', len(idx_rows))\n",
        "print('Rank of the matrix:', rank)\n",
        "print('Minimum and maximum values:', X_test.max(), X_test.min())"
      ],
      "metadata": {
        "pycharm": {
          "name": "#%%\n"
        },
        "colab": {
          "base_uri": "https://localhost:8080/"
        },
        "id": "LUkkHOaGg9Kt",
        "outputId": "580d2a22-678d-4d8a-9910-4bae08cbdaac"
      }
    },
    {
      "cell_type": "code",
      "execution_count": 8,
      "outputs": [
        {
          "output_type": "stream",
          "name": "stdout",
          "text": [
            "Iteration: 0 Loss: 2.777380502212665 Loss diff: 2.2454992755150096 Rank(Z):  1\n",
            "Iteration: 1 Loss: 2.264817636809561 Loss diff: 0.5125628654031043 Rank(Z):  2\n",
            "Iteration: 50 Loss: 0.028589160938894333 Loss diff: 0.002210598395254615 Rank(Z):  51\n",
            "Iteration: 100 Loss: 0.010238898289203411 Loss diff: 2.8960552496846634e-05 Rank(Z):  101\n",
            "Iteration: 150 Loss: 0.006742009000882747 Loss diff: 0.0004625753975536148 Rank(Z):  151\n",
            "Iteration: 200 Loss: 0.005288882821858045 Loss diff: 2.826200771767571e-05 Rank(Z):  200\n",
            "Iteration: 250 Loss: 0.003927015796825079 Loss diff: 4.2309275575965616e-05 Rank(Z):  200\n",
            "CPU times: user 1.9 s, sys: 647 ms, total: 2.55 s\n",
            "Wall time: 1.87 s\n"
          ]
        }
      ],
      "source": [
        "%time pred_ratings_reg, loss_reg, loss_track_reg = FrankWolfe(X_test, FW_objective_function, delta = 4, max_iter=1000, patience=1e-7)"
      ],
      "metadata": {
        "pycharm": {
          "name": "#%%\n"
        },
        "colab": {
          "base_uri": "https://localhost:8080/"
        },
        "id": "W_GBUCHbg9Kv",
        "outputId": "b73368be-d0b8-421d-f2c8-5adc5ecaec96"
      }
    },
    {
      "cell_type": "code",
      "execution_count": 9,
      "outputs": [
        {
          "output_type": "display_data",
          "data": {
            "text/plain": [
              "<Figure size 432x288 with 1 Axes>"
            ],
            "image/png": "[encoded data removed]"
          },
          "metadata": {
            "needs_background": "light"
          }
        }
      ],
      "source": [
        "plt.plot(np.log10(loss_track_reg))\n",
        "\n",
        "plt.show()"
      ],
      "metadata": {
        "pycharm": {
          "name": "#%%\n"
        },
        "colab": {
          "base_uri": "https://localhost:8080/",
          "height": 265
        },
        "id": "6wkgai8Kg9Kv",
        "outputId": "350c310c-bd91-4ddc-fcbc-9e35c51ee5d9"
      }
    },
    {
      "cell_type": "code",
      "execution_count": 28,
      "outputs": [
        {
          "output_type": "stream",
          "name": "stdout",
          "text": [
            "Initial Zk Rank:  1\n",
            "Iteration: 1 Loss: 969.864333118242 Loss diff: 282.30566442678867 Rank(Z):  1\n",
            "Iteration: 5 Loss: 9.554280214804535 Loss diff: 143.54326758371553 Rank(Z):  5\n",
            "Iteration: 10 Loss: 22.047094899101715 Loss diff: 14.30104680936071 Rank(Z):  10\n",
            "Iteration: 15 Loss: 2.788770694405981 Loss diff: 10.994273455486853 Rank(Z):  15\n",
            "Iteration: 20 Loss: 5.444998410830586 Loss diff: 3.273253387698598 Rank(Z):  20\n",
            "Iteration: 25 Loss: 1.6410892564053836 Loss diff: 1.86767871380547 Rank(Z):  25\n",
            "Iteration: 30 Loss: 2.1216164463257163 Loss diff: 0.7082646946529294 Rank(Z):  30\n",
            "Iteration: 35 Loss: 1.173956295894338 Loss diff: 0.458336215109143 Rank(Z):  31\n",
            "Iteration: 40 Loss: 1.1907822114283286 Loss diff: 0.13247875207780258 Rank(Z):  32\n",
            "Iteration: 45 Loss: 0.9270545377237498 Loss diff: 0.07710813458737986 Rank(Z):  33\n",
            "Iteration: 50 Loss: 0.8134372126375335 Loss diff: 0.04590407179871914 Rank(Z):  34\n",
            "Iteration: 55 Loss: 0.7782312133680512 Loss diff: 0.05433926768588637 Rank(Z):  35\n",
            "Iteration: 60 Loss: 0.6247650038926611 Loss diff: 0.10947463805174218 Rank(Z):  36\n",
            "Iteration: 65 Loss: 0.6791703039986381 Loss diff: 0.10433361390921869 Rank(Z):  37\n",
            "Iteration: 70 Loss: 0.5163474854883816 Loss diff: 0.13165074316877123 Rank(Z):  38\n",
            "Iteration: 75 Loss: 0.6073352730649373 Loss diff: 0.1219873874090529 Rank(Z):  39\n",
            "Iteration: 80 Loss: 0.4474369617435209 Loss diff: 0.13583077872958993 Rank(Z):  39\n",
            "Iteration: 85 Loss: 0.5501601258686557 Loss diff: 0.12366072016752039 Rank(Z):  40\n",
            "Iteration: 90 Loss: 0.39977976516235925 Loss diff: 0.12933460451252 Rank(Z):  42\n",
            "Iteration: 95 Loss: 0.4971149900093078 Loss diff: 0.11295323220401704 Rank(Z):  43\n",
            "Iteration: 100 Loss: 0.36256524764187026 Loss diff: 0.11213559571565895 Rank(Z):  44\n",
            "Iteration: 105 Loss: 0.44138807961187954 Loss diff: 0.09231155750402564 Rank(Z):  46\n",
            "Iteration: 110 Loss: 0.33073477922039674 Loss diff: 0.09038100938498977 Rank(Z):  48\n",
            "Iteration: 115 Loss: 0.39426401764753577 Loss diff: 0.0743694228014396 Rank(Z):  49\n",
            "Iteration: 120 Loss: 0.3055293759913369 Loss diff: 0.07294623169591219 Rank(Z):  50\n",
            "Iteration: 125 Loss: 0.3574221344001187 Loss diff: 0.06036427385647353 Rank(Z):  51\n",
            "Iteration: 130 Loss: 0.28575993198330685 Loss diff: 0.059122951187389305 Rank(Z):  52\n",
            "Iteration: 135 Loss: 0.32799095480965706 Loss diff: 0.04894605726086182 Rank(Z):  53\n",
            "Iteration: 140 Loss: 0.27001818992332405 Loss diff: 0.04784078337921421 Rank(Z):  53\n",
            "Iteration: 145 Loss: 0.3041340795578993 Loss diff: 0.0395306243916963 Rank(Z):  54\n",
            "Iteration: 150 Loss: 0.2572346818647003 Loss diff: 0.038613563722258104 Rank(Z):  55\n",
            "Iteration: 155 Loss: 0.2845307761824509 Loss diff: 0.0317898123586387 Rank(Z):  55\n",
            "Iteration: 160 Loss: 0.2464946753721156 Loss diff: 0.031137685441646468 Rank(Z):  56\n",
            "Iteration: 165 Loss: 0.22968915102831128 Loss diff: 0.001087690842060951 Rank(Z):  59\n",
            "Iteration: 170 Loss: 0.2276788446176059 Loss diff: 0.00880861004423622 Rank(Z):  64\n",
            "Iteration: 175 Loss: 0.2120658999293253 Loss diff: 0.01795182902501849 Rank(Z):  68\n",
            "Iteration: 180 Loss: 0.20341408022436092 Loss diff: 0.00043788607538192137 Rank(Z):  73\n",
            "Iteration: 185 Loss: 0.198990268153311 Loss diff: 0.009422730109565874 Rank(Z):  78\n",
            "Iteration: 190 Loss: 0.2173615746363302 Loss diff: 0.019124024666955036 Rank(Z):  83\n",
            "Iteration: 195 Loss: 0.17351025355356486 Loss diff: 0.02581473341107618 Rank(Z):  88\n",
            "Iteration: 200 Loss: 0.14523200532606229 Loss diff: 0.005693043622878341 Rank(Z):  92\n",
            "Iteration: 205 Loss: 0.15314747519637467 Loss diff: 0.01068439810509908 Rank(Z):  97\n",
            "Iteration: 210 Loss: 0.14110481953752835 Loss diff: 0.01637435637578194 Rank(Z):  102\n",
            "Iteration: 215 Loss: 0.16437289591263898 Loss diff: 0.023027391668594438 Rank(Z):  107\n",
            "Iteration: 220 Loss: 0.10757098001743653 Loss diff: 0.0061780004315449555 Rank(Z):  112\n",
            "Iteration: 225 Loss: 0.09795740165444586 Loss diff: 0.008433858864901486 Rank(Z):  117\n",
            "Iteration: 230 Loss: 0.10600067236580689 Loss diff: 0.009705722704716896 Rank(Z):  121\n",
            "Iteration: 235 Loss: 0.0956553827945899 Loss diff: 0.011062453162831776 Rank(Z):  126\n",
            "Iteration: 240 Loss: 0.10900008769171969 Loss diff: 0.012766696228610153 Rank(Z):  129\n",
            "Iteration: 245 Loss: 0.09830356257765885 Loss diff: 0.012879033503910384 Rank(Z):  130\n",
            "Iteration: 250 Loss: 0.11523376529521856 Loss diff: 0.0148899806455087 Rank(Z):  131\n",
            "Went to lower dim face: 3\n",
            "Stayed: 3\n",
            "Regular: 242\n",
            "Not entered if: 2\n",
            "in_border: 0\n",
            "Inside ball: 249\n",
            "Outside ball: 1\n",
            "CPU times: user 35.2 s, sys: 32.9 s, total: 1min 8s\n",
            "Wall time: 38.1 s\n"
          ]
        }
      ],
      "source": [
        "%time pred_ratings_inface, loss_inface, loss_track_inface = FW_inface(X_test, FW_objective_function, gamma1 = 0, gamma2 = 0, delta = 50, THRES = 10, max_iter = 250, patience = 1e-7, printing=True)"
      ],
      "metadata": {
        "pycharm": {
          "name": "#%%\n"
        },
        "colab": {
          "base_uri": "https://localhost:8080/"
        },
        "id": "fngVix0Mg9Kw",
        "outputId": "35eda852-db4c-4447-da9d-335abadaa569"
      }
    },
    {
      "cell_type": "code",
      "execution_count": 29,
      "outputs": [
        {
          "output_type": "display_data",
          "data": {
            "text/plain": [
              "<Figure size 432x288 with 1 Axes>"
            ],
            "image/png": "[encoded data removed]"
          },
          "metadata": {
            "needs_background": "light"
          }
        }
      ],
      "source": [
        "plt.plot(np.log10(loss_track_inface))\n",
        "plt.show()"
      ],
      "metadata": {
        "pycharm": {
          "name": "#%%\n"
        },
        "colab": {
          "base_uri": "https://localhost:8080/",
          "height": 265
        },
        "id": "OiHllKbPg9Kw",
        "outputId": "1ccf75fc-9926-4497-de6e-d6351858e25a"
      }
    },
    {
      "cell_type": "code",
      "execution_count": 30,
      "outputs": [
        {
          "output_type": "display_data",
          "data": {
            "text/plain": [
              "<Figure size 432x288 with 1 Axes>"
            ],
            "image/png": "[encoded data removed]"
          },
          "metadata": {
            "needs_background": "light"
          }
        }
      ],
      "source": [
        "import matplotlib.pyplot as plt\n",
        "\n",
        "plt.plot(np.log10(loss_track_reg), label = 'Frank Wolfe')\n",
        "plt.plot(np.log10(loss_track_inface), label = 'In-Face Frank Wolfe')\n",
        "plt.legend()\n",
        "plt.show()"
      ],
      "metadata": {
        "pycharm": {
          "name": "#%%\n"
        },
        "colab": {
          "base_uri": "https://localhost:8080/",
          "height": 265
        },
        "id": "SlwkkoMhg9Kx",
        "outputId": "9e517d1a-69fd-4fa9-ea6e-d29b7addc962"
      }
    },
    {
      "cell_type": "markdown",
      "source": [
        "# Tuned Model\n",
        "\n"
      ],
      "metadata": {
        "collapsed": false,
        "id": "1fDMKs3qg9Ky"
      }
    },
    {
      "cell_type": "markdown",
      "metadata": {
        "id": "x0manG1buepT"
      },
      "source": [
        "# Grid Searching"
      ]
    },
    {
      "cell_type": "markdown",
      "metadata": {
        "id": "Y_MUb9nrwJyA"
      },
      "source": [
        "##Delta"
      ]
    },
    {
      "cell_type": "code",
      "execution_count": null,
      "metadata": {
        "colab": {
          "base_uri": "https://localhost:8080/"
        },
        "id": "QUZGgSUsudah",
        "outputId": "bd7fb5f1-3a5b-4467-e5cc-23f3784569fe"
      },
      "outputs": [
        {
          "name": "stdout",
          "output_type": "stream",
          "text": [
            "Delta: 0.001    ------     Final Loss: 1995299.6906607011   at iteration 2\n",
            "Delta: 0.01    ------     Final Loss: 1995296.9066038157   at iteration 2\n",
            "Delta: 0.1    ------     Final Loss: 1995269.065718345   at iteration 2\n",
            "Delta: 1    ------     Final Loss: 1994990.6592616318   at iteration 4\n",
            "Delta: 10    ------     Final Loss: 1992207.8429168023   at iteration 19\n",
            "Delta: 100    ------     Final Loss: 1964496.978598407   at iteration 84\n",
            "Delta: 1000    ------     Final Loss: 1699162.6623283497   at iteration 201\n",
            "Delta: 10000    ------     Final Loss: 302150.77467486466   at iteration 64\n",
            "Delta: 100000    ------     Final Loss: 175474.63085276185   at iteration 70\n",
            "Delta: 1000000    ------     Final Loss: 146671.28662048402   at iteration 201\n",
            "Delta: 10000000    ------     Final Loss: 672843.1813172555   at iteration 201\n",
            "Delta: 100000000    ------     Final Loss: 1757112480.4694064   at iteration 201\n"
          ]
        }
      ],
      "source": [
        "deltas = [0.001, 0.01, 0.1, 1, 10, 100, 1000, 10000, 100000, 1000000, 10000000, 100000000]\n",
        "\n",
        "for delta in deltas:\n",
        "  pred_ratings, loss, it = FW_inface(new_data, FW_objective_function, delta = delta, max_iter=201, patience = 0.01, printing = False)\n",
        "  print('Delta: ' + str(delta) + '    ------     Final Loss: ' + str(loss) + '   at iteration ' + str(it))"
      ]
    },
    {
      "cell_type": "code",
      "execution_count": null,
      "metadata": {
        "colab": {
          "base_uri": "https://localhost:8080/"
        },
        "id": "--BkRQqIxmSw",
        "outputId": "f9c17983-9fb7-40c8-dc83-c9d8c099cf3e"
      },
      "outputs": [
        {
          "name": "stdout",
          "output_type": "stream",
          "text": [
            "Delta: 250000    ------     Final Loss: 184966.58801373874   at iteration 142\n",
            "Delta: 500000    ------     Final Loss: 169552.51866399613   at iteration 201\n",
            "Delta: 750000    ------     Final Loss: 420615.6132565984   at iteration 201\n",
            "Delta: 1250000    ------     Final Loss: 216412.31880627264   at iteration 201\n",
            "Delta: 1500000    ------     Final Loss: 273680.42343568715   at iteration 201\n",
            "Delta: 2500000    ------     Final Loss: 417712.4612960932   at iteration 201\n",
            "Delta: 5000000    ------     Final Loss: 571545.4612269908   at iteration 201\n",
            "Delta: 7500000    ------     Final Loss: 632556.1542439449   at iteration 201\n"
          ]
        }
      ],
      "source": [
        "deltas = [250000,\n",
        "          500000,\n",
        "          750000,\n",
        "          1250000,\n",
        "          1500000,\n",
        "          2500000,\n",
        "          5000000,\n",
        "          7500000]\n",
        "\n",
        "for delta in deltas:\n",
        "  pred_ratings, loss, it = FW_inface(new_data, FW_objective_function, delta = delta, max_iter=201, patience = 0.01, printing = False)\n",
        "  print('Delta: ' + str(delta) + '    ------     Final Loss: ' + str(loss) + '   at iteration ' + str(it))"
      ]
    },
    {
      "cell_type": "code",
      "execution_count": null,
      "metadata": {
        "colab": {
          "base_uri": "https://localhost:8080/"
        },
        "id": "M5Xei-9Gy3hh",
        "outputId": "47a9fd59-b0a5-4bca-ab08-992677a90c73"
      },
      "outputs": [
        {
          "name": "stdout",
          "output_type": "stream",
          "text": [
            "Delta: 150000    ------     Final Loss: 180502.69121015765   at iteration 95\n",
            "Delta: 300000    ------     Final Loss: 186151.14181067253   at iteration 165\n",
            "Delta: 450000    ------     Final Loss: 188191.3045520871   at iteration 231\n",
            "Delta: 600000    ------     Final Loss: 189243.6150128576   at iteration 297\n",
            "Delta: 900000    ------     Final Loss: 190318.32554160611   at iteration 425\n",
            "Delta: 1200000    ------     Final Loss: 189679.94593613478   at iteration 501\n",
            "Delta: 1500000    ------     Final Loss: 149600.4326080835   at iteration 501\n"
          ]
        }
      ],
      "source": [
        "deltas = [150000,\n",
        "          300000,\n",
        "          450000,\n",
        "          600000,\n",
        "          900000,\n",
        "          1200000,\n",
        "          1500000]\n",
        "\n",
        "for delta in deltas:\n",
        "  pred_ratings, loss, it = FW_inface(new_data, FW_objective_function, delta = delta, max_iter=501, patience = 0.01, printing = False)\n",
        "  print('Delta: ' + str(delta) + '    ------     Final Loss: ' + str(loss) + '   at iteration ' + str(it))"
      ]
    },
    {
      "cell_type": "code",
      "execution_count": null,
      "metadata": {
        "colab": {
          "base_uri": "https://localhost:8080/"
        },
        "id": "2W5PqtaH0eZu",
        "outputId": "c519e67f-c98e-4186-a5a2-8d0d6a031872"
      },
      "outputs": [
        {
          "name": "stdout",
          "output_type": "stream",
          "text": [
            "Delta: 1750000    ------     Final Loss: 191384.43819455765   at iteration 786\n",
            "Delta: 2000000    ------     Final Loss: 191527.2106760225   at iteration 889\n",
            "Delta: 2250000    ------     Final Loss: 191638.53051798942   at iteration 991\n"
          ]
        }
      ],
      "source": [
        "deltas = [1750000,\n",
        "          2000000,\n",
        "          2250000]\n",
        "\n",
        "for delta in deltas:\n",
        "  pred_ratings, loss, it = FW_inface(new_data, FW_objective_function, delta = delta, max_iter = 1000, patience = 0.001, printing = False)\n",
        "  print('Delta: ' + str(delta) + '    ------     Final Loss: ' + str(loss) + '   at iteration ' + str(it))"
      ]
    },
    {
      "cell_type": "code",
      "execution_count": null,
      "metadata": {
        "colab": {
          "base_uri": "https://localhost:8080/"
        },
        "id": "MkpvJqQi2YxJ",
        "outputId": "c4eeadcf-f4a5-4873-94aa-33a40b766bd6"
      },
      "outputs": [
        {
          "name": "stdout",
          "output_type": "stream",
          "text": [
            "Delta: 1375000    ------     Final Loss: 191074.29727334835   at iteration 630\n",
            "Delta: 1500000    ------     Final Loss: 191194.6863524153   at iteration 682\n",
            "Delta: 1625000    ------     Final Loss: 191296.77299220837   at iteration 734\n"
          ]
        }
      ],
      "source": [
        "deltas = [1375000,\n",
        "          1500000,\n",
        "          1625000]\n",
        "\n",
        "for delta in deltas:\n",
        "  pred_ratings, loss, it = FW_inface(new_data, FW_objective_function, delta = delta, max_iter = 1000, patience = 0.001, printing = False)\n",
        "  print('Delta: ' + str(delta) + '    ------     Final Loss: ' + str(loss) + '   at iteration ' + str(it))"
      ]
    },
    {
      "cell_type": "markdown",
      "metadata": {
        "id": "PO5uv6UZ33wJ"
      },
      "source": [
        "## Gammas"
      ]
    },
    {
      "cell_type": "code",
      "execution_count": null,
      "metadata": {
        "colab": {
          "base_uri": "https://localhost:8080/"
        },
        "id": "45FR0xoX323p",
        "outputId": "51369768-d4dc-4455-f573-83822546ef54"
      },
      "outputs": [
        {
          "name": "stdout",
          "output_type": "stream",
          "text": [
            "Gamma1: 0   Gamma2: 0.1    ------     Final Loss: 335449.4737096828   at iteration 500\n",
            "Gamma1: 0   Gamma2: 1    ------     Final Loss: 335449.4737096833   at iteration 500\n",
            "Gamma1: 0.1   Gamma2: 1    ------     Final Loss: 149460.45148459333   at iteration 500\n",
            "Gamma1: 1   Gamma2: 1    ------     Final Loss: 149460.451484515   at iteration 500\n",
            "Gamma1: 1   Gamma2: 10    ------     Final Loss: 335449.47370968235   at iteration 500\n",
            "Gamma1: 1   Gamma2: 100    ------     Final Loss: 149460.4514845148   at iteration 500\n",
            "Gamma1: 10   Gamma2: 100    ------     Final Loss: 149460.451484515   at iteration 500\n"
          ]
        }
      ],
      "source": [
        "gammas = [[0,    0.1],\n",
        "          [0,    1],\n",
        "          [0.1,  1],\n",
        "          [1,    1],\n",
        "          [1,   10],\n",
        "          [1,  100],\n",
        "          [10, 100]]\n",
        "\n",
        "for gamma1, gamma2 in gammas:\n",
        "  pred_ratings, loss, it = FW_inface(new_data, FW_objective_function, gamma1 = gamma1, gamma2 = gamma2, delta = 1500000, max_iter = 500, patience = 0.001, printing = False)\n",
        "  print('Gamma1: ' + str(gamma1) + '   Gamma2: ' + str(gamma2) + '    ------     Final Loss: ' + str(loss) + '   at iteration ' + str(it))"
      ]
    },
    {
      "cell_type": "code",
      "execution_count": null,
      "metadata": {
        "colab": {
          "base_uri": "https://localhost:8080/"
        },
        "id": "EOD4CGHO884Z",
        "outputId": "f4ddeb2d-b605-4c9c-fab8-d096648bc3e6"
      },
      "outputs": [
        {
          "name": "stdout",
          "output_type": "stream",
          "text": [
            "Gamma1: 1   Gamma2: 100    ------     Final Loss: 149460.45148459318   at iteration 500\n",
            "Gamma1: 100   Gamma2: 100    ------     Final Loss: 149460.45148451466   at iteration 500\n",
            "Gamma1: 0.1   Gamma2: 100    ------     Final Loss: 149460.4514845149   at iteration 500\n",
            "Gamma1: 1   Gamma2: 1000    ------     Final Loss: 335449.4737115356   at iteration 500\n"
          ]
        }
      ],
      "source": [
        "gammas = [[1,  100],\n",
        "          [100, 100],\n",
        "          [0.1,  100],\n",
        "          [1,    1000]]\n",
        "\n",
        "for gamma1, gamma2 in gammas:\n",
        "  pred_ratings, loss, it = FW_inface(new_data, FW_objective_function, gamma1 = gamma1, gamma2 = gamma2, delta = 1500000, max_iter = 500, patience = 0.001, printing = False)\n",
        "  print('Gamma1: ' + str(gamma1) + '   Gamma2: ' + str(gamma2) + '    ------     Final Loss: ' + str(loss) + '   at iteration ' + str(it))"
      ]
    },
    {
      "cell_type": "code",
      "execution_count": null,
      "metadata": {
        "colab": {
          "base_uri": "https://localhost:8080/"
        },
        "id": "oMpXvq5S-ZvP",
        "outputId": "ac623233-b516-433e-a7f7-041981b1ed94"
      },
      "outputs": [
        {
          "name": "stdout",
          "output_type": "stream",
          "text": [
            "Gamma1: 0   Gamma2: 100    ------     Final Loss: 335449.47371153446   at iteration 500\n",
            "Gamma1: 0   Gamma2: 1000    ------     Final Loss: 149460.4514845933   at iteration 500\n",
            "Gamma1: 0.1   Gamma2: 0.1    ------     Final Loss: 149460.45148451495   at iteration 500\n"
          ]
        }
      ],
      "source": [
        "gammas = [[0,  100],\n",
        "          [0, 1000],\n",
        "          [0.1,  0.1]]\n",
        "\n",
        "for gamma1, gamma2 in gammas:\n",
        "  pred_ratings, loss, it = FW_inface(new_data, FW_objective_function, gamma1 = gamma1, gamma2 = gamma2, delta = 1500000, max_iter = 500, patience = 0.001, printing = False)\n",
        "  print('Gamma1: ' + str(gamma1) + '   Gamma2: ' + str(gamma2) + '    ------     Final Loss: ' + str(loss) + '   at iteration ' + str(it))"
      ]
    },
    {
      "cell_type": "markdown",
      "metadata": {
        "id": "cpS5jRz4vpHa"
      },
      "source": [
        "## Sub-Chapter"
      ]
    }
  ],
  "metadata": {
    "colab": {
      "collapsed_sections": [],
      "name": "FW_matrix_completition.ipynb",
      "provenance": [],
      "toc_visible": true
    },
    "kernelspec": {
      "display_name": "Python 3",
      "language": "python",
      "name": "python3"
    },
    "language_info": {
      "codemirror_mode": {
        "name": "ipython",
        "version": 3
      },
      "file_extension": ".py",
      "mimetype": "text/x-python",
      "name": "python",
      "nbconvert_exporter": "python",
      "pygments_lexer": "ipython3",
      "version": "3.8.10"
    }
  },
  "nbformat": 4,
  "nbformat_minor": 0
}