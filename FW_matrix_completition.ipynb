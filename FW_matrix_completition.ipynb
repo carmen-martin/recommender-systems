{
 "cells": [
  {
   "cell_type": "code",
   "execution_count": 1,
   "outputs": [],
   "source": [
    "# Imports\n",
    "from scipy import sparse\n",
    "import scipy\n",
    "import numpy as np\n",
    "from scipy import stats\n",
    "import matplotlib.pyplot as plt\n",
    "import time\n",
    "from numpy import linalg as LA"
   ],
   "metadata": {
    "collapsed": false,
    "pycharm": {
     "name": "#%%\n"
    }
   }
  },
  {
   "cell_type": "markdown",
   "source": [
    "# Frank-Wolfe - standard algorithm"
   ],
   "metadata": {
    "collapsed": false
   }
  },
  {
   "cell_type": "code",
   "execution_count": 2,
   "metadata": {
    "id": "kobsOmgimqL_",
    "jupyter": {
     "outputs_hidden": false
    },
    "pycharm": {
     "name": "#%%\n"
    }
   },
   "outputs": [],
   "source": [
    "# FW objective function\n",
    "def FW_objective_function(diff_vec):\n",
    "    return 0.5*(np.power(diff_vec,2).sum())\n",
    "\n",
    "# Regular FW algorithm\n",
    "def FrankWolfe(X, objective_function, delta, empties = 0, printing_res = True, Z_init = None, max_iter = 150, patience = 1e-3):\n",
    "    '''\n",
    "    :param X: sparse matrix with ratings and 'empty values', rows - users, columns - books.\n",
    "    :param objective_function: objective function that we would like to minimize with FW\n",
    "    :param delta: Radius of the feasible's set ball\n",
    "    :param empties (optional): Empty values of X are zeros (0) or NaN ('nan'). Default = 0\n",
    "    :param Z_init (optional): In case we want to initialize Z with a known matrix, if not given Z_init will be a zeros matrix. Default = None.\n",
    "    :param max_iter (optional): max number of iterations for the method. Default = 150.\n",
    "    :param patience (optional): once reached this tolerance provide the result. Default = 1e-3.\n",
    "    :return: Z: matrix of predicted ratings - it should be like X but with no 'empty values'\n",
    "    :return: accuracy: difference between original values (X) and predicted ones (Z)\n",
    "    '''\n",
    "\n",
    "    # Get X indexes for not empty values\n",
    "    if empties == 0:\n",
    "        idx_ratings = np.argwhere(X != 0)\n",
    "    elif empties == 'nan':\n",
    "        idx_ratings = np.argwhere(~np.isnan(X))\n",
    "    else:\n",
    "        return print('Error: Empties argument', empties, 'not valid.')\n",
    "\n",
    "    idx_rows = idx_ratings[:,0]\n",
    "    idx_cols = idx_ratings[:,1]\n",
    "\n",
    "    # Initialize Z\n",
    "    if Z_init == 'random uniform':\n",
    "        Z = np.random.uniform(low = 0.01, high = 1, size = X.shape)\n",
    "    elif Z_init is not None:\n",
    "        Z = Z_init\n",
    "    else:\n",
    "        Z = np.zeros(X.shape)\n",
    "\n",
    "    # Create vectors with the not empty features of the sparse matrix\n",
    "    X_rated = X[idx_rows, idx_cols]\n",
    "    Z_rated = Z[idx_rows, idx_cols]\n",
    "    diff_vec = np.array(Z_rated - X_rated)[0]\n",
    "\n",
    "    # Create needed variables\n",
    "    res_list = []\n",
    "    diff_loss = patience + 1\n",
    "    loss = objective_function(diff_vec)\n",
    "    it = 0\n",
    "    while (diff_loss > patience) and (it < max_iter):\n",
    "\n",
    "        # Gradient\n",
    "        grad = sparse.csr_matrix((diff_vec, (idx_rows, idx_cols)))\n",
    "\n",
    "        # SVD - Compute k = 1 singular values and its vectors, starting from the largest (which = 'LM')\n",
    "        u_max, s_max, v_max = sparse.linalg.svds(grad, k = 1, which='LM')   #\n",
    "\n",
    "        # Update\n",
    "        Zk_tilde = -delta*np.outer(u_max,v_max)\n",
    "\n",
    "        alpha_k = 2/(it+2) #alpha - as studied in class\n",
    "        Z = (1-alpha_k)*Z + alpha_k*Zk_tilde\n",
    "\n",
    "        # Loss\n",
    "        diff_vec = np.array(Z[idx_rows, idx_cols] - X_rated)[0]\n",
    "        new_loss = objective_function(diff_vec)\n",
    "\n",
    "        # Improvement at this iteration\n",
    "        diff_loss = np.abs(loss - new_loss)\n",
    "        loss = new_loss\n",
    "\n",
    "        if printing_res == True:\n",
    "            if it == 1 or it % 10 == 0:\n",
    "                print('Iteration:', it, 'Loss:', loss, 'Loss diff:', diff_loss, 'Rank(Z): ', np.linalg.matrix_rank(Z))\n",
    "\n",
    "        # Count iteration\n",
    "        it += 1\n",
    "\n",
    "        res_list.append(loss)\n",
    "        \n",
    "    return Z, loss, res_list"
   ]
  },
  {
   "cell_type": "markdown",
   "metadata": {
    "id": "6y-VOlLMvfq8"
   },
   "source": [
    "# Frank-Wolfe In-face"
   ]
  },
  {
   "cell_type": "code",
   "execution_count": 3,
   "outputs": [],
   "source": [
    "time_out = time.process_time() + 5"
   ],
   "metadata": {
    "collapsed": false,
    "pycharm": {
     "name": "#%%\n"
    }
   }
  },
  {
   "cell_type": "code",
   "execution_count": 4,
   "outputs": [],
   "source": [
    "# Binary search for alpha stop\n",
    "def alpha_binary_search(Zk, Dk, delta, max_value = 1, min_value = 0, tol = 0.3):\n",
    "\n",
    "    #Inizialization\n",
    "\n",
    "    best_alpha = (max_value - min_value) / 2\n",
    "\n",
    "    testing_matrix = Zk + best_alpha * Dk\n",
    "\n",
    "    sentinel = False\n",
    "\n",
    "    while time.process_time() <= time_out:\n",
    "\n",
    "      testing_mat_nuclear_norm = LA.norm(testing_matrix, ord = 'nuc')\n",
    "\n",
    "      sentinel = True\n",
    "\n",
    "    #Binary Search\n",
    "\n",
    "    if sentinel == True:\n",
    "\n",
    "      while testing_mat_nuclear_norm <= delta and (max_value - min_value) >= tol and time.process_time() <= time_out:\n",
    "\n",
    "          min_value = best_alpha\n",
    "\n",
    "          best_alpha = (max_value - min_value) / 2\n",
    "\n",
    "          testing_matrix = Zk + best_alpha * Dk\n",
    "\n",
    "          testing_mat_nuclear_norm = LA.norm(testing_matrix, ord = 'nuc')\n",
    "\n",
    "    return best_alpha"
   ],
   "metadata": {
    "collapsed": false,
    "pycharm": {
     "name": "#%%\n"
    }
   }
  },
  {
   "cell_type": "code",
   "execution_count": 27,
   "outputs": [],
   "source": [
    "def FW_inface(X, objective_function, delta, L = 1, D = None, gamma1 = 0, gamma2 = 1, THRES = 0.001, empties = 0, max_iter=150, patience=1e-3, printing = True):\n",
    "    '''\n",
    "    :param X: sparse matrix with ratings and 'empty values', rows - users, columns - books.\n",
    "    :param objective_function: objective function that we would like to minimize with FW.\n",
    "    :param delta: Radius of the feasible's set ball\n",
    "    :param L: must be greater than 1\n",
    "    :param D: if not inputed = 2*delta\n",
    "    :param gamma1:\n",
    "    :param gamma2:\n",
    "    :param THRES:\n",
    "    :param empties (optional): Empty values of X are zeros (0) or NaN ('nan'). Default = 0\n",
    "    :param max_iter: max number of iterations for the method.\n",
    "    :param patience: once reached this tolerance provide the result.\n",
    "    :return: Z: matrix of predicted ratings - it should be like X but with no 'empty values'\n",
    "            loss: difference between original values (X) and predicted ones (Z).\n",
    "    '''\n",
    "\n",
    "    # Get X indexes for not empty values\n",
    "    if empties == 0:\n",
    "        idx_ratings = np.argwhere(X != 0)\n",
    "    elif empties == 'nan':\n",
    "        idx_ratings = np.argwhere(~np.isnan(X))\n",
    "    else:\n",
    "        return print('Empties argument', empties, 'not valid.')\n",
    "\n",
    "    idx_rows = idx_ratings[:,0]\n",
    "    idx_cols = idx_ratings[:,1]\n",
    "\n",
    "    # Initialize Z_{-1}\n",
    "    Z_1 = np.zeros(X.shape)\n",
    "\n",
    "    # Create vectors with the not empty features of the sparse matrix\n",
    "    X_rated = X[idx_rows, idx_cols]\n",
    "    Z_rated = Z_1[idx_rows, idx_cols]\n",
    "    diff_vec_1 = np.array(Z_rated - X_rated)[0]\n",
    "\n",
    "    # Initial gradient and Z0\n",
    "    grad_1 = sparse.csr_matrix((diff_vec_1, (idx_rows, idx_cols)))\n",
    "    u_max, s_max, v_max = sparse.linalg.svds(grad_1, k = 1, which='LM')\n",
    "    Zk = -delta*np.outer(u_max,v_max)\n",
    "    Z_rated = Zk[idx_rows, idx_cols]\n",
    "\n",
    "    print('Initial Zk Rank: ', LA.matrix_rank(Zk))\n",
    "\n",
    "    # Initialize lower bound on the optimal objective function (f*)\n",
    "    diff_vec = np.array(Z_rated - X_rated)[0]\n",
    "    print(np.multiply(grad_1,Zk).sum())\n",
    "    new_low_bound = np.max((objective_function(diff_vec_1) + np.multiply(grad_1,Zk).sum()), 0)\n",
    "    #new_low_bound = 0 #used 0 otherwise the other new_low_bound was too high!\n",
    "    print(new_low_bound)\n",
    "    # Set D\n",
    "    if D is not None:\n",
    "        D = D\n",
    "    else:\n",
    "        D = 2*delta\n",
    "    print('After D')\n",
    "    rank_Z = LA.matrix_rank(Zk)   # rank of Zk to find thin SVD size\n",
    "\n",
    "    # Additional needed parameters\n",
    "    diff_loss = patience + 1\n",
    "    loss = objective_function(diff_vec)\n",
    "    it = 0\n",
    "    res_list = [loss]\n",
    "    not_in_ball=False\n",
    "\n",
    "    B_used = 0\n",
    "    A_used = 0\n",
    "    not_entered = 0\n",
    "    regularFW = 0\n",
    "\n",
    "    while (diff_loss > patience) and (it < max_iter):\n",
    "        print('entered while')\n",
    "\n",
    "        # Thin SVD\n",
    "        U_thin, s_thin, Vh_thin = sparse.linalg.svds(Zk, k = rank_Z, which='LM')   # Compute k = rank singular values\n",
    "\n",
    "        # Lower bound update\n",
    "        low_bound = new_low_bound\n",
    "\n",
    "        # Gradient\n",
    "        grad = sparse.csr_matrix((diff_vec, (idx_rows, idx_cols)))\n",
    "\n",
    "        # In-face direction with the away step strategy: two calculations depending of where Z lies within the feasible set\n",
    "        if s_thin.sum() == delta: # Z in border (sum of singular values == radius of feasible set)\n",
    "            print('Zk in border!')\n",
    "            G = 0.5 * (Vh_thin.dot(grad.T.dot(U_thin)) + U_thin.T.dot(grad.dot(Vh_thin.T)))\n",
    "            # Obtain unitary eigenvector corresponding to smallest eigenvalue of G\n",
    "            eigvalues, eigvectors = LA.eig(G)  #find the eigenvalues\n",
    "            min_eig = np.argmin(eigvalues)  #find the index of the smallest eigenvalue\n",
    "            u = eigvectors[:, min_eig]  #take the eigenvector corresponding to the smallest eigenvalue\n",
    "            print(np.shape(u), u)\n",
    "\n",
    "            # Update value\n",
    "            M = np.outer(u,u.T)\n",
    "            print(M)\n",
    "            Zk_tilde = delta*U_thin.dot(M.dot(Vh_thin))\n",
    "            Dk = Zk - Zk_tilde\n",
    "\n",
    "            inv_s_thin = np.diag(1/s_thin)\n",
    "            alpha_stop = 1/(delta*u.T.dot(inv_s_thin.dot(u))-1)\n",
    "\n",
    "        elif s_thin.sum() < delta: #inside\n",
    "\n",
    "            u_max, s_max, v_max = sparse.linalg.svds(grad, k = 1, which='LM')\n",
    "            Zk_tilde = delta*np.outer(u_max,v_max)\n",
    "            Dk = Zk - Zk_tilde\n",
    "            #BINARY SEARCH\n",
    "            '''\n",
    "            alpha_stop = alpha_binary_search(Zk,\n",
    "                                          Dk,\n",
    "                                          delta)\n",
    "            '''\n",
    "            alpha_stop = 0.5\n",
    "        else:\n",
    "            not_in_ball = True\n",
    "\n",
    "\n",
    "\n",
    "        nuclear_norm = s_thin.sum()\n",
    "        print('thres:', abs(delta - nuclear_norm))\n",
    "        print('rank', rank_Z)\n",
    "        # We check if Zk is inside the feasible set and the rank in order to decide which type steps to do\n",
    "        if rank_Z > 1 and not_in_ball==False:\n",
    "            Z_B = Zk + alpha_stop*Dk\n",
    "            diff_vec_B = np.array(Z_B[idx_rows, idx_cols] - X_rated)[0]\n",
    "            #print('obj_B', objective_function(diff_vec_B),', obj:', loss, ',low bound:', low_bound)\n",
    "            if 1/(objective_function(diff_vec_B)-low_bound) >= (1/(loss-low_bound)+gamma1/(2*L*D**2)):\n",
    "              # 1. Move to a lower dimensional face\n",
    "              print('Went to a lower-dimensional face')\n",
    "              B_used += 1\n",
    "              Zk = Z_B\n",
    "\n",
    "            else:\n",
    "                beta = alpha_stop/5 # FIND A GOOD VALUE -- a binary search is also suggested by the paper\n",
    "                Z_A = Zk + beta*Dk\n",
    "                diff_vec_A = np.array(Z_A[idx_rows, idx_cols] - X_rated)[0]\n",
    "                if 1/(objective_function(diff_vec_A)-low_bound) >= (1/(loss-low_bound)+gamma2/(2*L*D**2)):\n",
    "                    # 2. Stay in the current face\n",
    "                    print('Stayed in the current face')\n",
    "                    A_used += 1\n",
    "                    Zk = Z_A\n",
    "                else:\n",
    "                    # 3. Do a regular FW step and update the lower bound\n",
    "                    print('Do a regular FW step')\n",
    "                    regularFW += 1\n",
    "                    #Zk update\n",
    "                    u_max, s_max, v_max = sparse.linalg.svds(grad, k = 1, which='LM')\n",
    "                    Zk_tilde = -delta*np.outer(u_max,v_max)\n",
    "\n",
    "                    '''# Lower bound update\n",
    "                    B_w = loss + grad.T.dot(Zk_tilde - Zk)\n",
    "                    print(B_w, low_bound)\n",
    "                    new_low_bound = np.max(low_bound, B_w)'''\n",
    "\n",
    "                    direction_vec = Zk_tilde.flatten() - Zk.flatten()\n",
    "                    grad = grad.toarray()\n",
    "                    wolfe_gap = grad.T.flatten() * direction_vec\n",
    "                    B_w = loss + wolfe_gap.sum()\n",
    "\n",
    "                    #TRIED THIS INSTEAD\n",
    "                    if low_bound >= B_w:\n",
    "                        new_low_bound = low_bound\n",
    "                    else:\n",
    "                        new_low_bound = B_w\n",
    "\n",
    "                    # Z_(k+1)\n",
    "                    alpha_k = 2/(it+2)\n",
    "                    Zk = (1-alpha_k)*Zk + alpha_k*Zk_tilde\n",
    "\n",
    "        else:\n",
    "\n",
    "            # 3. Do a regular FW step and update the lower bound\n",
    "            print('Do a regular FW step - not entered initial if')\n",
    "            not_entered += 1\n",
    "            #Zk update\n",
    "            grad = sparse.csr_matrix((diff_vec, (idx_rows, idx_cols)))\n",
    "            u_max, s_max, v_max = sparse.linalg.svds(grad, k = 1, which='LM')\n",
    "            Zk_tilde = -delta*np.outer(u_max,v_max)\n",
    "\n",
    "            '''# Lower bound update\n",
    "            B_w = loss + grad.T.dot(Zk_tilde - Zk)\n",
    "            print(B_w, low_bound)\n",
    "            new_low_bound = np.max(low_bound, B_w)'''\n",
    "\n",
    "            direction_vec = Zk_tilde.flatten() - Zk.flatten()\n",
    "            grad = grad.toarray()\n",
    "            wolfe_gap = grad.T.flatten() * direction_vec\n",
    "            B_w = loss + wolfe_gap.sum()\n",
    "\n",
    "            #TRIED THIS INSTEAD\n",
    "            if low_bound >= B_w:\n",
    "                new_low_bound = low_bound\n",
    "            else:\n",
    "                new_low_bound = B_w\n",
    "\n",
    "            # Z_(k+1)\n",
    "            alpha_k = 2/(it+2)\n",
    "            Zk = (1-alpha_k)*Zk + alpha_k*Zk_tilde\n",
    "\n",
    "            not_in_ball=False\n",
    "\n",
    "        # Loss\n",
    "        diff_vec = np.array(Zk[idx_rows, idx_cols] - X_rated)[0]\n",
    "        new_loss = objective_function(diff_vec)\n",
    "\n",
    "        # Improvement at this iteration\n",
    "        diff_loss = np.abs(loss - new_loss)\n",
    "        loss = new_loss\n",
    "\n",
    "        rank_Z = LA.matrix_rank(Zk)   # rank of Zk to find thin SVD size\n",
    "\n",
    "        # Gradient\n",
    "        #grad = sparse.csr_matrix((diff_vec, (idx_rows, idx_cols)))\n",
    "\n",
    "        # Count iteration\n",
    "        it += 1\n",
    "\n",
    "        res_list.append(loss)\n",
    "\n",
    "        if printing == True:\n",
    "          if it % 10 == 0 or it == 1:\n",
    "            print('Iteration:', it, 'Loss:', loss, 'Loss diff:', diff_loss, 'Rank(Z): ', rank_Z)\n",
    "\n",
    "    print('Went to lower dim face:', B_used)\n",
    "    print('Stayed:', A_used)\n",
    "    print('Regular:', regularFW)\n",
    "    print('Not entered if:', not_entered)\n",
    "    return Zk, loss, res_list\n"
   ],
   "metadata": {
    "collapsed": false,
    "pycharm": {
     "name": "#%%\n"
    }
   }
  },
  {
   "cell_type": "code",
   "execution_count": 28,
   "outputs": [
    {
     "name": "stdout",
     "output_type": "stream",
     "text": [
      "Initial Zk Rank:  1\n"
     ]
    },
    {
     "ename": "KeyboardInterrupt",
     "evalue": "",
     "output_type": "error",
     "traceback": [
      "\u001B[1;31m---------------------------------------------------------------------------\u001B[0m",
      "\u001B[1;31mKeyboardInterrupt\u001B[0m                         Traceback (most recent call last)",
      "Input \u001B[1;32mIn [28]\u001B[0m, in \u001B[0;36m<cell line: 1>\u001B[1;34m()\u001B[0m\n\u001B[1;32m----> 1\u001B[0m pred_ratings, loss, res_listInFW \u001B[38;5;241m=\u001B[39m \u001B[43mFW_inface\u001B[49m\u001B[43m(\u001B[49m\u001B[43mX_test\u001B[49m\u001B[43m,\u001B[49m\u001B[43m \u001B[49m\u001B[43mFW_objective_function\u001B[49m\u001B[43m,\u001B[49m\u001B[43m \u001B[49m\u001B[43mgamma1\u001B[49m\u001B[43m \u001B[49m\u001B[38;5;241;43m=\u001B[39;49m\u001B[43m \u001B[49m\u001B[38;5;241;43m0.05\u001B[39;49m\u001B[43m,\u001B[49m\u001B[43m \u001B[49m\u001B[43mgamma2\u001B[49m\u001B[43m \u001B[49m\u001B[38;5;241;43m=\u001B[39;49m\u001B[43m \u001B[49m\u001B[38;5;241;43m0.15\u001B[39;49m\u001B[43m,\u001B[49m\u001B[43m \u001B[49m\u001B[43mdelta\u001B[49m\u001B[43m \u001B[49m\u001B[38;5;241;43m=\u001B[39;49m\u001B[43m \u001B[49m\u001B[38;5;241;43m4\u001B[39;49m\u001B[43m,\u001B[49m\u001B[43m \u001B[49m\u001B[43mTHRES\u001B[49m\u001B[43m \u001B[49m\u001B[38;5;241;43m=\u001B[39;49m\u001B[43m \u001B[49m\u001B[38;5;241;43m10\u001B[39;49m\u001B[43m,\u001B[49m\u001B[43m \u001B[49m\u001B[43mmax_iter\u001B[49m\u001B[43m \u001B[49m\u001B[38;5;241;43m=\u001B[39;49m\u001B[43m \u001B[49m\u001B[38;5;241;43m100\u001B[39;49m\u001B[43m,\u001B[49m\u001B[43m \u001B[49m\u001B[43mpatience\u001B[49m\u001B[43m \u001B[49m\u001B[38;5;241;43m=\u001B[39;49m\u001B[43m \u001B[49m\u001B[38;5;241;43m1e-7\u001B[39;49m\u001B[43m)\u001B[49m\n",
      "Input \u001B[1;32mIn [27]\u001B[0m, in \u001B[0;36mFW_inface\u001B[1;34m(X, objective_function, delta, L, D, gamma1, gamma2, THRES, empties, max_iter, patience, printing)\u001B[0m\n\u001B[0;32m     45\u001B[0m \u001B[38;5;66;03m# Initialize lower bound on the optimal objective function (f*)\u001B[39;00m\n\u001B[0;32m     46\u001B[0m diff_vec \u001B[38;5;241m=\u001B[39m np\u001B[38;5;241m.\u001B[39marray(Z_rated \u001B[38;5;241m-\u001B[39m X_rated)[\u001B[38;5;241m0\u001B[39m]\n\u001B[1;32m---> 47\u001B[0m \u001B[38;5;28mprint\u001B[39m(\u001B[43mnp\u001B[49m\u001B[38;5;241;43m.\u001B[39;49m\u001B[43mmultiply\u001B[49m\u001B[43m(\u001B[49m\u001B[43mgrad_1\u001B[49m\u001B[43m,\u001B[49m\u001B[43mZk\u001B[49m\u001B[43m)\u001B[49m\u001B[38;5;241m.\u001B[39msum())\n\u001B[0;32m     48\u001B[0m new_low_bound \u001B[38;5;241m=\u001B[39m np\u001B[38;5;241m.\u001B[39mmax((objective_function(diff_vec_1) \u001B[38;5;241m+\u001B[39m np\u001B[38;5;241m.\u001B[39mmultiply(grad_1,Zk)\u001B[38;5;241m.\u001B[39msum()), \u001B[38;5;241m0\u001B[39m)\n\u001B[0;32m     49\u001B[0m \u001B[38;5;66;03m#new_low_bound = 0 #used 0 otherwise the other new_low_bound was too high!\u001B[39;00m\n",
      "File \u001B[1;32m~\\AppData\\Local\\Programs\\Python\\Python39\\lib\\site-packages\\scipy\\sparse\\_base.py:583\u001B[0m, in \u001B[0;36mspmatrix.__mul__\u001B[1;34m(self, other)\u001B[0m\n\u001B[0;32m    582\u001B[0m \u001B[38;5;28;01mdef\u001B[39;00m \u001B[38;5;21m__mul__\u001B[39m(\u001B[38;5;28mself\u001B[39m, other):\n\u001B[1;32m--> 583\u001B[0m     \u001B[38;5;28;01mreturn\u001B[39;00m \u001B[38;5;28;43mself\u001B[39;49m\u001B[38;5;241;43m.\u001B[39;49m\u001B[43m_mul_dispatch\u001B[49m\u001B[43m(\u001B[49m\u001B[43mother\u001B[49m\u001B[43m)\u001B[49m\n",
      "File \u001B[1;32m~\\AppData\\Local\\Programs\\Python\\Python39\\lib\\site-packages\\scipy\\sparse\\_base.py:529\u001B[0m, in \u001B[0;36mspmatrix._mul_dispatch\u001B[1;34m(self, other)\u001B[0m\n\u001B[0;32m    525\u001B[0m         \u001B[38;5;28;01mreturn\u001B[39;00m \u001B[38;5;28mself\u001B[39m\u001B[38;5;241m.\u001B[39m_mul_multivector(other)\n\u001B[0;32m    527\u001B[0m \u001B[38;5;28;01mif\u001B[39;00m isscalarlike(other):\n\u001B[0;32m    528\u001B[0m     \u001B[38;5;66;03m# scalar value\u001B[39;00m\n\u001B[1;32m--> 529\u001B[0m     \u001B[38;5;28;01mreturn\u001B[39;00m \u001B[38;5;28;43mself\u001B[39;49m\u001B[38;5;241;43m.\u001B[39;49m\u001B[43m_mul_scalar\u001B[49m\u001B[43m(\u001B[49m\u001B[43mother\u001B[49m\u001B[43m)\u001B[49m\n\u001B[0;32m    531\u001B[0m \u001B[38;5;28;01mif\u001B[39;00m issparse(other):\n\u001B[0;32m    532\u001B[0m     \u001B[38;5;28;01mif\u001B[39;00m \u001B[38;5;28mself\u001B[39m\u001B[38;5;241m.\u001B[39mshape[\u001B[38;5;241m1\u001B[39m] \u001B[38;5;241m!=\u001B[39m other\u001B[38;5;241m.\u001B[39mshape[\u001B[38;5;241m0\u001B[39m]:\n",
      "File \u001B[1;32m~\\AppData\\Local\\Programs\\Python\\Python39\\lib\\site-packages\\scipy\\sparse\\_data.py:124\u001B[0m, in \u001B[0;36m_data_matrix._mul_scalar\u001B[1;34m(self, other)\u001B[0m\n\u001B[0;32m    123\u001B[0m \u001B[38;5;28;01mdef\u001B[39;00m \u001B[38;5;21m_mul_scalar\u001B[39m(\u001B[38;5;28mself\u001B[39m, other):\n\u001B[1;32m--> 124\u001B[0m     \u001B[38;5;28;01mreturn\u001B[39;00m \u001B[38;5;28mself\u001B[39m\u001B[38;5;241m.\u001B[39m_with_data(\u001B[38;5;28;43mself\u001B[39;49m\u001B[38;5;241;43m.\u001B[39;49m\u001B[43mdata\u001B[49m\u001B[43m \u001B[49m\u001B[38;5;241;43m*\u001B[39;49m\u001B[43m \u001B[49m\u001B[43mother\u001B[49m)\n",
      "\u001B[1;31mKeyboardInterrupt\u001B[0m: "
     ]
    }
   ],
   "source": [
    "pred_ratings, loss, res_listInFW = FW_inface(X_test, FW_objective_function, gamma1 = 0.05, gamma2 = 0.15, delta = 4, THRES = 10, max_iter = 100, patience = 1e-7)"
   ],
   "metadata": {
    "collapsed": false,
    "pycharm": {
     "name": "#%%\n"
    }
   }
  },
  {
   "cell_type": "code",
   "execution_count": 113,
   "outputs": [
    {
     "data": {
      "text/plain": "<Figure size 432x288 with 1 Axes>",
      "image/png": "[encoded data removed]"
     },
     "metadata": {
      "needs_background": "light"
     },
     "output_type": "display_data"
    }
   ],
   "source": [
    "plt.plot(res_listInFW)\n",
    "plt.show()"
   ],
   "metadata": {
    "collapsed": false,
    "pycharm": {
     "name": "#%%\n"
    }
   }
  },
  {
   "cell_type": "markdown",
   "source": [
    "## Data Generation"
   ],
   "metadata": {
    "collapsed": false
   }
  },
  {
   "cell_type": "code",
   "execution_count": 6,
   "outputs": [
    {
     "name": "stdout",
     "output_type": "stream",
     "text": [
      "Nuclear norm: 0.5704929492231393\n",
      "Data shape: (200, 400)\n",
      "Number of observed values: 14826\n",
      "Rank of the matrix: 1\n",
      "Minimum and maximum values: 0.05657176231878037 0.0\n"
     ]
    },
    {
     "name": "stderr",
     "output_type": "stream",
     "text": [
      "<__array_function__ internals>:5: SparseEfficiencyWarning: Comparing a sparse matrix with 0 using == is inefficient, try using != instead.\n"
     ]
    }
   ],
   "source": [
    "# Parameters\n",
    "n = 400\n",
    "m = 200\n",
    "r = 10\n",
    "rho = 0.10\n",
    "SNR = 5\n",
    "delta = 3.75\n",
    "\n",
    "\n",
    "\n",
    "# taking data\n",
    "U = sparse.random(m, r, density=0.1, format='csr', data_rvs=None)\n",
    "V = sparse.random(r, n, density=0.1, format='csr', data_rvs=None)\n",
    "E = sparse.random(m, n, density=0.1, format='csr', data_rvs=None)\n",
    "\n",
    "\n",
    "\n",
    "VT = V.transpose(copy=True)\n",
    "\n",
    "UVT = U*V\n",
    "#print(UVT. shape)\n",
    "\n",
    "w1 = 1/(sparse.linalg.norm(UVT, ord='fro'))\n",
    "\n",
    "w2 = 1/(SNR*sparse.linalg.norm(E, ord='fro'))\n",
    "\n",
    "#Finally observed data matrix is:\n",
    "X_test = w1*UVT + w2*E\n",
    "\n",
    "# Non zero values\n",
    "idx_ratings = np.argwhere(X_test != 0.)\n",
    "idx_rows = idx_ratings[:,0]\n",
    "idx_cols = idx_ratings[:,1]\n",
    "\n",
    "# Nuclear norm of the test set\n",
    "rank = np.linalg.matrix_rank(X_test)\n",
    "U_thin, s_thin, Vh_thin = sparse.linalg.svds(X_test, k = rank, which='LM')\n",
    "nuc_norm = s_thin.sum()\n",
    "\n",
    "# Print some info about the generated data\n",
    "print('Nuclear norm:', nuc_norm)\n",
    "print('Data shape:', np.shape(X_test))\n",
    "print('Number of observed values:', len(idx_rows))\n",
    "print('Rank of the matrix:', rank)\n",
    "print('Minimum and maximum values:', X_test.max(), X_test.min())"
   ],
   "metadata": {
    "collapsed": false,
    "pycharm": {
     "name": "#%%\n"
    }
   }
  },
  {
   "cell_type": "code",
   "execution_count": 16,
   "outputs": [
    {
     "name": "stdout",
     "output_type": "stream",
     "text": [
      "Iteration: 0 Loss: 2.66508691172435 Loss diff: 2.132320931010145 Rank(Z):  1\n",
      "Iteration: 1 Loss: 2.2149369654002298 Loss diff: 0.4501499463241201 Rank(Z):  2\n",
      "Iteration: 10 Loss: 0.24763703376072013 Loss diff: 0.03047711083699653 Rank(Z):  11\n",
      "Iteration: 20 Loss: 0.07361579406635789 Loss diff: 0.002078575501758176 Rank(Z):  21\n",
      "Iteration: 30 Loss: 0.03706836499981142 Loss diff: 0.0024735246718667683 Rank(Z):  31\n",
      "Iteration: 40 Loss: 0.029738788200615006 Loss diff: 0.0026758100085918016 Rank(Z):  41\n",
      "Iteration: 50 Loss: 0.020323323879564134 Loss diff: 0.003770218891604095 Rank(Z):  51\n",
      "Iteration: 60 Loss: 0.01650696136019946 Loss diff: 0.00026738186069183434 Rank(Z):  61\n",
      "Iteration: 70 Loss: 0.015063932569846141 Loss diff: 0.0006015638975318763 Rank(Z):  71\n",
      "Iteration: 80 Loss: 0.012608417441519137 Loss diff: 0.0005573396601608483 Rank(Z):  81\n",
      "Iteration: 90 Loss: 0.012853966186621013 Loss diff: 0.0008863597768841835 Rank(Z):  91\n",
      "CPU times: total: 734 ms\n",
      "Wall time: 741 ms\n"
     ]
    }
   ],
   "source": [
    "%time pred_ratings_reg, loss_reg, loss_track_reg = FrankWolfe(X_test, FW_objective_function, delta = 4, max_iter=100, patience=1e-7)"
   ],
   "metadata": {
    "collapsed": false,
    "pycharm": {
     "name": "#%%\n"
    }
   }
  },
  {
   "cell_type": "code",
   "execution_count": 17,
   "outputs": [
    {
     "data": {
      "text/plain": "<Figure size 432x288 with 1 Axes>",
      "image/png": "[encoded data removed]"
     },
     "metadata": {
      "needs_background": "light"
     },
     "output_type": "display_data"
    }
   ],
   "source": [
    "plt.plot(np.log10(loss_track_reg))\n",
    "\n",
    "plt.show()"
   ],
   "metadata": {
    "collapsed": false,
    "pycharm": {
     "name": "#%%\n"
    }
   }
  },
  {
   "cell_type": "code",
   "execution_count": 20,
   "outputs": [
    {
     "name": "stdout",
     "output_type": "stream",
     "text": [
      "Initial Zk Rank:  1\n"
     ]
    },
    {
     "name": "stderr",
     "output_type": "stream",
     "text": [
      "\n",
      "KeyboardInterrupt\n",
      "\n"
     ]
    }
   ],
   "source": [
    "%time pred_ratings_inface, loss_inface, loss_track_inface = FW_inface(X_test, FW_objective_function, gamma1 = 0.05, gamma2 = 0.15, delta = 4, THRES = 10, max_iter = 100, patience = 1e-7, printing=True)"
   ],
   "metadata": {
    "collapsed": false,
    "pycharm": {
     "name": "#%%\n"
    }
   }
  },
  {
   "cell_type": "code",
   "execution_count": 84,
   "outputs": [
    {
     "data": {
      "text/plain": "<Figure size 432x288 with 1 Axes>",
      "image/png": "[encoded data removed]"
     },
     "metadata": {
      "needs_background": "light"
     },
     "output_type": "display_data"
    }
   ],
   "source": [
    "plt.plot(loss_track_inface)\n",
    "plt.show()"
   ],
   "metadata": {
    "collapsed": false,
    "pycharm": {
     "name": "#%%\n"
    }
   }
  },
  {
   "cell_type": "markdown",
   "metadata": {
    "id": "kwQyN3Cy_uF5"
   },
   "source": [
    "# Tuned Model\n",
    "\n"
   ]
  },
  {
   "cell_type": "code",
   "execution_count": null,
   "outputs": [],
   "source": [
    "import matplotlib.pyplot as plt\n",
    "\n",
    "plt.plot(loss_track_reg, label = 'Frank Wolfe')\n",
    "plt.plot(loss_track_inface, label = 'In-Face Frank Wolfe')\n",
    "plt.legend()\n",
    "plt.show()"
   ],
   "metadata": {
    "collapsed": false,
    "pycharm": {
     "name": "#%%\n"
    }
   }
  },
  {
   "cell_type": "markdown",
   "metadata": {
    "id": "x0manG1buepT"
   },
   "source": [
    "# Grid Searching"
   ]
  },
  {
   "cell_type": "markdown",
   "metadata": {
    "id": "Y_MUb9nrwJyA"
   },
   "source": [
    "##Delta"
   ]
  },
  {
   "cell_type": "code",
   "execution_count": null,
   "metadata": {
    "colab": {
     "base_uri": "https://localhost:8080/"
    },
    "id": "QUZGgSUsudah",
    "outputId": "bd7fb5f1-3a5b-4467-e5cc-23f3784569fe"
   },
   "outputs": [
    {
     "name": "stdout",
     "output_type": "stream",
     "text": [
      "Delta: 0.001    ------     Final Loss: 1995299.6906607011   at iteration 2\n",
      "Delta: 0.01    ------     Final Loss: 1995296.9066038157   at iteration 2\n",
      "Delta: 0.1    ------     Final Loss: 1995269.065718345   at iteration 2\n",
      "Delta: 1    ------     Final Loss: 1994990.6592616318   at iteration 4\n",
      "Delta: 10    ------     Final Loss: 1992207.8429168023   at iteration 19\n",
      "Delta: 100    ------     Final Loss: 1964496.978598407   at iteration 84\n",
      "Delta: 1000    ------     Final Loss: 1699162.6623283497   at iteration 201\n",
      "Delta: 10000    ------     Final Loss: 302150.77467486466   at iteration 64\n",
      "Delta: 100000    ------     Final Loss: 175474.63085276185   at iteration 70\n",
      "Delta: 1000000    ------     Final Loss: 146671.28662048402   at iteration 201\n",
      "Delta: 10000000    ------     Final Loss: 672843.1813172555   at iteration 201\n",
      "Delta: 100000000    ------     Final Loss: 1757112480.4694064   at iteration 201\n"
     ]
    }
   ],
   "source": [
    "deltas = [0.001, 0.01, 0.1, 1, 10, 100, 1000, 10000, 100000, 1000000, 10000000, 100000000]\n",
    "\n",
    "for delta in deltas:\n",
    "  pred_ratings, loss, it = FW_inface(new_data, FW_objective_function, delta = delta, max_iter=201, patience = 0.01, printing = False)\n",
    "  print('Delta: ' + str(delta) + '    ------     Final Loss: ' + str(loss) + '   at iteration ' + str(it))"
   ]
  },
  {
   "cell_type": "code",
   "execution_count": null,
   "metadata": {
    "colab": {
     "base_uri": "https://localhost:8080/"
    },
    "id": "--BkRQqIxmSw",
    "outputId": "f9c17983-9fb7-40c8-dc83-c9d8c099cf3e"
   },
   "outputs": [
    {
     "name": "stdout",
     "output_type": "stream",
     "text": [
      "Delta: 250000    ------     Final Loss: 184966.58801373874   at iteration 142\n",
      "Delta: 500000    ------     Final Loss: 169552.51866399613   at iteration 201\n",
      "Delta: 750000    ------     Final Loss: 420615.6132565984   at iteration 201\n",
      "Delta: 1250000    ------     Final Loss: 216412.31880627264   at iteration 201\n",
      "Delta: 1500000    ------     Final Loss: 273680.42343568715   at iteration 201\n",
      "Delta: 2500000    ------     Final Loss: 417712.4612960932   at iteration 201\n",
      "Delta: 5000000    ------     Final Loss: 571545.4612269908   at iteration 201\n",
      "Delta: 7500000    ------     Final Loss: 632556.1542439449   at iteration 201\n"
     ]
    }
   ],
   "source": [
    "deltas = [250000,\n",
    "          500000,\n",
    "          750000,\n",
    "          1250000,\n",
    "          1500000,\n",
    "          2500000,\n",
    "          5000000,\n",
    "          7500000]\n",
    "\n",
    "for delta in deltas:\n",
    "  pred_ratings, loss, it = FW_inface(new_data, FW_objective_function, delta = delta, max_iter=201, patience = 0.01, printing = False)\n",
    "  print('Delta: ' + str(delta) + '    ------     Final Loss: ' + str(loss) + '   at iteration ' + str(it))"
   ]
  },
  {
   "cell_type": "code",
   "execution_count": null,
   "metadata": {
    "colab": {
     "base_uri": "https://localhost:8080/"
    },
    "id": "M5Xei-9Gy3hh",
    "outputId": "47a9fd59-b0a5-4bca-ab08-992677a90c73"
   },
   "outputs": [
    {
     "name": "stdout",
     "output_type": "stream",
     "text": [
      "Delta: 150000    ------     Final Loss: 180502.69121015765   at iteration 95\n",
      "Delta: 300000    ------     Final Loss: 186151.14181067253   at iteration 165\n",
      "Delta: 450000    ------     Final Loss: 188191.3045520871   at iteration 231\n",
      "Delta: 600000    ------     Final Loss: 189243.6150128576   at iteration 297\n",
      "Delta: 900000    ------     Final Loss: 190318.32554160611   at iteration 425\n",
      "Delta: 1200000    ------     Final Loss: 189679.94593613478   at iteration 501\n",
      "Delta: 1500000    ------     Final Loss: 149600.4326080835   at iteration 501\n"
     ]
    }
   ],
   "source": [
    "deltas = [150000,\n",
    "          300000,\n",
    "          450000,\n",
    "          600000,\n",
    "          900000,\n",
    "          1200000,\n",
    "          1500000]\n",
    "\n",
    "for delta in deltas:\n",
    "  pred_ratings, loss, it = FW_inface(new_data, FW_objective_function, delta = delta, max_iter=501, patience = 0.01, printing = False)\n",
    "  print('Delta: ' + str(delta) + '    ------     Final Loss: ' + str(loss) + '   at iteration ' + str(it))"
   ]
  },
  {
   "cell_type": "code",
   "execution_count": null,
   "metadata": {
    "colab": {
     "base_uri": "https://localhost:8080/"
    },
    "id": "2W5PqtaH0eZu",
    "outputId": "c519e67f-c98e-4186-a5a2-8d0d6a031872"
   },
   "outputs": [
    {
     "name": "stdout",
     "output_type": "stream",
     "text": [
      "Delta: 1750000    ------     Final Loss: 191384.43819455765   at iteration 786\n",
      "Delta: 2000000    ------     Final Loss: 191527.2106760225   at iteration 889\n",
      "Delta: 2250000    ------     Final Loss: 191638.53051798942   at iteration 991\n"
     ]
    }
   ],
   "source": [
    "deltas = [1750000,\n",
    "          2000000,\n",
    "          2250000]\n",
    "\n",
    "for delta in deltas:\n",
    "  pred_ratings, loss, it = FW_inface(new_data, FW_objective_function, delta = delta, max_iter = 1000, patience = 0.001, printing = False)\n",
    "  print('Delta: ' + str(delta) + '    ------     Final Loss: ' + str(loss) + '   at iteration ' + str(it))"
   ]
  },
  {
   "cell_type": "code",
   "execution_count": null,
   "metadata": {
    "colab": {
     "base_uri": "https://localhost:8080/"
    },
    "id": "MkpvJqQi2YxJ",
    "outputId": "c4eeadcf-f4a5-4873-94aa-33a40b766bd6"
   },
   "outputs": [
    {
     "name": "stdout",
     "output_type": "stream",
     "text": [
      "Delta: 1375000    ------     Final Loss: 191074.29727334835   at iteration 630\n",
      "Delta: 1500000    ------     Final Loss: 191194.6863524153   at iteration 682\n",
      "Delta: 1625000    ------     Final Loss: 191296.77299220837   at iteration 734\n"
     ]
    }
   ],
   "source": [
    "deltas = [1375000,\n",
    "          1500000,\n",
    "          1625000]\n",
    "\n",
    "for delta in deltas:\n",
    "  pred_ratings, loss, it = FW_inface(new_data, FW_objective_function, delta = delta, max_iter = 1000, patience = 0.001, printing = False)\n",
    "  print('Delta: ' + str(delta) + '    ------     Final Loss: ' + str(loss) + '   at iteration ' + str(it))"
   ]
  },
  {
   "cell_type": "markdown",
   "metadata": {
    "id": "PO5uv6UZ33wJ"
   },
   "source": [
    "## Gammas"
   ]
  },
  {
   "cell_type": "code",
   "execution_count": null,
   "metadata": {
    "colab": {
     "base_uri": "https://localhost:8080/"
    },
    "id": "45FR0xoX323p",
    "outputId": "51369768-d4dc-4455-f573-83822546ef54"
   },
   "outputs": [
    {
     "name": "stdout",
     "output_type": "stream",
     "text": [
      "Gamma1: 0   Gamma2: 0.1    ------     Final Loss: 335449.4737096828   at iteration 500\n",
      "Gamma1: 0   Gamma2: 1    ------     Final Loss: 335449.4737096833   at iteration 500\n",
      "Gamma1: 0.1   Gamma2: 1    ------     Final Loss: 149460.45148459333   at iteration 500\n",
      "Gamma1: 1   Gamma2: 1    ------     Final Loss: 149460.451484515   at iteration 500\n",
      "Gamma1: 1   Gamma2: 10    ------     Final Loss: 335449.47370968235   at iteration 500\n",
      "Gamma1: 1   Gamma2: 100    ------     Final Loss: 149460.4514845148   at iteration 500\n",
      "Gamma1: 10   Gamma2: 100    ------     Final Loss: 149460.451484515   at iteration 500\n"
     ]
    }
   ],
   "source": [
    "gammas = [[0,    0.1],\n",
    "          [0,    1],\n",
    "          [0.1,  1],\n",
    "          [1,    1],\n",
    "          [1,   10],\n",
    "          [1,  100],\n",
    "          [10, 100]]\n",
    "\n",
    "for gamma1, gamma2 in gammas:\n",
    "  pred_ratings, loss, it = FW_inface(new_data, FW_objective_function, gamma1 = gamma1, gamma2 = gamma2, delta = 1500000, max_iter = 500, patience = 0.001, printing = False)\n",
    "  print('Gamma1: ' + str(gamma1) + '   Gamma2: ' + str(gamma2) + '    ------     Final Loss: ' + str(loss) + '   at iteration ' + str(it))"
   ]
  },
  {
   "cell_type": "code",
   "execution_count": null,
   "metadata": {
    "colab": {
     "base_uri": "https://localhost:8080/"
    },
    "id": "EOD4CGHO884Z",
    "outputId": "f4ddeb2d-b605-4c9c-fab8-d096648bc3e6"
   },
   "outputs": [
    {
     "name": "stdout",
     "output_type": "stream",
     "text": [
      "Gamma1: 1   Gamma2: 100    ------     Final Loss: 149460.45148459318   at iteration 500\n",
      "Gamma1: 100   Gamma2: 100    ------     Final Loss: 149460.45148451466   at iteration 500\n",
      "Gamma1: 0.1   Gamma2: 100    ------     Final Loss: 149460.4514845149   at iteration 500\n",
      "Gamma1: 1   Gamma2: 1000    ------     Final Loss: 335449.4737115356   at iteration 500\n"
     ]
    }
   ],
   "source": [
    "gammas = [[1,  100],\n",
    "          [100, 100],\n",
    "          [0.1,  100],\n",
    "          [1,    1000]]\n",
    "\n",
    "for gamma1, gamma2 in gammas:\n",
    "  pred_ratings, loss, it = FW_inface(new_data, FW_objective_function, gamma1 = gamma1, gamma2 = gamma2, delta = 1500000, max_iter = 500, patience = 0.001, printing = False)\n",
    "  print('Gamma1: ' + str(gamma1) + '   Gamma2: ' + str(gamma2) + '    ------     Final Loss: ' + str(loss) + '   at iteration ' + str(it))"
   ]
  },
  {
   "cell_type": "code",
   "execution_count": null,
   "metadata": {
    "colab": {
     "base_uri": "https://localhost:8080/"
    },
    "id": "oMpXvq5S-ZvP",
    "outputId": "ac623233-b516-433e-a7f7-041981b1ed94"
   },
   "outputs": [
    {
     "name": "stdout",
     "output_type": "stream",
     "text": [
      "Gamma1: 0   Gamma2: 100    ------     Final Loss: 335449.47371153446   at iteration 500\n",
      "Gamma1: 0   Gamma2: 1000    ------     Final Loss: 149460.4514845933   at iteration 500\n",
      "Gamma1: 0.1   Gamma2: 0.1    ------     Final Loss: 149460.45148451495   at iteration 500\n"
     ]
    }
   ],
   "source": [
    "gammas = [[0,  100],\n",
    "          [0, 1000],\n",
    "          [0.1,  0.1]]\n",
    "\n",
    "for gamma1, gamma2 in gammas:\n",
    "  pred_ratings, loss, it = FW_inface(new_data, FW_objective_function, gamma1 = gamma1, gamma2 = gamma2, delta = 1500000, max_iter = 500, patience = 0.001, printing = False)\n",
    "  print('Gamma1: ' + str(gamma1) + '   Gamma2: ' + str(gamma2) + '    ------     Final Loss: ' + str(loss) + '   at iteration ' + str(it))"
   ]
  },
  {
   "cell_type": "markdown",
   "metadata": {
    "id": "cpS5jRz4vpHa"
   },
   "source": [
    "## Sub-Chapter"
   ]
  }
 ],
 "metadata": {
  "colab": {
   "collapsed_sections": [],
   "name": "FW_GoodReads_recommender - Copia.ipynb",
   "provenance": [],
   "toc_visible": true
  },
  "kernelspec": {
   "display_name": "Python 3",
   "language": "python",
   "name": "python3"
  },
  "language_info": {
   "codemirror_mode": {
    "name": "ipython",
    "version": 3
   },
   "file_extension": ".py",
   "mimetype": "text/x-python",
   "name": "python",
   "nbconvert_exporter": "python",
   "pygments_lexer": "ipython3",
   "version": "3.8.10"
  }
 },
 "nbformat": 4,
 "nbformat_minor": 1
}