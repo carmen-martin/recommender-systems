{
 "cells": [
  {
   "cell_type": "code",
   "execution_count": 1,
   "outputs": [],
   "source": [
    "# Imports\n",
    "from scipy import sparse\n",
    "import scipy\n",
    "import numpy as np\n",
    "from scipy import stats\n",
    "import matplotlib.pyplot as plt\n",
    "import time\n",
    "from numpy import linalg as LA"
   ],
   "metadata": {
    "collapsed": false,
    "pycharm": {
     "name": "#%%\n"
    }
   }
  },
  {
   "cell_type": "markdown",
   "source": [
    "# Frank-Wolfe - standard algorithm"
   ],
   "metadata": {
    "collapsed": false
   }
  },
  {
   "cell_type": "code",
   "execution_count": 47,
   "metadata": {
    "id": "kobsOmgimqL_",
    "jupyter": {
     "outputs_hidden": false
    },
    "pycharm": {
     "name": "#%%\n"
    }
   },
   "outputs": [],
   "source": [
    "# FW objective function\n",
    "def FW_objective_function(diff_vec):\n",
    "    return 0.5*(np.power(diff_vec,2).sum())\n",
    "\n",
    "# Regular FW algorithm\n",
    "def FrankWolfe(X, objective_function, delta, empties = 0, printing_res = True, Z_init = None, max_iter = 150, patience = 1e-3):\n",
    "    '''\n",
    "    :param X: sparse matrix with ratings and 'empty values', rows - users, columns - books.\n",
    "    :param objective_function: objective function that we would like to minimize with FW\n",
    "    :param delta: Radius of the feasible's set ball\n",
    "    :param empties (optional): Empty values of X are zeros (0) or NaN ('nan'). Default = 0\n",
    "    :param Z_init (optional): In case we want to initialize Z with a known matrix, if not given Z_init will be a zeros matrix. Default = None.\n",
    "    :param max_iter (optional): max number of iterations for the method. Default = 150.\n",
    "    :param patience (optional): once reached this tolerance provide the result. Default = 1e-3.\n",
    "    :return: Z: matrix of predicted ratings - it should be like X but with no 'empty values'\n",
    "    :return: accuracy: difference between original values (X) and predicted ones (Z)\n",
    "    '''\n",
    "\n",
    "    # Get X indexes for not empty values\n",
    "    if empties == 0:\n",
    "        idx_ratings = np.argwhere(X != 0)\n",
    "    elif empties == 'nan':\n",
    "        idx_ratings = np.argwhere(~np.isnan(X))\n",
    "    else:\n",
    "        return print('Error: Empties argument', empties, 'not valid.')\n",
    "\n",
    "    idx_rows = idx_ratings[:,0]\n",
    "    idx_cols = idx_ratings[:,1]\n",
    "\n",
    "    # Initialize Z\n",
    "    if Z_init == 'random uniform':\n",
    "        Z = np.random.uniform(low = 0.01, high = 1, size = X.shape)\n",
    "    elif Z_init is not None:\n",
    "        Z = Z_init\n",
    "    else:\n",
    "        Z = np.zeros(X.shape)\n",
    "\n",
    "    # Create vectors with the not empty features of the sparse matrix\n",
    "    X_rated = X[idx_rows, idx_cols]\n",
    "    Z_rated = Z[idx_rows, idx_cols]\n",
    "    diff_vec = np.array(Z_rated - X_rated)[0]\n",
    "\n",
    "    # Create needed variables\n",
    "    diff_loss = patience + 1\n",
    "    loss = objective_function(diff_vec)\n",
    "    res_list = [loss]\n",
    "    it = 0\n",
    "    while (diff_loss > patience) and (it < max_iter):\n",
    "\n",
    "        # Gradient\n",
    "        grad = sparse.csr_matrix((diff_vec, (idx_rows, idx_cols)))\n",
    "\n",
    "        # SVD - Compute k = 1 singular values and its vectors, starting from the largest (which = 'LM')\n",
    "        u_max, s_max, v_max = sparse.linalg.svds(grad, k = 1, which='LM')   #\n",
    "\n",
    "        # Update\n",
    "        Zk_tilde = -delta*np.outer(u_max,v_max)\n",
    "\n",
    "        alpha_k = 2/(it+2) #alpha - as studied in class\n",
    "        Z = (1-alpha_k)*Z + alpha_k*Zk_tilde\n",
    "\n",
    "        # Loss\n",
    "        diff_vec = np.array(Z[idx_rows, idx_cols] - X_rated)[0]\n",
    "        new_loss = objective_function(diff_vec)\n",
    "\n",
    "        # Improvement at this iteration\n",
    "        diff_loss = np.abs(loss - new_loss)\n",
    "        loss = new_loss\n",
    "\n",
    "        if printing_res == True:\n",
    "            if it == 1 or it % 50 == 0:\n",
    "                print('Iteration:', it, 'Loss:', loss, 'Loss diff:', diff_loss, 'Rank(Z): ', np.linalg.matrix_rank(Z))\n",
    "\n",
    "        # Count iteration\n",
    "        it += 1\n",
    "\n",
    "        res_list.append(loss)\n",
    "        \n",
    "    return Z, loss, res_list"
   ]
  },
  {
   "cell_type": "markdown",
   "metadata": {
    "id": "6y-VOlLMvfq8"
   },
   "source": [
    "# Frank-Wolfe In-face"
   ]
  },
  {
   "cell_type": "code",
   "execution_count": 48,
   "outputs": [],
   "source": [
    "time_out = time.process_time() + 5"
   ],
   "metadata": {
    "collapsed": false,
    "pycharm": {
     "name": "#%%\n"
    }
   }
  },
  {
   "cell_type": "code",
   "execution_count": 76,
   "outputs": [],
   "source": [
    "# Binary search for alpha stop\n",
    "def alpha_binary_search(Zk, Dk, delta, max_value = 1, min_value = 0, tol = 0.05):\n",
    "\n",
    "    #Inizialization\n",
    "\n",
    "    best_alpha = (max_value - min_value) / 2\n",
    "\n",
    "    testing_matrix = Zk + best_alpha * Dk\n",
    "\n",
    "    sentinel = False\n",
    "\n",
    "    while time.process_time() <= time_out:\n",
    "\n",
    "      testing_mat_nuclear_norm = LA.norm(testing_matrix, ord = 'nuc')\n",
    "\n",
    "      sentinel = True\n",
    "\n",
    "    #Binary Search\n",
    "\n",
    "    if sentinel == True:\n",
    "\n",
    "      while testing_mat_nuclear_norm <= delta and (max_value - min_value) >= tol and time.process_time() <= time_out:\n",
    "\n",
    "          min_value = best_alpha\n",
    "\n",
    "          best_alpha = (max_value - min_value) / 2\n",
    "\n",
    "          testing_matrix = Zk + best_alpha * Dk\n",
    "\n",
    "          testing_mat_nuclear_norm = LA.norm(testing_matrix, ord = 'nuc')\n",
    "\n",
    "    return best_alpha"
   ],
   "metadata": {
    "collapsed": false,
    "pycharm": {
     "name": "#%%\n"
    }
   }
  },
  {
   "cell_type": "code",
   "execution_count": 129,
   "outputs": [],
   "source": [
    "def FW_inface(X, objective_function, delta, L = 1, D = None, gamma1 = 0, gamma2 = 1, THRES = 0.001, empties = 0, max_iter=150, patience=1e-3, printing = True):\n",
    "    '''\n",
    "    :param X: sparse matrix with ratings and 'empty values', rows - users, columns - books.\n",
    "    :param objective_function: objective function that we would like to minimize with FW.\n",
    "    :param delta: Radius of the feasible's set ball\n",
    "    :param L: must be greater than 1\n",
    "    :param D: if not inputed = 2*delta\n",
    "    :param gamma1:\n",
    "    :param gamma2:\n",
    "    :param THRES:\n",
    "    :param empties (optional): Empty values of X are zeros (0) or NaN ('nan'). Default = 0\n",
    "    :param max_iter: max number of iterations for the method.\n",
    "    :param patience: once reached this tolerance provide the result.\n",
    "    :return: Z: matrix of predicted ratings - it should be like X but with no 'empty values'\n",
    "            loss: difference between original values (X) and predicted ones (Z).\n",
    "    '''\n",
    "\n",
    "    # Get X indexes for not empty values\n",
    "    if empties == 0:\n",
    "        idx_ratings = np.argwhere(X != 0)\n",
    "    elif empties == 'nan':\n",
    "        idx_ratings = np.argwhere(~np.isnan(X))\n",
    "    else:\n",
    "        return print('Empties argument', empties, 'not valid.')\n",
    "\n",
    "    idx_rows = idx_ratings[:,0]\n",
    "    idx_cols = idx_ratings[:,1]\n",
    "\n",
    "    # Initialize Z_{-1}\n",
    "    Z_1 = np.zeros(X.shape)\n",
    "\n",
    "    # Create vectors with the not empty features of the sparse matrix\n",
    "    X_rated = X[idx_rows, idx_cols]\n",
    "    Z_rated = Z_1[idx_rows, idx_cols]\n",
    "    diff_vec_1 = np.array(Z_rated - X_rated)[0]\n",
    "\n",
    "    # Initial gradient and Z0\n",
    "    grad_1 = sparse.csr_matrix((diff_vec_1, (idx_rows, idx_cols)))\n",
    "    u_max, s_max, v_max = sparse.linalg.svds(grad_1, k = 1, which='LM')\n",
    "    Zk = -delta*np.outer(u_max,v_max)\n",
    "    Z_rated = Zk[idx_rows, idx_cols]\n",
    "\n",
    "    print('Initial Zk Rank: ', LA.matrix_rank(Zk))\n",
    "\n",
    "    # Initialize lower bound on the optimal objective function (f*)\n",
    "    diff_vec = np.array(Z_rated - X_rated)[0]\n",
    "    #new_low_bound = np.max((objective_function(diff_vec_1) + np.multiply(grad_1.toarray(),Zk).sum()), 0)\n",
    "    new_low_bound = 0\n",
    "    #new_low_bound = np.max((objective_function(diff_vec_1) + (grad_1.dot(Zk)).trace()), 0)\n",
    "    #new_low_bound = 0 #used 0 otherwise the other new_low_bound was too high!\n",
    "\n",
    "    # Set D\n",
    "    if D is not None:\n",
    "        D = D\n",
    "    else:\n",
    "        D = 2*delta\n",
    "\n",
    "    rank_Z = LA.matrix_rank(Zk)   # rank of Zk to find thin SVD size\n",
    "\n",
    "    # Additional needed parameters\n",
    "    diff_loss = patience + 1\n",
    "    loss = objective_function(diff_vec)\n",
    "    it = 0\n",
    "    res_list = [objective_function(diff_vec_1), loss]\n",
    "    ranks = [rank_Z]\n",
    "    not_in_ball=False\n",
    "\n",
    "    B_used = 0\n",
    "    A_used = 0\n",
    "    not_entered = 0\n",
    "    regularFW = 0\n",
    "\n",
    "    in_border = 0\n",
    "    inside = 0\n",
    "    outside = 0\n",
    "\n",
    "    while (diff_loss > patience) and (it < max_iter):\n",
    "\n",
    "        # Thin SVD\n",
    "        U_thin, s_thin, Vh_thin = sparse.linalg.svds(Zk, k = rank_Z, which='LM')   # Compute k = rank singular values\n",
    "\n",
    "        # Lower bound update\n",
    "        low_bound = new_low_bound\n",
    "\n",
    "        # Gradient\n",
    "        grad = sparse.csr_matrix((diff_vec, (idx_rows, idx_cols)))\n",
    "\n",
    "        # In-face direction with the away step strategy: two calculations depending of where Z lies within the feasible set\n",
    "        if np.isclose(s_thin.sum(), delta, rtol=1e-3)==True: # Z in border (sum of singular values == radius of feasible set)\n",
    "            in_border += 1\n",
    "            G = 0.5 * (Vh_thin.dot(grad.T.dot(U_thin)) + U_thin.T.dot(grad.dot(Vh_thin.T)))\n",
    "            # Obtain unitary eigenvector corresponding to smallest eigenvalue of G\n",
    "            eigvalues, eigvectors = LA.eig(G)  #find the eigenvalues\n",
    "            min_eig = np.argmin(eigvalues)  #find the index of the smallest eigenvalue\n",
    "            u = eigvectors[:, min_eig]  #take the eigenvector corresponding to the smallest eigenvalue\n",
    "\n",
    "            # Update value\n",
    "            M = np.outer(u,u.T)\n",
    "            Zk_tilde = delta*U_thin.dot(M.dot(Vh_thin))\n",
    "            Dk = Zk - Zk_tilde\n",
    "\n",
    "            inv_s_thin = np.diag(1/s_thin)\n",
    "            alpha_stop = 1/(delta*u.T.dot(inv_s_thin.dot(u))-1)\n",
    "\n",
    "        elif s_thin.sum() < delta: #inside\n",
    "            inside += 1\n",
    "            u_max, s_max, v_max = sparse.linalg.svds(grad, k = 1, which='LM')\n",
    "            Zk_tilde = delta*np.outer(u_max,v_max)\n",
    "            Dk = Zk - Zk_tilde\n",
    "            #BINARY SEARCH\n",
    "\n",
    "            alpha_stop = alpha_binary_search(Zk,\n",
    "                                          Dk,\n",
    "                                          delta)\n",
    "\n",
    "            #alpha_stop = 0.5\n",
    "        else:\n",
    "            not_in_ball = True\n",
    "            outside += 1\n",
    "\n",
    "        nuclear_norm = s_thin.sum()\n",
    "        print(nuclear_norm-delta)\n",
    "        # We check if Zk is inside the feasible set and the rank in order to decide which type steps to do\n",
    "        if rank_Z > 1 and not_in_ball==False:\n",
    "            Z_B = Zk + alpha_stop*Dk\n",
    "            diff_vec_B = np.array(Z_B[idx_rows, idx_cols] - X_rated)[0]\n",
    "            if 1/(objective_function(diff_vec_B)-low_bound) >= (1/(loss-low_bound)+gamma1/(2*L*D**2)):\n",
    "              # 1. Move to a lower dimensional face\n",
    "              B_used += 1\n",
    "              Zk = Z_B\n",
    "\n",
    "            else:\n",
    "                beta = alpha_stop/5 # FIND A GOOD VALUE -- a binary search is also suggested by the paper\n",
    "                Z_A = Zk + beta*Dk\n",
    "                diff_vec_A = np.array(Z_A[idx_rows, idx_cols] - X_rated)[0]\n",
    "                if 1/(objective_function(diff_vec_A)-low_bound) >= (1/(loss-low_bound)+gamma2/(2*L*D**2)):\n",
    "                    # 2. Stay in the current face\n",
    "                    A_used += 1\n",
    "                    Zk = Z_A\n",
    "                else:\n",
    "                    # 3. Do a regular FW step and update the lower bound\n",
    "                    regularFW += 1\n",
    "                    #Zk update\n",
    "                    u_max, s_max, v_max = sparse.linalg.svds(grad, k = 1, which='LM')\n",
    "                    Zk_tilde = -delta*np.outer(u_max,v_max)\n",
    "\n",
    "                    '''# Lower bound update\n",
    "                    B_w = loss + grad.T.dot(Zk_tilde - Zk)\n",
    "                    print(B_w, low_bound)\n",
    "                    new_low_bound = np.max(low_bound, B_w)'''\n",
    "\n",
    "                    direction_vec = Zk_tilde.flatten() - Zk.flatten()\n",
    "                    grad = grad.toarray()\n",
    "                    wolfe_gap = grad.T.flatten() * direction_vec\n",
    "                    B_w = loss + wolfe_gap.sum()\n",
    "\n",
    "                    #TRIED THIS INSTEAD\n",
    "                    if low_bound >= B_w:\n",
    "                        new_low_bound = low_bound\n",
    "                    else:\n",
    "                        new_low_bound = B_w\n",
    "\n",
    "                    # Z_(k+1)\n",
    "                    alpha_k = 2/(it+2)\n",
    "                    Zk = (1-alpha_k)*Zk + alpha_k*Zk_tilde\n",
    "\n",
    "        else:\n",
    "\n",
    "            # 3. Do a regular FW step and update the lower bound\n",
    "            not_entered += 1\n",
    "            #Zk update\n",
    "            grad = sparse.csr_matrix((diff_vec, (idx_rows, idx_cols)))\n",
    "            u_max, s_max, v_max = sparse.linalg.svds(grad, k = 1, which='LM')\n",
    "            Zk_tilde = -delta*np.outer(u_max,v_max)\n",
    "\n",
    "            '''# Lower bound update\n",
    "            B_w = loss + grad.T.dot(Zk_tilde - Zk)\n",
    "            print(B_w, low_bound)\n",
    "            new_low_bound = np.max(low_bound, B_w)'''\n",
    "\n",
    "            direction_vec = Zk_tilde.flatten() - Zk.flatten()\n",
    "            grad = grad.toarray()\n",
    "            wolfe_gap = grad.T.flatten() * direction_vec\n",
    "            B_w = loss + wolfe_gap.sum()\n",
    "\n",
    "            #TRIED THIS INSTEAD\n",
    "            if low_bound >= B_w:\n",
    "                new_low_bound = low_bound\n",
    "            else:\n",
    "                new_low_bound = B_w\n",
    "\n",
    "            # Z_(k+1)\n",
    "            alpha_k = 2/(it+2)\n",
    "            Zk = (1-alpha_k)*Zk + alpha_k*Zk_tilde\n",
    "\n",
    "            not_in_ball=False\n",
    "\n",
    "        # Loss\n",
    "        diff_vec = np.array(Zk[idx_rows, idx_cols] - X_rated)[0]\n",
    "        new_loss = objective_function(diff_vec)\n",
    "\n",
    "        # Improvement at this iteration\n",
    "        diff_loss = np.abs(loss - new_loss)\n",
    "        loss = new_loss\n",
    "\n",
    "        rank_Z = LA.matrix_rank(Zk)   # rank of Zk to find thin SVD size\n",
    "\n",
    "        # Count iteration\n",
    "        it += 1\n",
    "\n",
    "        res_list.append(loss)\n",
    "        ranks.append(rank_Z)\n",
    "        if printing == True:\n",
    "          if it % 5 == 0 or it == 1:\n",
    "            print('Iteration:', it, 'Loss:', loss, 'Loss diff:', diff_loss, 'Rank(Z): ', rank_Z)\n",
    "\n",
    "    print('Went to lower dim face:', B_used)\n",
    "    print('Stayed:', A_used)\n",
    "    print('Regular:', regularFW)\n",
    "    print('Not entered if:', not_entered)\n",
    "\n",
    "    print('in_border:', in_border)\n",
    "    print('Inside ball:', inside)\n",
    "    print('Outside ball:', outside)\n",
    "    return Zk, loss, res_list, ranks\n"
   ],
   "metadata": {
    "collapsed": false,
    "pycharm": {
     "name": "#%%\n"
    }
   }
  },
  {
   "cell_type": "markdown",
   "source": [
    "## Data Generation"
   ],
   "metadata": {
    "collapsed": false
   }
  },
  {
   "cell_type": "code",
   "execution_count": 57,
   "outputs": [
    {
     "name": "stdout",
     "output_type": "stream",
     "text": [
      "Nuclear norm: 0.5569410330640286\n",
      "Data shape: (200, 400)\n",
      "Number of observed values: 14905\n",
      "Rank of the matrix: 1\n",
      "Minimum and maximum values: 0.04692170212305689 0.0\n"
     ]
    },
    {
     "name": "stderr",
     "output_type": "stream",
     "text": [
      "<__array_function__ internals>:5: SparseEfficiencyWarning: Comparing a sparse matrix with 0 using == is inefficient, try using != instead.\n"
     ]
    }
   ],
   "source": [
    "# Parameters\n",
    "n = 400\n",
    "m = 200\n",
    "r = 10\n",
    "rho = 0.10\n",
    "SNR = 5\n",
    "delta = 3.75\n",
    "\n",
    "\n",
    "\n",
    "# taking data\n",
    "U = sparse.random(m, r, density=0.1, format='csr', data_rvs=None)\n",
    "V = sparse.random(r, n, density=0.1, format='csr', data_rvs=None)\n",
    "E = sparse.random(m, n, density=0.1, format='csr', data_rvs=None)\n",
    "\n",
    "\n",
    "\n",
    "VT = V.transpose(copy=True)\n",
    "\n",
    "UVT = U*V\n",
    "#print(UVT. shape)\n",
    "\n",
    "w1 = 1/(sparse.linalg.norm(UVT, ord='fro'))\n",
    "\n",
    "w2 = 1/(SNR*sparse.linalg.norm(E, ord='fro'))\n",
    "\n",
    "#Finally observed data matrix is:\n",
    "X_test = w1*UVT + w2*E\n",
    "\n",
    "# Non zero values\n",
    "idx_ratings = np.argwhere(X_test != 0.)\n",
    "idx_rows = idx_ratings[:,0]\n",
    "idx_cols = idx_ratings[:,1]\n",
    "\n",
    "# Nuclear norm of the test set\n",
    "rank = np.linalg.matrix_rank(X_test)\n",
    "U_thin, s_thin, Vh_thin = sparse.linalg.svds(X_test, k = rank, which='LM')\n",
    "nuc_norm = s_thin.sum()\n",
    "\n",
    "# Print some info about the generated data\n",
    "print('Nuclear norm:', nuc_norm)\n",
    "print('Data shape:', np.shape(X_test))\n",
    "print('Number of observed values:', len(idx_rows))\n",
    "print('Rank of the matrix:', rank)\n",
    "print('Minimum and maximum values:', X_test.max(), X_test.min())"
   ],
   "metadata": {
    "collapsed": false,
    "pycharm": {
     "name": "#%%\n"
    }
   }
  },
  {
   "cell_type": "code",
   "execution_count": 51,
   "outputs": [
    {
     "name": "stdout",
     "output_type": "stream",
     "text": [
      "Iteration: 0 Loss: 2.4944404325789318 Loss diff: 1.9617665551837304 Rank(Z):  1\n",
      "Iteration: 1 Loss: 2.1784596415998294 Loss diff: 0.31598079097910237 Rank(Z):  2\n",
      "Iteration: 50 Loss: 0.0247858813978798 Loss diff: 0.002946010013093185 Rank(Z):  51\n",
      "Iteration: 100 Loss: 0.010163609095313055 Loss diff: 9.632354991566568e-05 Rank(Z):  101\n",
      "Iteration: 150 Loss: 0.006680888196522527 Loss diff: 2.801391989935842e-05 Rank(Z):  151\n",
      "Iteration: 200 Loss: 0.0052443555269678695 Loss diff: 0.00031145682447420407 Rank(Z):  200\n",
      "Iteration: 250 Loss: 0.0043812216765210035 Loss diff: 7.330863503732677e-05 Rank(Z):  200\n",
      "CPU times: total: 1.45 s\n",
      "Wall time: 1.71 s\n"
     ]
    }
   ],
   "source": [
    "%time pred_ratings_reg, loss_reg, loss_track_reg = FrankWolfe(X_test, FW_objective_function, delta = 4, max_iter=1000, patience=1e-7)"
   ],
   "metadata": {
    "collapsed": false,
    "pycharm": {
     "name": "#%%\n"
    }
   }
  },
  {
   "cell_type": "code",
   "execution_count": 52,
   "outputs": [
    {
     "data": {
      "text/plain": "<Figure size 432x288 with 1 Axes>",
      "image/png": "[encoded data removed]"
     },
     "metadata": {
      "needs_background": "light"
     },
     "output_type": "display_data"
    }
   ],
   "source": [
    "plt.plot(np.log10(loss_track_reg))\n",
    "\n",
    "plt.show()"
   ],
   "metadata": {
    "collapsed": false,
    "pycharm": {
     "name": "#%%\n"
    }
   }
  },
  {
   "cell_type": "code",
   "execution_count": 131,
   "outputs": [
    {
     "name": "stdout",
     "output_type": "stream",
     "text": [
      "Initial Zk Rank:  1\n",
      "3.552713678800501e-15\n",
      "Iteration: 1 Loss: 227.48656776669526 Loss diff: 81.4154357279105 Rank(Z):  1\n",
      "-3.552713678800501e-15\n",
      "-15.326773286962867\n",
      "-20.788824028498333\n",
      "-21.384022579205137\n",
      "Iteration: 5 Loss: 23.19741050501655 Loss diff: 21.816216018038855 Rank(Z):  5\n",
      "-16.758670298540245\n",
      "-19.265214313867265\n",
      "-20.576712657121266\n",
      "-17.469458395310994\n",
      "-18.813605286441543\n",
      "Iteration: 10 Loss: 0.8636379241800877 Loss diff: 2.2663374380425534 Rank(Z):  10\n",
      "-19.86431107947346\n",
      "-18.254136583936983\n",
      "-18.939079460634062\n",
      "-18.197012399297577\n",
      "-19.286266186746097\n",
      "Iteration: 15 Loss: 2.707459935302421 Loss diff: 2.0617600568372962 Rank(Z):  15\n",
      "-18.22474955653573\n",
      "-18.697829852895083\n",
      "-18.180125585060395\n",
      "-18.55074067872589\n",
      "-17.948490882290187\n",
      "Iteration: 20 Loss: 0.5508241019219059 Loss diff: 1.5211561529525275 Rank(Z):  20\n",
      "-18.687043539476274\n",
      "-17.97786131940849\n",
      "-18.67286260049294\n",
      "-18.15045354735544\n",
      "-18.410363789943407\n",
      "Iteration: 25 Loss: 1.1475715625900191 Loss diff: 0.44484637107451375 Rank(Z):  25\n",
      "-18.40890735000643\n",
      "-19.30194162511002\n",
      "-19.255054453733035\n",
      "-20.0056381797526\n",
      "-19.938573086482144\n",
      "Iteration: 30 Loss: 0.5062869308210386 Loss diff: 0.3473877997639434 Rank(Z):  30\n",
      "-20.57635804580835\n",
      "-20.49762355643947\n",
      "-21.045007833002337\n",
      "-20.96010832103053\n",
      "-21.433966766667947\n",
      "Iteration: 35 Loss: 0.6594974520441553 Loss diff: 0.19208576263275096 Rank(Z):  35\n",
      "-21.346362306990596\n",
      "-21.75961310453919\n",
      "-21.671447241895784\n",
      "-22.034055517671867\n",
      "-21.946614796628765\n",
      "Iteration: 40 Loss: 0.4493175440227569 Loss diff: 0.14902560904036555 Rank(Z):  40\n",
      "-22.266308090552425\n",
      "-22.18027440876629\n",
      "-22.462967879472327\n",
      "-22.378584552276543\n",
      "-22.62847817206589\n",
      "Iteration: 45 Loss: 0.5483123537757002 Loss diff: 0.10169475734355526 Rank(Z):  43\n",
      "-22.545659405033767\n",
      "-22.764655392518186\n",
      "-22.68289761392504\n",
      "-22.867514876874413\n",
      "-22.782622001422087\n",
      "Iteration: 50 Loss: 0.4413032463712726 Loss diff: 0.08192419592004707 Rank(Z):  46\n",
      "-22.905111369007102\n",
      "-22.7131930248775\n",
      "-22.560208626741684\n",
      "-22.425096429016598\n",
      "-22.242258549830627\n",
      "Iteration: 55 Loss: 0.3704599053775255 Loss diff: 0.007845572044843874 Rank(Z):  50\n",
      "-22.21759643626195\n",
      "-22.131940238261013\n",
      "-22.22923668418295\n",
      "-22.21063659313659\n",
      "-22.317113306666105\n",
      "Iteration: 60 Loss: 0.3168676725311358 Loss diff: 0.016117442032717588 Rank(Z):  54\n",
      "-22.315763416193427\n",
      "-22.411324309347343\n",
      "-22.417571282897175\n",
      "-22.49585747225233\n",
      "-22.50343495250859\n",
      "Iteration: 65 Loss: 0.302304542667958 Loss diff: 0.004673129946690779 Rank(Z):  59\n",
      "-22.55302637208373\n",
      "-22.553358596403108\n",
      "-22.542247330950588\n",
      "-22.51675518779854\n",
      "-22.400810271768087\n",
      "Iteration: 70 Loss: 0.2539645395205411 Loss diff: 0.009325611018778768 Rank(Z):  64\n",
      "-22.34850546348962\n",
      "-22.242331460308435\n",
      "-22.237274089053646\n",
      "-22.232296942911724\n",
      "-22.23828076881274\n",
      "Iteration: 75 Loss: 0.2381422533680445 Loss diff: 0.008844897832023357 Rank(Z):  69\n",
      "-22.272926909196247\n",
      "-22.274173975197904\n",
      "-22.321021971417583\n",
      "-22.316227489952368\n",
      "-22.36226683917969\n",
      "Iteration: 80 Loss: 0.25071307581412206 Loss diff: 0.010886801257893874 Rank(Z):  74\n",
      "-22.350139638245814\n",
      "-22.38631032910586\n",
      "-22.362215800518648\n",
      "-22.38661204225705\n",
      "-22.346554208022056\n",
      "Iteration: 85 Loss: 0.24238902963409786 Loss diff: 0.008946343688452096 Rank(Z):  79\n",
      "-22.38026862660954\n",
      "-22.336664177070233\n",
      "-22.392158491146755\n",
      "-22.34512433600426\n",
      "-22.449166755646434\n",
      "Iteration: 90 Loss: 0.22384078240276045 Loss diff: 0.02100957085433444 Rank(Z):  84\n",
      "-22.356390526857414\n",
      "-22.084498945337792\n",
      "-21.751885818773886\n",
      "-21.564878185368872\n",
      "-21.613203057229832\n",
      "Iteration: 95 Loss: 0.16458326540971646 Loss diff: 0.011300024812672005 Rank(Z):  89\n",
      "-21.700621499329905\n",
      "-21.72155575220695\n",
      "-21.795255180500657\n",
      "-21.81446332347756\n",
      "-21.87942241550174\n",
      "Iteration: 100 Loss: 0.14930966229152942 Loss diff: 0.012990621148818021 Rank(Z):  94\n",
      "-21.896406145570975\n",
      "Went to lower dim face: 2\n",
      "Stayed: 11\n",
      "Regular: 86\n",
      "Not entered if: 2\n",
      "in_border: 2\n",
      "Inside ball: 99\n",
      "Outside ball: 0\n",
      "CPU times: total: 9.23 s\n",
      "Wall time: 8.01 s\n"
     ]
    }
   ],
   "source": [
    "%time pred_ratings_inface, loss_inface, loss_track_inface, rank = FW_inface(X_test, FW_objective_function, gamma1 = 0, gamma2 = 0.1, delta = 25, THRES = 10, max_iter = 101, patience = 1e-7, printing=True)"
   ],
   "metadata": {
    "collapsed": false,
    "pycharm": {
     "name": "#%%\n"
    }
   }
  },
  {
   "cell_type": "code",
   "execution_count": 139,
   "outputs": [
    {
     "name": "stdout",
     "output_type": "stream",
     "text": [
      "Initial Zk Rank:  1\n",
      "5.684341886080802e-14\n",
      "Iteration: 1 Loss: 3456.0088037143587 Loss diff: 959.7634025154957 Rank(Z):  1\n",
      "-5.684341886080802e-14\n",
      "-60.83369995678195\n",
      "-84.02185367293482\n",
      "-87.42133691392864\n",
      "Iteration: 5 Loss: 364.9622157923492 Loss diff: 345.56998423807636 Rank(Z):  5\n",
      "-67.09458438833542\n",
      "-78.89811904629033\n",
      "-85.42077986576238\n",
      "-74.16302929529267\n",
      "-80.74415422464517\n",
      "Iteration: 10 Loss: 7.307286619785452 Loss diff: 41.064709795907966 Rank(Z):  10\n",
      "-86.0094247215573\n",
      "-77.45473642166178\n",
      "-84.02433305010943\n",
      "-82.14127290366093\n",
      "-88.31103096627726\n",
      "Iteration: 15 Loss: 48.428270185903344 Loss diff: 44.86133615808798 Rank(Z):  15\n",
      "-80.63823440632478\n",
      "-86.28144956996275\n",
      "-83.2060967655205\n",
      "-86.62021397453488\n",
      "-82.37022815355584\n",
      "Iteration: 20 Loss: 3.5713203666077473 Loss diff: 29.441638254156143 Rank(Z):  20\n",
      "-87.31202248596469\n",
      "-82.78976607435199\n",
      "-87.31376676698467\n",
      "-83.7537565706919\n",
      "-86.42261074587783\n",
      "Iteration: 25 Loss: 14.550680725140364 Loss diff: 8.025027968383386 Rank(Z):  25\n",
      "-85.14691043214805\n",
      "-88.12678025099711\n",
      "-86.95973993118322\n",
      "-89.4915281330601\n",
      "-88.43178874486246\n",
      "Iteration: 30 Loss: 4.370030877324304 Loss diff: 5.68466842853913 Rank(Z):  30\n",
      "-90.60845085260416\n",
      "-89.64507043831601\n",
      "-91.53633874473759\n",
      "-90.65832716255238\n",
      "-92.31686554257615\n",
      "Iteration: 35 Loss: 6.445126835132157 Loss diff: 2.8837434874849324 Rank(Z):  35\n",
      "-91.51426906011413\n",
      "-92.98057055338377\n",
      "-92.24457308760282\n",
      "-93.55030134664332\n",
      "-92.8733354550022\n",
      "Iteration: 40 Loss: 2.777914047323396 Loss diff: 2.2757917721615017 Rank(Z):  38\n",
      "-94.0434584698632\n",
      "-93.41895934031385\n",
      "-94.4735003395192\n",
      "-93.89581365513598\n",
      "-94.8509788208284\n",
      "Iteration: 45 Loss: 3.7205974040211394 Loss diff: 1.3000903997107636 Rank(Z):  39\n",
      "-94.3152340611345\n",
      "-95.1842672858046\n",
      "-94.686264144343\n",
      "-95.48008212083055\n",
      "-95.01619211546299\n",
      "Iteration: 50 Loss: 2.029928892556241 Loss diff: 1.0984608380805896 Rank(Z):  41\n",
      "-95.74386256946525\n",
      "-95.31094520938207\n",
      "-95.98005160621184\n",
      "-95.57538340904242\n",
      "-96.19230651439416\n",
      "Iteration: 55 Loss: 2.501027620427164 Loss diff: 0.6663251291683328 Rank(Z):  41\n",
      "-95.81352086028636\n",
      "-96.38365877461636\n",
      "-96.0286946248077\n",
      "-96.55663688548522\n",
      "-96.22369458395768\n",
      "Iteration: 60 Loss: 1.6071936683626822 Loss diff: 0.5904934842314131 Rank(Z):  42\n",
      "-96.7133617103608\n",
      "-96.40086434020347\n",
      "-96.85562118357706\n",
      "-96.5621802282473\n",
      "-96.98492928855204\n",
      "Iteration: 65 Loss: 1.854862496970843 Loss diff: 0.3675804447792004 Rank(Z):  43\n",
      "-96.7093136374445\n",
      "-97.10257286966143\n",
      "-96.8436804971037\n",
      "-97.20962471940793\n",
      "-96.96648081202014\n",
      "Iteration: 70 Loss: 1.3416838300589011 Loss diff: 0.3377691528935638 Rank(Z):  44\n",
      "-97.30706647797564\n",
      "-97.07870493208594\n",
      "-97.39567733077996\n",
      "-97.18125889994076\n",
      "-97.47613930685745\n",
      "Iteration: 75 Loss: 1.471936243462863 Loss diff: 0.20979410080445882 Rank(Z):  45\n",
      "-97.27483947034212\n",
      "-97.54903089338376\n",
      "-97.36002281077349\n",
      "-97.61481872015565\n",
      "-97.43734524296283\n",
      "Iteration: 80 Loss: 1.1626394991978912 Loss diff: 0.19862534905115026 Rank(Z):  45\n",
      "-97.67394223766028\n",
      "-97.507186039458\n",
      "-97.72671001888008\n",
      "-97.56985988072692\n",
      "-97.77337619892124\n",
      "Iteration: 85 Loss: 1.2255843491077734 Loss diff: 0.11881899688418196 Rank(Z):  45\n",
      "-97.62560512398069\n",
      "-97.81412683513351\n",
      "-97.67459047410046\n",
      "-97.84908267770194\n",
      "-97.71692034830238\n",
      "Iteration: 90 Loss: 1.0351053382244606 Loss diff: 0.11559915035355073 Rank(Z):  46\n",
      "-97.87830131449344\n",
      "-97.75263917673283\n",
      "-97.90177908477882\n",
      "-97.78173504173294\n",
      "-97.91945327750977\n",
      "Iteration: 95 Loss: 1.0558581564227034 Loss diff: 0.06202562034544634 Rank(Z):  47\n",
      "-97.8041433125143\n",
      "-97.93120532145954\n",
      "-97.81975126600159\n",
      "-97.93686594519336\n",
      "-97.82840507851793\n",
      "Iteration: 100 Loss: 0.9394411645676037 Loss diff: 0.0622106130192972 Rank(Z):  48\n",
      "-97.93622363413574\n",
      "Went to lower dim face: 2\n",
      "Stayed: 11\n",
      "Regular: 86\n",
      "Not entered if: 2\n",
      "in_border: 2\n",
      "Inside ball: 99\n",
      "Outside ball: 0\n",
      "CPU times: total: 7.95 s\n",
      "Wall time: 7.1 s\n"
     ]
    }
   ],
   "source": [
    "%time pred_ratings_inface100, loss_inface100, loss_track_inface100, rank100 = FW_inface(X_test, FW_objective_function, gamma1 = 0, gamma2 = 0.1, delta = 100, THRES = 10, max_iter = 101, patience = 1e-7, printing=True)"
   ],
   "metadata": {
    "collapsed": false,
    "pycharm": {
     "name": "#%%\n"
    }
   }
  },
  {
   "cell_type": "code",
   "execution_count": 135,
   "outputs": [
    {
     "name": "stdout",
     "output_type": "stream",
     "text": [
      "Initial Zk Rank:  1\n",
      "1.7763568394002505e-15\n",
      "Iteration: 1 Loss: 26.9372930948384 Loss diff: 14.532143116895579 Rank(Z):  1\n",
      "-5.329070518200751e-15\n",
      "-5.002002809116307\n",
      "-6.225698974620062\n",
      "-6.553649847204189\n",
      "Iteration: 5 Loss: 0.24644841324198088 Loss diff: 0.08490522284129035 Rank(Z):  5\n",
      "-5.797011457094222\n",
      "-4.963135858010961\n",
      "-3.5788308634784816\n",
      "-3.8254966512967874\n",
      "-3.9565289283082503\n",
      "Iteration: 10 Loss: 0.5659379168525303 Loss diff: 0.19568478438452502 Rank(Z):  10\n",
      "-4.301122556630522\n",
      "-4.206672166036865\n",
      "-4.403691116341459\n",
      "-4.252967491279209\n",
      "-4.067262961716858\n",
      "Iteration: 15 Loss: 0.19481924534412529 Loss diff: 0.09057362790109227 Rank(Z):  15\n",
      "-3.893865240877993\n",
      "-3.956897234783896\n",
      "-3.9255346475797683\n",
      "-3.818784155201743\n",
      "-4.292157271231305\n",
      "Iteration: 20 Loss: 0.18988901988705775 Loss diff: 0.01099244607959704 Rank(Z):  20\n",
      "-4.4609077534329\n",
      "-4.760291041095759\n",
      "-4.969625700534286\n",
      "-5.17851901828093\n",
      "-5.353996419025145\n",
      "Iteration: 25 Loss: 0.2378685398367626 Loss diff: 0.02626007531189839 Rank(Z):  25\n",
      "-5.464419903121474\n",
      "-5.5678797806301334\n",
      "-5.244592663831\n",
      "-5.386261199525233\n",
      "-5.540991135218306\n",
      "Iteration: 30 Loss: 0.1855815136039063 Loss diff: 0.035665321180707976 Rank(Z):  30\n",
      "-5.589748854274535\n",
      "-5.6938101136242345\n",
      "-5.6042133444210425\n",
      "-5.609290084744563\n",
      "-5.671315929175634\n",
      "Iteration: 35 Loss: 0.16096699793555175 Loss diff: 0.01096058854908305 Rank(Z):  35\n",
      "-5.631540491486973\n",
      "-5.611049667911448\n",
      "-5.6015046303694325\n",
      "-5.6765421288997\n",
      "-5.430857739596764\n",
      "Iteration: 40 Loss: 0.11445385296599939 Loss diff: 0.009820347635416213 Rank(Z):  40\n",
      "-5.323400567555974\n",
      "-5.310567276596537\n",
      "-5.288540995654083\n",
      "-5.362755347884509\n",
      "-5.4353727161418295\n",
      "Iteration: 45 Loss: 0.11598745061956875 Loss diff: 0.0036679055973654617 Rank(Z):  45\n",
      "-5.475611292528597\n",
      "-5.507881810320907\n",
      "-5.462309746953785\n",
      "-5.255918553726858\n",
      "-5.081402480531215\n",
      "Iteration: 50 Loss: 0.06737525577313175 Loss diff: 0.016493081538570264 Rank(Z):  50\n",
      "-4.899827016501783\n",
      "-4.7290542932639195\n",
      "-4.994477953378698\n",
      "-4.9169244665629925\n",
      "-4.814905933260379\n",
      "Iteration: 55 Loss: 0.04307178411416415 Loss diff: 0.00885084670332735 Rank(Z):  55\n",
      "-4.701689718024892\n",
      "-4.565298418741596\n",
      "-4.762331600958728\n",
      "-4.754532899543774\n",
      "-4.944070645593923\n",
      "Iteration: 60 Loss: 0.04638483617790765 Loss diff: 0.0046603114237249305 Rank(Z):  60\n",
      "-4.9426056467770865\n",
      "-4.794011011548624\n",
      "-4.95005543275919\n",
      "-4.950141029844467\n",
      "-4.835116440473611\n",
      "Iteration: 65 Loss: 0.04752354692884768 Loss diff: 0.010066393857510014 Rank(Z):  65\n",
      "-5.027741570700913\n",
      "-4.981171144761344\n",
      "-4.862247526522802\n",
      "-4.744265295017155\n",
      "-4.917854917636833\n",
      "Iteration: 70 Loss: 0.031029526918424352 Loss diff: 0.005490128740528538 Rank(Z):  70\n",
      "-4.893678622706066\n",
      "-5.00850393126392\n",
      "-4.979986215484235\n",
      "-5.141304881762641\n",
      "-5.12063061473085\n",
      "Iteration: 75 Loss: 0.03216079465119226 Loss diff: 0.006858474227855148 Rank(Z):  75\n",
      "-5.00913731020258\n",
      "-4.895472458787415\n",
      "-4.787162635181857\n",
      "-5.028118620793558\n",
      "-4.931578229685385\n",
      "Iteration: 80 Loss: 0.035720740804158754 Loss diff: 0.0028538140340221008 Rank(Z):  80\n",
      "-5.152804950406528\n",
      "-5.0654291847587505\n",
      "-4.95943644333439\n",
      "-4.857157115042558\n",
      "-4.844330980487597\n",
      "Iteration: 85 Loss: 0.025173854827314608 Loss diff: 6.896634622338346e-05 Rank(Z):  85\n",
      "-4.753773836094464\n",
      "-4.90775173661397\n",
      "-4.879836121218088\n",
      "-4.783741598589258\n",
      "-4.990548966361252\n",
      "Iteration: 90 Loss: 0.02541576278726098 Loss diff: 0.001565490650977358 Rank(Z):  90\n",
      "-4.899816793961448\n",
      "-5.024232575205098\n",
      "-4.9439803324931955\n",
      "-5.124693892115678\n",
      "-5.055413265875002\n",
      "Iteration: 95 Loss: 0.022619324811238083 Loss diff: 0.0050077015891209255 Rank(Z):  95\n",
      "-4.96272626131383\n",
      "-4.867488949713429\n",
      "-4.878230048891932\n",
      "-4.880554977202814\n",
      "-4.9570626190683456\n",
      "Iteration: 100 Loss: 0.024131129247750654 Loss diff: 0.002572624411532623 Rank(Z):  100\n",
      "-4.983114564986376\n",
      "Went to lower dim face: 2\n",
      "Stayed: 8\n",
      "Regular: 89\n",
      "Not entered if: 2\n",
      "in_border: 2\n",
      "Inside ball: 99\n",
      "Outside ball: 0\n",
      "CPU times: total: 11.2 s\n",
      "Wall time: 9.09 s\n"
     ]
    }
   ],
   "source": [
    "%time pred_ratings_inface1, loss_inface1, loss_track_inface1, rank1 = FW_inface(X_test, FW_objective_function, gamma1 = 0, gamma2 = 0.1, delta = 8, THRES = 10, max_iter = 101, patience = 1e-7, printing=True)"
   ],
   "metadata": {
    "collapsed": false,
    "pycharm": {
     "name": "#%%\n"
    }
   }
  },
  {
   "cell_type": "code",
   "execution_count": 140,
   "outputs": [
    {
     "data": {
      "text/plain": "<Figure size 1152x576 with 2 Axes>",
      "image/png": "[encoded data removed]"
     },
     "metadata": {
      "needs_background": "light"
     },
     "output_type": "display_data"
    }
   ],
   "source": [
    "fig, (ax1, ax2) = plt.subplots(1, 2, figsize=[16,8])\n",
    "ax1.plot(np.log10(loss_track_inface100), label = 'delta = 100')\n",
    "ax1.plot(np.log10(loss_track_inface), label = 'delta = 25')\n",
    "ax1.plot(np.log10(loss_track_inface1), label = 'delta = 8')\n",
    "ax1.set_title(\"Loss\")\n",
    "ax1.legend()\n",
    "ax2.plot(rank100)\n",
    "ax2.plot(rank)\n",
    "ax2.plot(rank1)\n",
    "ax2.set_title(\"Rank\")\n",
    "\n",
    "plt.show()"
   ],
   "metadata": {
    "collapsed": false,
    "pycharm": {
     "name": "#%%\n"
    }
   }
  },
  {
   "cell_type": "code",
   "execution_count": 92,
   "outputs": [
    {
     "data": {
      "text/plain": "<Figure size 432x288 with 1 Axes>",
      "image/png": "[encoded data removed]"
     },
     "metadata": {
      "needs_background": "light"
     },
     "output_type": "display_data"
    }
   ],
   "source": [
    "import matplotlib.pyplot as plt\n",
    "\n",
    "plt.plot(np.log10(loss_track_reg), label = 'Frank Wolfe')\n",
    "plt.plot(np.log10(loss_track_inface), label = 'In-Face Frank Wolfe')\n",
    "plt.legend()\n",
    "plt.show()"
   ],
   "metadata": {
    "collapsed": false,
    "pycharm": {
     "name": "#%%\n"
    }
   }
  },
  {
   "cell_type": "markdown",
   "source": [
    "# Tuned Model\n",
    "\n"
   ],
   "metadata": {
    "collapsed": false
   }
  },
  {
   "cell_type": "markdown",
   "metadata": {
    "id": "x0manG1buepT"
   },
   "source": [
    "# Grid Searching"
   ]
  },
  {
   "cell_type": "markdown",
   "metadata": {
    "id": "Y_MUb9nrwJyA"
   },
   "source": [
    "##Delta"
   ]
  },
  {
   "cell_type": "code",
   "execution_count": null,
   "metadata": {
    "colab": {
     "base_uri": "https://localhost:8080/"
    },
    "id": "QUZGgSUsudah",
    "outputId": "bd7fb5f1-3a5b-4467-e5cc-23f3784569fe"
   },
   "outputs": [
    {
     "name": "stdout",
     "output_type": "stream",
     "text": [
      "Delta: 0.001    ------     Final Loss: 1995299.6906607011   at iteration 2\n",
      "Delta: 0.01    ------     Final Loss: 1995296.9066038157   at iteration 2\n",
      "Delta: 0.1    ------     Final Loss: 1995269.065718345   at iteration 2\n",
      "Delta: 1    ------     Final Loss: 1994990.6592616318   at iteration 4\n",
      "Delta: 10    ------     Final Loss: 1992207.8429168023   at iteration 19\n",
      "Delta: 100    ------     Final Loss: 1964496.978598407   at iteration 84\n",
      "Delta: 1000    ------     Final Loss: 1699162.6623283497   at iteration 201\n",
      "Delta: 10000    ------     Final Loss: 302150.77467486466   at iteration 64\n",
      "Delta: 100000    ------     Final Loss: 175474.63085276185   at iteration 70\n",
      "Delta: 1000000    ------     Final Loss: 146671.28662048402   at iteration 201\n",
      "Delta: 10000000    ------     Final Loss: 672843.1813172555   at iteration 201\n",
      "Delta: 100000000    ------     Final Loss: 1757112480.4694064   at iteration 201\n"
     ]
    }
   ],
   "source": [
    "deltas = [0.001, 0.01, 0.1, 1, 10, 100, 1000, 10000, 100000, 1000000, 10000000, 100000000]\n",
    "\n",
    "for delta in deltas:\n",
    "  pred_ratings, loss, it = FW_inface(new_data, FW_objective_function, delta = delta, max_iter=201, patience = 0.01, printing = False)\n",
    "  print('Delta: ' + str(delta) + '    ------     Final Loss: ' + str(loss) + '   at iteration ' + str(it))"
   ]
  },
  {
   "cell_type": "code",
   "execution_count": null,
   "metadata": {
    "colab": {
     "base_uri": "https://localhost:8080/"
    },
    "id": "--BkRQqIxmSw",
    "outputId": "f9c17983-9fb7-40c8-dc83-c9d8c099cf3e"
   },
   "outputs": [
    {
     "name": "stdout",
     "output_type": "stream",
     "text": [
      "Delta: 250000    ------     Final Loss: 184966.58801373874   at iteration 142\n",
      "Delta: 500000    ------     Final Loss: 169552.51866399613   at iteration 201\n",
      "Delta: 750000    ------     Final Loss: 420615.6132565984   at iteration 201\n",
      "Delta: 1250000    ------     Final Loss: 216412.31880627264   at iteration 201\n",
      "Delta: 1500000    ------     Final Loss: 273680.42343568715   at iteration 201\n",
      "Delta: 2500000    ------     Final Loss: 417712.4612960932   at iteration 201\n",
      "Delta: 5000000    ------     Final Loss: 571545.4612269908   at iteration 201\n",
      "Delta: 7500000    ------     Final Loss: 632556.1542439449   at iteration 201\n"
     ]
    }
   ],
   "source": [
    "deltas = [250000,\n",
    "          500000,\n",
    "          750000,\n",
    "          1250000,\n",
    "          1500000,\n",
    "          2500000,\n",
    "          5000000,\n",
    "          7500000]\n",
    "\n",
    "for delta in deltas:\n",
    "  pred_ratings, loss, it = FW_inface(new_data, FW_objective_function, delta = delta, max_iter=201, patience = 0.01, printing = False)\n",
    "  print('Delta: ' + str(delta) + '    ------     Final Loss: ' + str(loss) + '   at iteration ' + str(it))"
   ]
  },
  {
   "cell_type": "code",
   "execution_count": null,
   "metadata": {
    "colab": {
     "base_uri": "https://localhost:8080/"
    },
    "id": "M5Xei-9Gy3hh",
    "outputId": "47a9fd59-b0a5-4bca-ab08-992677a90c73"
   },
   "outputs": [
    {
     "name": "stdout",
     "output_type": "stream",
     "text": [
      "Delta: 150000    ------     Final Loss: 180502.69121015765   at iteration 95\n",
      "Delta: 300000    ------     Final Loss: 186151.14181067253   at iteration 165\n",
      "Delta: 450000    ------     Final Loss: 188191.3045520871   at iteration 231\n",
      "Delta: 600000    ------     Final Loss: 189243.6150128576   at iteration 297\n",
      "Delta: 900000    ------     Final Loss: 190318.32554160611   at iteration 425\n",
      "Delta: 1200000    ------     Final Loss: 189679.94593613478   at iteration 501\n",
      "Delta: 1500000    ------     Final Loss: 149600.4326080835   at iteration 501\n"
     ]
    }
   ],
   "source": [
    "deltas = [150000,\n",
    "          300000,\n",
    "          450000,\n",
    "          600000,\n",
    "          900000,\n",
    "          1200000,\n",
    "          1500000]\n",
    "\n",
    "for delta in deltas:\n",
    "  pred_ratings, loss, it = FW_inface(new_data, FW_objective_function, delta = delta, max_iter=501, patience = 0.01, printing = False)\n",
    "  print('Delta: ' + str(delta) + '    ------     Final Loss: ' + str(loss) + '   at iteration ' + str(it))"
   ]
  },
  {
   "cell_type": "code",
   "execution_count": null,
   "metadata": {
    "colab": {
     "base_uri": "https://localhost:8080/"
    },
    "id": "2W5PqtaH0eZu",
    "outputId": "c519e67f-c98e-4186-a5a2-8d0d6a031872"
   },
   "outputs": [
    {
     "name": "stdout",
     "output_type": "stream",
     "text": [
      "Delta: 1750000    ------     Final Loss: 191384.43819455765   at iteration 786\n",
      "Delta: 2000000    ------     Final Loss: 191527.2106760225   at iteration 889\n",
      "Delta: 2250000    ------     Final Loss: 191638.53051798942   at iteration 991\n"
     ]
    }
   ],
   "source": [
    "deltas = [1750000,\n",
    "          2000000,\n",
    "          2250000]\n",
    "\n",
    "for delta in deltas:\n",
    "  pred_ratings, loss, it = FW_inface(new_data, FW_objective_function, delta = delta, max_iter = 1000, patience = 0.001, printing = False)\n",
    "  print('Delta: ' + str(delta) + '    ------     Final Loss: ' + str(loss) + '   at iteration ' + str(it))"
   ]
  },
  {
   "cell_type": "code",
   "execution_count": null,
   "metadata": {
    "colab": {
     "base_uri": "https://localhost:8080/"
    },
    "id": "MkpvJqQi2YxJ",
    "outputId": "c4eeadcf-f4a5-4873-94aa-33a40b766bd6"
   },
   "outputs": [
    {
     "name": "stdout",
     "output_type": "stream",
     "text": [
      "Delta: 1375000    ------     Final Loss: 191074.29727334835   at iteration 630\n",
      "Delta: 1500000    ------     Final Loss: 191194.6863524153   at iteration 682\n",
      "Delta: 1625000    ------     Final Loss: 191296.77299220837   at iteration 734\n"
     ]
    }
   ],
   "source": [
    "deltas = [1375000,\n",
    "          1500000,\n",
    "          1625000]\n",
    "\n",
    "for delta in deltas:\n",
    "  pred_ratings, loss, it = FW_inface(new_data, FW_objective_function, delta = delta, max_iter = 1000, patience = 0.001, printing = False)\n",
    "  print('Delta: ' + str(delta) + '    ------     Final Loss: ' + str(loss) + '   at iteration ' + str(it))"
   ]
  },
  {
   "cell_type": "markdown",
   "metadata": {
    "id": "PO5uv6UZ33wJ"
   },
   "source": [
    "## Gammas"
   ]
  },
  {
   "cell_type": "code",
   "execution_count": null,
   "metadata": {
    "colab": {
     "base_uri": "https://localhost:8080/"
    },
    "id": "45FR0xoX323p",
    "outputId": "51369768-d4dc-4455-f573-83822546ef54"
   },
   "outputs": [
    {
     "name": "stdout",
     "output_type": "stream",
     "text": [
      "Gamma1: 0   Gamma2: 0.1    ------     Final Loss: 335449.4737096828   at iteration 500\n",
      "Gamma1: 0   Gamma2: 1    ------     Final Loss: 335449.4737096833   at iteration 500\n",
      "Gamma1: 0.1   Gamma2: 1    ------     Final Loss: 149460.45148459333   at iteration 500\n",
      "Gamma1: 1   Gamma2: 1    ------     Final Loss: 149460.451484515   at iteration 500\n",
      "Gamma1: 1   Gamma2: 10    ------     Final Loss: 335449.47370968235   at iteration 500\n",
      "Gamma1: 1   Gamma2: 100    ------     Final Loss: 149460.4514845148   at iteration 500\n",
      "Gamma1: 10   Gamma2: 100    ------     Final Loss: 149460.451484515   at iteration 500\n"
     ]
    }
   ],
   "source": [
    "gammas = [[0,    0.1],\n",
    "          [0,    1],\n",
    "          [0.1,  1],\n",
    "          [1,    1],\n",
    "          [1,   10],\n",
    "          [1,  100],\n",
    "          [10, 100]]\n",
    "\n",
    "for gamma1, gamma2 in gammas:\n",
    "  pred_ratings, loss, it = FW_inface(new_data, FW_objective_function, gamma1 = gamma1, gamma2 = gamma2, delta = 1500000, max_iter = 500, patience = 0.001, printing = False)\n",
    "  print('Gamma1: ' + str(gamma1) + '   Gamma2: ' + str(gamma2) + '    ------     Final Loss: ' + str(loss) + '   at iteration ' + str(it))"
   ]
  },
  {
   "cell_type": "code",
   "execution_count": null,
   "metadata": {
    "colab": {
     "base_uri": "https://localhost:8080/"
    },
    "id": "EOD4CGHO884Z",
    "outputId": "f4ddeb2d-b605-4c9c-fab8-d096648bc3e6"
   },
   "outputs": [
    {
     "name": "stdout",
     "output_type": "stream",
     "text": [
      "Gamma1: 1   Gamma2: 100    ------     Final Loss: 149460.45148459318   at iteration 500\n",
      "Gamma1: 100   Gamma2: 100    ------     Final Loss: 149460.45148451466   at iteration 500\n",
      "Gamma1: 0.1   Gamma2: 100    ------     Final Loss: 149460.4514845149   at iteration 500\n",
      "Gamma1: 1   Gamma2: 1000    ------     Final Loss: 335449.4737115356   at iteration 500\n"
     ]
    }
   ],
   "source": [
    "gammas = [[1,  100],\n",
    "          [100, 100],\n",
    "          [0.1,  100],\n",
    "          [1,    1000]]\n",
    "\n",
    "for gamma1, gamma2 in gammas:\n",
    "  pred_ratings, loss, it = FW_inface(new_data, FW_objective_function, gamma1 = gamma1, gamma2 = gamma2, delta = 1500000, max_iter = 500, patience = 0.001, printing = False)\n",
    "  print('Gamma1: ' + str(gamma1) + '   Gamma2: ' + str(gamma2) + '    ------     Final Loss: ' + str(loss) + '   at iteration ' + str(it))"
   ]
  },
  {
   "cell_type": "code",
   "execution_count": null,
   "metadata": {
    "colab": {
     "base_uri": "https://localhost:8080/"
    },
    "id": "oMpXvq5S-ZvP",
    "outputId": "ac623233-b516-433e-a7f7-041981b1ed94"
   },
   "outputs": [
    {
     "name": "stdout",
     "output_type": "stream",
     "text": [
      "Gamma1: 0   Gamma2: 100    ------     Final Loss: 335449.47371153446   at iteration 500\n",
      "Gamma1: 0   Gamma2: 1000    ------     Final Loss: 149460.4514845933   at iteration 500\n",
      "Gamma1: 0.1   Gamma2: 0.1    ------     Final Loss: 149460.45148451495   at iteration 500\n"
     ]
    }
   ],
   "source": [
    "gammas = [[0,  100],\n",
    "          [0, 1000],\n",
    "          [0.1,  0.1]]\n",
    "\n",
    "for gamma1, gamma2 in gammas:\n",
    "  pred_ratings, loss, it = FW_inface(new_data, FW_objective_function, gamma1 = gamma1, gamma2 = gamma2, delta = 1500000, max_iter = 500, patience = 0.001, printing = False)\n",
    "  print('Gamma1: ' + str(gamma1) + '   Gamma2: ' + str(gamma2) + '    ------     Final Loss: ' + str(loss) + '   at iteration ' + str(it))"
   ]
  },
  {
   "cell_type": "markdown",
   "metadata": {
    "id": "cpS5jRz4vpHa"
   },
   "source": [
    "## Sub-Chapter"
   ]
  }
 ],
 "metadata": {
  "colab": {
   "collapsed_sections": [],
   "name": "FW_GoodReads_recommender - Copia.ipynb",
   "provenance": [],
   "toc_visible": true
  },
  "kernelspec": {
   "display_name": "Python 3",
   "language": "python",
   "name": "python3"
  },
  "language_info": {
   "codemirror_mode": {
    "name": "ipython",
    "version": 3
   },
   "file_extension": ".py",
   "mimetype": "text/x-python",
   "name": "python",
   "nbconvert_exporter": "python",
   "pygments_lexer": "ipython3",
   "version": "3.8.10"
  }
 },
 "nbformat": 4,
 "nbformat_minor": 1
}