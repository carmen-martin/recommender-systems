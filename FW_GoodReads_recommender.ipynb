{
 "cells": [
  {
   "cell_type": "code",
   "execution_count": 4,
   "metadata": {
    "colab": {
     "base_uri": "https://localhost:8080/"
    },
    "id": "M9fwkajk0JFu",
    "outputId": "4f2c9a27-2a9e-4f0e-d207-834d493497b0"
   },
   "outputs": [
    {
     "output_type": "stream",
     "name": "stdout",
     "text": [
      "Drive already mounted at /content/drive; to attempt to forcibly remount, call drive.mount(\"/content/drive\", force_remount=True).\n"
     ]
    }
   ],
   "source": [
    "import scipy.linalg\n",
    "from google.colab import drive\n",
    "drive.mount('/content/drive')"
   ]
  },
  {
   "cell_type": "markdown",
   "metadata": {
    "id": "65ARbMD3vBTq"
   },
   "source": [
    "# Pre-Processing"
   ]
  },
  {
   "cell_type": "markdown",
   "metadata": {
    "id": "3Vm7PYy7xNGZ"
   },
   "source": [
    "## Data Importing"
   ]
  },
  {
   "cell_type": "code",
   "execution_count": 1,
   "metadata": {
    "id": "ECj6WKmZ0XzI"
   },
   "outputs": [],
   "source": [
    "import numpy as np\n",
    "import pandas as pd\n",
    "\n",
    "pd.set_option('display.max_rows', 100)\n",
    "pd.set_option('display.max_columns', 100)"
   ]
  },
  {
   "cell_type": "code",
   "execution_count": 2,
   "metadata": {
    "id": "0Yt6f1OK0n0b"
   },
   "outputs": [],
   "source": [
    "#path = '/content/drive/MyDrive/O4DS - Project Work/goodreads_cleaned.csv'\n",
    "path = 'DATA/goodreads_cleaned.csv'"
   ]
  },
  {
   "cell_type": "code",
   "execution_count": 3,
   "metadata": {
    "colab": {
     "base_uri": "https://localhost:8080/",
     "height": 424
    },
    "id": "XPZR6p810sja",
    "outputId": "fd62773d-42bc-4d82-8d5b-98d8b239d281"
   },
   "outputs": [
    {
     "data": {
      "text/plain": "                                 user_id   book_id  rating\n0       8842281e1d1347389f2ab93d60773d4d  18245960       5\n1       8842281e1d1347389f2ab93d60773d4d     16981       3\n2       8842281e1d1347389f2ab93d60773d4d  28684704       3\n3       8842281e1d1347389f2ab93d60773d4d  27161156       0\n4       8842281e1d1347389f2ab93d60773d4d  25884323       4\n...                                  ...       ...     ...\n899995  b9450d1c1f97f891c392b1105959b56e  11832081       3\n899996  b9450d1c1f97f891c392b1105959b56e  16095092       3\n899997  b9450d1c1f97f891c392b1105959b56e   8430896       4\n899998  b9450d1c1f97f891c392b1105959b56e  12275680       4\n899999  b9450d1c1f97f891c392b1105959b56e     17005       3\n\n[900000 rows x 3 columns]",
      "text/html": "<div>\n<style scoped>\n    .dataframe tbody tr th:only-of-type {\n        vertical-align: middle;\n    }\n\n    .dataframe tbody tr th {\n        vertical-align: top;\n    }\n\n    .dataframe thead th {\n        text-align: right;\n    }\n</style>\n<table border=\"1\" class=\"dataframe\">\n  <thead>\n    <tr style=\"text-align: right;\">\n      <th></th>\n      <th>user_id</th>\n      <th>book_id</th>\n      <th>rating</th>\n    </tr>\n  </thead>\n  <tbody>\n    <tr>\n      <th>0</th>\n      <td>8842281e1d1347389f2ab93d60773d4d</td>\n      <td>18245960</td>\n      <td>5</td>\n    </tr>\n    <tr>\n      <th>1</th>\n      <td>8842281e1d1347389f2ab93d60773d4d</td>\n      <td>16981</td>\n      <td>3</td>\n    </tr>\n    <tr>\n      <th>2</th>\n      <td>8842281e1d1347389f2ab93d60773d4d</td>\n      <td>28684704</td>\n      <td>3</td>\n    </tr>\n    <tr>\n      <th>3</th>\n      <td>8842281e1d1347389f2ab93d60773d4d</td>\n      <td>27161156</td>\n      <td>0</td>\n    </tr>\n    <tr>\n      <th>4</th>\n      <td>8842281e1d1347389f2ab93d60773d4d</td>\n      <td>25884323</td>\n      <td>4</td>\n    </tr>\n    <tr>\n      <th>...</th>\n      <td>...</td>\n      <td>...</td>\n      <td>...</td>\n    </tr>\n    <tr>\n      <th>899995</th>\n      <td>b9450d1c1f97f891c392b1105959b56e</td>\n      <td>11832081</td>\n      <td>3</td>\n    </tr>\n    <tr>\n      <th>899996</th>\n      <td>b9450d1c1f97f891c392b1105959b56e</td>\n      <td>16095092</td>\n      <td>3</td>\n    </tr>\n    <tr>\n      <th>899997</th>\n      <td>b9450d1c1f97f891c392b1105959b56e</td>\n      <td>8430896</td>\n      <td>4</td>\n    </tr>\n    <tr>\n      <th>899998</th>\n      <td>b9450d1c1f97f891c392b1105959b56e</td>\n      <td>12275680</td>\n      <td>4</td>\n    </tr>\n    <tr>\n      <th>899999</th>\n      <td>b9450d1c1f97f891c392b1105959b56e</td>\n      <td>17005</td>\n      <td>3</td>\n    </tr>\n  </tbody>\n</table>\n<p>900000 rows × 3 columns</p>\n</div>"
     },
     "execution_count": 3,
     "metadata": {},
     "output_type": "execute_result"
    }
   ],
   "source": [
    "df = pd.read_csv(path, sep = \";\")\n",
    "df"
   ]
  },
  {
   "cell_type": "markdown",
   "metadata": {
    "id": "PPE9r1Q4xT1Z"
   },
   "source": [
    "## Data Exploration"
   ]
  },
  {
   "cell_type": "code",
   "execution_count": 4,
   "metadata": {
    "colab": {
     "base_uri": "https://localhost:8080/"
    },
    "id": "xBrJsOa1nmZl",
    "outputId": "ecc94afc-d4a0-43b4-cb47-5ba63254ae1a"
   },
   "outputs": [
    {
     "data": {
      "text/plain": "count    12188.000000\nmean        73.843124\nstd        103.860677\nmin          1.000000\n25%         14.000000\n50%         37.000000\n75%         92.000000\nmax       1815.000000\nName: user_id, dtype: float64"
     },
     "execution_count": 4,
     "metadata": {},
     "output_type": "execute_result"
    }
   ],
   "source": [
    "df.user_id.value_counts().describe()"
   ]
  },
  {
   "cell_type": "code",
   "execution_count": 5,
   "metadata": {
    "colab": {
     "base_uri": "https://localhost:8080/"
    },
    "id": "JH79waI4pO83",
    "outputId": "8b94587b-1d8a-4d9e-e553-c4dc1129dcb0"
   },
   "outputs": [
    {
     "data": {
      "text/plain": "count    25474.000000\nmean        35.330141\nstd         67.222413\nmin          1.000000\n25%         10.000000\n50%         17.000000\n75%         34.000000\nmax       1734.000000\nName: book_id, dtype: float64"
     },
     "execution_count": 5,
     "metadata": {},
     "output_type": "execute_result"
    }
   ],
   "source": [
    "df.book_id.value_counts().describe()"
   ]
  },
  {
   "cell_type": "markdown",
   "metadata": {
    "id": "dRNXYn4cxeG5"
   },
   "source": [
    "## Data Cleaning"
   ]
  },
  {
   "cell_type": "code",
   "execution_count": 6,
   "metadata": {
    "id": "Vbw2KbXRpvEK",
    "colab": {
     "base_uri": "https://localhost:8080/"
    },
    "outputId": "22ae7d43-feab-44e7-a7e0-650aa9430472"
   },
   "outputs": [
    {
     "data": {
      "text/plain": "457.0"
     },
     "execution_count": 6,
     "metadata": {},
     "output_type": "execute_result"
    }
   ],
   "source": [
    "df['book_id_count'] = df.groupby('book_id')['book_id'].transform('count')\n",
    "df['user_id_count'] = df.groupby('user_id')['user_id'].transform('count')\n",
    "df.book_id_count.quantile(0.9)"
   ]
  },
  {
   "cell_type": "code",
   "execution_count": 7,
   "metadata": {
    "id": "NTP9FUQmsJeX"
   },
   "outputs": [],
   "source": [
    "book_quantile = 0.9\n",
    "user_quantile = 0.25\n",
    "\n",
    "df = df.loc[(df.book_id_count >= df.book_id.value_counts().quantile(book_quantile)) & (df.user_id_count >= df.user_id.value_counts().quantile(user_quantile)),:]\n"
   ]
  },
  {
   "cell_type": "code",
   "execution_count": 8,
   "metadata": {
    "jupyter": {
     "outputs_hidden": false
    },
    "pycharm": {
     "name": "#%%\n"
    },
    "colab": {
     "base_uri": "https://localhost:8080/"
    },
    "id": "lwiSPjEwmqL7",
    "outputId": "e3d093cf-eada-443d-800b-6b44e5ce2b36"
   },
   "outputs": [
    {
     "data": {
      "text/plain": "(425794, 5)"
     },
     "execution_count": 8,
     "metadata": {},
     "output_type": "execute_result"
    }
   ],
   "source": [
    "df.shape"
   ]
  },
  {
   "cell_type": "markdown",
   "metadata": {
    "id": "XMoKEdpWxnWc"
   },
   "source": [
    "## Data Pivoting"
   ]
  },
  {
   "cell_type": "code",
   "execution_count": 9,
   "metadata": {
    "colab": {
     "base_uri": "https://localhost:8080/",
     "height": 488
    },
    "id": "p0BWaRDjApkr",
    "outputId": "910b163d-7f81-4e11-dfc9-9452eaf2e087"
   },
   "outputs": [
    {
     "data": {
      "text/plain": "book_id                           1         2         3         5         \\\nuser_id                                                                    \n000a1016fda6008d1edbba720ca00851       NaN       NaN       NaN       NaN   \n0011e1a9112b3d798702ef5b20bbf35b       NaN       NaN       NaN       NaN   \n0019de4561419b7543238e0979f2f33e       NaN       NaN       NaN       NaN   \n00204424763e8233c5f53f0729f2304f       NaN       NaN       NaN       NaN   \n00214d8b0a020837cccf5f41eb563037       NaN       NaN       NaN       NaN   \n00238d8a4c276c47f5d5e242f54a8f28       NaN       NaN       NaN       NaN   \n002a023d3de233b4bd3ec4fc3e9c581a       NaN       NaN       NaN       NaN   \n002e063d40ae0107a59d8f9c1aa7a423       NaN       NaN       NaN       NaN   \n005238c5743d61b58e49d5da089e43df       NaN       NaN       NaN       NaN   \n005a572f0bfe510fa796e6eadc6a2eb4       NaN       NaN       NaN       NaN   \n\nbook_id                           6         11        34        295       \\\nuser_id                                                                    \n000a1016fda6008d1edbba720ca00851       NaN       NaN       NaN       NaN   \n0011e1a9112b3d798702ef5b20bbf35b       NaN       NaN       NaN       NaN   \n0019de4561419b7543238e0979f2f33e       NaN       NaN       NaN       NaN   \n00204424763e8233c5f53f0729f2304f       NaN       NaN       NaN       NaN   \n00214d8b0a020837cccf5f41eb563037       NaN       NaN       NaN       NaN   \n00238d8a4c276c47f5d5e242f54a8f28       NaN       NaN       NaN       NaN   \n002a023d3de233b4bd3ec4fc3e9c581a       NaN       NaN       NaN       NaN   \n002e063d40ae0107a59d8f9c1aa7a423       NaN       NaN       NaN       NaN   \n005238c5743d61b58e49d5da089e43df       NaN       NaN       NaN       NaN   \n005a572f0bfe510fa796e6eadc6a2eb4       NaN       NaN       NaN       NaN   \n\nbook_id                           320       343       350       662       \\\nuser_id                                                                    \n000a1016fda6008d1edbba720ca00851       NaN       NaN       NaN       NaN   \n0011e1a9112b3d798702ef5b20bbf35b       NaN       NaN       NaN       NaN   \n0019de4561419b7543238e0979f2f33e       NaN       NaN       NaN       NaN   \n00204424763e8233c5f53f0729f2304f       NaN       NaN       NaN       NaN   \n00214d8b0a020837cccf5f41eb563037       NaN       NaN       NaN       NaN   \n00238d8a4c276c47f5d5e242f54a8f28       NaN       NaN       NaN       NaN   \n002a023d3de233b4bd3ec4fc3e9c581a       NaN       NaN       NaN       NaN   \n002e063d40ae0107a59d8f9c1aa7a423       NaN       NaN       NaN       NaN   \n005238c5743d61b58e49d5da089e43df       NaN       NaN       NaN       NaN   \n005a572f0bfe510fa796e6eadc6a2eb4       NaN       NaN       NaN       NaN   \n\nbook_id                           667       830       865       890       \\\nuser_id                                                                    \n000a1016fda6008d1edbba720ca00851       NaN       NaN       NaN       NaN   \n0011e1a9112b3d798702ef5b20bbf35b       NaN       NaN       NaN       NaN   \n0019de4561419b7543238e0979f2f33e       NaN       NaN       NaN       NaN   \n00204424763e8233c5f53f0729f2304f       NaN       NaN       NaN       NaN   \n00214d8b0a020837cccf5f41eb563037       NaN       NaN       NaN       NaN   \n00238d8a4c276c47f5d5e242f54a8f28       NaN       NaN       NaN       NaN   \n002a023d3de233b4bd3ec4fc3e9c581a       NaN       NaN       NaN       NaN   \n002e063d40ae0107a59d8f9c1aa7a423       NaN       NaN       NaN       NaN   \n005238c5743d61b58e49d5da089e43df       NaN       1.0       NaN       NaN   \n005a572f0bfe510fa796e6eadc6a2eb4       NaN       NaN       NaN       NaN   \n\nbook_id                           902       930       960       968       \\\nuser_id                                                                    \n000a1016fda6008d1edbba720ca00851       NaN       NaN       NaN       NaN   \n0011e1a9112b3d798702ef5b20bbf35b       NaN       NaN       NaN       NaN   \n0019de4561419b7543238e0979f2f33e       NaN       NaN       NaN       NaN   \n00204424763e8233c5f53f0729f2304f       NaN       NaN       NaN       NaN   \n00214d8b0a020837cccf5f41eb563037       NaN       NaN       NaN       NaN   \n00238d8a4c276c47f5d5e242f54a8f28       NaN       NaN       NaN       NaN   \n002a023d3de233b4bd3ec4fc3e9c581a       NaN       NaN       NaN       NaN   \n002e063d40ae0107a59d8f9c1aa7a423       NaN       NaN       NaN       NaN   \n005238c5743d61b58e49d5da089e43df       NaN       NaN       NaN       NaN   \n005a572f0bfe510fa796e6eadc6a2eb4       NaN       NaN       NaN       NaN   \n\nbook_id                           1103      1232      1420      1617      \\\nuser_id                                                                    \n000a1016fda6008d1edbba720ca00851       NaN       NaN       NaN       NaN   \n0011e1a9112b3d798702ef5b20bbf35b       NaN       NaN       NaN       NaN   \n0019de4561419b7543238e0979f2f33e       NaN       NaN       NaN       NaN   \n00204424763e8233c5f53f0729f2304f       NaN       NaN       NaN       NaN   \n00214d8b0a020837cccf5f41eb563037       NaN       NaN       NaN       NaN   \n00238d8a4c276c47f5d5e242f54a8f28       NaN       NaN       NaN       NaN   \n002a023d3de233b4bd3ec4fc3e9c581a       5.0       4.0       NaN       NaN   \n002e063d40ae0107a59d8f9c1aa7a423       NaN       NaN       NaN       NaN   \n005238c5743d61b58e49d5da089e43df       NaN       NaN       NaN       NaN   \n005a572f0bfe510fa796e6eadc6a2eb4       NaN       NaN       NaN       NaN   \n\nbook_id                           1618      1622      1845      1852      \\\nuser_id                                                                    \n000a1016fda6008d1edbba720ca00851       NaN       NaN       NaN       NaN   \n0011e1a9112b3d798702ef5b20bbf35b       NaN       NaN       NaN       NaN   \n0019de4561419b7543238e0979f2f33e       NaN       NaN       NaN       NaN   \n00204424763e8233c5f53f0729f2304f       NaN       NaN       NaN       NaN   \n00214d8b0a020837cccf5f41eb563037       NaN       NaN       NaN       NaN   \n00238d8a4c276c47f5d5e242f54a8f28       NaN       NaN       NaN       NaN   \n002a023d3de233b4bd3ec4fc3e9c581a       5.0       NaN       NaN       NaN   \n002e063d40ae0107a59d8f9c1aa7a423       NaN       NaN       NaN       NaN   \n005238c5743d61b58e49d5da089e43df       NaN       NaN       NaN       NaN   \n005a572f0bfe510fa796e6eadc6a2eb4       NaN       NaN       NaN       NaN   \n\nbook_id                           1885      1934      1953      2052      \\\nuser_id                                                                    \n000a1016fda6008d1edbba720ca00851       NaN       NaN       NaN       NaN   \n0011e1a9112b3d798702ef5b20bbf35b       NaN       NaN       NaN       NaN   \n0019de4561419b7543238e0979f2f33e       NaN       NaN       NaN       NaN   \n00204424763e8233c5f53f0729f2304f       NaN       NaN       NaN       NaN   \n00214d8b0a020837cccf5f41eb563037       NaN       NaN       NaN       NaN   \n00238d8a4c276c47f5d5e242f54a8f28       NaN       NaN       NaN       NaN   \n002a023d3de233b4bd3ec4fc3e9c581a       NaN       NaN       NaN       NaN   \n002e063d40ae0107a59d8f9c1aa7a423       NaN       NaN       NaN       NaN   \n005238c5743d61b58e49d5da089e43df       NaN       NaN       NaN       NaN   \n005a572f0bfe510fa796e6eadc6a2eb4       NaN       NaN       NaN       NaN   \n\nbook_id                           2156      2165      2187      2493      \\\nuser_id                                                                    \n000a1016fda6008d1edbba720ca00851       NaN       NaN       NaN       NaN   \n0011e1a9112b3d798702ef5b20bbf35b       NaN       NaN       NaN       NaN   \n0019de4561419b7543238e0979f2f33e       NaN       NaN       NaN       NaN   \n00204424763e8233c5f53f0729f2304f       NaN       NaN       NaN       NaN   \n00214d8b0a020837cccf5f41eb563037       NaN       NaN       NaN       NaN   \n00238d8a4c276c47f5d5e242f54a8f28       NaN       NaN       NaN       NaN   \n002a023d3de233b4bd3ec4fc3e9c581a       NaN       NaN       NaN       NaN   \n002e063d40ae0107a59d8f9c1aa7a423       NaN       NaN       NaN       NaN   \n005238c5743d61b58e49d5da089e43df       NaN       NaN       NaN       NaN   \n005a572f0bfe510fa796e6eadc6a2eb4       NaN       NaN       NaN       NaN   \n\nbook_id                           2526      2612      2623      2657      \\\nuser_id                                                                    \n000a1016fda6008d1edbba720ca00851       NaN       NaN       NaN       NaN   \n0011e1a9112b3d798702ef5b20bbf35b       NaN       NaN       NaN       NaN   \n0019de4561419b7543238e0979f2f33e       NaN       NaN       NaN       NaN   \n00204424763e8233c5f53f0729f2304f       NaN       NaN       NaN       NaN   \n00214d8b0a020837cccf5f41eb563037       NaN       NaN       NaN       NaN   \n00238d8a4c276c47f5d5e242f54a8f28       NaN       NaN       NaN       NaN   \n002a023d3de233b4bd3ec4fc3e9c581a       NaN       NaN       NaN       NaN   \n002e063d40ae0107a59d8f9c1aa7a423       NaN       NaN       NaN       NaN   \n005238c5743d61b58e49d5da089e43df       NaN       NaN       NaN       NaN   \n005a572f0bfe510fa796e6eadc6a2eb4       NaN       NaN       NaN       NaN   \n\nbook_id                           2744      2839      2956      2998      \\\nuser_id                                                                    \n000a1016fda6008d1edbba720ca00851       NaN       NaN       NaN       NaN   \n0011e1a9112b3d798702ef5b20bbf35b       NaN       NaN       NaN       NaN   \n0019de4561419b7543238e0979f2f33e       NaN       NaN       NaN       NaN   \n00204424763e8233c5f53f0729f2304f       NaN       NaN       NaN       NaN   \n00214d8b0a020837cccf5f41eb563037       NaN       NaN       NaN       NaN   \n00238d8a4c276c47f5d5e242f54a8f28       NaN       NaN       NaN       NaN   \n002a023d3de233b4bd3ec4fc3e9c581a       NaN       NaN       NaN       NaN   \n002e063d40ae0107a59d8f9c1aa7a423       NaN       NaN       NaN       NaN   \n005238c5743d61b58e49d5da089e43df       NaN       NaN       NaN       NaN   \n005a572f0bfe510fa796e6eadc6a2eb4       NaN       NaN       NaN       NaN   \n\nbook_id                           3008      3431      3473      3636      \\\nuser_id                                                                    \n000a1016fda6008d1edbba720ca00851       NaN       NaN       NaN       NaN   \n0011e1a9112b3d798702ef5b20bbf35b       NaN       NaN       NaN       NaN   \n0019de4561419b7543238e0979f2f33e       NaN       NaN       NaN       NaN   \n00204424763e8233c5f53f0729f2304f       NaN       NaN       NaN       NaN   \n00214d8b0a020837cccf5f41eb563037       NaN       NaN       NaN       NaN   \n00238d8a4c276c47f5d5e242f54a8f28       NaN       NaN       NaN       NaN   \n002a023d3de233b4bd3ec4fc3e9c581a       NaN       NaN       NaN       4.0   \n002e063d40ae0107a59d8f9c1aa7a423       NaN       NaN       NaN       NaN   \n005238c5743d61b58e49d5da089e43df       NaN       NaN       NaN       NaN   \n005a572f0bfe510fa796e6eadc6a2eb4       NaN       NaN       NaN       NaN   \n\nbook_id                           3682      3758      ...  30269126  30312891  \\\nuser_id                                               ...                       \n000a1016fda6008d1edbba720ca00851       NaN       NaN  ...       NaN       NaN   \n0011e1a9112b3d798702ef5b20bbf35b       NaN       NaN  ...       NaN       NaN   \n0019de4561419b7543238e0979f2f33e       3.0       NaN  ...       NaN       NaN   \n00204424763e8233c5f53f0729f2304f       NaN       NaN  ...       NaN       NaN   \n00214d8b0a020837cccf5f41eb563037       NaN       NaN  ...       NaN       NaN   \n00238d8a4c276c47f5d5e242f54a8f28       NaN       NaN  ...       NaN       NaN   \n002a023d3de233b4bd3ec4fc3e9c581a       NaN       NaN  ...       NaN       NaN   \n002e063d40ae0107a59d8f9c1aa7a423       NaN       NaN  ...       NaN       NaN   \n005238c5743d61b58e49d5da089e43df       NaN       NaN  ...       NaN       NaN   \n005a572f0bfe510fa796e6eadc6a2eb4       NaN       NaN  ...       NaN       NaN   \n\nbook_id                           30325011  30415154  30555488  30633337  \\\nuser_id                                                                    \n000a1016fda6008d1edbba720ca00851       NaN       NaN       NaN       NaN   \n0011e1a9112b3d798702ef5b20bbf35b       NaN       NaN       NaN       NaN   \n0019de4561419b7543238e0979f2f33e       NaN       NaN       NaN       NaN   \n00204424763e8233c5f53f0729f2304f       NaN       NaN       NaN       NaN   \n00214d8b0a020837cccf5f41eb563037       NaN       NaN       NaN       NaN   \n00238d8a4c276c47f5d5e242f54a8f28       NaN       NaN       NaN       NaN   \n002a023d3de233b4bd3ec4fc3e9c581a       NaN       NaN       NaN       NaN   \n002e063d40ae0107a59d8f9c1aa7a423       NaN       NaN       NaN       NaN   \n005238c5743d61b58e49d5da089e43df       NaN       NaN       NaN       NaN   \n005a572f0bfe510fa796e6eadc6a2eb4       NaN       NaN       NaN       NaN   \n\nbook_id                           30653853  30687916  30688435  30724132  \\\nuser_id                                                                    \n000a1016fda6008d1edbba720ca00851       NaN       NaN       NaN       NaN   \n0011e1a9112b3d798702ef5b20bbf35b       NaN       NaN       NaN       NaN   \n0019de4561419b7543238e0979f2f33e       NaN       NaN       NaN       NaN   \n00204424763e8233c5f53f0729f2304f       NaN       NaN       NaN       NaN   \n00214d8b0a020837cccf5f41eb563037       NaN       NaN       NaN       NaN   \n00238d8a4c276c47f5d5e242f54a8f28       NaN       NaN       NaN       NaN   \n002a023d3de233b4bd3ec4fc3e9c581a       NaN       NaN       NaN       NaN   \n002e063d40ae0107a59d8f9c1aa7a423       NaN       NaN       NaN       NaN   \n005238c5743d61b58e49d5da089e43df       NaN       NaN       NaN       NaN   \n005a572f0bfe510fa796e6eadc6a2eb4       NaN       NaN       NaN       NaN   \n\nbook_id                           30731416  30747137  30809689  30821598  \\\nuser_id                                                                    \n000a1016fda6008d1edbba720ca00851       NaN       NaN       NaN       NaN   \n0011e1a9112b3d798702ef5b20bbf35b       NaN       NaN       NaN       NaN   \n0019de4561419b7543238e0979f2f33e       NaN       NaN       NaN       NaN   \n00204424763e8233c5f53f0729f2304f       NaN       NaN       NaN       NaN   \n00214d8b0a020837cccf5f41eb563037       NaN       NaN       NaN       NaN   \n00238d8a4c276c47f5d5e242f54a8f28       NaN       NaN       NaN       NaN   \n002a023d3de233b4bd3ec4fc3e9c581a       NaN       NaN       NaN       NaN   \n002e063d40ae0107a59d8f9c1aa7a423       NaN       NaN       NaN       NaN   \n005238c5743d61b58e49d5da089e43df       NaN       NaN       NaN       NaN   \n005a572f0bfe510fa796e6eadc6a2eb4       NaN       NaN       NaN       NaN   \n\nbook_id                           30831912  30839185  30969741  31140847  \\\nuser_id                                                                    \n000a1016fda6008d1edbba720ca00851       NaN       NaN       NaN       NaN   \n0011e1a9112b3d798702ef5b20bbf35b       NaN       NaN       NaN       NaN   \n0019de4561419b7543238e0979f2f33e       NaN       NaN       NaN       NaN   \n00204424763e8233c5f53f0729f2304f       NaN       NaN       NaN       NaN   \n00214d8b0a020837cccf5f41eb563037       NaN       NaN       NaN       NaN   \n00238d8a4c276c47f5d5e242f54a8f28       NaN       NaN       NaN       NaN   \n002a023d3de233b4bd3ec4fc3e9c581a       NaN       NaN       NaN       NaN   \n002e063d40ae0107a59d8f9c1aa7a423       NaN       NaN       NaN       NaN   \n005238c5743d61b58e49d5da089e43df       NaN       NaN       NaN       NaN   \n005a572f0bfe510fa796e6eadc6a2eb4       NaN       NaN       NaN       NaN   \n\nbook_id                           31145133  31145148  31176886  31423196  \\\nuser_id                                                                    \n000a1016fda6008d1edbba720ca00851       NaN       NaN       NaN       NaN   \n0011e1a9112b3d798702ef5b20bbf35b       NaN       NaN       NaN       NaN   \n0019de4561419b7543238e0979f2f33e       NaN       NaN       NaN       NaN   \n00204424763e8233c5f53f0729f2304f       NaN       NaN       NaN       NaN   \n00214d8b0a020837cccf5f41eb563037       NaN       NaN       NaN       NaN   \n00238d8a4c276c47f5d5e242f54a8f28       NaN       NaN       NaN       NaN   \n002a023d3de233b4bd3ec4fc3e9c581a       NaN       NaN       NaN       NaN   \n002e063d40ae0107a59d8f9c1aa7a423       NaN       NaN       NaN       NaN   \n005238c5743d61b58e49d5da089e43df       NaN       NaN       NaN       NaN   \n005a572f0bfe510fa796e6eadc6a2eb4       NaN       NaN       NaN       NaN   \n\nbook_id                           31450752  31450852  31450908  31451174  \\\nuser_id                                                                    \n000a1016fda6008d1edbba720ca00851       NaN       NaN       NaN       NaN   \n0011e1a9112b3d798702ef5b20bbf35b       NaN       NaN       NaN       NaN   \n0019de4561419b7543238e0979f2f33e       NaN       NaN       NaN       NaN   \n00204424763e8233c5f53f0729f2304f       NaN       NaN       NaN       NaN   \n00214d8b0a020837cccf5f41eb563037       NaN       NaN       NaN       NaN   \n00238d8a4c276c47f5d5e242f54a8f28       NaN       NaN       NaN       NaN   \n002a023d3de233b4bd3ec4fc3e9c581a       NaN       NaN       NaN       NaN   \n002e063d40ae0107a59d8f9c1aa7a423       NaN       NaN       NaN       NaN   \n005238c5743d61b58e49d5da089e43df       NaN       NaN       NaN       NaN   \n005a572f0bfe510fa796e6eadc6a2eb4       NaN       NaN       NaN       NaN   \n\nbook_id                           31538614  31538635  31538647  31931941  \\\nuser_id                                                                    \n000a1016fda6008d1edbba720ca00851       NaN       NaN       NaN       NaN   \n0011e1a9112b3d798702ef5b20bbf35b       NaN       NaN       NaN       NaN   \n0019de4561419b7543238e0979f2f33e       NaN       NaN       NaN       NaN   \n00204424763e8233c5f53f0729f2304f       NaN       NaN       NaN       NaN   \n00214d8b0a020837cccf5f41eb563037       NaN       NaN       NaN       NaN   \n00238d8a4c276c47f5d5e242f54a8f28       NaN       NaN       NaN       NaN   \n002a023d3de233b4bd3ec4fc3e9c581a       NaN       NaN       NaN       NaN   \n002e063d40ae0107a59d8f9c1aa7a423       NaN       NaN       NaN       NaN   \n005238c5743d61b58e49d5da089e43df       NaN       NaN       NaN       NaN   \n005a572f0bfe510fa796e6eadc6a2eb4       NaN       NaN       NaN       NaN   \n\nbook_id                           31952703  32075662  32075671  32078787  \\\nuser_id                                                                    \n000a1016fda6008d1edbba720ca00851       NaN       NaN       NaN       NaN   \n0011e1a9112b3d798702ef5b20bbf35b       NaN       NaN       NaN       NaN   \n0019de4561419b7543238e0979f2f33e       NaN       NaN       NaN       NaN   \n00204424763e8233c5f53f0729f2304f       NaN       NaN       NaN       NaN   \n00214d8b0a020837cccf5f41eb563037       NaN       NaN       NaN       NaN   \n00238d8a4c276c47f5d5e242f54a8f28       NaN       NaN       NaN       NaN   \n002a023d3de233b4bd3ec4fc3e9c581a       NaN       NaN       NaN       NaN   \n002e063d40ae0107a59d8f9c1aa7a423       NaN       NaN       NaN       NaN   \n005238c5743d61b58e49d5da089e43df       NaN       NaN       NaN       NaN   \n005a572f0bfe510fa796e6eadc6a2eb4       NaN       NaN       NaN       NaN   \n\nbook_id                           32571395  32796253  32848471  33140405  \\\nuser_id                                                                    \n000a1016fda6008d1edbba720ca00851       NaN       NaN       NaN       NaN   \n0011e1a9112b3d798702ef5b20bbf35b       NaN       NaN       NaN       NaN   \n0019de4561419b7543238e0979f2f33e       NaN       NaN       NaN       NaN   \n00204424763e8233c5f53f0729f2304f       NaN       NaN       NaN       NaN   \n00214d8b0a020837cccf5f41eb563037       NaN       NaN       NaN       NaN   \n00238d8a4c276c47f5d5e242f54a8f28       NaN       NaN       NaN       NaN   \n002a023d3de233b4bd3ec4fc3e9c581a       NaN       NaN       NaN       NaN   \n002e063d40ae0107a59d8f9c1aa7a423       NaN       NaN       NaN       NaN   \n005238c5743d61b58e49d5da089e43df       NaN       NaN       NaN       NaN   \n005a572f0bfe510fa796e6eadc6a2eb4       NaN       NaN       NaN       NaN   \n\nbook_id                           33151805  33232571  33280872  33288638  \\\nuser_id                                                                    \n000a1016fda6008d1edbba720ca00851       NaN       NaN       NaN       NaN   \n0011e1a9112b3d798702ef5b20bbf35b       NaN       NaN       NaN       NaN   \n0019de4561419b7543238e0979f2f33e       NaN       NaN       NaN       NaN   \n00204424763e8233c5f53f0729f2304f       NaN       NaN       NaN       NaN   \n00214d8b0a020837cccf5f41eb563037       NaN       NaN       NaN       NaN   \n00238d8a4c276c47f5d5e242f54a8f28       NaN       NaN       NaN       4.0   \n002a023d3de233b4bd3ec4fc3e9c581a       NaN       NaN       NaN       NaN   \n002e063d40ae0107a59d8f9c1aa7a423       NaN       NaN       NaN       NaN   \n005238c5743d61b58e49d5da089e43df       NaN       NaN       NaN       NaN   \n005a572f0bfe510fa796e6eadc6a2eb4       NaN       NaN       NaN       NaN   \n\nbook_id                           33385229  33643994  34044126  34076952  \\\nuser_id                                                                    \n000a1016fda6008d1edbba720ca00851       NaN       NaN       NaN       NaN   \n0011e1a9112b3d798702ef5b20bbf35b       NaN       NaN       NaN       NaN   \n0019de4561419b7543238e0979f2f33e       NaN       NaN       NaN       NaN   \n00204424763e8233c5f53f0729f2304f       NaN       NaN       NaN       NaN   \n00214d8b0a020837cccf5f41eb563037       NaN       NaN       NaN       NaN   \n00238d8a4c276c47f5d5e242f54a8f28       NaN       NaN       NaN       NaN   \n002a023d3de233b4bd3ec4fc3e9c581a       NaN       NaN       NaN       NaN   \n002e063d40ae0107a59d8f9c1aa7a423       NaN       NaN       NaN       NaN   \n005238c5743d61b58e49d5da089e43df       NaN       NaN       NaN       NaN   \n005a572f0bfe510fa796e6eadc6a2eb4       NaN       NaN       NaN       NaN   \n\nbook_id                           34273458  35247769  35404657  35504431  \nuser_id                                                                   \n000a1016fda6008d1edbba720ca00851       NaN       NaN       NaN       NaN  \n0011e1a9112b3d798702ef5b20bbf35b       NaN       NaN       NaN       NaN  \n0019de4561419b7543238e0979f2f33e       NaN       NaN       NaN       NaN  \n00204424763e8233c5f53f0729f2304f       NaN       NaN       NaN       NaN  \n00214d8b0a020837cccf5f41eb563037       NaN       NaN       NaN       NaN  \n00238d8a4c276c47f5d5e242f54a8f28       NaN       NaN       NaN       NaN  \n002a023d3de233b4bd3ec4fc3e9c581a       NaN       NaN       NaN       NaN  \n002e063d40ae0107a59d8f9c1aa7a423       NaN       NaN       NaN       NaN  \n005238c5743d61b58e49d5da089e43df       NaN       NaN       NaN       NaN  \n005a572f0bfe510fa796e6eadc6a2eb4       NaN       NaN       NaN       NaN  \n\n[10 rows x 2575 columns]",
      "text/html": "<div>\n<style scoped>\n    .dataframe tbody tr th:only-of-type {\n        vertical-align: middle;\n    }\n\n    .dataframe tbody tr th {\n        vertical-align: top;\n    }\n\n    .dataframe thead th {\n        text-align: right;\n    }\n</style>\n<table border=\"1\" class=\"dataframe\">\n  <thead>\n    <tr style=\"text-align: right;\">\n      <th>book_id</th>\n      <th>1</th>\n      <th>2</th>\n      <th>3</th>\n      <th>5</th>\n      <th>6</th>\n      <th>11</th>\n      <th>34</th>\n      <th>295</th>\n      <th>320</th>\n      <th>343</th>\n      <th>350</th>\n      <th>662</th>\n      <th>667</th>\n      <th>830</th>\n      <th>865</th>\n      <th>890</th>\n      <th>902</th>\n      <th>930</th>\n      <th>960</th>\n      <th>968</th>\n      <th>1103</th>\n      <th>1232</th>\n      <th>1420</th>\n      <th>1617</th>\n      <th>1618</th>\n      <th>1622</th>\n      <th>1845</th>\n      <th>1852</th>\n      <th>1885</th>\n      <th>1934</th>\n      <th>1953</th>\n      <th>2052</th>\n      <th>2156</th>\n      <th>2165</th>\n      <th>2187</th>\n      <th>2493</th>\n      <th>2526</th>\n      <th>2612</th>\n      <th>2623</th>\n      <th>2657</th>\n      <th>2744</th>\n      <th>2839</th>\n      <th>2956</th>\n      <th>2998</th>\n      <th>3008</th>\n      <th>3431</th>\n      <th>3473</th>\n      <th>3636</th>\n      <th>3682</th>\n      <th>3758</th>\n      <th>...</th>\n      <th>30269126</th>\n      <th>30312891</th>\n      <th>30325011</th>\n      <th>30415154</th>\n      <th>30555488</th>\n      <th>30633337</th>\n      <th>30653853</th>\n      <th>30687916</th>\n      <th>30688435</th>\n      <th>30724132</th>\n      <th>30731416</th>\n      <th>30747137</th>\n      <th>30809689</th>\n      <th>30821598</th>\n      <th>30831912</th>\n      <th>30839185</th>\n      <th>30969741</th>\n      <th>31140847</th>\n      <th>31145133</th>\n      <th>31145148</th>\n      <th>31176886</th>\n      <th>31423196</th>\n      <th>31450752</th>\n      <th>31450852</th>\n      <th>31450908</th>\n      <th>31451174</th>\n      <th>31538614</th>\n      <th>31538635</th>\n      <th>31538647</th>\n      <th>31931941</th>\n      <th>31952703</th>\n      <th>32075662</th>\n      <th>32075671</th>\n      <th>32078787</th>\n      <th>32571395</th>\n      <th>32796253</th>\n      <th>32848471</th>\n      <th>33140405</th>\n      <th>33151805</th>\n      <th>33232571</th>\n      <th>33280872</th>\n      <th>33288638</th>\n      <th>33385229</th>\n      <th>33643994</th>\n      <th>34044126</th>\n      <th>34076952</th>\n      <th>34273458</th>\n      <th>35247769</th>\n      <th>35404657</th>\n      <th>35504431</th>\n    </tr>\n    <tr>\n      <th>user_id</th>\n      <th></th>\n      <th></th>\n      <th></th>\n      <th></th>\n      <th></th>\n      <th></th>\n      <th></th>\n      <th></th>\n      <th></th>\n      <th></th>\n      <th></th>\n      <th></th>\n      <th></th>\n      <th></th>\n      <th></th>\n      <th></th>\n      <th></th>\n      <th></th>\n      <th></th>\n      <th></th>\n      <th></th>\n      <th></th>\n      <th></th>\n      <th></th>\n      <th></th>\n      <th></th>\n      <th></th>\n      <th></th>\n      <th></th>\n      <th></th>\n      <th></th>\n      <th></th>\n      <th></th>\n      <th></th>\n      <th></th>\n      <th></th>\n      <th></th>\n      <th></th>\n      <th></th>\n      <th></th>\n      <th></th>\n      <th></th>\n      <th></th>\n      <th></th>\n      <th></th>\n      <th></th>\n      <th></th>\n      <th></th>\n      <th></th>\n      <th></th>\n      <th></th>\n      <th></th>\n      <th></th>\n      <th></th>\n      <th></th>\n      <th></th>\n      <th></th>\n      <th></th>\n      <th></th>\n      <th></th>\n      <th></th>\n      <th></th>\n      <th></th>\n      <th></th>\n      <th></th>\n      <th></th>\n      <th></th>\n      <th></th>\n      <th></th>\n      <th></th>\n      <th></th>\n      <th></th>\n      <th></th>\n      <th></th>\n      <th></th>\n      <th></th>\n      <th></th>\n      <th></th>\n      <th></th>\n      <th></th>\n      <th></th>\n      <th></th>\n      <th></th>\n      <th></th>\n      <th></th>\n      <th></th>\n      <th></th>\n      <th></th>\n      <th></th>\n      <th></th>\n      <th></th>\n      <th></th>\n      <th></th>\n      <th></th>\n      <th></th>\n      <th></th>\n      <th></th>\n      <th></th>\n      <th></th>\n      <th></th>\n      <th></th>\n    </tr>\n  </thead>\n  <tbody>\n    <tr>\n      <th>000a1016fda6008d1edbba720ca00851</th>\n      <td>NaN</td>\n      <td>NaN</td>\n      <td>NaN</td>\n      <td>NaN</td>\n      <td>NaN</td>\n      <td>NaN</td>\n      <td>NaN</td>\n      <td>NaN</td>\n      <td>NaN</td>\n      <td>NaN</td>\n      <td>NaN</td>\n      <td>NaN</td>\n      <td>NaN</td>\n      <td>NaN</td>\n      <td>NaN</td>\n      <td>NaN</td>\n      <td>NaN</td>\n      <td>NaN</td>\n      <td>NaN</td>\n      <td>NaN</td>\n      <td>NaN</td>\n      <td>NaN</td>\n      <td>NaN</td>\n      <td>NaN</td>\n      <td>NaN</td>\n      <td>NaN</td>\n      <td>NaN</td>\n      <td>NaN</td>\n      <td>NaN</td>\n      <td>NaN</td>\n      <td>NaN</td>\n      <td>NaN</td>\n      <td>NaN</td>\n      <td>NaN</td>\n      <td>NaN</td>\n      <td>NaN</td>\n      <td>NaN</td>\n      <td>NaN</td>\n      <td>NaN</td>\n      <td>NaN</td>\n      <td>NaN</td>\n      <td>NaN</td>\n      <td>NaN</td>\n      <td>NaN</td>\n      <td>NaN</td>\n      <td>NaN</td>\n      <td>NaN</td>\n      <td>NaN</td>\n      <td>NaN</td>\n      <td>NaN</td>\n      <td>...</td>\n      <td>NaN</td>\n      <td>NaN</td>\n      <td>NaN</td>\n      <td>NaN</td>\n      <td>NaN</td>\n      <td>NaN</td>\n      <td>NaN</td>\n      <td>NaN</td>\n      <td>NaN</td>\n      <td>NaN</td>\n      <td>NaN</td>\n      <td>NaN</td>\n      <td>NaN</td>\n      <td>NaN</td>\n      <td>NaN</td>\n      <td>NaN</td>\n      <td>NaN</td>\n      <td>NaN</td>\n      <td>NaN</td>\n      <td>NaN</td>\n      <td>NaN</td>\n      <td>NaN</td>\n      <td>NaN</td>\n      <td>NaN</td>\n      <td>NaN</td>\n      <td>NaN</td>\n      <td>NaN</td>\n      <td>NaN</td>\n      <td>NaN</td>\n      <td>NaN</td>\n      <td>NaN</td>\n      <td>NaN</td>\n      <td>NaN</td>\n      <td>NaN</td>\n      <td>NaN</td>\n      <td>NaN</td>\n      <td>NaN</td>\n      <td>NaN</td>\n      <td>NaN</td>\n      <td>NaN</td>\n      <td>NaN</td>\n      <td>NaN</td>\n      <td>NaN</td>\n      <td>NaN</td>\n      <td>NaN</td>\n      <td>NaN</td>\n      <td>NaN</td>\n      <td>NaN</td>\n      <td>NaN</td>\n      <td>NaN</td>\n    </tr>\n    <tr>\n      <th>0011e1a9112b3d798702ef5b20bbf35b</th>\n      <td>NaN</td>\n      <td>NaN</td>\n      <td>NaN</td>\n      <td>NaN</td>\n      <td>NaN</td>\n      <td>NaN</td>\n      <td>NaN</td>\n      <td>NaN</td>\n      <td>NaN</td>\n      <td>NaN</td>\n      <td>NaN</td>\n      <td>NaN</td>\n      <td>NaN</td>\n      <td>NaN</td>\n      <td>NaN</td>\n      <td>NaN</td>\n      <td>NaN</td>\n      <td>NaN</td>\n      <td>NaN</td>\n      <td>NaN</td>\n      <td>NaN</td>\n      <td>NaN</td>\n      <td>NaN</td>\n      <td>NaN</td>\n      <td>NaN</td>\n      <td>NaN</td>\n      <td>NaN</td>\n      <td>NaN</td>\n      <td>NaN</td>\n      <td>NaN</td>\n      <td>NaN</td>\n      <td>NaN</td>\n      <td>NaN</td>\n      <td>NaN</td>\n      <td>NaN</td>\n      <td>NaN</td>\n      <td>NaN</td>\n      <td>NaN</td>\n      <td>NaN</td>\n      <td>NaN</td>\n      <td>NaN</td>\n      <td>NaN</td>\n      <td>NaN</td>\n      <td>NaN</td>\n      <td>NaN</td>\n      <td>NaN</td>\n      <td>NaN</td>\n      <td>NaN</td>\n      <td>NaN</td>\n      <td>NaN</td>\n      <td>...</td>\n      <td>NaN</td>\n      <td>NaN</td>\n      <td>NaN</td>\n      <td>NaN</td>\n      <td>NaN</td>\n      <td>NaN</td>\n      <td>NaN</td>\n      <td>NaN</td>\n      <td>NaN</td>\n      <td>NaN</td>\n      <td>NaN</td>\n      <td>NaN</td>\n      <td>NaN</td>\n      <td>NaN</td>\n      <td>NaN</td>\n      <td>NaN</td>\n      <td>NaN</td>\n      <td>NaN</td>\n      <td>NaN</td>\n      <td>NaN</td>\n      <td>NaN</td>\n      <td>NaN</td>\n      <td>NaN</td>\n      <td>NaN</td>\n      <td>NaN</td>\n      <td>NaN</td>\n      <td>NaN</td>\n      <td>NaN</td>\n      <td>NaN</td>\n      <td>NaN</td>\n      <td>NaN</td>\n      <td>NaN</td>\n      <td>NaN</td>\n      <td>NaN</td>\n      <td>NaN</td>\n      <td>NaN</td>\n      <td>NaN</td>\n      <td>NaN</td>\n      <td>NaN</td>\n      <td>NaN</td>\n      <td>NaN</td>\n      <td>NaN</td>\n      <td>NaN</td>\n      <td>NaN</td>\n      <td>NaN</td>\n      <td>NaN</td>\n      <td>NaN</td>\n      <td>NaN</td>\n      <td>NaN</td>\n      <td>NaN</td>\n    </tr>\n    <tr>\n      <th>0019de4561419b7543238e0979f2f33e</th>\n      <td>NaN</td>\n      <td>NaN</td>\n      <td>NaN</td>\n      <td>NaN</td>\n      <td>NaN</td>\n      <td>NaN</td>\n      <td>NaN</td>\n      <td>NaN</td>\n      <td>NaN</td>\n      <td>NaN</td>\n      <td>NaN</td>\n      <td>NaN</td>\n      <td>NaN</td>\n      <td>NaN</td>\n      <td>NaN</td>\n      <td>NaN</td>\n      <td>NaN</td>\n      <td>NaN</td>\n      <td>NaN</td>\n      <td>NaN</td>\n      <td>NaN</td>\n      <td>NaN</td>\n      <td>NaN</td>\n      <td>NaN</td>\n      <td>NaN</td>\n      <td>NaN</td>\n      <td>NaN</td>\n      <td>NaN</td>\n      <td>NaN</td>\n      <td>NaN</td>\n      <td>NaN</td>\n      <td>NaN</td>\n      <td>NaN</td>\n      <td>NaN</td>\n      <td>NaN</td>\n      <td>NaN</td>\n      <td>NaN</td>\n      <td>NaN</td>\n      <td>NaN</td>\n      <td>NaN</td>\n      <td>NaN</td>\n      <td>NaN</td>\n      <td>NaN</td>\n      <td>NaN</td>\n      <td>NaN</td>\n      <td>NaN</td>\n      <td>NaN</td>\n      <td>NaN</td>\n      <td>3.0</td>\n      <td>NaN</td>\n      <td>...</td>\n      <td>NaN</td>\n      <td>NaN</td>\n      <td>NaN</td>\n      <td>NaN</td>\n      <td>NaN</td>\n      <td>NaN</td>\n      <td>NaN</td>\n      <td>NaN</td>\n      <td>NaN</td>\n      <td>NaN</td>\n      <td>NaN</td>\n      <td>NaN</td>\n      <td>NaN</td>\n      <td>NaN</td>\n      <td>NaN</td>\n      <td>NaN</td>\n      <td>NaN</td>\n      <td>NaN</td>\n      <td>NaN</td>\n      <td>NaN</td>\n      <td>NaN</td>\n      <td>NaN</td>\n      <td>NaN</td>\n      <td>NaN</td>\n      <td>NaN</td>\n      <td>NaN</td>\n      <td>NaN</td>\n      <td>NaN</td>\n      <td>NaN</td>\n      <td>NaN</td>\n      <td>NaN</td>\n      <td>NaN</td>\n      <td>NaN</td>\n      <td>NaN</td>\n      <td>NaN</td>\n      <td>NaN</td>\n      <td>NaN</td>\n      <td>NaN</td>\n      <td>NaN</td>\n      <td>NaN</td>\n      <td>NaN</td>\n      <td>NaN</td>\n      <td>NaN</td>\n      <td>NaN</td>\n      <td>NaN</td>\n      <td>NaN</td>\n      <td>NaN</td>\n      <td>NaN</td>\n      <td>NaN</td>\n      <td>NaN</td>\n    </tr>\n    <tr>\n      <th>00204424763e8233c5f53f0729f2304f</th>\n      <td>NaN</td>\n      <td>NaN</td>\n      <td>NaN</td>\n      <td>NaN</td>\n      <td>NaN</td>\n      <td>NaN</td>\n      <td>NaN</td>\n      <td>NaN</td>\n      <td>NaN</td>\n      <td>NaN</td>\n      <td>NaN</td>\n      <td>NaN</td>\n      <td>NaN</td>\n      <td>NaN</td>\n      <td>NaN</td>\n      <td>NaN</td>\n      <td>NaN</td>\n      <td>NaN</td>\n      <td>NaN</td>\n      <td>NaN</td>\n      <td>NaN</td>\n      <td>NaN</td>\n      <td>NaN</td>\n      <td>NaN</td>\n      <td>NaN</td>\n      <td>NaN</td>\n      <td>NaN</td>\n      <td>NaN</td>\n      <td>NaN</td>\n      <td>NaN</td>\n      <td>NaN</td>\n      <td>NaN</td>\n      <td>NaN</td>\n      <td>NaN</td>\n      <td>NaN</td>\n      <td>NaN</td>\n      <td>NaN</td>\n      <td>NaN</td>\n      <td>NaN</td>\n      <td>NaN</td>\n      <td>NaN</td>\n      <td>NaN</td>\n      <td>NaN</td>\n      <td>NaN</td>\n      <td>NaN</td>\n      <td>NaN</td>\n      <td>NaN</td>\n      <td>NaN</td>\n      <td>NaN</td>\n      <td>NaN</td>\n      <td>...</td>\n      <td>NaN</td>\n      <td>NaN</td>\n      <td>NaN</td>\n      <td>NaN</td>\n      <td>NaN</td>\n      <td>NaN</td>\n      <td>NaN</td>\n      <td>NaN</td>\n      <td>NaN</td>\n      <td>NaN</td>\n      <td>NaN</td>\n      <td>NaN</td>\n      <td>NaN</td>\n      <td>NaN</td>\n      <td>NaN</td>\n      <td>NaN</td>\n      <td>NaN</td>\n      <td>NaN</td>\n      <td>NaN</td>\n      <td>NaN</td>\n      <td>NaN</td>\n      <td>NaN</td>\n      <td>NaN</td>\n      <td>NaN</td>\n      <td>NaN</td>\n      <td>NaN</td>\n      <td>NaN</td>\n      <td>NaN</td>\n      <td>NaN</td>\n      <td>NaN</td>\n      <td>NaN</td>\n      <td>NaN</td>\n      <td>NaN</td>\n      <td>NaN</td>\n      <td>NaN</td>\n      <td>NaN</td>\n      <td>NaN</td>\n      <td>NaN</td>\n      <td>NaN</td>\n      <td>NaN</td>\n      <td>NaN</td>\n      <td>NaN</td>\n      <td>NaN</td>\n      <td>NaN</td>\n      <td>NaN</td>\n      <td>NaN</td>\n      <td>NaN</td>\n      <td>NaN</td>\n      <td>NaN</td>\n      <td>NaN</td>\n    </tr>\n    <tr>\n      <th>00214d8b0a020837cccf5f41eb563037</th>\n      <td>NaN</td>\n      <td>NaN</td>\n      <td>NaN</td>\n      <td>NaN</td>\n      <td>NaN</td>\n      <td>NaN</td>\n      <td>NaN</td>\n      <td>NaN</td>\n      <td>NaN</td>\n      <td>NaN</td>\n      <td>NaN</td>\n      <td>NaN</td>\n      <td>NaN</td>\n      <td>NaN</td>\n      <td>NaN</td>\n      <td>NaN</td>\n      <td>NaN</td>\n      <td>NaN</td>\n      <td>NaN</td>\n      <td>NaN</td>\n      <td>NaN</td>\n      <td>NaN</td>\n      <td>NaN</td>\n      <td>NaN</td>\n      <td>NaN</td>\n      <td>NaN</td>\n      <td>NaN</td>\n      <td>NaN</td>\n      <td>NaN</td>\n      <td>NaN</td>\n      <td>NaN</td>\n      <td>NaN</td>\n      <td>NaN</td>\n      <td>NaN</td>\n      <td>NaN</td>\n      <td>NaN</td>\n      <td>NaN</td>\n      <td>NaN</td>\n      <td>NaN</td>\n      <td>NaN</td>\n      <td>NaN</td>\n      <td>NaN</td>\n      <td>NaN</td>\n      <td>NaN</td>\n      <td>NaN</td>\n      <td>NaN</td>\n      <td>NaN</td>\n      <td>NaN</td>\n      <td>NaN</td>\n      <td>NaN</td>\n      <td>...</td>\n      <td>NaN</td>\n      <td>NaN</td>\n      <td>NaN</td>\n      <td>NaN</td>\n      <td>NaN</td>\n      <td>NaN</td>\n      <td>NaN</td>\n      <td>NaN</td>\n      <td>NaN</td>\n      <td>NaN</td>\n      <td>NaN</td>\n      <td>NaN</td>\n      <td>NaN</td>\n      <td>NaN</td>\n      <td>NaN</td>\n      <td>NaN</td>\n      <td>NaN</td>\n      <td>NaN</td>\n      <td>NaN</td>\n      <td>NaN</td>\n      <td>NaN</td>\n      <td>NaN</td>\n      <td>NaN</td>\n      <td>NaN</td>\n      <td>NaN</td>\n      <td>NaN</td>\n      <td>NaN</td>\n      <td>NaN</td>\n      <td>NaN</td>\n      <td>NaN</td>\n      <td>NaN</td>\n      <td>NaN</td>\n      <td>NaN</td>\n      <td>NaN</td>\n      <td>NaN</td>\n      <td>NaN</td>\n      <td>NaN</td>\n      <td>NaN</td>\n      <td>NaN</td>\n      <td>NaN</td>\n      <td>NaN</td>\n      <td>NaN</td>\n      <td>NaN</td>\n      <td>NaN</td>\n      <td>NaN</td>\n      <td>NaN</td>\n      <td>NaN</td>\n      <td>NaN</td>\n      <td>NaN</td>\n      <td>NaN</td>\n    </tr>\n    <tr>\n      <th>00238d8a4c276c47f5d5e242f54a8f28</th>\n      <td>NaN</td>\n      <td>NaN</td>\n      <td>NaN</td>\n      <td>NaN</td>\n      <td>NaN</td>\n      <td>NaN</td>\n      <td>NaN</td>\n      <td>NaN</td>\n      <td>NaN</td>\n      <td>NaN</td>\n      <td>NaN</td>\n      <td>NaN</td>\n      <td>NaN</td>\n      <td>NaN</td>\n      <td>NaN</td>\n      <td>NaN</td>\n      <td>NaN</td>\n      <td>NaN</td>\n      <td>NaN</td>\n      <td>NaN</td>\n      <td>NaN</td>\n      <td>NaN</td>\n      <td>NaN</td>\n      <td>NaN</td>\n      <td>NaN</td>\n      <td>NaN</td>\n      <td>NaN</td>\n      <td>NaN</td>\n      <td>NaN</td>\n      <td>NaN</td>\n      <td>NaN</td>\n      <td>NaN</td>\n      <td>NaN</td>\n      <td>NaN</td>\n      <td>NaN</td>\n      <td>NaN</td>\n      <td>NaN</td>\n      <td>NaN</td>\n      <td>NaN</td>\n      <td>NaN</td>\n      <td>NaN</td>\n      <td>NaN</td>\n      <td>NaN</td>\n      <td>NaN</td>\n      <td>NaN</td>\n      <td>NaN</td>\n      <td>NaN</td>\n      <td>NaN</td>\n      <td>NaN</td>\n      <td>NaN</td>\n      <td>...</td>\n      <td>NaN</td>\n      <td>NaN</td>\n      <td>NaN</td>\n      <td>NaN</td>\n      <td>NaN</td>\n      <td>NaN</td>\n      <td>NaN</td>\n      <td>NaN</td>\n      <td>NaN</td>\n      <td>NaN</td>\n      <td>NaN</td>\n      <td>NaN</td>\n      <td>NaN</td>\n      <td>NaN</td>\n      <td>NaN</td>\n      <td>NaN</td>\n      <td>NaN</td>\n      <td>NaN</td>\n      <td>NaN</td>\n      <td>NaN</td>\n      <td>NaN</td>\n      <td>NaN</td>\n      <td>NaN</td>\n      <td>NaN</td>\n      <td>NaN</td>\n      <td>NaN</td>\n      <td>NaN</td>\n      <td>NaN</td>\n      <td>NaN</td>\n      <td>NaN</td>\n      <td>NaN</td>\n      <td>NaN</td>\n      <td>NaN</td>\n      <td>NaN</td>\n      <td>NaN</td>\n      <td>NaN</td>\n      <td>NaN</td>\n      <td>NaN</td>\n      <td>NaN</td>\n      <td>NaN</td>\n      <td>NaN</td>\n      <td>4.0</td>\n      <td>NaN</td>\n      <td>NaN</td>\n      <td>NaN</td>\n      <td>NaN</td>\n      <td>NaN</td>\n      <td>NaN</td>\n      <td>NaN</td>\n      <td>NaN</td>\n    </tr>\n    <tr>\n      <th>002a023d3de233b4bd3ec4fc3e9c581a</th>\n      <td>NaN</td>\n      <td>NaN</td>\n      <td>NaN</td>\n      <td>NaN</td>\n      <td>NaN</td>\n      <td>NaN</td>\n      <td>NaN</td>\n      <td>NaN</td>\n      <td>NaN</td>\n      <td>NaN</td>\n      <td>NaN</td>\n      <td>NaN</td>\n      <td>NaN</td>\n      <td>NaN</td>\n      <td>NaN</td>\n      <td>NaN</td>\n      <td>NaN</td>\n      <td>NaN</td>\n      <td>NaN</td>\n      <td>NaN</td>\n      <td>5.0</td>\n      <td>4.0</td>\n      <td>NaN</td>\n      <td>NaN</td>\n      <td>5.0</td>\n      <td>NaN</td>\n      <td>NaN</td>\n      <td>NaN</td>\n      <td>NaN</td>\n      <td>NaN</td>\n      <td>NaN</td>\n      <td>NaN</td>\n      <td>NaN</td>\n      <td>NaN</td>\n      <td>NaN</td>\n      <td>NaN</td>\n      <td>NaN</td>\n      <td>NaN</td>\n      <td>NaN</td>\n      <td>NaN</td>\n      <td>NaN</td>\n      <td>NaN</td>\n      <td>NaN</td>\n      <td>NaN</td>\n      <td>NaN</td>\n      <td>NaN</td>\n      <td>NaN</td>\n      <td>4.0</td>\n      <td>NaN</td>\n      <td>NaN</td>\n      <td>...</td>\n      <td>NaN</td>\n      <td>NaN</td>\n      <td>NaN</td>\n      <td>NaN</td>\n      <td>NaN</td>\n      <td>NaN</td>\n      <td>NaN</td>\n      <td>NaN</td>\n      <td>NaN</td>\n      <td>NaN</td>\n      <td>NaN</td>\n      <td>NaN</td>\n      <td>NaN</td>\n      <td>NaN</td>\n      <td>NaN</td>\n      <td>NaN</td>\n      <td>NaN</td>\n      <td>NaN</td>\n      <td>NaN</td>\n      <td>NaN</td>\n      <td>NaN</td>\n      <td>NaN</td>\n      <td>NaN</td>\n      <td>NaN</td>\n      <td>NaN</td>\n      <td>NaN</td>\n      <td>NaN</td>\n      <td>NaN</td>\n      <td>NaN</td>\n      <td>NaN</td>\n      <td>NaN</td>\n      <td>NaN</td>\n      <td>NaN</td>\n      <td>NaN</td>\n      <td>NaN</td>\n      <td>NaN</td>\n      <td>NaN</td>\n      <td>NaN</td>\n      <td>NaN</td>\n      <td>NaN</td>\n      <td>NaN</td>\n      <td>NaN</td>\n      <td>NaN</td>\n      <td>NaN</td>\n      <td>NaN</td>\n      <td>NaN</td>\n      <td>NaN</td>\n      <td>NaN</td>\n      <td>NaN</td>\n      <td>NaN</td>\n    </tr>\n    <tr>\n      <th>002e063d40ae0107a59d8f9c1aa7a423</th>\n      <td>NaN</td>\n      <td>NaN</td>\n      <td>NaN</td>\n      <td>NaN</td>\n      <td>NaN</td>\n      <td>NaN</td>\n      <td>NaN</td>\n      <td>NaN</td>\n      <td>NaN</td>\n      <td>NaN</td>\n      <td>NaN</td>\n      <td>NaN</td>\n      <td>NaN</td>\n      <td>NaN</td>\n      <td>NaN</td>\n      <td>NaN</td>\n      <td>NaN</td>\n      <td>NaN</td>\n      <td>NaN</td>\n      <td>NaN</td>\n      <td>NaN</td>\n      <td>NaN</td>\n      <td>NaN</td>\n      <td>NaN</td>\n      <td>NaN</td>\n      <td>NaN</td>\n      <td>NaN</td>\n      <td>NaN</td>\n      <td>NaN</td>\n      <td>NaN</td>\n      <td>NaN</td>\n      <td>NaN</td>\n      <td>NaN</td>\n      <td>NaN</td>\n      <td>NaN</td>\n      <td>NaN</td>\n      <td>NaN</td>\n      <td>NaN</td>\n      <td>NaN</td>\n      <td>NaN</td>\n      <td>NaN</td>\n      <td>NaN</td>\n      <td>NaN</td>\n      <td>NaN</td>\n      <td>NaN</td>\n      <td>NaN</td>\n      <td>NaN</td>\n      <td>NaN</td>\n      <td>NaN</td>\n      <td>NaN</td>\n      <td>...</td>\n      <td>NaN</td>\n      <td>NaN</td>\n      <td>NaN</td>\n      <td>NaN</td>\n      <td>NaN</td>\n      <td>NaN</td>\n      <td>NaN</td>\n      <td>NaN</td>\n      <td>NaN</td>\n      <td>NaN</td>\n      <td>NaN</td>\n      <td>NaN</td>\n      <td>NaN</td>\n      <td>NaN</td>\n      <td>NaN</td>\n      <td>NaN</td>\n      <td>NaN</td>\n      <td>NaN</td>\n      <td>NaN</td>\n      <td>NaN</td>\n      <td>NaN</td>\n      <td>NaN</td>\n      <td>NaN</td>\n      <td>NaN</td>\n      <td>NaN</td>\n      <td>NaN</td>\n      <td>NaN</td>\n      <td>NaN</td>\n      <td>NaN</td>\n      <td>NaN</td>\n      <td>NaN</td>\n      <td>NaN</td>\n      <td>NaN</td>\n      <td>NaN</td>\n      <td>NaN</td>\n      <td>NaN</td>\n      <td>NaN</td>\n      <td>NaN</td>\n      <td>NaN</td>\n      <td>NaN</td>\n      <td>NaN</td>\n      <td>NaN</td>\n      <td>NaN</td>\n      <td>NaN</td>\n      <td>NaN</td>\n      <td>NaN</td>\n      <td>NaN</td>\n      <td>NaN</td>\n      <td>NaN</td>\n      <td>NaN</td>\n    </tr>\n    <tr>\n      <th>005238c5743d61b58e49d5da089e43df</th>\n      <td>NaN</td>\n      <td>NaN</td>\n      <td>NaN</td>\n      <td>NaN</td>\n      <td>NaN</td>\n      <td>NaN</td>\n      <td>NaN</td>\n      <td>NaN</td>\n      <td>NaN</td>\n      <td>NaN</td>\n      <td>NaN</td>\n      <td>NaN</td>\n      <td>NaN</td>\n      <td>1.0</td>\n      <td>NaN</td>\n      <td>NaN</td>\n      <td>NaN</td>\n      <td>NaN</td>\n      <td>NaN</td>\n      <td>NaN</td>\n      <td>NaN</td>\n      <td>NaN</td>\n      <td>NaN</td>\n      <td>NaN</td>\n      <td>NaN</td>\n      <td>NaN</td>\n      <td>NaN</td>\n      <td>NaN</td>\n      <td>NaN</td>\n      <td>NaN</td>\n      <td>NaN</td>\n      <td>NaN</td>\n      <td>NaN</td>\n      <td>NaN</td>\n      <td>NaN</td>\n      <td>NaN</td>\n      <td>NaN</td>\n      <td>NaN</td>\n      <td>NaN</td>\n      <td>NaN</td>\n      <td>NaN</td>\n      <td>NaN</td>\n      <td>NaN</td>\n      <td>NaN</td>\n      <td>NaN</td>\n      <td>NaN</td>\n      <td>NaN</td>\n      <td>NaN</td>\n      <td>NaN</td>\n      <td>NaN</td>\n      <td>...</td>\n      <td>NaN</td>\n      <td>NaN</td>\n      <td>NaN</td>\n      <td>NaN</td>\n      <td>NaN</td>\n      <td>NaN</td>\n      <td>NaN</td>\n      <td>NaN</td>\n      <td>NaN</td>\n      <td>NaN</td>\n      <td>NaN</td>\n      <td>NaN</td>\n      <td>NaN</td>\n      <td>NaN</td>\n      <td>NaN</td>\n      <td>NaN</td>\n      <td>NaN</td>\n      <td>NaN</td>\n      <td>NaN</td>\n      <td>NaN</td>\n      <td>NaN</td>\n      <td>NaN</td>\n      <td>NaN</td>\n      <td>NaN</td>\n      <td>NaN</td>\n      <td>NaN</td>\n      <td>NaN</td>\n      <td>NaN</td>\n      <td>NaN</td>\n      <td>NaN</td>\n      <td>NaN</td>\n      <td>NaN</td>\n      <td>NaN</td>\n      <td>NaN</td>\n      <td>NaN</td>\n      <td>NaN</td>\n      <td>NaN</td>\n      <td>NaN</td>\n      <td>NaN</td>\n      <td>NaN</td>\n      <td>NaN</td>\n      <td>NaN</td>\n      <td>NaN</td>\n      <td>NaN</td>\n      <td>NaN</td>\n      <td>NaN</td>\n      <td>NaN</td>\n      <td>NaN</td>\n      <td>NaN</td>\n      <td>NaN</td>\n    </tr>\n    <tr>\n      <th>005a572f0bfe510fa796e6eadc6a2eb4</th>\n      <td>NaN</td>\n      <td>NaN</td>\n      <td>NaN</td>\n      <td>NaN</td>\n      <td>NaN</td>\n      <td>NaN</td>\n      <td>NaN</td>\n      <td>NaN</td>\n      <td>NaN</td>\n      <td>NaN</td>\n      <td>NaN</td>\n      <td>NaN</td>\n      <td>NaN</td>\n      <td>NaN</td>\n      <td>NaN</td>\n      <td>NaN</td>\n      <td>NaN</td>\n      <td>NaN</td>\n      <td>NaN</td>\n      <td>NaN</td>\n      <td>NaN</td>\n      <td>NaN</td>\n      <td>NaN</td>\n      <td>NaN</td>\n      <td>NaN</td>\n      <td>NaN</td>\n      <td>NaN</td>\n      <td>NaN</td>\n      <td>NaN</td>\n      <td>NaN</td>\n      <td>NaN</td>\n      <td>NaN</td>\n      <td>NaN</td>\n      <td>NaN</td>\n      <td>NaN</td>\n      <td>NaN</td>\n      <td>NaN</td>\n      <td>NaN</td>\n      <td>NaN</td>\n      <td>NaN</td>\n      <td>NaN</td>\n      <td>NaN</td>\n      <td>NaN</td>\n      <td>NaN</td>\n      <td>NaN</td>\n      <td>NaN</td>\n      <td>NaN</td>\n      <td>NaN</td>\n      <td>NaN</td>\n      <td>NaN</td>\n      <td>...</td>\n      <td>NaN</td>\n      <td>NaN</td>\n      <td>NaN</td>\n      <td>NaN</td>\n      <td>NaN</td>\n      <td>NaN</td>\n      <td>NaN</td>\n      <td>NaN</td>\n      <td>NaN</td>\n      <td>NaN</td>\n      <td>NaN</td>\n      <td>NaN</td>\n      <td>NaN</td>\n      <td>NaN</td>\n      <td>NaN</td>\n      <td>NaN</td>\n      <td>NaN</td>\n      <td>NaN</td>\n      <td>NaN</td>\n      <td>NaN</td>\n      <td>NaN</td>\n      <td>NaN</td>\n      <td>NaN</td>\n      <td>NaN</td>\n      <td>NaN</td>\n      <td>NaN</td>\n      <td>NaN</td>\n      <td>NaN</td>\n      <td>NaN</td>\n      <td>NaN</td>\n      <td>NaN</td>\n      <td>NaN</td>\n      <td>NaN</td>\n      <td>NaN</td>\n      <td>NaN</td>\n      <td>NaN</td>\n      <td>NaN</td>\n      <td>NaN</td>\n      <td>NaN</td>\n      <td>NaN</td>\n      <td>NaN</td>\n      <td>NaN</td>\n      <td>NaN</td>\n      <td>NaN</td>\n      <td>NaN</td>\n      <td>NaN</td>\n      <td>NaN</td>\n      <td>NaN</td>\n      <td>NaN</td>\n      <td>NaN</td>\n    </tr>\n  </tbody>\n</table>\n<p>10 rows × 2575 columns</p>\n</div>"
     },
     "execution_count": 9,
     "metadata": {},
     "output_type": "execute_result"
    }
   ],
   "source": [
    "df = pd.pivot_table(df, columns=\"book_id\", index=\"user_id\", values=\"rating\")\n",
    "df.head(10)"
   ]
  },
  {
   "cell_type": "markdown",
   "metadata": {
    "pycharm": {
     "name": "#%% md\n"
    },
    "id": "WHSkO2aLmqL9"
   },
   "source": [
    "## Convert to an array to work with the matrix"
   ]
  },
  {
   "cell_type": "code",
   "execution_count": 10,
   "metadata": {
    "jupyter": {
     "outputs_hidden": false
    },
    "pycharm": {
     "name": "#%%\n"
    },
    "colab": {
     "base_uri": "https://localhost:8080/",
     "height": 519
    },
    "id": "idzyac1lmqL9",
    "outputId": "c8942a07-f99a-4bfc-d623-ac580f8414ed"
   },
   "outputs": [
    {
     "data": {
      "text/plain": "book_id                           1         2         3         5         \\\nuser_id                                                                    \n000a1016fda6008d1edbba720ca00851       NaN       NaN       NaN       NaN   \n0011e1a9112b3d798702ef5b20bbf35b       NaN       NaN       NaN       NaN   \n0019de4561419b7543238e0979f2f33e       NaN       NaN       NaN       NaN   \n00204424763e8233c5f53f0729f2304f       NaN       NaN       NaN       NaN   \n00214d8b0a020837cccf5f41eb563037       NaN       NaN       NaN       NaN   \n...                                    ...       ...       ...       ...   \nfff3a250fbc018ad2c2c2d45c86734da       NaN       NaN       NaN       NaN   \nfff7bfd82b89fa347edfe9a82ac0c61b       NaN       NaN       NaN       NaN   \nfffc34d137f5c5c5e1ca1d6f325a4dcf       NaN       NaN       NaN       NaN   \nfffce7dae5ac5e8fb6288d81658ececc       NaN       NaN       NaN       NaN   \nffff7cafdaf5196383cb2efca08fb6fe       NaN       5.0       NaN       NaN   \n\nbook_id                           6         11        34        295       \\\nuser_id                                                                    \n000a1016fda6008d1edbba720ca00851       NaN       NaN       NaN       NaN   \n0011e1a9112b3d798702ef5b20bbf35b       NaN       NaN       NaN       NaN   \n0019de4561419b7543238e0979f2f33e       NaN       NaN       NaN       NaN   \n00204424763e8233c5f53f0729f2304f       NaN       NaN       NaN       NaN   \n00214d8b0a020837cccf5f41eb563037       NaN       NaN       NaN       NaN   \n...                                    ...       ...       ...       ...   \nfff3a250fbc018ad2c2c2d45c86734da       NaN       NaN       NaN       NaN   \nfff7bfd82b89fa347edfe9a82ac0c61b       NaN       NaN       NaN       NaN   \nfffc34d137f5c5c5e1ca1d6f325a4dcf       NaN       NaN       NaN       NaN   \nfffce7dae5ac5e8fb6288d81658ececc       NaN       NaN       NaN       NaN   \nffff7cafdaf5196383cb2efca08fb6fe       NaN       NaN       NaN       NaN   \n\nbook_id                           320       343       350       662       \\\nuser_id                                                                    \n000a1016fda6008d1edbba720ca00851       NaN       NaN       NaN       NaN   \n0011e1a9112b3d798702ef5b20bbf35b       NaN       NaN       NaN       NaN   \n0019de4561419b7543238e0979f2f33e       NaN       NaN       NaN       NaN   \n00204424763e8233c5f53f0729f2304f       NaN       NaN       NaN       NaN   \n00214d8b0a020837cccf5f41eb563037       NaN       NaN       NaN       NaN   \n...                                    ...       ...       ...       ...   \nfff3a250fbc018ad2c2c2d45c86734da       NaN       NaN       NaN       NaN   \nfff7bfd82b89fa347edfe9a82ac0c61b       NaN       NaN       NaN       NaN   \nfffc34d137f5c5c5e1ca1d6f325a4dcf       NaN       NaN       NaN       NaN   \nfffce7dae5ac5e8fb6288d81658ececc       NaN       NaN       NaN       NaN   \nffff7cafdaf5196383cb2efca08fb6fe       NaN       NaN       NaN       NaN   \n\nbook_id                           667       830       865       890       \\\nuser_id                                                                    \n000a1016fda6008d1edbba720ca00851       NaN       NaN       NaN       NaN   \n0011e1a9112b3d798702ef5b20bbf35b       NaN       NaN       NaN       NaN   \n0019de4561419b7543238e0979f2f33e       NaN       NaN       NaN       NaN   \n00204424763e8233c5f53f0729f2304f       NaN       NaN       NaN       NaN   \n00214d8b0a020837cccf5f41eb563037       NaN       NaN       NaN       NaN   \n...                                    ...       ...       ...       ...   \nfff3a250fbc018ad2c2c2d45c86734da       NaN       NaN       NaN       NaN   \nfff7bfd82b89fa347edfe9a82ac0c61b       NaN       NaN       NaN       NaN   \nfffc34d137f5c5c5e1ca1d6f325a4dcf       NaN       NaN       NaN       NaN   \nfffce7dae5ac5e8fb6288d81658ececc       NaN       NaN       NaN       NaN   \nffff7cafdaf5196383cb2efca08fb6fe       NaN       NaN       NaN       NaN   \n\nbook_id                           902       930       960       968       \\\nuser_id                                                                    \n000a1016fda6008d1edbba720ca00851       NaN       NaN       NaN       NaN   \n0011e1a9112b3d798702ef5b20bbf35b       NaN       NaN       NaN       NaN   \n0019de4561419b7543238e0979f2f33e       NaN       NaN       NaN       NaN   \n00204424763e8233c5f53f0729f2304f       NaN       NaN       NaN       NaN   \n00214d8b0a020837cccf5f41eb563037       NaN       NaN       NaN       NaN   \n...                                    ...       ...       ...       ...   \nfff3a250fbc018ad2c2c2d45c86734da       NaN       NaN       NaN       NaN   \nfff7bfd82b89fa347edfe9a82ac0c61b       NaN       NaN       NaN       NaN   \nfffc34d137f5c5c5e1ca1d6f325a4dcf       NaN       NaN       NaN       NaN   \nfffce7dae5ac5e8fb6288d81658ececc       NaN       NaN       NaN       NaN   \nffff7cafdaf5196383cb2efca08fb6fe       NaN       NaN       NaN       NaN   \n\nbook_id                           1103      1232      1420      1617      \\\nuser_id                                                                    \n000a1016fda6008d1edbba720ca00851       NaN       NaN       NaN       NaN   \n0011e1a9112b3d798702ef5b20bbf35b       NaN       NaN       NaN       NaN   \n0019de4561419b7543238e0979f2f33e       NaN       NaN       NaN       NaN   \n00204424763e8233c5f53f0729f2304f       NaN       NaN       NaN       NaN   \n00214d8b0a020837cccf5f41eb563037       NaN       NaN       NaN       NaN   \n...                                    ...       ...       ...       ...   \nfff3a250fbc018ad2c2c2d45c86734da       NaN       NaN       NaN       NaN   \nfff7bfd82b89fa347edfe9a82ac0c61b       NaN       NaN       NaN       NaN   \nfffc34d137f5c5c5e1ca1d6f325a4dcf       NaN       NaN       NaN       NaN   \nfffce7dae5ac5e8fb6288d81658ececc       NaN       NaN       NaN       NaN   \nffff7cafdaf5196383cb2efca08fb6fe       NaN       NaN       NaN       NaN   \n\nbook_id                           1618      1622      1845      1852      \\\nuser_id                                                                    \n000a1016fda6008d1edbba720ca00851       NaN       NaN       NaN       NaN   \n0011e1a9112b3d798702ef5b20bbf35b       NaN       NaN       NaN       NaN   \n0019de4561419b7543238e0979f2f33e       NaN       NaN       NaN       NaN   \n00204424763e8233c5f53f0729f2304f       NaN       NaN       NaN       NaN   \n00214d8b0a020837cccf5f41eb563037       NaN       NaN       NaN       NaN   \n...                                    ...       ...       ...       ...   \nfff3a250fbc018ad2c2c2d45c86734da       NaN       NaN       NaN       NaN   \nfff7bfd82b89fa347edfe9a82ac0c61b       NaN       NaN       NaN       NaN   \nfffc34d137f5c5c5e1ca1d6f325a4dcf       NaN       NaN       NaN       NaN   \nfffce7dae5ac5e8fb6288d81658ececc       NaN       NaN       NaN       NaN   \nffff7cafdaf5196383cb2efca08fb6fe       NaN       NaN       NaN       NaN   \n\nbook_id                           1885      1934      1953      2052      \\\nuser_id                                                                    \n000a1016fda6008d1edbba720ca00851       NaN       NaN       NaN       NaN   \n0011e1a9112b3d798702ef5b20bbf35b       NaN       NaN       NaN       NaN   \n0019de4561419b7543238e0979f2f33e       NaN       NaN       NaN       NaN   \n00204424763e8233c5f53f0729f2304f       NaN       NaN       NaN       NaN   \n00214d8b0a020837cccf5f41eb563037       NaN       NaN       NaN       NaN   \n...                                    ...       ...       ...       ...   \nfff3a250fbc018ad2c2c2d45c86734da       NaN       NaN       NaN       NaN   \nfff7bfd82b89fa347edfe9a82ac0c61b       NaN       NaN       NaN       NaN   \nfffc34d137f5c5c5e1ca1d6f325a4dcf       NaN       NaN       NaN       NaN   \nfffce7dae5ac5e8fb6288d81658ececc       NaN       NaN       NaN       NaN   \nffff7cafdaf5196383cb2efca08fb6fe       NaN       NaN       NaN       NaN   \n\nbook_id                           2156      2165      2187      2493      \\\nuser_id                                                                    \n000a1016fda6008d1edbba720ca00851       NaN       NaN       NaN       NaN   \n0011e1a9112b3d798702ef5b20bbf35b       NaN       NaN       NaN       NaN   \n0019de4561419b7543238e0979f2f33e       NaN       NaN       NaN       NaN   \n00204424763e8233c5f53f0729f2304f       NaN       NaN       NaN       NaN   \n00214d8b0a020837cccf5f41eb563037       NaN       NaN       NaN       NaN   \n...                                    ...       ...       ...       ...   \nfff3a250fbc018ad2c2c2d45c86734da       NaN       NaN       NaN       NaN   \nfff7bfd82b89fa347edfe9a82ac0c61b       NaN       NaN       NaN       NaN   \nfffc34d137f5c5c5e1ca1d6f325a4dcf       NaN       NaN       NaN       NaN   \nfffce7dae5ac5e8fb6288d81658ececc       NaN       NaN       NaN       NaN   \nffff7cafdaf5196383cb2efca08fb6fe       NaN       NaN       NaN       NaN   \n\nbook_id                           2526      2612      2623      2657      \\\nuser_id                                                                    \n000a1016fda6008d1edbba720ca00851       NaN       NaN       NaN       NaN   \n0011e1a9112b3d798702ef5b20bbf35b       NaN       NaN       NaN       NaN   \n0019de4561419b7543238e0979f2f33e       NaN       NaN       NaN       NaN   \n00204424763e8233c5f53f0729f2304f       NaN       NaN       NaN       NaN   \n00214d8b0a020837cccf5f41eb563037       NaN       NaN       NaN       NaN   \n...                                    ...       ...       ...       ...   \nfff3a250fbc018ad2c2c2d45c86734da       NaN       NaN       NaN       NaN   \nfff7bfd82b89fa347edfe9a82ac0c61b       NaN       NaN       NaN       NaN   \nfffc34d137f5c5c5e1ca1d6f325a4dcf       NaN       NaN       NaN       NaN   \nfffce7dae5ac5e8fb6288d81658ececc       NaN       NaN       NaN       NaN   \nffff7cafdaf5196383cb2efca08fb6fe       NaN       NaN       NaN       NaN   \n\nbook_id                           2744      2839      2956      2998      \\\nuser_id                                                                    \n000a1016fda6008d1edbba720ca00851       NaN       NaN       NaN       NaN   \n0011e1a9112b3d798702ef5b20bbf35b       NaN       NaN       NaN       NaN   \n0019de4561419b7543238e0979f2f33e       NaN       NaN       NaN       NaN   \n00204424763e8233c5f53f0729f2304f       NaN       NaN       NaN       NaN   \n00214d8b0a020837cccf5f41eb563037       NaN       NaN       NaN       NaN   \n...                                    ...       ...       ...       ...   \nfff3a250fbc018ad2c2c2d45c86734da       NaN       NaN       NaN       NaN   \nfff7bfd82b89fa347edfe9a82ac0c61b       NaN       NaN       NaN       NaN   \nfffc34d137f5c5c5e1ca1d6f325a4dcf       NaN       NaN       NaN       NaN   \nfffce7dae5ac5e8fb6288d81658ececc       NaN       NaN       NaN       NaN   \nffff7cafdaf5196383cb2efca08fb6fe       NaN       NaN       NaN       NaN   \n\nbook_id                           3008      3431      3473      3636      \\\nuser_id                                                                    \n000a1016fda6008d1edbba720ca00851       NaN       NaN       NaN       NaN   \n0011e1a9112b3d798702ef5b20bbf35b       NaN       NaN       NaN       NaN   \n0019de4561419b7543238e0979f2f33e       NaN       NaN       NaN       NaN   \n00204424763e8233c5f53f0729f2304f       NaN       NaN       NaN       NaN   \n00214d8b0a020837cccf5f41eb563037       NaN       NaN       NaN       NaN   \n...                                    ...       ...       ...       ...   \nfff3a250fbc018ad2c2c2d45c86734da       NaN       NaN       NaN       NaN   \nfff7bfd82b89fa347edfe9a82ac0c61b       NaN       NaN       NaN       NaN   \nfffc34d137f5c5c5e1ca1d6f325a4dcf       NaN       NaN       NaN       NaN   \nfffce7dae5ac5e8fb6288d81658ececc       NaN       NaN       NaN       NaN   \nffff7cafdaf5196383cb2efca08fb6fe       NaN       NaN       NaN       2.0   \n\nbook_id                           3682      3758      ...  30269126  30312891  \\\nuser_id                                               ...                       \n000a1016fda6008d1edbba720ca00851       NaN       NaN  ...       NaN       NaN   \n0011e1a9112b3d798702ef5b20bbf35b       NaN       NaN  ...       NaN       NaN   \n0019de4561419b7543238e0979f2f33e       3.0       NaN  ...       NaN       NaN   \n00204424763e8233c5f53f0729f2304f       NaN       NaN  ...       NaN       NaN   \n00214d8b0a020837cccf5f41eb563037       NaN       NaN  ...       NaN       NaN   \n...                                    ...       ...  ...       ...       ...   \nfff3a250fbc018ad2c2c2d45c86734da       NaN       NaN  ...       NaN       NaN   \nfff7bfd82b89fa347edfe9a82ac0c61b       NaN       NaN  ...       NaN       NaN   \nfffc34d137f5c5c5e1ca1d6f325a4dcf       NaN       NaN  ...       NaN       NaN   \nfffce7dae5ac5e8fb6288d81658ececc       NaN       NaN  ...       NaN       NaN   \nffff7cafdaf5196383cb2efca08fb6fe       NaN       NaN  ...       NaN       NaN   \n\nbook_id                           30325011  30415154  30555488  30633337  \\\nuser_id                                                                    \n000a1016fda6008d1edbba720ca00851       NaN       NaN       NaN       NaN   \n0011e1a9112b3d798702ef5b20bbf35b       NaN       NaN       NaN       NaN   \n0019de4561419b7543238e0979f2f33e       NaN       NaN       NaN       NaN   \n00204424763e8233c5f53f0729f2304f       NaN       NaN       NaN       NaN   \n00214d8b0a020837cccf5f41eb563037       NaN       NaN       NaN       NaN   \n...                                    ...       ...       ...       ...   \nfff3a250fbc018ad2c2c2d45c86734da       NaN       NaN       NaN       NaN   \nfff7bfd82b89fa347edfe9a82ac0c61b       NaN       NaN       NaN       NaN   \nfffc34d137f5c5c5e1ca1d6f325a4dcf       NaN       NaN       NaN       NaN   \nfffce7dae5ac5e8fb6288d81658ececc       NaN       NaN       NaN       NaN   \nffff7cafdaf5196383cb2efca08fb6fe       NaN       NaN       NaN       NaN   \n\nbook_id                           30653853  30687916  30688435  30724132  \\\nuser_id                                                                    \n000a1016fda6008d1edbba720ca00851       NaN       NaN       NaN       NaN   \n0011e1a9112b3d798702ef5b20bbf35b       NaN       NaN       NaN       NaN   \n0019de4561419b7543238e0979f2f33e       NaN       NaN       NaN       NaN   \n00204424763e8233c5f53f0729f2304f       NaN       NaN       NaN       NaN   \n00214d8b0a020837cccf5f41eb563037       NaN       NaN       NaN       NaN   \n...                                    ...       ...       ...       ...   \nfff3a250fbc018ad2c2c2d45c86734da       NaN       NaN       NaN       NaN   \nfff7bfd82b89fa347edfe9a82ac0c61b       NaN       NaN       NaN       NaN   \nfffc34d137f5c5c5e1ca1d6f325a4dcf       NaN       4.0       NaN       NaN   \nfffce7dae5ac5e8fb6288d81658ececc       NaN       NaN       NaN       NaN   \nffff7cafdaf5196383cb2efca08fb6fe       NaN       NaN       NaN       NaN   \n\nbook_id                           30731416  30747137  30809689  30821598  \\\nuser_id                                                                    \n000a1016fda6008d1edbba720ca00851       NaN       NaN       NaN       NaN   \n0011e1a9112b3d798702ef5b20bbf35b       NaN       NaN       NaN       NaN   \n0019de4561419b7543238e0979f2f33e       NaN       NaN       NaN       NaN   \n00204424763e8233c5f53f0729f2304f       NaN       NaN       NaN       NaN   \n00214d8b0a020837cccf5f41eb563037       NaN       NaN       NaN       NaN   \n...                                    ...       ...       ...       ...   \nfff3a250fbc018ad2c2c2d45c86734da       NaN       NaN       NaN       NaN   \nfff7bfd82b89fa347edfe9a82ac0c61b       NaN       NaN       NaN       NaN   \nfffc34d137f5c5c5e1ca1d6f325a4dcf       NaN       NaN       NaN       NaN   \nfffce7dae5ac5e8fb6288d81658ececc       NaN       NaN       NaN       NaN   \nffff7cafdaf5196383cb2efca08fb6fe       NaN       NaN       NaN       NaN   \n\nbook_id                           30831912  30839185  30969741  31140847  \\\nuser_id                                                                    \n000a1016fda6008d1edbba720ca00851       NaN       NaN       NaN       NaN   \n0011e1a9112b3d798702ef5b20bbf35b       NaN       NaN       NaN       NaN   \n0019de4561419b7543238e0979f2f33e       NaN       NaN       NaN       NaN   \n00204424763e8233c5f53f0729f2304f       NaN       NaN       NaN       NaN   \n00214d8b0a020837cccf5f41eb563037       NaN       NaN       NaN       NaN   \n...                                    ...       ...       ...       ...   \nfff3a250fbc018ad2c2c2d45c86734da       NaN       NaN       NaN       NaN   \nfff7bfd82b89fa347edfe9a82ac0c61b       NaN       NaN       NaN       NaN   \nfffc34d137f5c5c5e1ca1d6f325a4dcf       NaN       NaN       NaN       NaN   \nfffce7dae5ac5e8fb6288d81658ececc       NaN       NaN       NaN       NaN   \nffff7cafdaf5196383cb2efca08fb6fe       NaN       NaN       NaN       NaN   \n\nbook_id                           31145133  31145148  31176886  31423196  \\\nuser_id                                                                    \n000a1016fda6008d1edbba720ca00851       NaN       NaN       NaN       NaN   \n0011e1a9112b3d798702ef5b20bbf35b       NaN       NaN       NaN       NaN   \n0019de4561419b7543238e0979f2f33e       NaN       NaN       NaN       NaN   \n00204424763e8233c5f53f0729f2304f       NaN       NaN       NaN       NaN   \n00214d8b0a020837cccf5f41eb563037       NaN       NaN       NaN       NaN   \n...                                    ...       ...       ...       ...   \nfff3a250fbc018ad2c2c2d45c86734da       NaN       NaN       NaN       NaN   \nfff7bfd82b89fa347edfe9a82ac0c61b       NaN       NaN       NaN       NaN   \nfffc34d137f5c5c5e1ca1d6f325a4dcf       NaN       NaN       NaN       NaN   \nfffce7dae5ac5e8fb6288d81658ececc       NaN       NaN       NaN       NaN   \nffff7cafdaf5196383cb2efca08fb6fe       NaN       NaN       NaN       NaN   \n\nbook_id                           31450752  31450852  31450908  31451174  \\\nuser_id                                                                    \n000a1016fda6008d1edbba720ca00851       NaN       NaN       NaN       NaN   \n0011e1a9112b3d798702ef5b20bbf35b       NaN       NaN       NaN       NaN   \n0019de4561419b7543238e0979f2f33e       NaN       NaN       NaN       NaN   \n00204424763e8233c5f53f0729f2304f       NaN       NaN       NaN       NaN   \n00214d8b0a020837cccf5f41eb563037       NaN       NaN       NaN       NaN   \n...                                    ...       ...       ...       ...   \nfff3a250fbc018ad2c2c2d45c86734da       NaN       NaN       NaN       NaN   \nfff7bfd82b89fa347edfe9a82ac0c61b       NaN       NaN       NaN       NaN   \nfffc34d137f5c5c5e1ca1d6f325a4dcf       NaN       NaN       NaN       NaN   \nfffce7dae5ac5e8fb6288d81658ececc       NaN       NaN       NaN       NaN   \nffff7cafdaf5196383cb2efca08fb6fe       NaN       NaN       NaN       NaN   \n\nbook_id                           31538614  31538635  31538647  31931941  \\\nuser_id                                                                    \n000a1016fda6008d1edbba720ca00851       NaN       NaN       NaN       NaN   \n0011e1a9112b3d798702ef5b20bbf35b       NaN       NaN       NaN       NaN   \n0019de4561419b7543238e0979f2f33e       NaN       NaN       NaN       NaN   \n00204424763e8233c5f53f0729f2304f       NaN       NaN       NaN       NaN   \n00214d8b0a020837cccf5f41eb563037       NaN       NaN       NaN       NaN   \n...                                    ...       ...       ...       ...   \nfff3a250fbc018ad2c2c2d45c86734da       NaN       NaN       NaN       NaN   \nfff7bfd82b89fa347edfe9a82ac0c61b       NaN       NaN       NaN       NaN   \nfffc34d137f5c5c5e1ca1d6f325a4dcf       NaN       NaN       NaN       NaN   \nfffce7dae5ac5e8fb6288d81658ececc       NaN       NaN       NaN       NaN   \nffff7cafdaf5196383cb2efca08fb6fe       NaN       NaN       NaN       NaN   \n\nbook_id                           31952703  32075662  32075671  32078787  \\\nuser_id                                                                    \n000a1016fda6008d1edbba720ca00851       NaN       NaN       NaN       NaN   \n0011e1a9112b3d798702ef5b20bbf35b       NaN       NaN       NaN       NaN   \n0019de4561419b7543238e0979f2f33e       NaN       NaN       NaN       NaN   \n00204424763e8233c5f53f0729f2304f       NaN       NaN       NaN       NaN   \n00214d8b0a020837cccf5f41eb563037       NaN       NaN       NaN       NaN   \n...                                    ...       ...       ...       ...   \nfff3a250fbc018ad2c2c2d45c86734da       NaN       NaN       NaN       NaN   \nfff7bfd82b89fa347edfe9a82ac0c61b       NaN       NaN       NaN       NaN   \nfffc34d137f5c5c5e1ca1d6f325a4dcf       NaN       NaN       NaN       NaN   \nfffce7dae5ac5e8fb6288d81658ececc       NaN       NaN       NaN       NaN   \nffff7cafdaf5196383cb2efca08fb6fe       NaN       NaN       NaN       NaN   \n\nbook_id                           32571395  32796253  32848471  33140405  \\\nuser_id                                                                    \n000a1016fda6008d1edbba720ca00851       NaN       NaN       NaN       NaN   \n0011e1a9112b3d798702ef5b20bbf35b       NaN       NaN       NaN       NaN   \n0019de4561419b7543238e0979f2f33e       NaN       NaN       NaN       NaN   \n00204424763e8233c5f53f0729f2304f       NaN       NaN       NaN       NaN   \n00214d8b0a020837cccf5f41eb563037       NaN       NaN       NaN       NaN   \n...                                    ...       ...       ...       ...   \nfff3a250fbc018ad2c2c2d45c86734da       NaN       NaN       NaN       NaN   \nfff7bfd82b89fa347edfe9a82ac0c61b       NaN       NaN       NaN       NaN   \nfffc34d137f5c5c5e1ca1d6f325a4dcf       NaN       NaN       NaN       NaN   \nfffce7dae5ac5e8fb6288d81658ececc       NaN       NaN       NaN       NaN   \nffff7cafdaf5196383cb2efca08fb6fe       3.0       NaN       NaN       NaN   \n\nbook_id                           33151805  33232571  33280872  33288638  \\\nuser_id                                                                    \n000a1016fda6008d1edbba720ca00851       NaN       NaN       NaN       NaN   \n0011e1a9112b3d798702ef5b20bbf35b       NaN       NaN       NaN       NaN   \n0019de4561419b7543238e0979f2f33e       NaN       NaN       NaN       NaN   \n00204424763e8233c5f53f0729f2304f       NaN       NaN       NaN       NaN   \n00214d8b0a020837cccf5f41eb563037       NaN       NaN       NaN       NaN   \n...                                    ...       ...       ...       ...   \nfff3a250fbc018ad2c2c2d45c86734da       NaN       NaN       NaN       NaN   \nfff7bfd82b89fa347edfe9a82ac0c61b       NaN       NaN       NaN       NaN   \nfffc34d137f5c5c5e1ca1d6f325a4dcf       NaN       NaN       NaN       NaN   \nfffce7dae5ac5e8fb6288d81658ececc       NaN       NaN       NaN       NaN   \nffff7cafdaf5196383cb2efca08fb6fe       NaN       NaN       NaN       NaN   \n\nbook_id                           33385229  33643994  34044126  34076952  \\\nuser_id                                                                    \n000a1016fda6008d1edbba720ca00851       NaN       NaN       NaN       NaN   \n0011e1a9112b3d798702ef5b20bbf35b       NaN       NaN       NaN       NaN   \n0019de4561419b7543238e0979f2f33e       NaN       NaN       NaN       NaN   \n00204424763e8233c5f53f0729f2304f       NaN       NaN       NaN       NaN   \n00214d8b0a020837cccf5f41eb563037       NaN       NaN       NaN       NaN   \n...                                    ...       ...       ...       ...   \nfff3a250fbc018ad2c2c2d45c86734da       NaN       NaN       NaN       NaN   \nfff7bfd82b89fa347edfe9a82ac0c61b       NaN       NaN       NaN       NaN   \nfffc34d137f5c5c5e1ca1d6f325a4dcf       NaN       NaN       NaN       NaN   \nfffce7dae5ac5e8fb6288d81658ececc       NaN       NaN       NaN       NaN   \nffff7cafdaf5196383cb2efca08fb6fe       NaN       NaN       NaN       NaN   \n\nbook_id                           34273458  35247769  35404657  35504431  \nuser_id                                                                   \n000a1016fda6008d1edbba720ca00851       NaN       NaN       NaN       NaN  \n0011e1a9112b3d798702ef5b20bbf35b       NaN       NaN       NaN       NaN  \n0019de4561419b7543238e0979f2f33e       NaN       NaN       NaN       NaN  \n00204424763e8233c5f53f0729f2304f       NaN       NaN       NaN       NaN  \n00214d8b0a020837cccf5f41eb563037       NaN       NaN       NaN       NaN  \n...                                    ...       ...       ...       ...  \nfff3a250fbc018ad2c2c2d45c86734da       NaN       NaN       NaN       NaN  \nfff7bfd82b89fa347edfe9a82ac0c61b       NaN       NaN       NaN       NaN  \nfffc34d137f5c5c5e1ca1d6f325a4dcf       NaN       NaN       NaN       NaN  \nfffce7dae5ac5e8fb6288d81658ececc       NaN       NaN       NaN       NaN  \nffff7cafdaf5196383cb2efca08fb6fe       NaN       NaN       NaN       NaN  \n\n[9153 rows x 2575 columns]",
      "text/html": "<div>\n<style scoped>\n    .dataframe tbody tr th:only-of-type {\n        vertical-align: middle;\n    }\n\n    .dataframe tbody tr th {\n        vertical-align: top;\n    }\n\n    .dataframe thead th {\n        text-align: right;\n    }\n</style>\n<table border=\"1\" class=\"dataframe\">\n  <thead>\n    <tr style=\"text-align: right;\">\n      <th>book_id</th>\n      <th>1</th>\n      <th>2</th>\n      <th>3</th>\n      <th>5</th>\n      <th>6</th>\n      <th>11</th>\n      <th>34</th>\n      <th>295</th>\n      <th>320</th>\n      <th>343</th>\n      <th>350</th>\n      <th>662</th>\n      <th>667</th>\n      <th>830</th>\n      <th>865</th>\n      <th>890</th>\n      <th>902</th>\n      <th>930</th>\n      <th>960</th>\n      <th>968</th>\n      <th>1103</th>\n      <th>1232</th>\n      <th>1420</th>\n      <th>1617</th>\n      <th>1618</th>\n      <th>1622</th>\n      <th>1845</th>\n      <th>1852</th>\n      <th>1885</th>\n      <th>1934</th>\n      <th>1953</th>\n      <th>2052</th>\n      <th>2156</th>\n      <th>2165</th>\n      <th>2187</th>\n      <th>2493</th>\n      <th>2526</th>\n      <th>2612</th>\n      <th>2623</th>\n      <th>2657</th>\n      <th>2744</th>\n      <th>2839</th>\n      <th>2956</th>\n      <th>2998</th>\n      <th>3008</th>\n      <th>3431</th>\n      <th>3473</th>\n      <th>3636</th>\n      <th>3682</th>\n      <th>3758</th>\n      <th>...</th>\n      <th>30269126</th>\n      <th>30312891</th>\n      <th>30325011</th>\n      <th>30415154</th>\n      <th>30555488</th>\n      <th>30633337</th>\n      <th>30653853</th>\n      <th>30687916</th>\n      <th>30688435</th>\n      <th>30724132</th>\n      <th>30731416</th>\n      <th>30747137</th>\n      <th>30809689</th>\n      <th>30821598</th>\n      <th>30831912</th>\n      <th>30839185</th>\n      <th>30969741</th>\n      <th>31140847</th>\n      <th>31145133</th>\n      <th>31145148</th>\n      <th>31176886</th>\n      <th>31423196</th>\n      <th>31450752</th>\n      <th>31450852</th>\n      <th>31450908</th>\n      <th>31451174</th>\n      <th>31538614</th>\n      <th>31538635</th>\n      <th>31538647</th>\n      <th>31931941</th>\n      <th>31952703</th>\n      <th>32075662</th>\n      <th>32075671</th>\n      <th>32078787</th>\n      <th>32571395</th>\n      <th>32796253</th>\n      <th>32848471</th>\n      <th>33140405</th>\n      <th>33151805</th>\n      <th>33232571</th>\n      <th>33280872</th>\n      <th>33288638</th>\n      <th>33385229</th>\n      <th>33643994</th>\n      <th>34044126</th>\n      <th>34076952</th>\n      <th>34273458</th>\n      <th>35247769</th>\n      <th>35404657</th>\n      <th>35504431</th>\n    </tr>\n    <tr>\n      <th>user_id</th>\n      <th></th>\n      <th></th>\n      <th></th>\n      <th></th>\n      <th></th>\n      <th></th>\n      <th></th>\n      <th></th>\n      <th></th>\n      <th></th>\n      <th></th>\n      <th></th>\n      <th></th>\n      <th></th>\n      <th></th>\n      <th></th>\n      <th></th>\n      <th></th>\n      <th></th>\n      <th></th>\n      <th></th>\n      <th></th>\n      <th></th>\n      <th></th>\n      <th></th>\n      <th></th>\n      <th></th>\n      <th></th>\n      <th></th>\n      <th></th>\n      <th></th>\n      <th></th>\n      <th></th>\n      <th></th>\n      <th></th>\n      <th></th>\n      <th></th>\n      <th></th>\n      <th></th>\n      <th></th>\n      <th></th>\n      <th></th>\n      <th></th>\n      <th></th>\n      <th></th>\n      <th></th>\n      <th></th>\n      <th></th>\n      <th></th>\n      <th></th>\n      <th></th>\n      <th></th>\n      <th></th>\n      <th></th>\n      <th></th>\n      <th></th>\n      <th></th>\n      <th></th>\n      <th></th>\n      <th></th>\n      <th></th>\n      <th></th>\n      <th></th>\n      <th></th>\n      <th></th>\n      <th></th>\n      <th></th>\n      <th></th>\n      <th></th>\n      <th></th>\n      <th></th>\n      <th></th>\n      <th></th>\n      <th></th>\n      <th></th>\n      <th></th>\n      <th></th>\n      <th></th>\n      <th></th>\n      <th></th>\n      <th></th>\n      <th></th>\n      <th></th>\n      <th></th>\n      <th></th>\n      <th></th>\n      <th></th>\n      <th></th>\n      <th></th>\n      <th></th>\n      <th></th>\n      <th></th>\n      <th></th>\n      <th></th>\n      <th></th>\n      <th></th>\n      <th></th>\n      <th></th>\n      <th></th>\n      <th></th>\n      <th></th>\n    </tr>\n  </thead>\n  <tbody>\n    <tr>\n      <th>000a1016fda6008d1edbba720ca00851</th>\n      <td>NaN</td>\n      <td>NaN</td>\n      <td>NaN</td>\n      <td>NaN</td>\n      <td>NaN</td>\n      <td>NaN</td>\n      <td>NaN</td>\n      <td>NaN</td>\n      <td>NaN</td>\n      <td>NaN</td>\n      <td>NaN</td>\n      <td>NaN</td>\n      <td>NaN</td>\n      <td>NaN</td>\n      <td>NaN</td>\n      <td>NaN</td>\n      <td>NaN</td>\n      <td>NaN</td>\n      <td>NaN</td>\n      <td>NaN</td>\n      <td>NaN</td>\n      <td>NaN</td>\n      <td>NaN</td>\n      <td>NaN</td>\n      <td>NaN</td>\n      <td>NaN</td>\n      <td>NaN</td>\n      <td>NaN</td>\n      <td>NaN</td>\n      <td>NaN</td>\n      <td>NaN</td>\n      <td>NaN</td>\n      <td>NaN</td>\n      <td>NaN</td>\n      <td>NaN</td>\n      <td>NaN</td>\n      <td>NaN</td>\n      <td>NaN</td>\n      <td>NaN</td>\n      <td>NaN</td>\n      <td>NaN</td>\n      <td>NaN</td>\n      <td>NaN</td>\n      <td>NaN</td>\n      <td>NaN</td>\n      <td>NaN</td>\n      <td>NaN</td>\n      <td>NaN</td>\n      <td>NaN</td>\n      <td>NaN</td>\n      <td>...</td>\n      <td>NaN</td>\n      <td>NaN</td>\n      <td>NaN</td>\n      <td>NaN</td>\n      <td>NaN</td>\n      <td>NaN</td>\n      <td>NaN</td>\n      <td>NaN</td>\n      <td>NaN</td>\n      <td>NaN</td>\n      <td>NaN</td>\n      <td>NaN</td>\n      <td>NaN</td>\n      <td>NaN</td>\n      <td>NaN</td>\n      <td>NaN</td>\n      <td>NaN</td>\n      <td>NaN</td>\n      <td>NaN</td>\n      <td>NaN</td>\n      <td>NaN</td>\n      <td>NaN</td>\n      <td>NaN</td>\n      <td>NaN</td>\n      <td>NaN</td>\n      <td>NaN</td>\n      <td>NaN</td>\n      <td>NaN</td>\n      <td>NaN</td>\n      <td>NaN</td>\n      <td>NaN</td>\n      <td>NaN</td>\n      <td>NaN</td>\n      <td>NaN</td>\n      <td>NaN</td>\n      <td>NaN</td>\n      <td>NaN</td>\n      <td>NaN</td>\n      <td>NaN</td>\n      <td>NaN</td>\n      <td>NaN</td>\n      <td>NaN</td>\n      <td>NaN</td>\n      <td>NaN</td>\n      <td>NaN</td>\n      <td>NaN</td>\n      <td>NaN</td>\n      <td>NaN</td>\n      <td>NaN</td>\n      <td>NaN</td>\n    </tr>\n    <tr>\n      <th>0011e1a9112b3d798702ef5b20bbf35b</th>\n      <td>NaN</td>\n      <td>NaN</td>\n      <td>NaN</td>\n      <td>NaN</td>\n      <td>NaN</td>\n      <td>NaN</td>\n      <td>NaN</td>\n      <td>NaN</td>\n      <td>NaN</td>\n      <td>NaN</td>\n      <td>NaN</td>\n      <td>NaN</td>\n      <td>NaN</td>\n      <td>NaN</td>\n      <td>NaN</td>\n      <td>NaN</td>\n      <td>NaN</td>\n      <td>NaN</td>\n      <td>NaN</td>\n      <td>NaN</td>\n      <td>NaN</td>\n      <td>NaN</td>\n      <td>NaN</td>\n      <td>NaN</td>\n      <td>NaN</td>\n      <td>NaN</td>\n      <td>NaN</td>\n      <td>NaN</td>\n      <td>NaN</td>\n      <td>NaN</td>\n      <td>NaN</td>\n      <td>NaN</td>\n      <td>NaN</td>\n      <td>NaN</td>\n      <td>NaN</td>\n      <td>NaN</td>\n      <td>NaN</td>\n      <td>NaN</td>\n      <td>NaN</td>\n      <td>NaN</td>\n      <td>NaN</td>\n      <td>NaN</td>\n      <td>NaN</td>\n      <td>NaN</td>\n      <td>NaN</td>\n      <td>NaN</td>\n      <td>NaN</td>\n      <td>NaN</td>\n      <td>NaN</td>\n      <td>NaN</td>\n      <td>...</td>\n      <td>NaN</td>\n      <td>NaN</td>\n      <td>NaN</td>\n      <td>NaN</td>\n      <td>NaN</td>\n      <td>NaN</td>\n      <td>NaN</td>\n      <td>NaN</td>\n      <td>NaN</td>\n      <td>NaN</td>\n      <td>NaN</td>\n      <td>NaN</td>\n      <td>NaN</td>\n      <td>NaN</td>\n      <td>NaN</td>\n      <td>NaN</td>\n      <td>NaN</td>\n      <td>NaN</td>\n      <td>NaN</td>\n      <td>NaN</td>\n      <td>NaN</td>\n      <td>NaN</td>\n      <td>NaN</td>\n      <td>NaN</td>\n      <td>NaN</td>\n      <td>NaN</td>\n      <td>NaN</td>\n      <td>NaN</td>\n      <td>NaN</td>\n      <td>NaN</td>\n      <td>NaN</td>\n      <td>NaN</td>\n      <td>NaN</td>\n      <td>NaN</td>\n      <td>NaN</td>\n      <td>NaN</td>\n      <td>NaN</td>\n      <td>NaN</td>\n      <td>NaN</td>\n      <td>NaN</td>\n      <td>NaN</td>\n      <td>NaN</td>\n      <td>NaN</td>\n      <td>NaN</td>\n      <td>NaN</td>\n      <td>NaN</td>\n      <td>NaN</td>\n      <td>NaN</td>\n      <td>NaN</td>\n      <td>NaN</td>\n    </tr>\n    <tr>\n      <th>0019de4561419b7543238e0979f2f33e</th>\n      <td>NaN</td>\n      <td>NaN</td>\n      <td>NaN</td>\n      <td>NaN</td>\n      <td>NaN</td>\n      <td>NaN</td>\n      <td>NaN</td>\n      <td>NaN</td>\n      <td>NaN</td>\n      <td>NaN</td>\n      <td>NaN</td>\n      <td>NaN</td>\n      <td>NaN</td>\n      <td>NaN</td>\n      <td>NaN</td>\n      <td>NaN</td>\n      <td>NaN</td>\n      <td>NaN</td>\n      <td>NaN</td>\n      <td>NaN</td>\n      <td>NaN</td>\n      <td>NaN</td>\n      <td>NaN</td>\n      <td>NaN</td>\n      <td>NaN</td>\n      <td>NaN</td>\n      <td>NaN</td>\n      <td>NaN</td>\n      <td>NaN</td>\n      <td>NaN</td>\n      <td>NaN</td>\n      <td>NaN</td>\n      <td>NaN</td>\n      <td>NaN</td>\n      <td>NaN</td>\n      <td>NaN</td>\n      <td>NaN</td>\n      <td>NaN</td>\n      <td>NaN</td>\n      <td>NaN</td>\n      <td>NaN</td>\n      <td>NaN</td>\n      <td>NaN</td>\n      <td>NaN</td>\n      <td>NaN</td>\n      <td>NaN</td>\n      <td>NaN</td>\n      <td>NaN</td>\n      <td>3.0</td>\n      <td>NaN</td>\n      <td>...</td>\n      <td>NaN</td>\n      <td>NaN</td>\n      <td>NaN</td>\n      <td>NaN</td>\n      <td>NaN</td>\n      <td>NaN</td>\n      <td>NaN</td>\n      <td>NaN</td>\n      <td>NaN</td>\n      <td>NaN</td>\n      <td>NaN</td>\n      <td>NaN</td>\n      <td>NaN</td>\n      <td>NaN</td>\n      <td>NaN</td>\n      <td>NaN</td>\n      <td>NaN</td>\n      <td>NaN</td>\n      <td>NaN</td>\n      <td>NaN</td>\n      <td>NaN</td>\n      <td>NaN</td>\n      <td>NaN</td>\n      <td>NaN</td>\n      <td>NaN</td>\n      <td>NaN</td>\n      <td>NaN</td>\n      <td>NaN</td>\n      <td>NaN</td>\n      <td>NaN</td>\n      <td>NaN</td>\n      <td>NaN</td>\n      <td>NaN</td>\n      <td>NaN</td>\n      <td>NaN</td>\n      <td>NaN</td>\n      <td>NaN</td>\n      <td>NaN</td>\n      <td>NaN</td>\n      <td>NaN</td>\n      <td>NaN</td>\n      <td>NaN</td>\n      <td>NaN</td>\n      <td>NaN</td>\n      <td>NaN</td>\n      <td>NaN</td>\n      <td>NaN</td>\n      <td>NaN</td>\n      <td>NaN</td>\n      <td>NaN</td>\n    </tr>\n    <tr>\n      <th>00204424763e8233c5f53f0729f2304f</th>\n      <td>NaN</td>\n      <td>NaN</td>\n      <td>NaN</td>\n      <td>NaN</td>\n      <td>NaN</td>\n      <td>NaN</td>\n      <td>NaN</td>\n      <td>NaN</td>\n      <td>NaN</td>\n      <td>NaN</td>\n      <td>NaN</td>\n      <td>NaN</td>\n      <td>NaN</td>\n      <td>NaN</td>\n      <td>NaN</td>\n      <td>NaN</td>\n      <td>NaN</td>\n      <td>NaN</td>\n      <td>NaN</td>\n      <td>NaN</td>\n      <td>NaN</td>\n      <td>NaN</td>\n      <td>NaN</td>\n      <td>NaN</td>\n      <td>NaN</td>\n      <td>NaN</td>\n      <td>NaN</td>\n      <td>NaN</td>\n      <td>NaN</td>\n      <td>NaN</td>\n      <td>NaN</td>\n      <td>NaN</td>\n      <td>NaN</td>\n      <td>NaN</td>\n      <td>NaN</td>\n      <td>NaN</td>\n      <td>NaN</td>\n      <td>NaN</td>\n      <td>NaN</td>\n      <td>NaN</td>\n      <td>NaN</td>\n      <td>NaN</td>\n      <td>NaN</td>\n      <td>NaN</td>\n      <td>NaN</td>\n      <td>NaN</td>\n      <td>NaN</td>\n      <td>NaN</td>\n      <td>NaN</td>\n      <td>NaN</td>\n      <td>...</td>\n      <td>NaN</td>\n      <td>NaN</td>\n      <td>NaN</td>\n      <td>NaN</td>\n      <td>NaN</td>\n      <td>NaN</td>\n      <td>NaN</td>\n      <td>NaN</td>\n      <td>NaN</td>\n      <td>NaN</td>\n      <td>NaN</td>\n      <td>NaN</td>\n      <td>NaN</td>\n      <td>NaN</td>\n      <td>NaN</td>\n      <td>NaN</td>\n      <td>NaN</td>\n      <td>NaN</td>\n      <td>NaN</td>\n      <td>NaN</td>\n      <td>NaN</td>\n      <td>NaN</td>\n      <td>NaN</td>\n      <td>NaN</td>\n      <td>NaN</td>\n      <td>NaN</td>\n      <td>NaN</td>\n      <td>NaN</td>\n      <td>NaN</td>\n      <td>NaN</td>\n      <td>NaN</td>\n      <td>NaN</td>\n      <td>NaN</td>\n      <td>NaN</td>\n      <td>NaN</td>\n      <td>NaN</td>\n      <td>NaN</td>\n      <td>NaN</td>\n      <td>NaN</td>\n      <td>NaN</td>\n      <td>NaN</td>\n      <td>NaN</td>\n      <td>NaN</td>\n      <td>NaN</td>\n      <td>NaN</td>\n      <td>NaN</td>\n      <td>NaN</td>\n      <td>NaN</td>\n      <td>NaN</td>\n      <td>NaN</td>\n    </tr>\n    <tr>\n      <th>00214d8b0a020837cccf5f41eb563037</th>\n      <td>NaN</td>\n      <td>NaN</td>\n      <td>NaN</td>\n      <td>NaN</td>\n      <td>NaN</td>\n      <td>NaN</td>\n      <td>NaN</td>\n      <td>NaN</td>\n      <td>NaN</td>\n      <td>NaN</td>\n      <td>NaN</td>\n      <td>NaN</td>\n      <td>NaN</td>\n      <td>NaN</td>\n      <td>NaN</td>\n      <td>NaN</td>\n      <td>NaN</td>\n      <td>NaN</td>\n      <td>NaN</td>\n      <td>NaN</td>\n      <td>NaN</td>\n      <td>NaN</td>\n      <td>NaN</td>\n      <td>NaN</td>\n      <td>NaN</td>\n      <td>NaN</td>\n      <td>NaN</td>\n      <td>NaN</td>\n      <td>NaN</td>\n      <td>NaN</td>\n      <td>NaN</td>\n      <td>NaN</td>\n      <td>NaN</td>\n      <td>NaN</td>\n      <td>NaN</td>\n      <td>NaN</td>\n      <td>NaN</td>\n      <td>NaN</td>\n      <td>NaN</td>\n      <td>NaN</td>\n      <td>NaN</td>\n      <td>NaN</td>\n      <td>NaN</td>\n      <td>NaN</td>\n      <td>NaN</td>\n      <td>NaN</td>\n      <td>NaN</td>\n      <td>NaN</td>\n      <td>NaN</td>\n      <td>NaN</td>\n      <td>...</td>\n      <td>NaN</td>\n      <td>NaN</td>\n      <td>NaN</td>\n      <td>NaN</td>\n      <td>NaN</td>\n      <td>NaN</td>\n      <td>NaN</td>\n      <td>NaN</td>\n      <td>NaN</td>\n      <td>NaN</td>\n      <td>NaN</td>\n      <td>NaN</td>\n      <td>NaN</td>\n      <td>NaN</td>\n      <td>NaN</td>\n      <td>NaN</td>\n      <td>NaN</td>\n      <td>NaN</td>\n      <td>NaN</td>\n      <td>NaN</td>\n      <td>NaN</td>\n      <td>NaN</td>\n      <td>NaN</td>\n      <td>NaN</td>\n      <td>NaN</td>\n      <td>NaN</td>\n      <td>NaN</td>\n      <td>NaN</td>\n      <td>NaN</td>\n      <td>NaN</td>\n      <td>NaN</td>\n      <td>NaN</td>\n      <td>NaN</td>\n      <td>NaN</td>\n      <td>NaN</td>\n      <td>NaN</td>\n      <td>NaN</td>\n      <td>NaN</td>\n      <td>NaN</td>\n      <td>NaN</td>\n      <td>NaN</td>\n      <td>NaN</td>\n      <td>NaN</td>\n      <td>NaN</td>\n      <td>NaN</td>\n      <td>NaN</td>\n      <td>NaN</td>\n      <td>NaN</td>\n      <td>NaN</td>\n      <td>NaN</td>\n    </tr>\n    <tr>\n      <th>...</th>\n      <td>...</td>\n      <td>...</td>\n      <td>...</td>\n      <td>...</td>\n      <td>...</td>\n      <td>...</td>\n      <td>...</td>\n      <td>...</td>\n      <td>...</td>\n      <td>...</td>\n      <td>...</td>\n      <td>...</td>\n      <td>...</td>\n      <td>...</td>\n      <td>...</td>\n      <td>...</td>\n      <td>...</td>\n      <td>...</td>\n      <td>...</td>\n      <td>...</td>\n      <td>...</td>\n      <td>...</td>\n      <td>...</td>\n      <td>...</td>\n      <td>...</td>\n      <td>...</td>\n      <td>...</td>\n      <td>...</td>\n      <td>...</td>\n      <td>...</td>\n      <td>...</td>\n      <td>...</td>\n      <td>...</td>\n      <td>...</td>\n      <td>...</td>\n      <td>...</td>\n      <td>...</td>\n      <td>...</td>\n      <td>...</td>\n      <td>...</td>\n      <td>...</td>\n      <td>...</td>\n      <td>...</td>\n      <td>...</td>\n      <td>...</td>\n      <td>...</td>\n      <td>...</td>\n      <td>...</td>\n      <td>...</td>\n      <td>...</td>\n      <td>...</td>\n      <td>...</td>\n      <td>...</td>\n      <td>...</td>\n      <td>...</td>\n      <td>...</td>\n      <td>...</td>\n      <td>...</td>\n      <td>...</td>\n      <td>...</td>\n      <td>...</td>\n      <td>...</td>\n      <td>...</td>\n      <td>...</td>\n      <td>...</td>\n      <td>...</td>\n      <td>...</td>\n      <td>...</td>\n      <td>...</td>\n      <td>...</td>\n      <td>...</td>\n      <td>...</td>\n      <td>...</td>\n      <td>...</td>\n      <td>...</td>\n      <td>...</td>\n      <td>...</td>\n      <td>...</td>\n      <td>...</td>\n      <td>...</td>\n      <td>...</td>\n      <td>...</td>\n      <td>...</td>\n      <td>...</td>\n      <td>...</td>\n      <td>...</td>\n      <td>...</td>\n      <td>...</td>\n      <td>...</td>\n      <td>...</td>\n      <td>...</td>\n      <td>...</td>\n      <td>...</td>\n      <td>...</td>\n      <td>...</td>\n      <td>...</td>\n      <td>...</td>\n      <td>...</td>\n      <td>...</td>\n      <td>...</td>\n      <td>...</td>\n    </tr>\n    <tr>\n      <th>fff3a250fbc018ad2c2c2d45c86734da</th>\n      <td>NaN</td>\n      <td>NaN</td>\n      <td>NaN</td>\n      <td>NaN</td>\n      <td>NaN</td>\n      <td>NaN</td>\n      <td>NaN</td>\n      <td>NaN</td>\n      <td>NaN</td>\n      <td>NaN</td>\n      <td>NaN</td>\n      <td>NaN</td>\n      <td>NaN</td>\n      <td>NaN</td>\n      <td>NaN</td>\n      <td>NaN</td>\n      <td>NaN</td>\n      <td>NaN</td>\n      <td>NaN</td>\n      <td>NaN</td>\n      <td>NaN</td>\n      <td>NaN</td>\n      <td>NaN</td>\n      <td>NaN</td>\n      <td>NaN</td>\n      <td>NaN</td>\n      <td>NaN</td>\n      <td>NaN</td>\n      <td>NaN</td>\n      <td>NaN</td>\n      <td>NaN</td>\n      <td>NaN</td>\n      <td>NaN</td>\n      <td>NaN</td>\n      <td>NaN</td>\n      <td>NaN</td>\n      <td>NaN</td>\n      <td>NaN</td>\n      <td>NaN</td>\n      <td>NaN</td>\n      <td>NaN</td>\n      <td>NaN</td>\n      <td>NaN</td>\n      <td>NaN</td>\n      <td>NaN</td>\n      <td>NaN</td>\n      <td>NaN</td>\n      <td>NaN</td>\n      <td>NaN</td>\n      <td>NaN</td>\n      <td>...</td>\n      <td>NaN</td>\n      <td>NaN</td>\n      <td>NaN</td>\n      <td>NaN</td>\n      <td>NaN</td>\n      <td>NaN</td>\n      <td>NaN</td>\n      <td>NaN</td>\n      <td>NaN</td>\n      <td>NaN</td>\n      <td>NaN</td>\n      <td>NaN</td>\n      <td>NaN</td>\n      <td>NaN</td>\n      <td>NaN</td>\n      <td>NaN</td>\n      <td>NaN</td>\n      <td>NaN</td>\n      <td>NaN</td>\n      <td>NaN</td>\n      <td>NaN</td>\n      <td>NaN</td>\n      <td>NaN</td>\n      <td>NaN</td>\n      <td>NaN</td>\n      <td>NaN</td>\n      <td>NaN</td>\n      <td>NaN</td>\n      <td>NaN</td>\n      <td>NaN</td>\n      <td>NaN</td>\n      <td>NaN</td>\n      <td>NaN</td>\n      <td>NaN</td>\n      <td>NaN</td>\n      <td>NaN</td>\n      <td>NaN</td>\n      <td>NaN</td>\n      <td>NaN</td>\n      <td>NaN</td>\n      <td>NaN</td>\n      <td>NaN</td>\n      <td>NaN</td>\n      <td>NaN</td>\n      <td>NaN</td>\n      <td>NaN</td>\n      <td>NaN</td>\n      <td>NaN</td>\n      <td>NaN</td>\n      <td>NaN</td>\n    </tr>\n    <tr>\n      <th>fff7bfd82b89fa347edfe9a82ac0c61b</th>\n      <td>NaN</td>\n      <td>NaN</td>\n      <td>NaN</td>\n      <td>NaN</td>\n      <td>NaN</td>\n      <td>NaN</td>\n      <td>NaN</td>\n      <td>NaN</td>\n      <td>NaN</td>\n      <td>NaN</td>\n      <td>NaN</td>\n      <td>NaN</td>\n      <td>NaN</td>\n      <td>NaN</td>\n      <td>NaN</td>\n      <td>NaN</td>\n      <td>NaN</td>\n      <td>NaN</td>\n      <td>NaN</td>\n      <td>NaN</td>\n      <td>NaN</td>\n      <td>NaN</td>\n      <td>NaN</td>\n      <td>NaN</td>\n      <td>NaN</td>\n      <td>NaN</td>\n      <td>NaN</td>\n      <td>NaN</td>\n      <td>NaN</td>\n      <td>NaN</td>\n      <td>NaN</td>\n      <td>NaN</td>\n      <td>NaN</td>\n      <td>NaN</td>\n      <td>NaN</td>\n      <td>NaN</td>\n      <td>NaN</td>\n      <td>NaN</td>\n      <td>NaN</td>\n      <td>NaN</td>\n      <td>NaN</td>\n      <td>NaN</td>\n      <td>NaN</td>\n      <td>NaN</td>\n      <td>NaN</td>\n      <td>NaN</td>\n      <td>NaN</td>\n      <td>NaN</td>\n      <td>NaN</td>\n      <td>NaN</td>\n      <td>...</td>\n      <td>NaN</td>\n      <td>NaN</td>\n      <td>NaN</td>\n      <td>NaN</td>\n      <td>NaN</td>\n      <td>NaN</td>\n      <td>NaN</td>\n      <td>NaN</td>\n      <td>NaN</td>\n      <td>NaN</td>\n      <td>NaN</td>\n      <td>NaN</td>\n      <td>NaN</td>\n      <td>NaN</td>\n      <td>NaN</td>\n      <td>NaN</td>\n      <td>NaN</td>\n      <td>NaN</td>\n      <td>NaN</td>\n      <td>NaN</td>\n      <td>NaN</td>\n      <td>NaN</td>\n      <td>NaN</td>\n      <td>NaN</td>\n      <td>NaN</td>\n      <td>NaN</td>\n      <td>NaN</td>\n      <td>NaN</td>\n      <td>NaN</td>\n      <td>NaN</td>\n      <td>NaN</td>\n      <td>NaN</td>\n      <td>NaN</td>\n      <td>NaN</td>\n      <td>NaN</td>\n      <td>NaN</td>\n      <td>NaN</td>\n      <td>NaN</td>\n      <td>NaN</td>\n      <td>NaN</td>\n      <td>NaN</td>\n      <td>NaN</td>\n      <td>NaN</td>\n      <td>NaN</td>\n      <td>NaN</td>\n      <td>NaN</td>\n      <td>NaN</td>\n      <td>NaN</td>\n      <td>NaN</td>\n      <td>NaN</td>\n    </tr>\n    <tr>\n      <th>fffc34d137f5c5c5e1ca1d6f325a4dcf</th>\n      <td>NaN</td>\n      <td>NaN</td>\n      <td>NaN</td>\n      <td>NaN</td>\n      <td>NaN</td>\n      <td>NaN</td>\n      <td>NaN</td>\n      <td>NaN</td>\n      <td>NaN</td>\n      <td>NaN</td>\n      <td>NaN</td>\n      <td>NaN</td>\n      <td>NaN</td>\n      <td>NaN</td>\n      <td>NaN</td>\n      <td>NaN</td>\n      <td>NaN</td>\n      <td>NaN</td>\n      <td>NaN</td>\n      <td>NaN</td>\n      <td>NaN</td>\n      <td>NaN</td>\n      <td>NaN</td>\n      <td>NaN</td>\n      <td>NaN</td>\n      <td>NaN</td>\n      <td>NaN</td>\n      <td>NaN</td>\n      <td>NaN</td>\n      <td>NaN</td>\n      <td>NaN</td>\n      <td>NaN</td>\n      <td>NaN</td>\n      <td>NaN</td>\n      <td>NaN</td>\n      <td>NaN</td>\n      <td>NaN</td>\n      <td>NaN</td>\n      <td>NaN</td>\n      <td>NaN</td>\n      <td>NaN</td>\n      <td>NaN</td>\n      <td>NaN</td>\n      <td>NaN</td>\n      <td>NaN</td>\n      <td>NaN</td>\n      <td>NaN</td>\n      <td>NaN</td>\n      <td>NaN</td>\n      <td>NaN</td>\n      <td>...</td>\n      <td>NaN</td>\n      <td>NaN</td>\n      <td>NaN</td>\n      <td>NaN</td>\n      <td>NaN</td>\n      <td>NaN</td>\n      <td>NaN</td>\n      <td>4.0</td>\n      <td>NaN</td>\n      <td>NaN</td>\n      <td>NaN</td>\n      <td>NaN</td>\n      <td>NaN</td>\n      <td>NaN</td>\n      <td>NaN</td>\n      <td>NaN</td>\n      <td>NaN</td>\n      <td>NaN</td>\n      <td>NaN</td>\n      <td>NaN</td>\n      <td>NaN</td>\n      <td>NaN</td>\n      <td>NaN</td>\n      <td>NaN</td>\n      <td>NaN</td>\n      <td>NaN</td>\n      <td>NaN</td>\n      <td>NaN</td>\n      <td>NaN</td>\n      <td>NaN</td>\n      <td>NaN</td>\n      <td>NaN</td>\n      <td>NaN</td>\n      <td>NaN</td>\n      <td>NaN</td>\n      <td>NaN</td>\n      <td>NaN</td>\n      <td>NaN</td>\n      <td>NaN</td>\n      <td>NaN</td>\n      <td>NaN</td>\n      <td>NaN</td>\n      <td>NaN</td>\n      <td>NaN</td>\n      <td>NaN</td>\n      <td>NaN</td>\n      <td>NaN</td>\n      <td>NaN</td>\n      <td>NaN</td>\n      <td>NaN</td>\n    </tr>\n    <tr>\n      <th>fffce7dae5ac5e8fb6288d81658ececc</th>\n      <td>NaN</td>\n      <td>NaN</td>\n      <td>NaN</td>\n      <td>NaN</td>\n      <td>NaN</td>\n      <td>NaN</td>\n      <td>NaN</td>\n      <td>NaN</td>\n      <td>NaN</td>\n      <td>NaN</td>\n      <td>NaN</td>\n      <td>NaN</td>\n      <td>NaN</td>\n      <td>NaN</td>\n      <td>NaN</td>\n      <td>NaN</td>\n      <td>NaN</td>\n      <td>NaN</td>\n      <td>NaN</td>\n      <td>NaN</td>\n      <td>NaN</td>\n      <td>NaN</td>\n      <td>NaN</td>\n      <td>NaN</td>\n      <td>NaN</td>\n      <td>NaN</td>\n      <td>NaN</td>\n      <td>NaN</td>\n      <td>NaN</td>\n      <td>NaN</td>\n      <td>NaN</td>\n      <td>NaN</td>\n      <td>NaN</td>\n      <td>NaN</td>\n      <td>NaN</td>\n      <td>NaN</td>\n      <td>NaN</td>\n      <td>NaN</td>\n      <td>NaN</td>\n      <td>NaN</td>\n      <td>NaN</td>\n      <td>NaN</td>\n      <td>NaN</td>\n      <td>NaN</td>\n      <td>NaN</td>\n      <td>NaN</td>\n      <td>NaN</td>\n      <td>NaN</td>\n      <td>NaN</td>\n      <td>NaN</td>\n      <td>...</td>\n      <td>NaN</td>\n      <td>NaN</td>\n      <td>NaN</td>\n      <td>NaN</td>\n      <td>NaN</td>\n      <td>NaN</td>\n      <td>NaN</td>\n      <td>NaN</td>\n      <td>NaN</td>\n      <td>NaN</td>\n      <td>NaN</td>\n      <td>NaN</td>\n      <td>NaN</td>\n      <td>NaN</td>\n      <td>NaN</td>\n      <td>NaN</td>\n      <td>NaN</td>\n      <td>NaN</td>\n      <td>NaN</td>\n      <td>NaN</td>\n      <td>NaN</td>\n      <td>NaN</td>\n      <td>NaN</td>\n      <td>NaN</td>\n      <td>NaN</td>\n      <td>NaN</td>\n      <td>NaN</td>\n      <td>NaN</td>\n      <td>NaN</td>\n      <td>NaN</td>\n      <td>NaN</td>\n      <td>NaN</td>\n      <td>NaN</td>\n      <td>NaN</td>\n      <td>NaN</td>\n      <td>NaN</td>\n      <td>NaN</td>\n      <td>NaN</td>\n      <td>NaN</td>\n      <td>NaN</td>\n      <td>NaN</td>\n      <td>NaN</td>\n      <td>NaN</td>\n      <td>NaN</td>\n      <td>NaN</td>\n      <td>NaN</td>\n      <td>NaN</td>\n      <td>NaN</td>\n      <td>NaN</td>\n      <td>NaN</td>\n    </tr>\n    <tr>\n      <th>ffff7cafdaf5196383cb2efca08fb6fe</th>\n      <td>NaN</td>\n      <td>5.0</td>\n      <td>NaN</td>\n      <td>NaN</td>\n      <td>NaN</td>\n      <td>NaN</td>\n      <td>NaN</td>\n      <td>NaN</td>\n      <td>NaN</td>\n      <td>NaN</td>\n      <td>NaN</td>\n      <td>NaN</td>\n      <td>NaN</td>\n      <td>NaN</td>\n      <td>NaN</td>\n      <td>NaN</td>\n      <td>NaN</td>\n      <td>NaN</td>\n      <td>NaN</td>\n      <td>NaN</td>\n      <td>NaN</td>\n      <td>NaN</td>\n      <td>NaN</td>\n      <td>NaN</td>\n      <td>NaN</td>\n      <td>NaN</td>\n      <td>NaN</td>\n      <td>NaN</td>\n      <td>NaN</td>\n      <td>NaN</td>\n      <td>NaN</td>\n      <td>NaN</td>\n      <td>NaN</td>\n      <td>NaN</td>\n      <td>NaN</td>\n      <td>NaN</td>\n      <td>NaN</td>\n      <td>NaN</td>\n      <td>NaN</td>\n      <td>NaN</td>\n      <td>NaN</td>\n      <td>NaN</td>\n      <td>NaN</td>\n      <td>NaN</td>\n      <td>NaN</td>\n      <td>NaN</td>\n      <td>NaN</td>\n      <td>2.0</td>\n      <td>NaN</td>\n      <td>NaN</td>\n      <td>...</td>\n      <td>NaN</td>\n      <td>NaN</td>\n      <td>NaN</td>\n      <td>NaN</td>\n      <td>NaN</td>\n      <td>NaN</td>\n      <td>NaN</td>\n      <td>NaN</td>\n      <td>NaN</td>\n      <td>NaN</td>\n      <td>NaN</td>\n      <td>NaN</td>\n      <td>NaN</td>\n      <td>NaN</td>\n      <td>NaN</td>\n      <td>NaN</td>\n      <td>NaN</td>\n      <td>NaN</td>\n      <td>NaN</td>\n      <td>NaN</td>\n      <td>NaN</td>\n      <td>NaN</td>\n      <td>NaN</td>\n      <td>NaN</td>\n      <td>NaN</td>\n      <td>NaN</td>\n      <td>NaN</td>\n      <td>NaN</td>\n      <td>NaN</td>\n      <td>NaN</td>\n      <td>NaN</td>\n      <td>NaN</td>\n      <td>NaN</td>\n      <td>NaN</td>\n      <td>3.0</td>\n      <td>NaN</td>\n      <td>NaN</td>\n      <td>NaN</td>\n      <td>NaN</td>\n      <td>NaN</td>\n      <td>NaN</td>\n      <td>NaN</td>\n      <td>NaN</td>\n      <td>NaN</td>\n      <td>NaN</td>\n      <td>NaN</td>\n      <td>NaN</td>\n      <td>NaN</td>\n      <td>NaN</td>\n      <td>NaN</td>\n    </tr>\n  </tbody>\n</table>\n<p>9153 rows × 2575 columns</p>\n</div>"
     },
     "execution_count": 10,
     "metadata": {},
     "output_type": "execute_result"
    }
   ],
   "source": [
    "df.reset_index(drop=True)\n",
    "df"
   ]
  },
  {
   "cell_type": "code",
   "execution_count": 11,
   "metadata": {
    "jupyter": {
     "outputs_hidden": false
    },
    "pycharm": {
     "name": "#%%\n"
    },
    "colab": {
     "base_uri": "https://localhost:8080/"
    },
    "id": "va_I-ShImqL9",
    "outputId": "e9e5d405-d9f3-409b-ca8f-7305e6ce6564"
   },
   "outputs": [
    {
     "name": "stdout",
     "output_type": "stream",
     "text": [
      "[[nan nan nan ... nan nan nan]\n",
      " [nan nan nan ... nan nan nan]\n",
      " [nan nan nan ... nan nan nan]\n",
      " ...\n",
      " [nan nan nan ... nan nan nan]\n",
      " [nan nan nan ... nan nan nan]\n",
      " [nan  5. nan ... nan nan nan]]\n"
     ]
    }
   ],
   "source": [
    "data_matrix = df.to_numpy(na_value=np.nan)\n",
    "print(data_matrix)"
   ]
  },
  {
   "cell_type": "code",
   "execution_count": 12,
   "metadata": {
    "jupyter": {
     "outputs_hidden": false
    },
    "pycharm": {
     "name": "#%%\n"
    },
    "colab": {
     "base_uri": "https://localhost:8080/"
    },
    "id": "khOoAYeMmqL9",
    "outputId": "7ad7670d-b53e-4fe6-9391-29a97572df1a"
   },
   "outputs": [
    {
     "name": "stdout",
     "output_type": "stream",
     "text": [
      "[[   0  419]\n",
      " [   0  427]\n",
      " [   0  495]\n",
      " ...\n",
      " [9152 2452]\n",
      " [9152 2475]\n",
      " [9152 2559]]\n"
     ]
    }
   ],
   "source": [
    "# Check how to get the index of not empty values\n",
    "idx = np.argwhere(~np.isnan(data_matrix))\n",
    "print(idx)"
   ]
  },
  {
   "cell_type": "code",
   "execution_count": 13,
   "metadata": {
    "jupyter": {
     "outputs_hidden": false
    },
    "pycharm": {
     "name": "#%%\n"
    },
    "colab": {
     "base_uri": "https://localhost:8080/"
    },
    "id": "4i6vLKb_mqL-",
    "outputId": "87d81808-11b9-4139-f3bc-ce718b1e5415"
   },
   "outputs": [
    {
     "data": {
      "text/plain": "array([0., 1., 2., 3., 4., 5.])"
     },
     "execution_count": 13,
     "metadata": {},
     "output_type": "execute_result"
    }
   ],
   "source": [
    "np.unique(data_matrix[idx[:,0], idx[:,1]])"
   ]
  },
  {
   "cell_type": "markdown",
   "metadata": {
    "id": "IKX1GoN3vcYY"
   },
   "source": [
    "# Frank-Wolfe - standard algorithm"
   ]
  },
  {
   "cell_type": "markdown",
   "metadata": {
    "pycharm": {
     "name": "#%% md\n"
    },
    "id": "sK9kPumvmqL-"
   },
   "source": [
    "- Should we feed $\\delta$ to the FW algorithm or should it be defined based on the dimensions of the data?\n",
    "- Which is the correct objective function?\n",
    "- Initialize with random matrix of integers from 1 to 5 or with zeros matrix?"
   ]
  },
  {
   "cell_type": "markdown",
   "metadata": {
    "pycharm": {
     "name": "#%% md\n"
    },
    "id": "igJ95M7EmqL-"
   },
   "source": []
  },
  {
   "cell_type": "code",
   "execution_count": 38,
   "metadata": {
    "jupyter": {
     "outputs_hidden": false
    },
    "pycharm": {
     "name": "#%%\n"
    },
    "id": "kNN3FZyamqL_"
   },
   "outputs": [],
   "source": [
    "from scipy import sparse\n",
    "from scipy import stats\n",
    "import time"
   ]
  },
  {
   "cell_type": "code",
   "execution_count": 99,
   "metadata": {
    "jupyter": {
     "outputs_hidden": false
    },
    "pycharm": {
     "name": "#%%\n"
    },
    "id": "kobsOmgimqL_"
   },
   "outputs": [],
   "source": [
    "def FW_objective_function(diff_vec):\n",
    "    return 0.5*(np.power(diff_vec,2).sum())\n",
    "    #return 0.5 * np.linalg.norm(diff_vec, 2)**2\n",
    "\n",
    "def FrankWolfe(X, objective_function, delta, empties = 0, printing_res = True, Z_init = None, max_iter = 150, patience = 1e-3):\n",
    "    '''\n",
    "    :param X: sparse matrix with ratings and 'empty values', rows - users, columns - books.\n",
    "    :param objective_function: objective function that we would like to minimize with FW\n",
    "    :param delta: Radius of the feasible's set ball\n",
    "    :param empties (optional): Empty values of X are zeros (0) or NaN ('nan'). Default = 0\n",
    "    :param Z_init (optional): In case we want to initialize Z with a known matrix, if not given Z_init will be a zeros matrix. Default = None.\n",
    "    :param max_iter (optional): max number of iterations for the method. Default = 150.\n",
    "    :param patience (optional): once reached this tolerance provide the result. Default = 1e-3.\n",
    "    :return: Z: matrix of predicted ratings - it should be like X but with no 'empty values'\n",
    "    :return: accuracy: difference between original values (X) and predicted ones (Z)\n",
    "    '''\n",
    "\n",
    "    # Get X indexes for not empty values\n",
    "    if empties == 0:\n",
    "        idx_ratings = np.argwhere(X != 0)\n",
    "    elif empties == 'nan':\n",
    "        idx_ratings = np.argwhere(~np.isnan(X))\n",
    "    else:\n",
    "        return print('Empties argument', empties, 'not valid.')\n",
    "    idx_rows = idx_ratings[:,0]\n",
    "    idx_cols = idx_ratings[:,1]\n",
    "\n",
    "    # Initialize Z\n",
    "    if Z_init is not None:\n",
    "        Z = Z_init\n",
    "    elif Z_init == 'random':\n",
    "        # This is for not normalized only (integer ratings)\n",
    "        values = np.unique(X[idx_rows, idx_cols])\n",
    "        Z = np.random.randint(np.min(values), np.max(values), size=X.shape)\n",
    "        Z = Z.astype(float)\n",
    "        # We can normalize it later\n",
    "        Z = ...\n",
    "    else:\n",
    "        #Z = np.zeros(X.shape)\n",
    "        Z = np.random.uniform(low = 0.01, high = 1, size = X.shape)\n",
    "\n",
    "    # Create vectors with the not empty features of the sparse matrix\n",
    "    X_rated = X[idx_rows, idx_cols]\n",
    "    Z_rated = Z[idx_rows, idx_cols]\n",
    "    diff_vec = np.array(Z_rated - X_rated)[0]\n",
    "\n",
    "    diff_err = patience + 1\n",
    "    err = objective_function(diff_vec)\n",
    "    it = 0\n",
    "    while (diff_err > patience) and (it < max_iter):\n",
    "        # Gradient\n",
    "        grad = sparse.csr_matrix((diff_vec, (idx_rows, idx_cols)))\n",
    "\n",
    "        # SVD\n",
    "        u_max, s_max, v_max = sparse.linalg.svds(grad, k = 1, which='LM')   # Compute k = 1 singular values, starting from the largest (which = 'LM')\n",
    "\n",
    "        # Update\n",
    "        update_Z = -delta*np.outer(u_max,v_max)     # Zk_tilde in the theory\n",
    "\n",
    "        #alpha - as studied in class\n",
    "        alpha_k = 2/(it+2)\n",
    "        Z = (1-alpha_k)*Z + alpha_k*update_Z\n",
    "\n",
    "        # Error\n",
    "        diff_vec = np.array(Z_rated - X_rated)[0]\n",
    "        new_err = objective_function(diff_vec)\n",
    "\n",
    "        # Improvement at this iteration\n",
    "        diff_err = np.abs(err - new_err)\n",
    "        err = new_err\n",
    "\n",
    "        if printing_res == True:\n",
    "            print('Iteration:', it, 'Loss:', err, 'Diff loss:', diff_err)\n",
    "\n",
    "        # Count iteration\n",
    "        it += 1\n",
    "    return Z, err"
   ]
  },
  {
   "cell_type": "code",
   "execution_count": 104,
   "outputs": [],
   "source": [
    "def FrankWolfe(X, objective_function, delta, printing_res = True, Z_init = None, max_iter = 150, patience = 1e-3):\n",
    "    '''\n",
    "    :param X: sparse matrix with ratings and 'empty values', rows - users, columns - books.\n",
    "    :param objective_function: objective function that we would like to minimize with FW\n",
    "    :param Z_init: In case we want to initialize Z with a known matrix, if not given Z_init will be a zeros matrix\n",
    "    :param max_iter: max number of iterations for the method\n",
    "    :param patience: once reached this tolerance provide the result\n",
    "    :return: Z: matrix of predicted ratings - it should be like X but with no 'empty values'\n",
    "            accuracy: difference between original values (X) and predicted ones (Z)\n",
    "    '''\n",
    "    res_list = []\n",
    "\n",
    "    # Get X indexes for not empty values\n",
    "    idx_ratings = np.argwhere(X != 0)\n",
    "    #idx_ratings = np.argwhere(~np.isnan(X))\n",
    "    idx_rows = idx_ratings[:,0]\n",
    "    idx_cols = idx_ratings[:,1]\n",
    "\n",
    "    # Initialize Z -- think about a good init\n",
    "    if Z_init is not None:\n",
    "        Z = Z_init\n",
    "    else:\n",
    "        #Z = np.random.randint(1, 6, size=X.shape)\n",
    "        #Z = Z.astype(float)\n",
    "        Z = np.random.uniform(low = 0.01, high = 1, size = X.shape)\n",
    "\n",
    "    # Create vectors with the not empty features of the sparse matrix\n",
    "    X_rated = X[idx_rows, idx_cols]\n",
    "    Z_rated = Z[idx_rows, idx_cols]\n",
    "    diff_vec = Z_rated - X_rated\n",
    "    flat = np.array(diff_vec)[0]\n",
    "\n",
    "    # choose an appropriate delta\n",
    "    diff_err = patience + 1\n",
    "    err = objective_function(diff_vec)\n",
    "    it = 0\n",
    "    while (diff_err > patience) and (it < max_iter):\n",
    "\n",
    "        # Gradient\n",
    "        grad = sparse.csr_matrix((flat, (idx_rows, idx_cols)))\n",
    "\n",
    "        # SVD\n",
    "        u_max, s_max, v_max = sparse.linalg.svds(grad, k = 1, which='LM')   # Compute k = 1 singular values, starting from the largest (which = 'LM')\n",
    "\n",
    "        # Update\n",
    "        Zk_tilde = -delta*np.outer(u_max,v_max)     # Zk_tilde in the theory\n",
    "        #Zk_tilde = np.random.uniform(size = Z.shape)\n",
    "        #alpha - as studied in class\n",
    "        alpha_k = 2/(it+2)\n",
    "        Z = (1-alpha_k)*Z + alpha_k*Zk_tilde\n",
    "        # Error\n",
    "        diff_vec = Z[idx_rows, idx_cols] - X_rated\n",
    "        flat = np.array(diff_vec)[0]\n",
    "\n",
    "        new_err = objective_function(diff_vec)\n",
    "\n",
    "        # Improvement at this iteration\n",
    "        diff_err = np.abs(err - new_err)\n",
    "        err = new_err\n",
    "\n",
    "        if printing_res == True:\n",
    "            if it == 1 or it % 10 == 0:\n",
    "                print('Iteration:', it, 'Err:', err, 'Diff err:', diff_err, 'Z rank: ',np.linalg.matrix_rank(Z), 'Z_tilde rank: ', sparse.csgraph.structural_rank(Zk_tilde) )\n",
    "\n",
    "        # Count iteration\n",
    "        it += 1\n",
    "\n",
    "        res_list.append(err)\n",
    "        return Z, err, res_list"
   ],
   "metadata": {
    "collapsed": false,
    "pycharm": {
     "name": "#%%\n"
    }
   }
  },
  {
   "cell_type": "markdown",
   "metadata": {
    "pycharm": {
     "name": "#%% md\n"
    },
    "id": "WXTeGA9emqMA"
   },
   "source": [
    "We build a smaller matrix for testing the FW alg, then we will apply it to our data"
   ]
  },
  {
   "cell_type": "code",
   "execution_count": 83,
   "metadata": {
    "jupyter": {
     "outputs_hidden": false
    },
    "pycharm": {
     "name": "#%%\n"
    },
    "id": "8_5BaHGfmqMA"
   },
   "outputs": [],
   "source": [
    "# Create a random sparse matrix for testing\n",
    "rvs = stats.randint(1,6).rvs\n",
    "X_test = sparse.random(1500, 2000,              # shape of the sparse matrix\n",
    "            density = 0.05,             # density of the sparse matrix\n",
    "            dtype = np.int32,           # data type\n",
    "            data_rvs=rvs).toarray()     # distribution\n",
    "\n",
    "#Normalize the values\n",
    "X_test_norm = X_test/5"
   ]
  },
  {
   "cell_type": "code",
   "execution_count": 84,
   "metadata": {
    "jupyter": {
     "outputs_hidden": false
    },
    "pycharm": {
     "name": "#%%\n"
    },
    "colab": {
     "base_uri": "https://localhost:8080/",
     "height": 1000
    },
    "id": "HiCoSkpMmqMA",
    "outputId": "ad67adec-11c5-4d56-de6b-1573ccaca27b"
   },
   "outputs": [
    {
     "name": "stdout",
     "output_type": "stream",
     "text": [
      "(150000,) (150000,)\n",
      "Iteration: 0 Loss: 1024508.7749896363 Diff loss: 991428.7549896362\n",
      "(150000,) (150000,)\n",
      "Iteration: 1 Loss: 338703.29035227495 Diff loss: 685805.4846373613\n",
      "(150000,) (150000,)\n",
      "Iteration: 2 Loss: 93884.03537557361 Diff loss: 244819.25497670134\n",
      "(150000,) (150000,)\n",
      "Iteration: 3 Loss: 237348.527814043 Diff loss: 143464.49243846937\n",
      "(150000,) (150000,)\n",
      "Iteration: 4 Loss: 781946.8683720027 Diff loss: 544598.3405579597\n",
      "(150000,) (150000,)\n",
      "Iteration: 5 Loss: 807353.0742541996 Diff loss: 25406.205882196897\n",
      "(150000,) (150000,)\n",
      "Iteration: 6 Loss: 434125.1891914705 Diff loss: 373227.8850627291\n",
      "(150000,) (150000,)\n",
      "Iteration: 7 Loss: 459579.7558257326 Diff loss: 25454.566634262097\n",
      "(150000,) (150000,)\n",
      "Iteration: 8 Loss: 287371.17045090557 Diff loss: 172208.58537482703\n"
     ]
    }
   ],
   "source": [
    "pred_ratings, loss, _ = FrankWolfe(X_test_norm, FW_objective_function, delta = 7250, max_iter=9, patience=1e-5)"
   ]
  },
  {
   "cell_type": "code",
   "execution_count": 26,
   "metadata": {
    "jupyter": {
     "outputs_hidden": false
    },
    "pycharm": {
     "name": "#%%\n"
    },
    "id": "TFmkDoxPmqMA",
    "outputId": "0b51ca71-cff2-435f-f9e9-0dccb54fcc2e"
   },
   "outputs": [
    {
     "data": {
      "text/plain": "array([[5., 5., 5., ..., 0., 0., 0.],\n       [5., 4., 4., ..., 1., 1., 1.]])"
     },
     "execution_count": 26,
     "metadata": {},
     "output_type": "execute_result"
    }
   ],
   "source": [
    "idx_ratings = np.argwhere(X_test != 0)\n",
    "idx_rows = idx_ratings[:,0]\n",
    "idx_cols = idx_ratings[:,1]\n",
    "predicted = pred_ratings.round(decimals=0)\n",
    "np.array([predicted[idx_rows,idx_cols]*5, X_test[idx_rows,idx_cols]])"
   ]
  },
  {
   "cell_type": "markdown",
   "source": [
    "### Generation of a sparse low-rank matrix"
   ],
   "metadata": {
    "collapsed": false,
    "pycharm": {
     "name": "#%% md\n"
    }
   }
  },
  {
   "cell_type": "code",
   "execution_count": 105,
   "outputs": [],
   "source": [
    "import numpy as np\n",
    "import scipy.sparse\n",
    "\n",
    "# Parameters\n",
    "n = 400\n",
    "m = 200\n",
    "r = 10\n",
    "rho = 0.10\n",
    "SNR = 5\n",
    "delta = 3.75\n",
    "\n",
    "# taking data\n",
    "U = scipy.sparse.random(m, r, density=0.1, format='csr', data_rvs=None)\n",
    "V = scipy.sparse.random(r, n, density=0.1, format='csr', data_rvs=None)\n",
    "E = scipy.sparse.random(m, n, density=0.1, format='csr', data_rvs=None)\n",
    "\n",
    "VT = V.transpose(copy=True)\n",
    "\n",
    "UVT = U*V\n",
    "#print(UVT. shape)\n",
    "\n",
    "w1 = 1/(scipy.sparse.linalg.norm(UVT, ord='fro'))\n",
    "w2 = 1/(SNR*scipy.sparse.linalg.norm(E, ord='fro'))\n",
    "\n",
    "#Finally observed data matrix is:\n",
    "X_test = w1*UVT + w2*E"
   ],
   "metadata": {
    "collapsed": false,
    "pycharm": {
     "name": "#%%\n"
    }
   }
  },
  {
   "cell_type": "code",
   "execution_count": 106,
   "outputs": [
    {
     "name": "stdout",
     "output_type": "stream",
     "text": [
      "Iteration: 0 Err: 24.912634605799063 Diff err: 2447.076395825603 Z rank:  1 Z_tilde rank:  200\n",
      "CPU times: total: 46.9 ms\n",
      "Wall time: 46.2 ms\n"
     ]
    },
    {
     "name": "stderr",
     "output_type": "stream",
     "text": [
      "C:\\Users\\cmart\\AppData\\Local\\Temp\\ipykernel_11408\\2428667009.py:63: SparseEfficiencyWarning: Input matrix should be in CSC, CSR, or COO matrix format\n",
      "  print('Iteration:', it, 'Err:', err, 'Diff err:', diff_err, 'Z rank: ',np.linalg.matrix_rank(Z), 'Z_tilde rank: ', sparse.csgraph.structural_rank(Zk_tilde) )\n"
     ]
    }
   ],
   "source": [
    "%time pred_ratings, loss,_ = FrankWolfe(X_test, FW_objective_function, delta = 10, max_iter=1000, patience=1e-7)"
   ],
   "metadata": {
    "collapsed": false,
    "pycharm": {
     "name": "#%%\n"
    }
   }
  },
  {
   "cell_type": "code",
   "execution_count": 50,
   "outputs": [
    {
     "data": {
      "text/plain": "array([[ 4.        , -0.        ,  1.        , ...,  3.        ,\n         6.        ,  4.        ],\n       [ 0.85416945, -0.06972226,  0.14358105, ...,  0.67381129,\n         1.21625384,  0.8303198 ]])"
     },
     "execution_count": 50,
     "metadata": {},
     "output_type": "execute_result"
    }
   ],
   "source": [
    "# Compare real ratings and predictions\n",
    "idx_ratings = np.argwhere(X_test != 0)\n",
    "idx_rows = idx_ratings[:,0]\n",
    "idx_cols = idx_ratings[:,1]\n",
    "pred_ratings = pred_ratings*5\n",
    "predicted = pred_ratings.round(decimals=0)\n",
    "np.array([predicted[idx_rows,idx_cols], (X_test*5)[idx_rows,idx_cols]])"
   ],
   "metadata": {
    "collapsed": false,
    "pycharm": {
     "name": "#%%\n"
    }
   }
  },
  {
   "cell_type": "code",
   "execution_count": 47,
   "outputs": [
    {
     "ename": "ValueError",
     "evalue": "Classification metrics can't handle a mix of continuous and multiclass targets",
     "output_type": "error",
     "traceback": [
      "\u001B[1;31m---------------------------------------------------------------------------\u001B[0m",
      "\u001B[1;31mValueError\u001B[0m                                Traceback (most recent call last)",
      "Input \u001B[1;32mIn [47]\u001B[0m, in \u001B[0;36m<cell line: 2>\u001B[1;34m()\u001B[0m\n\u001B[0;32m      1\u001B[0m \u001B[38;5;28;01mfrom\u001B[39;00m \u001B[38;5;21;01msklearn\u001B[39;00m\u001B[38;5;21;01m.\u001B[39;00m\u001B[38;5;21;01mmetrics\u001B[39;00m \u001B[38;5;28;01mimport\u001B[39;00m accuracy_score\n\u001B[1;32m----> 2\u001B[0m accuracy \u001B[38;5;241m=\u001B[39m \u001B[43maccuracy_score\u001B[49m\u001B[43m(\u001B[49m\u001B[43mX_test\u001B[49m\u001B[43m[\u001B[49m\u001B[43midx_rows\u001B[49m\u001B[43m,\u001B[49m\u001B[43midx_cols\u001B[49m\u001B[43m]\u001B[49m\u001B[43m,\u001B[49m\u001B[43m \u001B[49m\u001B[43mpredicted\u001B[49m\u001B[43m[\u001B[49m\u001B[43midx_rows\u001B[49m\u001B[43m,\u001B[49m\u001B[43midx_cols\u001B[49m\u001B[43m]\u001B[49m\u001B[43m)\u001B[49m\n\u001B[0;32m      3\u001B[0m \u001B[38;5;28mprint\u001B[39m(\u001B[38;5;124m'\u001B[39m\u001B[38;5;124mAccuracy of the prediction:\u001B[39m\u001B[38;5;124m'\u001B[39m, np\u001B[38;5;241m.\u001B[39mround(accuracy\u001B[38;5;241m*\u001B[39m\u001B[38;5;241m100\u001B[39m,\u001B[38;5;241m2\u001B[39m),\u001B[38;5;124m'\u001B[39m\u001B[38;5;124m%\u001B[39m\u001B[38;5;124m'\u001B[39m)\n",
      "File \u001B[1;32m~\\AppData\\Local\\Programs\\Python\\Python39\\lib\\site-packages\\sklearn\\metrics\\_classification.py:211\u001B[0m, in \u001B[0;36maccuracy_score\u001B[1;34m(y_true, y_pred, normalize, sample_weight)\u001B[0m\n\u001B[0;32m    145\u001B[0m \u001B[38;5;124;03m\"\"\"Accuracy classification score.\u001B[39;00m\n\u001B[0;32m    146\u001B[0m \n\u001B[0;32m    147\u001B[0m \u001B[38;5;124;03mIn multilabel classification, this function computes subset accuracy:\u001B[39;00m\n\u001B[1;32m   (...)\u001B[0m\n\u001B[0;32m    207\u001B[0m \u001B[38;5;124;03m0.5\u001B[39;00m\n\u001B[0;32m    208\u001B[0m \u001B[38;5;124;03m\"\"\"\u001B[39;00m\n\u001B[0;32m    210\u001B[0m \u001B[38;5;66;03m# Compute accuracy for each possible representation\u001B[39;00m\n\u001B[1;32m--> 211\u001B[0m y_type, y_true, y_pred \u001B[38;5;241m=\u001B[39m \u001B[43m_check_targets\u001B[49m\u001B[43m(\u001B[49m\u001B[43my_true\u001B[49m\u001B[43m,\u001B[49m\u001B[43m \u001B[49m\u001B[43my_pred\u001B[49m\u001B[43m)\u001B[49m\n\u001B[0;32m    212\u001B[0m check_consistent_length(y_true, y_pred, sample_weight)\n\u001B[0;32m    213\u001B[0m \u001B[38;5;28;01mif\u001B[39;00m y_type\u001B[38;5;241m.\u001B[39mstartswith(\u001B[38;5;124m\"\u001B[39m\u001B[38;5;124mmultilabel\u001B[39m\u001B[38;5;124m\"\u001B[39m):\n",
      "File \u001B[1;32m~\\AppData\\Local\\Programs\\Python\\Python39\\lib\\site-packages\\sklearn\\metrics\\_classification.py:93\u001B[0m, in \u001B[0;36m_check_targets\u001B[1;34m(y_true, y_pred)\u001B[0m\n\u001B[0;32m     90\u001B[0m     y_type \u001B[38;5;241m=\u001B[39m {\u001B[38;5;124m\"\u001B[39m\u001B[38;5;124mmulticlass\u001B[39m\u001B[38;5;124m\"\u001B[39m}\n\u001B[0;32m     92\u001B[0m \u001B[38;5;28;01mif\u001B[39;00m \u001B[38;5;28mlen\u001B[39m(y_type) \u001B[38;5;241m>\u001B[39m \u001B[38;5;241m1\u001B[39m:\n\u001B[1;32m---> 93\u001B[0m     \u001B[38;5;28;01mraise\u001B[39;00m \u001B[38;5;167;01mValueError\u001B[39;00m(\n\u001B[0;32m     94\u001B[0m         \u001B[38;5;124m\"\u001B[39m\u001B[38;5;124mClassification metrics can\u001B[39m\u001B[38;5;124m'\u001B[39m\u001B[38;5;124mt handle a mix of \u001B[39m\u001B[38;5;132;01m{0}\u001B[39;00m\u001B[38;5;124m and \u001B[39m\u001B[38;5;132;01m{1}\u001B[39;00m\u001B[38;5;124m targets\u001B[39m\u001B[38;5;124m\"\u001B[39m\u001B[38;5;241m.\u001B[39mformat(\n\u001B[0;32m     95\u001B[0m             type_true, type_pred\n\u001B[0;32m     96\u001B[0m         )\n\u001B[0;32m     97\u001B[0m     )\n\u001B[0;32m     99\u001B[0m \u001B[38;5;66;03m# We can't have more than one value on y_type => The set is no more needed\u001B[39;00m\n\u001B[0;32m    100\u001B[0m y_type \u001B[38;5;241m=\u001B[39m y_type\u001B[38;5;241m.\u001B[39mpop()\n",
      "\u001B[1;31mValueError\u001B[0m: Classification metrics can't handle a mix of continuous and multiclass targets"
     ]
    }
   ],
   "source": [
    "from sklearn.metrics import accuracy_score\n",
    "accuracy = accuracy_score(X_test[idx_rows,idx_cols], predicted[idx_rows,idx_cols])\n",
    "for i in range(len())\n",
    "print('Accuracy of the prediction:', np.round(accuracy*100,2),'%')"
   ],
   "metadata": {
    "collapsed": false,
    "pycharm": {
     "name": "#%%\n"
    }
   }
  },
  {
   "cell_type": "markdown",
   "source": [
    "#### Our data prediction"
   ],
   "metadata": {
    "collapsed": false
   }
  },
  {
   "cell_type": "code",
   "execution_count": 54,
   "outputs": [
    {
     "data": {
      "text/plain": "2575"
     },
     "execution_count": 54,
     "metadata": {},
     "output_type": "execute_result"
    }
   ],
   "source": [
    "# Rank\n",
    "#idx_ratings = np.argwhere(X != 0)\n",
    "idx_ratings = np.argwhere(~np.isnan(data_matrix))\n",
    "idx_rows = idx_ratings[:,0]\n",
    "idx_cols = idx_ratings[:,1]\n",
    "rated = data_matrix[idx_rows, idx_cols]\n",
    "asdkn = sparse.csr_matrix((rated, (idx_rows, idx_cols)))\n",
    "sparse.csgraph.structural_rank(asdkn)\n",
    "#np.linalg.matrix_rank(data_matrix)"
   ],
   "metadata": {
    "collapsed": false,
    "pycharm": {
     "name": "#%%\n"
    }
   }
  },
  {
   "cell_type": "code",
   "execution_count": 59,
   "outputs": [
    {
     "data": {
      "text/plain": "2575"
     },
     "execution_count": 59,
     "metadata": {},
     "output_type": "execute_result"
    }
   ],
   "source": [
    "from scipy.linalg import interpolative\n",
    "interpolative.estimate_rank(asdkn.A, 0.1)"
   ],
   "metadata": {
    "collapsed": false,
    "pycharm": {
     "name": "#%%\n"
    }
   }
  },
  {
   "cell_type": "code",
   "source": [
    "#new_data = np.nan_to_num(data_matrix, )"
   ],
   "metadata": {
    "id": "kvTz-usn3I0b"
   },
   "execution_count": 41,
   "outputs": []
  },
  {
   "cell_type": "code",
   "execution_count": 42,
   "metadata": {
    "jupyter": {
     "outputs_hidden": false
    },
    "pycharm": {
     "name": "#%%\n"
    },
    "colab": {
     "base_uri": "https://localhost:8080/",
     "height": 565
    },
    "id": "b9mDrB5PmqMB",
    "outputId": "28c2ca97-b340-4c5b-ffb4-803e5fece55f"
   },
   "outputs": [
    {
     "output_type": "stream",
     "name": "stdout",
     "text": [
      "(412898,)\n",
      "[5. 4. 5. ... 5. 2. 3.]\n",
      "Iteration: 0 Err: 169521072.7652239 Diff err: 166171807.7652239\n",
      "Iteration: 1 Err: 128322206.78089207 Diff err: 41198865.98433182\n",
      "Iteration: 2 Err: 59513961.45147687 Diff err: 68808245.3294152\n",
      "Iteration: 3 Err: 49811164.41752395 Diff err: 9702797.033952922\n",
      "Iteration: 4 Err: 30249657.409918882 Diff err: 19561507.00760507\n",
      "Iteration: 5 Err: 26538908.856101528 Diff err: 3710748.553817354\n",
      "Iteration: 6 Err: 18209640.242947124 Diff err: 8329268.613154404\n",
      "Iteration: 7 Err: 16855018.78428113 Diff err: 1354621.458665993\n",
      "Iteration: 8 Err: 12632848.066807121 Diff err: 4222170.71747401\n",
      "Iteration: 9 Err: 12131203.513994992 Diff err: 501644.55281212926\n",
      "Iteration: 10 Err: 9659089.161567688 Diff err: 2472114.352427304\n",
      "Iteration: 11 Err: 9500811.138292564 Diff err: 158278.0232751239\n",
      "Iteration: 12 Err: 7894403.550649143 Diff err: 1606407.5876434213\n",
      "Iteration: 13 Err: 7889573.968425838 Diff err: 4829.582223304547\n"
     ]
    },
    {
     "output_type": "error",
     "ename": "KeyboardInterrupt",
     "evalue": "ignored",
     "traceback": [
      "\u001B[0;31m---------------------------------------------------------------------------\u001B[0m",
      "\u001B[0;31mKeyboardInterrupt\u001B[0m                         Traceback (most recent call last)",
      "\u001B[0;32m<ipython-input-42-551cbd27d3d0>\u001B[0m in \u001B[0;36m<module>\u001B[0;34m()\u001B[0m\n\u001B[0;32m----> 1\u001B[0;31m \u001B[0mpred_ratings\u001B[0m\u001B[0;34m,\u001B[0m \u001B[0mloss\u001B[0m \u001B[0;34m=\u001B[0m \u001B[0mFrankWolfe\u001B[0m\u001B[0;34m(\u001B[0m\u001B[0mnew_data\u001B[0m\u001B[0;34m,\u001B[0m \u001B[0mFW_objective_function\u001B[0m\u001B[0;34m,\u001B[0m \u001B[0mdelta\u001B[0m \u001B[0;34m=\u001B[0m \u001B[0;36m43200\u001B[0m\u001B[0;34m,\u001B[0m \u001B[0mmax_iter\u001B[0m\u001B[0;34m=\u001B[0m\u001B[0;36m10000\u001B[0m\u001B[0;34m,\u001B[0m \u001B[0mpatience\u001B[0m\u001B[0;34m=\u001B[0m\u001B[0;36m1e-5\u001B[0m\u001B[0;34m)\u001B[0m\u001B[0;34m\u001B[0m\u001B[0;34m\u001B[0m\u001B[0m\n\u001B[0m",
      "\u001B[0;32m<ipython-input-38-dbfc48bc01a5>\u001B[0m in \u001B[0;36mFrankWolfe\u001B[0;34m(X, objective_function, delta, Z_init, max_iter, patience)\u001B[0m\n\u001B[1;32m     56\u001B[0m         \u001B[0;31m#alpha - as studied in class\u001B[0m\u001B[0;34m\u001B[0m\u001B[0;34m\u001B[0m\u001B[0;34m\u001B[0m\u001B[0m\n\u001B[1;32m     57\u001B[0m         \u001B[0malpha_k\u001B[0m \u001B[0;34m=\u001B[0m \u001B[0;36m2\u001B[0m\u001B[0;34m/\u001B[0m\u001B[0;34m(\u001B[0m\u001B[0mit\u001B[0m\u001B[0;34m+\u001B[0m\u001B[0;36m2\u001B[0m\u001B[0;34m)\u001B[0m\u001B[0;34m\u001B[0m\u001B[0;34m\u001B[0m\u001B[0m\n\u001B[0;32m---> 58\u001B[0;31m         \u001B[0mZ\u001B[0m \u001B[0;34m=\u001B[0m \u001B[0;34m(\u001B[0m\u001B[0;36m1\u001B[0m\u001B[0;34m-\u001B[0m\u001B[0malpha_k\u001B[0m\u001B[0;34m)\u001B[0m\u001B[0;34m*\u001B[0m\u001B[0mZ\u001B[0m \u001B[0;34m+\u001B[0m \u001B[0malpha_k\u001B[0m\u001B[0;34m*\u001B[0m\u001B[0mupdate_Z\u001B[0m\u001B[0;34m\u001B[0m\u001B[0;34m\u001B[0m\u001B[0m\n\u001B[0m\u001B[1;32m     59\u001B[0m \u001B[0;34m\u001B[0m\u001B[0m\n\u001B[1;32m     60\u001B[0m         \u001B[0;31m# Error\u001B[0m\u001B[0;34m\u001B[0m\u001B[0;34m\u001B[0m\u001B[0;34m\u001B[0m\u001B[0m\n",
      "\u001B[0;31mKeyboardInterrupt\u001B[0m: "
     ]
    }
   ],
   "source": [
    "pred_ratings, loss = FrankWolfe(data_matrix, FW_objective_function, delta = 43200, empties='nan',max_iter=10000, patience=1e-5)"
   ]
  },
  {
   "cell_type": "markdown",
   "metadata": {
    "id": "6y-VOlLMvfq8"
   },
   "source": [
    "# Frank-Wolfe In-face"
   ]
  },
  {
   "cell_type": "code",
   "execution_count": 47,
   "metadata": {
    "jupyter": {
     "outputs_hidden": false
    },
    "pycharm": {
     "name": "#%%\n"
    },
    "id": "bRpuyws1mqMB"
   },
   "outputs": [],
   "source": [
    "def FW_objective_function(diff_vec):\n",
    "    return 0.5*(np.power(diff_vec,2).sum())\n",
    "    #return 0.5 * np.linalg.norm(diff_vec, 2)**2\n",
    "    \n",
    "def alpha_binary_search(Zk, Dk, delta, min_value = 0):\n",
    "        \n",
    "    #Inizialization\n",
    "    best_alpha = (delta - min_value) / 2\n",
    "    testing_matrix = Zk + best_alpha * Dk\n",
    "    testing_mat_nuclear_norm = LA.norm(testing_matrix, ord = 'nuc')\n",
    "    \n",
    "    #Binary Search\n",
    "    while testing_mat_nuclear_norm <= delta:\n",
    "        min_value = best_alpha\n",
    "        best_alpha = (delta - min_value) / 2\n",
    "        testing_matrix = Zk + best_alpha * Dk\n",
    "        testing_mat_nuclear_norm = LA.norm(testing_matrix, ord = 'nuc')\n",
    "\n",
    "    return best_alpha\n",
    "\n",
    "def FW_inface(X, objective_function, delta, empties = 0, Z_init = None, max_iter=150, patience=1e-3):\n",
    "    '''\n",
    "    :param X: sparse matrix with ratings and 'empty values', rows - users, columns - books.\n",
    "    :param objective_function: objective function that we would like to minimize with FW.\n",
    "    :param delta: Radius of the feasible's set ball\n",
    "    :param empties (optional): Empty values of X are zeros (0) or NaN ('nan'). Default = 0\n",
    "    :param Z_init (optional): In case we want to initialize Z with a known matrix, if not given Z_init will be a zeros matrix. Default = None.\n",
    "    :param max_iter (optional): max number of iterations for the method. Default = 150.\n",
    "    :param patience (optional): once reached this tolerance provide the result. Default = 1e-3.\n",
    "    :return: Z: matrix of predicted ratings - it should be like X but with no 'empty values'\n",
    "            loss: difference between original values (X) and predicted ones (Z).\n",
    "    '''\n",
    "\n",
    "    # Get X indexes for not empty values\n",
    "    if empties == 0:\n",
    "        idx_ratings = np.argwhere(X != 0)\n",
    "    elif empties == 'nan':\n",
    "        idx_ratings = np.argwhere(~np.isnan(X))\n",
    "    else:\n",
    "        return print('Empties argument', empties, 'not valid.')\n",
    "    idx_rows = idx_ratings[:,0]\n",
    "    idx_cols = idx_ratings[:,1]\n",
    "\n",
    "    # Initialize Z_{-1}\n",
    "    if Z_init is not None:\n",
    "        Z = Z_init\n",
    "    else:\n",
    "        Z = np.zeros(X.shape)\n",
    "\n",
    "    # Create vectors with the not empty features of the sparse matrix\n",
    "    X_rated = X[idx_rows, idx_cols]\n",
    "    Z_rated = Z[idx_rows, idx_cols]\n",
    "    diff_vec = Z_rated - X_rated\n",
    "\n",
    "    # Initial gradient and Z0\n",
    "    grad = sparse.csr_matrix((diff_vec, (idx_rows, idx_cols)))\n",
    "    u_max, s_max, v_max = sparse.linalg.svds(grad, k = 1, which='LM')\n",
    "    Z = -delta*np.outer(u_max,v_max)\n",
    "    Z_rated = Z[idx_rows, idx_cols]\n",
    "\n",
    "    # Initialize lower bound on the optimal objective function (f*)\n",
    "    diff_vec = Z_rated - X_rated\n",
    "    new_low_bound = np.max((objective_function(diff_vec) + np.multiply(diff_vec,Z_rated)),0)\n",
    "\n",
    "    # Set L and D constants and gamma1, gamma2 constraints\n",
    "    L = 1\n",
    "    D = 2*delta\n",
    "    gamma1 = 0\n",
    "    gamma2 = 1\n",
    "\n",
    "    # Compute first iteration thin SVD\n",
    "    grad = sparse.csr_matrix((diff_vec, (idx_rows, idx_cols)))\n",
    "    r_grad = sparse.csgraph.structural_rank(grad)   # Compute rank of the gradient sparse matrix to find thin SVD size\n",
    "    U_thin, D_thin, Vh_thin = sparse.linalg.svds(grad, k = 1, which='LM')   # Compute k = rank singular values # replaced r_grad with 1\n",
    "\n",
    "\n",
    "    # Additional needed parameters\n",
    "    diff_objective = patience + 1\n",
    "    objective = objective_function(diff_vec)\n",
    "    it = 0\n",
    "    while (diff_objective > patience) and (it < max_iter):\n",
    "\n",
    "        # Lower bound update\n",
    "        low_bound = new_low_bound\n",
    "\n",
    "        # In-face direction with the away step strategy: two calculations depending of where Z lies within the feasible set\n",
    "        if D_thin.sum() == delta: # Z in border (sum of singular values == radious of feasible set)\n",
    "            G = 0.5(Vh_thin.dot(grad.T.dot(U_thin)) + U_thin.T.dot(grad.dot(Vh_thin.T)))\n",
    "            u = sparse.linalg.eigs(G, k = 1, which = 'SM')#unitary eigenvector corresponding to smallest eigenvalue of G\n",
    "            M = np.outer(u,u)\n",
    "            update_Z = delta*U_thin.dot(M.dot(Vh_thin))  # Zk tilde, right?\n",
    "            update_direction = Z-update_Z\n",
    "            alpha_B = scipy.linalg.inv(delta*u.T.dot(scipy.linalg.inv(update_direction).dot(u))-1)\n",
    "            \n",
    "        else: #inside\n",
    "            idx_max_s = np.argmax(D_thin)\n",
    "            update_Z = delta*np.outer(U_thin[idx_max_s,:],Vh_thin[idx_max_s,:])\n",
    "            update_direction = Z-update_Z\n",
    "            #BINARY SEARCH (xd)\n",
    "            alpha_B = alpha_binary_search(Z, # This one should be Zk, not Zk tilde... have I chose the correct variable? \n",
    "                                          D_thin, # This one shoulde be the direction matrix\n",
    "                                          delta) \n",
    "\n",
    "        nuclear_norm = D_thin.sum()\n",
    "        U = nuclear_norm*D_thin # standardize the simplex\n",
    "        r = D_thin.shape\n",
    "        no_obs = idx_rows.shape[0]\n",
    "        THRES = 0.001\n",
    "        \n",
    "        if ((abs(delta - nuclear_norm) < THRES) and r > 1):\n",
    "            Z_B = Z + alpha_B*update_direction\n",
    "            diff_vec_B = Z_B[idx_rows, idx_cols] - X_rated\n",
    "            \n",
    "            if 1/(objective_function(diff_vec_B)-low_bound) >= (1/(objective-low_bound)+gamma1/(2*L*D**2)):\n",
    "                # 1. Move to a lower dimensional face\n",
    "                Z = Z_B\n",
    "                #SHOULDN'T THIS BE THE SAME AS THE DENOMINATOR IN THE INEQUALITY CHECK? SEE RED CIRCLES IN IMAGE\n",
    "\n",
    "            else:\n",
    "                beta = 0.5 # FIND A GOOD VALUE -- a binary search is also suggested by the paper xdd\n",
    "                Z_A = Z + beta*update_direction\n",
    "                diff_vec_A = Z_A[idx_rows, idx_cols] - X_rated\n",
    "            if 1/(objective_function(diff_vec_A)-low_bound) >= (1/(objective-low_bound)+gamma2/(2*L*D**2)):\n",
    "                # 2. Stay in the current face\n",
    "                Z = Z_A\n",
    "                #SHOULDN'T THIS BE THE SAME AS THE DENOMINATOR IN THE INEQUALITY CHECK? SEE RED CIRCLES IN IMAGE\n",
    "\n",
    "        else:\n",
    "\n",
    "            '''   COMMENTED THIS PORTION BECAUSE I TRY TO USE THE CUSTOM FUNCTION CREATED BEFORE\n",
    "\n",
    "            # 3. Do a regular FW step and update the lower bound\n",
    "            #Zk update\n",
    "            idx_max_s = np.argmax(D_thin)\n",
    "            update_Z = -delta*np.outer(U_thin[idx_max_s,:],Vh_thin[:,idx_max_s]) # Am i selecting right the vectors??\n",
    "            alpha_k = 2/(it+2)\n",
    "\n",
    "            print('Z BEFORE')\n",
    "            print(Z)\n",
    "\n",
    "            Z = (1-alpha_k)*Z + alpha_k*update_Z\n",
    "\n",
    "            print('Z AFTER')\n",
    "            print(Z)\n",
    "\n",
    "            # Lower bound update\n",
    "            direction_vec = update_Z.flatten() - Z.flatten()\n",
    "\n",
    "            grad = grad.toarray() # this method converts the sparse matrix into a numpy array!\n",
    "\n",
    "            wolfe_gap = grad.T.flatten() * direction_vec #added the flatten otherwise you can't do the operation\n",
    "            B_w = objective + wolfe_gap.sum() # - bound_slack This is in matlab(Gabri)s code -- is it necessary? --> Gabri's answer: No, I don't think so\n",
    "            # new_low_bound = np.max(low_bound, B_w)   # gave problems during the execution: wanted both of the number as integers??\n",
    "\n",
    "            '''\n",
    "\n",
    "            Z, update_Z, low_bound = FrankWolfe(X, objective_function, delta = 43200, Z_init=None, max_iter=1, printing_res = False)\n",
    "            \n",
    "            # Compute B_w\n",
    "\n",
    "            direction_vec = update_Z.flatten() - Z.flatten()\n",
    "            grad = grad.toarray()\n",
    "            wolfe_gap = grad.T.flatten() * direction_vec\n",
    "            B_w = objective + wolfe_gap.sum()\n",
    "\n",
    "\n",
    "            # Update Lower Bound\n",
    "\n",
    "            ###### TRIED THIS INSTEAD ####\n",
    "\n",
    "            if low_bound >= B_w:\n",
    "              new_low_bound = low_bound\n",
    "            else:\n",
    "              new_low_bound = B_w\n",
    "\n",
    "        # Loss\n",
    "        diff_vec = Z[idx_rows, idx_cols] - X_rated\n",
    "        new_objective = objective_function(diff_vec)\n",
    "\n",
    "        # Improvement at this iteration\n",
    "        diff_objective = np.abs(objective - new_objective)\n",
    "        objective = new_objective\n",
    "\n",
    "        # Gradient\n",
    "        grad = sparse.csr_matrix((diff_vec, (idx_rows, idx_cols)))\n",
    "\n",
    "        # Thin SVD\n",
    "        r_grad = sparse.csgraph.structural_rank(grad)   # Compute rank of the gradient sparse matrix to find thin SVD size\n",
    "        U_thin, D_thin, Vh_thin = sparse.linalg.svds(grad, k = 1, which='LM')   # Compute k = rank singular values # replaced r_grad with 1\n",
    "\n",
    "        # Count iteration\n",
    "        it += 1\n",
    "        \n",
    "        print('Iteration:', it, 'f(Z_k):', objective, 'f(Z_{k-1}) -f(Z_k):', diff_objective)\n",
    "\n",
    "    return Z, objective"
   ]
  },
  {
   "cell_type": "code",
   "execution_count": 49,
   "metadata": {
    "jupyter": {
     "outputs_hidden": false
    },
    "pycharm": {
     "name": "#%%\n"
    },
    "colab": {
     "base_uri": "https://localhost:8080/"
    },
    "id": "xkvvOkvGmqMC",
    "outputId": "2228437f-c91e-40d4-bb2d-8458e192bb48"
   },
   "outputs": [
    {
     "output_type": "stream",
     "name": "stdout",
     "text": [
      "Iteration: 1 f(Z_k): 169521072.7652234 f(Z_{k-1}) -f(Z_k): 165722575.63213205\n",
      "Iteration: 2 f(Z_k): 169521072.76522353 f(Z_{k-1}) -f(Z_k): 1.1920928955078125e-07\n"
     ]
    }
   ],
   "source": [
    "pred_ratings, loss = FW_inface(new_data, FW_objective_function, delta = 7000, max_iter=201)"
   ]
  },
  {
   "cell_type": "code",
   "execution_count": null,
   "metadata": {
    "jupyter": {
     "outputs_hidden": false
    },
    "pycharm": {
     "name": "#%%\n"
    },
    "id": "PwkTaaHMmqMC"
   },
   "outputs": [],
   "source": [
    ""
   ]
  },
  {
   "cell_type": "code",
   "execution_count": null,
   "metadata": {
    "jupyter": {
     "outputs_hidden": false
    },
    "pycharm": {
     "name": "#%%\n"
    },
    "id": "H7N0qlhVmqMC"
   },
   "outputs": [],
   "source": [
    ""
   ]
  },
  {
   "cell_type": "code",
   "execution_count": null,
   "metadata": {
    "jupyter": {
     "outputs_hidden": false
    },
    "pycharm": {
     "name": "#%%\n"
    },
    "id": "RQCKKKQgmqMC"
   },
   "outputs": [],
   "source": [
    ""
   ]
  },
  {
   "cell_type": "code",
   "execution_count": null,
   "metadata": {
    "jupyter": {
     "outputs_hidden": false
    },
    "pycharm": {
     "name": "#%%\n"
    },
    "id": "xnA8pnJfmqMC"
   },
   "outputs": [],
   "source": [
    ""
   ]
  },
  {
   "cell_type": "markdown",
   "metadata": {
    "id": "cpS5jRz4vpHa"
   },
   "source": [
    "## Sub-Chapter"
   ]
  }
 ],
 "metadata": {
  "colab": {
   "collapsed_sections": [],
   "name": "FW_GoodReads_recommender - Copia.ipynb",
   "provenance": []
  },
  "kernelspec": {
   "display_name": "Python 3",
   "language": "python",
   "name": "python3"
  },
  "language_info": {
   "codemirror_mode": {
    "name": "ipython",
    "version": 3
   },
   "file_extension": ".py",
   "mimetype": "text/x-python",
   "name": "python",
   "nbconvert_exporter": "python",
   "pygments_lexer": "ipython3",
   "version": "3.8.3"
  }
 },
 "nbformat": 4,
 "nbformat_minor": 0
}