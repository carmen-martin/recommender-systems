{
 "nbformat": 4,
 "nbformat_minor": 0,
 "metadata": {
  "colab": {
   "name": "Optimization for Data Science - Project Work",
   "provenance": [],
   "collapsed_sections": []
  },
  "kernelspec": {
   "name": "python3",
   "display_name": "Python 3"
  },
  "language_info": {
   "name": "python"
  }
 },
 "cells": [
  {
   "cell_type": "code",
   "execution_count": null,
   "metadata": {
    "colab": {
     "base_uri": "https://localhost:8080/"
    },
    "id": "M9fwkajk0JFu",
    "outputId": "4791d01a-7787-4011-9d2f-06e3f6740760"
   },
   "outputs": [
    {
     "output_type": "stream",
     "name": "stdout",
     "text": [
      "Mounted at /content/drive\n"
     ]
    }
   ],
   "source": [
    "from google.colab import drive\n",
    "drive.mount('/content/drive')"
   ]
  },
  {
   "cell_type": "markdown",
   "source": [
    "# Pre-Processing"
   ],
   "metadata": {
    "id": "65ARbMD3vBTq"
   }
  },
  {
   "cell_type": "markdown",
   "source": [
    "## Data Importing"
   ],
   "metadata": {
    "id": "3Vm7PYy7xNGZ"
   }
  },
  {
   "cell_type": "code",
   "source": [
    "import numpy as np\n",
    "import pandas as pd\n",
    "\n",
    "pd.set_option('display.max_rows', 100)\n",
    "pd.set_option('display.max_columns', 100)"
   ],
   "metadata": {
    "id": "ECj6WKmZ0XzI"
   },
   "execution_count": 22,
   "outputs": []
  },
  {
   "cell_type": "code",
   "source": [
    "#path = '/content/drive/MyDrive/O4DS - Project Work/goodreads_cleaned.csv'\n",
    "path = 'DATA/goodreads_cleaned.csv'"
   ],
   "metadata": {
    "id": "0Yt6f1OK0n0b"
   },
   "execution_count": 23,
   "outputs": []
  },
  {
   "cell_type": "code",
   "source": [
    "df = pd.read_csv(path, sep = \";\")\n",
    "df"
   ],
   "metadata": {
    "colab": {
     "base_uri": "https://localhost:8080/",
     "height": 424
    },
    "id": "XPZR6p810sja",
    "outputId": "ae8c040b-fead-4217-e935-2fe95e09c90f"
   },
   "execution_count": 24,
   "outputs": [
    {
     "data": {
      "text/plain": "                                 user_id   book_id  rating\n0       8842281e1d1347389f2ab93d60773d4d  18245960       5\n1       8842281e1d1347389f2ab93d60773d4d     16981       3\n2       8842281e1d1347389f2ab93d60773d4d  28684704       3\n3       8842281e1d1347389f2ab93d60773d4d  27161156       0\n4       8842281e1d1347389f2ab93d60773d4d  25884323       4\n...                                  ...       ...     ...\n899995  b9450d1c1f97f891c392b1105959b56e  11832081       3\n899996  b9450d1c1f97f891c392b1105959b56e  16095092       3\n899997  b9450d1c1f97f891c392b1105959b56e   8430896       4\n899998  b9450d1c1f97f891c392b1105959b56e  12275680       4\n899999  b9450d1c1f97f891c392b1105959b56e     17005       3\n\n[900000 rows x 3 columns]",
      "text/html": "<div>\n<style scoped>\n    .dataframe tbody tr th:only-of-type {\n        vertical-align: middle;\n    }\n\n    .dataframe tbody tr th {\n        vertical-align: top;\n    }\n\n    .dataframe thead th {\n        text-align: right;\n    }\n</style>\n<table border=\"1\" class=\"dataframe\">\n  <thead>\n    <tr style=\"text-align: right;\">\n      <th></th>\n      <th>user_id</th>\n      <th>book_id</th>\n      <th>rating</th>\n    </tr>\n  </thead>\n  <tbody>\n    <tr>\n      <th>0</th>\n      <td>8842281e1d1347389f2ab93d60773d4d</td>\n      <td>18245960</td>\n      <td>5</td>\n    </tr>\n    <tr>\n      <th>1</th>\n      <td>8842281e1d1347389f2ab93d60773d4d</td>\n      <td>16981</td>\n      <td>3</td>\n    </tr>\n    <tr>\n      <th>2</th>\n      <td>8842281e1d1347389f2ab93d60773d4d</td>\n      <td>28684704</td>\n      <td>3</td>\n    </tr>\n    <tr>\n      <th>3</th>\n      <td>8842281e1d1347389f2ab93d60773d4d</td>\n      <td>27161156</td>\n      <td>0</td>\n    </tr>\n    <tr>\n      <th>4</th>\n      <td>8842281e1d1347389f2ab93d60773d4d</td>\n      <td>25884323</td>\n      <td>4</td>\n    </tr>\n    <tr>\n      <th>...</th>\n      <td>...</td>\n      <td>...</td>\n      <td>...</td>\n    </tr>\n    <tr>\n      <th>899995</th>\n      <td>b9450d1c1f97f891c392b1105959b56e</td>\n      <td>11832081</td>\n      <td>3</td>\n    </tr>\n    <tr>\n      <th>899996</th>\n      <td>b9450d1c1f97f891c392b1105959b56e</td>\n      <td>16095092</td>\n      <td>3</td>\n    </tr>\n    <tr>\n      <th>899997</th>\n      <td>b9450d1c1f97f891c392b1105959b56e</td>\n      <td>8430896</td>\n      <td>4</td>\n    </tr>\n    <tr>\n      <th>899998</th>\n      <td>b9450d1c1f97f891c392b1105959b56e</td>\n      <td>12275680</td>\n      <td>4</td>\n    </tr>\n    <tr>\n      <th>899999</th>\n      <td>b9450d1c1f97f891c392b1105959b56e</td>\n      <td>17005</td>\n      <td>3</td>\n    </tr>\n  </tbody>\n</table>\n<p>900000 rows × 3 columns</p>\n</div>"
     },
     "execution_count": 24,
     "metadata": {},
     "output_type": "execute_result"
    }
   ]
  },
  {
   "cell_type": "markdown",
   "source": [
    "## Data Exploration"
   ],
   "metadata": {
    "id": "PPE9r1Q4xT1Z"
   }
  },
  {
   "cell_type": "code",
   "source": [
    "df.user_id.value_counts().describe()"
   ],
   "metadata": {
    "colab": {
     "base_uri": "https://localhost:8080/"
    },
    "id": "xBrJsOa1nmZl",
    "outputId": "4343d91b-a9ab-409a-a28f-6ffa3c32131a"
   },
   "execution_count": 25,
   "outputs": [
    {
     "data": {
      "text/plain": "count    12188.000000\nmean        73.843124\nstd        103.860677\nmin          1.000000\n25%         14.000000\n50%         37.000000\n75%         92.000000\nmax       1815.000000\nName: user_id, dtype: float64"
     },
     "execution_count": 25,
     "metadata": {},
     "output_type": "execute_result"
    }
   ]
  },
  {
   "cell_type": "code",
   "source": [
    "df.book_id.value_counts().describe()"
   ],
   "metadata": {
    "colab": {
     "base_uri": "https://localhost:8080/"
    },
    "id": "JH79waI4pO83",
    "outputId": "10b68851-5d09-4c7b-dbb6-175edefa3f16"
   },
   "execution_count": 26,
   "outputs": [
    {
     "data": {
      "text/plain": "count    25474.000000\nmean        35.330141\nstd         67.222413\nmin          1.000000\n25%         10.000000\n50%         17.000000\n75%         34.000000\nmax       1734.000000\nName: book_id, dtype: float64"
     },
     "execution_count": 26,
     "metadata": {},
     "output_type": "execute_result"
    }
   ]
  },
  {
   "cell_type": "markdown",
   "source": [
    "## Data Cleaning"
   ],
   "metadata": {
    "id": "dRNXYn4cxeG5"
   }
  },
  {
   "cell_type": "code",
   "source": [
    "df['book_id_count'] = df.groupby('book_id')['book_id'].transform('count')\n",
    "df['user_id_count'] = df.groupby('user_id')['user_id'].transform('count')\n",
    "df.book_id_count.quantile(0.9)"
   ],
   "metadata": {
    "id": "Vbw2KbXRpvEK"
   },
   "execution_count": 27,
   "outputs": [
    {
     "data": {
      "text/plain": "457.0"
     },
     "execution_count": 27,
     "metadata": {},
     "output_type": "execute_result"
    }
   ]
  },
  {
   "cell_type": "code",
   "source": [
    "book_quantile = 0.9\n",
    "user_quantile = 0.25\n",
    "\n",
    "df = df.loc[(df.book_id_count >= df.book_id.value_counts().quantile(book_quantile)) & (df.user_id_count >= df.user_id.value_counts().quantile(user_quantile)),:]\n"
   ],
   "metadata": {
    "colab": {
     "base_uri": "https://localhost:8080/",
     "height": 312
    },
    "id": "NTP9FUQmsJeX",
    "outputId": "b2cb6d79-64ed-4e3c-994f-d5bf6c341f41"
   },
   "execution_count": 28,
   "outputs": []
  },
  {
   "cell_type": "code",
   "execution_count": 29,
   "outputs": [
    {
     "data": {
      "text/plain": "(425794, 5)"
     },
     "execution_count": 29,
     "metadata": {},
     "output_type": "execute_result"
    }
   ],
   "source": [
    "df.shape"
   ],
   "metadata": {
    "collapsed": false,
    "pycharm": {
     "name": "#%%\n"
    }
   }
  },
  {
   "cell_type": "markdown",
   "source": [
    "## Data Pivoting"
   ],
   "metadata": {
    "id": "XMoKEdpWxnWc"
   }
  },
  {
   "cell_type": "code",
   "source": [
    "df = pd.pivot_table(df, columns=\"book_id\", index=\"user_id\", values=\"rating\")\n",
    "df.head(10)"
   ],
   "metadata": {
    "id": "p0BWaRDjApkr",
    "colab": {
     "base_uri": "https://localhost:8080/",
     "height": 1000
    },
    "outputId": "84fe8a8e-b59f-4273-83ea-c51640a7b0f6"
   },
   "execution_count": 31,
   "outputs": [
    {
     "data": {
      "text/plain": "book_id                           1         2         3         5         \\\nuser_id                                                                    \n000a1016fda6008d1edbba720ca00851       NaN       NaN       NaN       NaN   \n0011e1a9112b3d798702ef5b20bbf35b       NaN       NaN       NaN       NaN   \n0019de4561419b7543238e0979f2f33e       NaN       NaN       NaN       NaN   \n00204424763e8233c5f53f0729f2304f       NaN       NaN       NaN       NaN   \n00214d8b0a020837cccf5f41eb563037       NaN       NaN       NaN       NaN   \n00238d8a4c276c47f5d5e242f54a8f28       NaN       NaN       NaN       NaN   \n002a023d3de233b4bd3ec4fc3e9c581a       NaN       NaN       NaN       NaN   \n002e063d40ae0107a59d8f9c1aa7a423       NaN       NaN       NaN       NaN   \n005238c5743d61b58e49d5da089e43df       NaN       NaN       NaN       NaN   \n005a572f0bfe510fa796e6eadc6a2eb4       NaN       NaN       NaN       NaN   \n\nbook_id                           6         11        34        295       \\\nuser_id                                                                    \n000a1016fda6008d1edbba720ca00851       NaN       NaN       NaN       NaN   \n0011e1a9112b3d798702ef5b20bbf35b       NaN       NaN       NaN       NaN   \n0019de4561419b7543238e0979f2f33e       NaN       NaN       NaN       NaN   \n00204424763e8233c5f53f0729f2304f       NaN       NaN       NaN       NaN   \n00214d8b0a020837cccf5f41eb563037       NaN       NaN       NaN       NaN   \n00238d8a4c276c47f5d5e242f54a8f28       NaN       NaN       NaN       NaN   \n002a023d3de233b4bd3ec4fc3e9c581a       NaN       NaN       NaN       NaN   \n002e063d40ae0107a59d8f9c1aa7a423       NaN       NaN       NaN       NaN   \n005238c5743d61b58e49d5da089e43df       NaN       NaN       NaN       NaN   \n005a572f0bfe510fa796e6eadc6a2eb4       NaN       NaN       NaN       NaN   \n\nbook_id                           320       343       350       662       \\\nuser_id                                                                    \n000a1016fda6008d1edbba720ca00851       NaN       NaN       NaN       NaN   \n0011e1a9112b3d798702ef5b20bbf35b       NaN       NaN       NaN       NaN   \n0019de4561419b7543238e0979f2f33e       NaN       NaN       NaN       NaN   \n00204424763e8233c5f53f0729f2304f       NaN       NaN       NaN       NaN   \n00214d8b0a020837cccf5f41eb563037       NaN       NaN       NaN       NaN   \n00238d8a4c276c47f5d5e242f54a8f28       NaN       NaN       NaN       NaN   \n002a023d3de233b4bd3ec4fc3e9c581a       NaN       NaN       NaN       NaN   \n002e063d40ae0107a59d8f9c1aa7a423       NaN       NaN       NaN       NaN   \n005238c5743d61b58e49d5da089e43df       NaN       NaN       NaN       NaN   \n005a572f0bfe510fa796e6eadc6a2eb4       NaN       NaN       NaN       NaN   \n\nbook_id                           667       830       865       890       \\\nuser_id                                                                    \n000a1016fda6008d1edbba720ca00851       NaN       NaN       NaN       NaN   \n0011e1a9112b3d798702ef5b20bbf35b       NaN       NaN       NaN       NaN   \n0019de4561419b7543238e0979f2f33e       NaN       NaN       NaN       NaN   \n00204424763e8233c5f53f0729f2304f       NaN       NaN       NaN       NaN   \n00214d8b0a020837cccf5f41eb563037       NaN       NaN       NaN       NaN   \n00238d8a4c276c47f5d5e242f54a8f28       NaN       NaN       NaN       NaN   \n002a023d3de233b4bd3ec4fc3e9c581a       NaN       NaN       NaN       NaN   \n002e063d40ae0107a59d8f9c1aa7a423       NaN       NaN       NaN       NaN   \n005238c5743d61b58e49d5da089e43df       NaN       1.0       NaN       NaN   \n005a572f0bfe510fa796e6eadc6a2eb4       NaN       NaN       NaN       NaN   \n\nbook_id                           902       930       960       968       \\\nuser_id                                                                    \n000a1016fda6008d1edbba720ca00851       NaN       NaN       NaN       NaN   \n0011e1a9112b3d798702ef5b20bbf35b       NaN       NaN       NaN       NaN   \n0019de4561419b7543238e0979f2f33e       NaN       NaN       NaN       NaN   \n00204424763e8233c5f53f0729f2304f       NaN       NaN       NaN       NaN   \n00214d8b0a020837cccf5f41eb563037       NaN       NaN       NaN       NaN   \n00238d8a4c276c47f5d5e242f54a8f28       NaN       NaN       NaN       NaN   \n002a023d3de233b4bd3ec4fc3e9c581a       NaN       NaN       NaN       NaN   \n002e063d40ae0107a59d8f9c1aa7a423       NaN       NaN       NaN       NaN   \n005238c5743d61b58e49d5da089e43df       NaN       NaN       NaN       NaN   \n005a572f0bfe510fa796e6eadc6a2eb4       NaN       NaN       NaN       NaN   \n\nbook_id                           1103      1232      1420      1617      \\\nuser_id                                                                    \n000a1016fda6008d1edbba720ca00851       NaN       NaN       NaN       NaN   \n0011e1a9112b3d798702ef5b20bbf35b       NaN       NaN       NaN       NaN   \n0019de4561419b7543238e0979f2f33e       NaN       NaN       NaN       NaN   \n00204424763e8233c5f53f0729f2304f       NaN       NaN       NaN       NaN   \n00214d8b0a020837cccf5f41eb563037       NaN       NaN       NaN       NaN   \n00238d8a4c276c47f5d5e242f54a8f28       NaN       NaN       NaN       NaN   \n002a023d3de233b4bd3ec4fc3e9c581a       5.0       4.0       NaN       NaN   \n002e063d40ae0107a59d8f9c1aa7a423       NaN       NaN       NaN       NaN   \n005238c5743d61b58e49d5da089e43df       NaN       NaN       NaN       NaN   \n005a572f0bfe510fa796e6eadc6a2eb4       NaN       NaN       NaN       NaN   \n\nbook_id                           1618      1622      1845      1852      \\\nuser_id                                                                    \n000a1016fda6008d1edbba720ca00851       NaN       NaN       NaN       NaN   \n0011e1a9112b3d798702ef5b20bbf35b       NaN       NaN       NaN       NaN   \n0019de4561419b7543238e0979f2f33e       NaN       NaN       NaN       NaN   \n00204424763e8233c5f53f0729f2304f       NaN       NaN       NaN       NaN   \n00214d8b0a020837cccf5f41eb563037       NaN       NaN       NaN       NaN   \n00238d8a4c276c47f5d5e242f54a8f28       NaN       NaN       NaN       NaN   \n002a023d3de233b4bd3ec4fc3e9c581a       5.0       NaN       NaN       NaN   \n002e063d40ae0107a59d8f9c1aa7a423       NaN       NaN       NaN       NaN   \n005238c5743d61b58e49d5da089e43df       NaN       NaN       NaN       NaN   \n005a572f0bfe510fa796e6eadc6a2eb4       NaN       NaN       NaN       NaN   \n\nbook_id                           1885      1934      1953      2052      \\\nuser_id                                                                    \n000a1016fda6008d1edbba720ca00851       NaN       NaN       NaN       NaN   \n0011e1a9112b3d798702ef5b20bbf35b       NaN       NaN       NaN       NaN   \n0019de4561419b7543238e0979f2f33e       NaN       NaN       NaN       NaN   \n00204424763e8233c5f53f0729f2304f       NaN       NaN       NaN       NaN   \n00214d8b0a020837cccf5f41eb563037       NaN       NaN       NaN       NaN   \n00238d8a4c276c47f5d5e242f54a8f28       NaN       NaN       NaN       NaN   \n002a023d3de233b4bd3ec4fc3e9c581a       NaN       NaN       NaN       NaN   \n002e063d40ae0107a59d8f9c1aa7a423       NaN       NaN       NaN       NaN   \n005238c5743d61b58e49d5da089e43df       NaN       NaN       NaN       NaN   \n005a572f0bfe510fa796e6eadc6a2eb4       NaN       NaN       NaN       NaN   \n\nbook_id                           2156      2165      2187      2493      \\\nuser_id                                                                    \n000a1016fda6008d1edbba720ca00851       NaN       NaN       NaN       NaN   \n0011e1a9112b3d798702ef5b20bbf35b       NaN       NaN       NaN       NaN   \n0019de4561419b7543238e0979f2f33e       NaN       NaN       NaN       NaN   \n00204424763e8233c5f53f0729f2304f       NaN       NaN       NaN       NaN   \n00214d8b0a020837cccf5f41eb563037       NaN       NaN       NaN       NaN   \n00238d8a4c276c47f5d5e242f54a8f28       NaN       NaN       NaN       NaN   \n002a023d3de233b4bd3ec4fc3e9c581a       NaN       NaN       NaN       NaN   \n002e063d40ae0107a59d8f9c1aa7a423       NaN       NaN       NaN       NaN   \n005238c5743d61b58e49d5da089e43df       NaN       NaN       NaN       NaN   \n005a572f0bfe510fa796e6eadc6a2eb4       NaN       NaN       NaN       NaN   \n\nbook_id                           2526      2612      2623      2657      \\\nuser_id                                                                    \n000a1016fda6008d1edbba720ca00851       NaN       NaN       NaN       NaN   \n0011e1a9112b3d798702ef5b20bbf35b       NaN       NaN       NaN       NaN   \n0019de4561419b7543238e0979f2f33e       NaN       NaN       NaN       NaN   \n00204424763e8233c5f53f0729f2304f       NaN       NaN       NaN       NaN   \n00214d8b0a020837cccf5f41eb563037       NaN       NaN       NaN       NaN   \n00238d8a4c276c47f5d5e242f54a8f28       NaN       NaN       NaN       NaN   \n002a023d3de233b4bd3ec4fc3e9c581a       NaN       NaN       NaN       NaN   \n002e063d40ae0107a59d8f9c1aa7a423       NaN       NaN       NaN       NaN   \n005238c5743d61b58e49d5da089e43df       NaN       NaN       NaN       NaN   \n005a572f0bfe510fa796e6eadc6a2eb4       NaN       NaN       NaN       NaN   \n\nbook_id                           2744      2839      2956      2998      \\\nuser_id                                                                    \n000a1016fda6008d1edbba720ca00851       NaN       NaN       NaN       NaN   \n0011e1a9112b3d798702ef5b20bbf35b       NaN       NaN       NaN       NaN   \n0019de4561419b7543238e0979f2f33e       NaN       NaN       NaN       NaN   \n00204424763e8233c5f53f0729f2304f       NaN       NaN       NaN       NaN   \n00214d8b0a020837cccf5f41eb563037       NaN       NaN       NaN       NaN   \n00238d8a4c276c47f5d5e242f54a8f28       NaN       NaN       NaN       NaN   \n002a023d3de233b4bd3ec4fc3e9c581a       NaN       NaN       NaN       NaN   \n002e063d40ae0107a59d8f9c1aa7a423       NaN       NaN       NaN       NaN   \n005238c5743d61b58e49d5da089e43df       NaN       NaN       NaN       NaN   \n005a572f0bfe510fa796e6eadc6a2eb4       NaN       NaN       NaN       NaN   \n\nbook_id                           3008      3431      3473      3636      \\\nuser_id                                                                    \n000a1016fda6008d1edbba720ca00851       NaN       NaN       NaN       NaN   \n0011e1a9112b3d798702ef5b20bbf35b       NaN       NaN       NaN       NaN   \n0019de4561419b7543238e0979f2f33e       NaN       NaN       NaN       NaN   \n00204424763e8233c5f53f0729f2304f       NaN       NaN       NaN       NaN   \n00214d8b0a020837cccf5f41eb563037       NaN       NaN       NaN       NaN   \n00238d8a4c276c47f5d5e242f54a8f28       NaN       NaN       NaN       NaN   \n002a023d3de233b4bd3ec4fc3e9c581a       NaN       NaN       NaN       4.0   \n002e063d40ae0107a59d8f9c1aa7a423       NaN       NaN       NaN       NaN   \n005238c5743d61b58e49d5da089e43df       NaN       NaN       NaN       NaN   \n005a572f0bfe510fa796e6eadc6a2eb4       NaN       NaN       NaN       NaN   \n\nbook_id                           3682      3758      ...  30269126  30312891  \\\nuser_id                                               ...                       \n000a1016fda6008d1edbba720ca00851       NaN       NaN  ...       NaN       NaN   \n0011e1a9112b3d798702ef5b20bbf35b       NaN       NaN  ...       NaN       NaN   \n0019de4561419b7543238e0979f2f33e       3.0       NaN  ...       NaN       NaN   \n00204424763e8233c5f53f0729f2304f       NaN       NaN  ...       NaN       NaN   \n00214d8b0a020837cccf5f41eb563037       NaN       NaN  ...       NaN       NaN   \n00238d8a4c276c47f5d5e242f54a8f28       NaN       NaN  ...       NaN       NaN   \n002a023d3de233b4bd3ec4fc3e9c581a       NaN       NaN  ...       NaN       NaN   \n002e063d40ae0107a59d8f9c1aa7a423       NaN       NaN  ...       NaN       NaN   \n005238c5743d61b58e49d5da089e43df       NaN       NaN  ...       NaN       NaN   \n005a572f0bfe510fa796e6eadc6a2eb4       NaN       NaN  ...       NaN       NaN   \n\nbook_id                           30325011  30415154  30555488  30633337  \\\nuser_id                                                                    \n000a1016fda6008d1edbba720ca00851       NaN       NaN       NaN       NaN   \n0011e1a9112b3d798702ef5b20bbf35b       NaN       NaN       NaN       NaN   \n0019de4561419b7543238e0979f2f33e       NaN       NaN       NaN       NaN   \n00204424763e8233c5f53f0729f2304f       NaN       NaN       NaN       NaN   \n00214d8b0a020837cccf5f41eb563037       NaN       NaN       NaN       NaN   \n00238d8a4c276c47f5d5e242f54a8f28       NaN       NaN       NaN       NaN   \n002a023d3de233b4bd3ec4fc3e9c581a       NaN       NaN       NaN       NaN   \n002e063d40ae0107a59d8f9c1aa7a423       NaN       NaN       NaN       NaN   \n005238c5743d61b58e49d5da089e43df       NaN       NaN       NaN       NaN   \n005a572f0bfe510fa796e6eadc6a2eb4       NaN       NaN       NaN       NaN   \n\nbook_id                           30653853  30687916  30688435  30724132  \\\nuser_id                                                                    \n000a1016fda6008d1edbba720ca00851       NaN       NaN       NaN       NaN   \n0011e1a9112b3d798702ef5b20bbf35b       NaN       NaN       NaN       NaN   \n0019de4561419b7543238e0979f2f33e       NaN       NaN       NaN       NaN   \n00204424763e8233c5f53f0729f2304f       NaN       NaN       NaN       NaN   \n00214d8b0a020837cccf5f41eb563037       NaN       NaN       NaN       NaN   \n00238d8a4c276c47f5d5e242f54a8f28       NaN       NaN       NaN       NaN   \n002a023d3de233b4bd3ec4fc3e9c581a       NaN       NaN       NaN       NaN   \n002e063d40ae0107a59d8f9c1aa7a423       NaN       NaN       NaN       NaN   \n005238c5743d61b58e49d5da089e43df       NaN       NaN       NaN       NaN   \n005a572f0bfe510fa796e6eadc6a2eb4       NaN       NaN       NaN       NaN   \n\nbook_id                           30731416  30747137  30809689  30821598  \\\nuser_id                                                                    \n000a1016fda6008d1edbba720ca00851       NaN       NaN       NaN       NaN   \n0011e1a9112b3d798702ef5b20bbf35b       NaN       NaN       NaN       NaN   \n0019de4561419b7543238e0979f2f33e       NaN       NaN       NaN       NaN   \n00204424763e8233c5f53f0729f2304f       NaN       NaN       NaN       NaN   \n00214d8b0a020837cccf5f41eb563037       NaN       NaN       NaN       NaN   \n00238d8a4c276c47f5d5e242f54a8f28       NaN       NaN       NaN       NaN   \n002a023d3de233b4bd3ec4fc3e9c581a       NaN       NaN       NaN       NaN   \n002e063d40ae0107a59d8f9c1aa7a423       NaN       NaN       NaN       NaN   \n005238c5743d61b58e49d5da089e43df       NaN       NaN       NaN       NaN   \n005a572f0bfe510fa796e6eadc6a2eb4       NaN       NaN       NaN       NaN   \n\nbook_id                           30831912  30839185  30969741  31140847  \\\nuser_id                                                                    \n000a1016fda6008d1edbba720ca00851       NaN       NaN       NaN       NaN   \n0011e1a9112b3d798702ef5b20bbf35b       NaN       NaN       NaN       NaN   \n0019de4561419b7543238e0979f2f33e       NaN       NaN       NaN       NaN   \n00204424763e8233c5f53f0729f2304f       NaN       NaN       NaN       NaN   \n00214d8b0a020837cccf5f41eb563037       NaN       NaN       NaN       NaN   \n00238d8a4c276c47f5d5e242f54a8f28       NaN       NaN       NaN       NaN   \n002a023d3de233b4bd3ec4fc3e9c581a       NaN       NaN       NaN       NaN   \n002e063d40ae0107a59d8f9c1aa7a423       NaN       NaN       NaN       NaN   \n005238c5743d61b58e49d5da089e43df       NaN       NaN       NaN       NaN   \n005a572f0bfe510fa796e6eadc6a2eb4       NaN       NaN       NaN       NaN   \n\nbook_id                           31145133  31145148  31176886  31423196  \\\nuser_id                                                                    \n000a1016fda6008d1edbba720ca00851       NaN       NaN       NaN       NaN   \n0011e1a9112b3d798702ef5b20bbf35b       NaN       NaN       NaN       NaN   \n0019de4561419b7543238e0979f2f33e       NaN       NaN       NaN       NaN   \n00204424763e8233c5f53f0729f2304f       NaN       NaN       NaN       NaN   \n00214d8b0a020837cccf5f41eb563037       NaN       NaN       NaN       NaN   \n00238d8a4c276c47f5d5e242f54a8f28       NaN       NaN       NaN       NaN   \n002a023d3de233b4bd3ec4fc3e9c581a       NaN       NaN       NaN       NaN   \n002e063d40ae0107a59d8f9c1aa7a423       NaN       NaN       NaN       NaN   \n005238c5743d61b58e49d5da089e43df       NaN       NaN       NaN       NaN   \n005a572f0bfe510fa796e6eadc6a2eb4       NaN       NaN       NaN       NaN   \n\nbook_id                           31450752  31450852  31450908  31451174  \\\nuser_id                                                                    \n000a1016fda6008d1edbba720ca00851       NaN       NaN       NaN       NaN   \n0011e1a9112b3d798702ef5b20bbf35b       NaN       NaN       NaN       NaN   \n0019de4561419b7543238e0979f2f33e       NaN       NaN       NaN       NaN   \n00204424763e8233c5f53f0729f2304f       NaN       NaN       NaN       NaN   \n00214d8b0a020837cccf5f41eb563037       NaN       NaN       NaN       NaN   \n00238d8a4c276c47f5d5e242f54a8f28       NaN       NaN       NaN       NaN   \n002a023d3de233b4bd3ec4fc3e9c581a       NaN       NaN       NaN       NaN   \n002e063d40ae0107a59d8f9c1aa7a423       NaN       NaN       NaN       NaN   \n005238c5743d61b58e49d5da089e43df       NaN       NaN       NaN       NaN   \n005a572f0bfe510fa796e6eadc6a2eb4       NaN       NaN       NaN       NaN   \n\nbook_id                           31538614  31538635  31538647  31931941  \\\nuser_id                                                                    \n000a1016fda6008d1edbba720ca00851       NaN       NaN       NaN       NaN   \n0011e1a9112b3d798702ef5b20bbf35b       NaN       NaN       NaN       NaN   \n0019de4561419b7543238e0979f2f33e       NaN       NaN       NaN       NaN   \n00204424763e8233c5f53f0729f2304f       NaN       NaN       NaN       NaN   \n00214d8b0a020837cccf5f41eb563037       NaN       NaN       NaN       NaN   \n00238d8a4c276c47f5d5e242f54a8f28       NaN       NaN       NaN       NaN   \n002a023d3de233b4bd3ec4fc3e9c581a       NaN       NaN       NaN       NaN   \n002e063d40ae0107a59d8f9c1aa7a423       NaN       NaN       NaN       NaN   \n005238c5743d61b58e49d5da089e43df       NaN       NaN       NaN       NaN   \n005a572f0bfe510fa796e6eadc6a2eb4       NaN       NaN       NaN       NaN   \n\nbook_id                           31952703  32075662  32075671  32078787  \\\nuser_id                                                                    \n000a1016fda6008d1edbba720ca00851       NaN       NaN       NaN       NaN   \n0011e1a9112b3d798702ef5b20bbf35b       NaN       NaN       NaN       NaN   \n0019de4561419b7543238e0979f2f33e       NaN       NaN       NaN       NaN   \n00204424763e8233c5f53f0729f2304f       NaN       NaN       NaN       NaN   \n00214d8b0a020837cccf5f41eb563037       NaN       NaN       NaN       NaN   \n00238d8a4c276c47f5d5e242f54a8f28       NaN       NaN       NaN       NaN   \n002a023d3de233b4bd3ec4fc3e9c581a       NaN       NaN       NaN       NaN   \n002e063d40ae0107a59d8f9c1aa7a423       NaN       NaN       NaN       NaN   \n005238c5743d61b58e49d5da089e43df       NaN       NaN       NaN       NaN   \n005a572f0bfe510fa796e6eadc6a2eb4       NaN       NaN       NaN       NaN   \n\nbook_id                           32571395  32796253  32848471  33140405  \\\nuser_id                                                                    \n000a1016fda6008d1edbba720ca00851       NaN       NaN       NaN       NaN   \n0011e1a9112b3d798702ef5b20bbf35b       NaN       NaN       NaN       NaN   \n0019de4561419b7543238e0979f2f33e       NaN       NaN       NaN       NaN   \n00204424763e8233c5f53f0729f2304f       NaN       NaN       NaN       NaN   \n00214d8b0a020837cccf5f41eb563037       NaN       NaN       NaN       NaN   \n00238d8a4c276c47f5d5e242f54a8f28       NaN       NaN       NaN       NaN   \n002a023d3de233b4bd3ec4fc3e9c581a       NaN       NaN       NaN       NaN   \n002e063d40ae0107a59d8f9c1aa7a423       NaN       NaN       NaN       NaN   \n005238c5743d61b58e49d5da089e43df       NaN       NaN       NaN       NaN   \n005a572f0bfe510fa796e6eadc6a2eb4       NaN       NaN       NaN       NaN   \n\nbook_id                           33151805  33232571  33280872  33288638  \\\nuser_id                                                                    \n000a1016fda6008d1edbba720ca00851       NaN       NaN       NaN       NaN   \n0011e1a9112b3d798702ef5b20bbf35b       NaN       NaN       NaN       NaN   \n0019de4561419b7543238e0979f2f33e       NaN       NaN       NaN       NaN   \n00204424763e8233c5f53f0729f2304f       NaN       NaN       NaN       NaN   \n00214d8b0a020837cccf5f41eb563037       NaN       NaN       NaN       NaN   \n00238d8a4c276c47f5d5e242f54a8f28       NaN       NaN       NaN       4.0   \n002a023d3de233b4bd3ec4fc3e9c581a       NaN       NaN       NaN       NaN   \n002e063d40ae0107a59d8f9c1aa7a423       NaN       NaN       NaN       NaN   \n005238c5743d61b58e49d5da089e43df       NaN       NaN       NaN       NaN   \n005a572f0bfe510fa796e6eadc6a2eb4       NaN       NaN       NaN       NaN   \n\nbook_id                           33385229  33643994  34044126  34076952  \\\nuser_id                                                                    \n000a1016fda6008d1edbba720ca00851       NaN       NaN       NaN       NaN   \n0011e1a9112b3d798702ef5b20bbf35b       NaN       NaN       NaN       NaN   \n0019de4561419b7543238e0979f2f33e       NaN       NaN       NaN       NaN   \n00204424763e8233c5f53f0729f2304f       NaN       NaN       NaN       NaN   \n00214d8b0a020837cccf5f41eb563037       NaN       NaN       NaN       NaN   \n00238d8a4c276c47f5d5e242f54a8f28       NaN       NaN       NaN       NaN   \n002a023d3de233b4bd3ec4fc3e9c581a       NaN       NaN       NaN       NaN   \n002e063d40ae0107a59d8f9c1aa7a423       NaN       NaN       NaN       NaN   \n005238c5743d61b58e49d5da089e43df       NaN       NaN       NaN       NaN   \n005a572f0bfe510fa796e6eadc6a2eb4       NaN       NaN       NaN       NaN   \n\nbook_id                           34273458  35247769  35404657  35504431  \nuser_id                                                                   \n000a1016fda6008d1edbba720ca00851       NaN       NaN       NaN       NaN  \n0011e1a9112b3d798702ef5b20bbf35b       NaN       NaN       NaN       NaN  \n0019de4561419b7543238e0979f2f33e       NaN       NaN       NaN       NaN  \n00204424763e8233c5f53f0729f2304f       NaN       NaN       NaN       NaN  \n00214d8b0a020837cccf5f41eb563037       NaN       NaN       NaN       NaN  \n00238d8a4c276c47f5d5e242f54a8f28       NaN       NaN       NaN       NaN  \n002a023d3de233b4bd3ec4fc3e9c581a       NaN       NaN       NaN       NaN  \n002e063d40ae0107a59d8f9c1aa7a423       NaN       NaN       NaN       NaN  \n005238c5743d61b58e49d5da089e43df       NaN       NaN       NaN       NaN  \n005a572f0bfe510fa796e6eadc6a2eb4       NaN       NaN       NaN       NaN  \n\n[10 rows x 2575 columns]",
      "text/html": "<div>\n<style scoped>\n    .dataframe tbody tr th:only-of-type {\n        vertical-align: middle;\n    }\n\n    .dataframe tbody tr th {\n        vertical-align: top;\n    }\n\n    .dataframe thead th {\n        text-align: right;\n    }\n</style>\n<table border=\"1\" class=\"dataframe\">\n  <thead>\n    <tr style=\"text-align: right;\">\n      <th>book_id</th>\n      <th>1</th>\n      <th>2</th>\n      <th>3</th>\n      <th>5</th>\n      <th>6</th>\n      <th>11</th>\n      <th>34</th>\n      <th>295</th>\n      <th>320</th>\n      <th>343</th>\n      <th>350</th>\n      <th>662</th>\n      <th>667</th>\n      <th>830</th>\n      <th>865</th>\n      <th>890</th>\n      <th>902</th>\n      <th>930</th>\n      <th>960</th>\n      <th>968</th>\n      <th>1103</th>\n      <th>1232</th>\n      <th>1420</th>\n      <th>1617</th>\n      <th>1618</th>\n      <th>1622</th>\n      <th>1845</th>\n      <th>1852</th>\n      <th>1885</th>\n      <th>1934</th>\n      <th>1953</th>\n      <th>2052</th>\n      <th>2156</th>\n      <th>2165</th>\n      <th>2187</th>\n      <th>2493</th>\n      <th>2526</th>\n      <th>2612</th>\n      <th>2623</th>\n      <th>2657</th>\n      <th>2744</th>\n      <th>2839</th>\n      <th>2956</th>\n      <th>2998</th>\n      <th>3008</th>\n      <th>3431</th>\n      <th>3473</th>\n      <th>3636</th>\n      <th>3682</th>\n      <th>3758</th>\n      <th>...</th>\n      <th>30269126</th>\n      <th>30312891</th>\n      <th>30325011</th>\n      <th>30415154</th>\n      <th>30555488</th>\n      <th>30633337</th>\n      <th>30653853</th>\n      <th>30687916</th>\n      <th>30688435</th>\n      <th>30724132</th>\n      <th>30731416</th>\n      <th>30747137</th>\n      <th>30809689</th>\n      <th>30821598</th>\n      <th>30831912</th>\n      <th>30839185</th>\n      <th>30969741</th>\n      <th>31140847</th>\n      <th>31145133</th>\n      <th>31145148</th>\n      <th>31176886</th>\n      <th>31423196</th>\n      <th>31450752</th>\n      <th>31450852</th>\n      <th>31450908</th>\n      <th>31451174</th>\n      <th>31538614</th>\n      <th>31538635</th>\n      <th>31538647</th>\n      <th>31931941</th>\n      <th>31952703</th>\n      <th>32075662</th>\n      <th>32075671</th>\n      <th>32078787</th>\n      <th>32571395</th>\n      <th>32796253</th>\n      <th>32848471</th>\n      <th>33140405</th>\n      <th>33151805</th>\n      <th>33232571</th>\n      <th>33280872</th>\n      <th>33288638</th>\n      <th>33385229</th>\n      <th>33643994</th>\n      <th>34044126</th>\n      <th>34076952</th>\n      <th>34273458</th>\n      <th>35247769</th>\n      <th>35404657</th>\n      <th>35504431</th>\n    </tr>\n    <tr>\n      <th>user_id</th>\n      <th></th>\n      <th></th>\n      <th></th>\n      <th></th>\n      <th></th>\n      <th></th>\n      <th></th>\n      <th></th>\n      <th></th>\n      <th></th>\n      <th></th>\n      <th></th>\n      <th></th>\n      <th></th>\n      <th></th>\n      <th></th>\n      <th></th>\n      <th></th>\n      <th></th>\n      <th></th>\n      <th></th>\n      <th></th>\n      <th></th>\n      <th></th>\n      <th></th>\n      <th></th>\n      <th></th>\n      <th></th>\n      <th></th>\n      <th></th>\n      <th></th>\n      <th></th>\n      <th></th>\n      <th></th>\n      <th></th>\n      <th></th>\n      <th></th>\n      <th></th>\n      <th></th>\n      <th></th>\n      <th></th>\n      <th></th>\n      <th></th>\n      <th></th>\n      <th></th>\n      <th></th>\n      <th></th>\n      <th></th>\n      <th></th>\n      <th></th>\n      <th></th>\n      <th></th>\n      <th></th>\n      <th></th>\n      <th></th>\n      <th></th>\n      <th></th>\n      <th></th>\n      <th></th>\n      <th></th>\n      <th></th>\n      <th></th>\n      <th></th>\n      <th></th>\n      <th></th>\n      <th></th>\n      <th></th>\n      <th></th>\n      <th></th>\n      <th></th>\n      <th></th>\n      <th></th>\n      <th></th>\n      <th></th>\n      <th></th>\n      <th></th>\n      <th></th>\n      <th></th>\n      <th></th>\n      <th></th>\n      <th></th>\n      <th></th>\n      <th></th>\n      <th></th>\n      <th></th>\n      <th></th>\n      <th></th>\n      <th></th>\n      <th></th>\n      <th></th>\n      <th></th>\n      <th></th>\n      <th></th>\n      <th></th>\n      <th></th>\n      <th></th>\n      <th></th>\n      <th></th>\n      <th></th>\n      <th></th>\n      <th></th>\n    </tr>\n  </thead>\n  <tbody>\n    <tr>\n      <th>000a1016fda6008d1edbba720ca00851</th>\n      <td>NaN</td>\n      <td>NaN</td>\n      <td>NaN</td>\n      <td>NaN</td>\n      <td>NaN</td>\n      <td>NaN</td>\n      <td>NaN</td>\n      <td>NaN</td>\n      <td>NaN</td>\n      <td>NaN</td>\n      <td>NaN</td>\n      <td>NaN</td>\n      <td>NaN</td>\n      <td>NaN</td>\n      <td>NaN</td>\n      <td>NaN</td>\n      <td>NaN</td>\n      <td>NaN</td>\n      <td>NaN</td>\n      <td>NaN</td>\n      <td>NaN</td>\n      <td>NaN</td>\n      <td>NaN</td>\n      <td>NaN</td>\n      <td>NaN</td>\n      <td>NaN</td>\n      <td>NaN</td>\n      <td>NaN</td>\n      <td>NaN</td>\n      <td>NaN</td>\n      <td>NaN</td>\n      <td>NaN</td>\n      <td>NaN</td>\n      <td>NaN</td>\n      <td>NaN</td>\n      <td>NaN</td>\n      <td>NaN</td>\n      <td>NaN</td>\n      <td>NaN</td>\n      <td>NaN</td>\n      <td>NaN</td>\n      <td>NaN</td>\n      <td>NaN</td>\n      <td>NaN</td>\n      <td>NaN</td>\n      <td>NaN</td>\n      <td>NaN</td>\n      <td>NaN</td>\n      <td>NaN</td>\n      <td>NaN</td>\n      <td>...</td>\n      <td>NaN</td>\n      <td>NaN</td>\n      <td>NaN</td>\n      <td>NaN</td>\n      <td>NaN</td>\n      <td>NaN</td>\n      <td>NaN</td>\n      <td>NaN</td>\n      <td>NaN</td>\n      <td>NaN</td>\n      <td>NaN</td>\n      <td>NaN</td>\n      <td>NaN</td>\n      <td>NaN</td>\n      <td>NaN</td>\n      <td>NaN</td>\n      <td>NaN</td>\n      <td>NaN</td>\n      <td>NaN</td>\n      <td>NaN</td>\n      <td>NaN</td>\n      <td>NaN</td>\n      <td>NaN</td>\n      <td>NaN</td>\n      <td>NaN</td>\n      <td>NaN</td>\n      <td>NaN</td>\n      <td>NaN</td>\n      <td>NaN</td>\n      <td>NaN</td>\n      <td>NaN</td>\n      <td>NaN</td>\n      <td>NaN</td>\n      <td>NaN</td>\n      <td>NaN</td>\n      <td>NaN</td>\n      <td>NaN</td>\n      <td>NaN</td>\n      <td>NaN</td>\n      <td>NaN</td>\n      <td>NaN</td>\n      <td>NaN</td>\n      <td>NaN</td>\n      <td>NaN</td>\n      <td>NaN</td>\n      <td>NaN</td>\n      <td>NaN</td>\n      <td>NaN</td>\n      <td>NaN</td>\n      <td>NaN</td>\n    </tr>\n    <tr>\n      <th>0011e1a9112b3d798702ef5b20bbf35b</th>\n      <td>NaN</td>\n      <td>NaN</td>\n      <td>NaN</td>\n      <td>NaN</td>\n      <td>NaN</td>\n      <td>NaN</td>\n      <td>NaN</td>\n      <td>NaN</td>\n      <td>NaN</td>\n      <td>NaN</td>\n      <td>NaN</td>\n      <td>NaN</td>\n      <td>NaN</td>\n      <td>NaN</td>\n      <td>NaN</td>\n      <td>NaN</td>\n      <td>NaN</td>\n      <td>NaN</td>\n      <td>NaN</td>\n      <td>NaN</td>\n      <td>NaN</td>\n      <td>NaN</td>\n      <td>NaN</td>\n      <td>NaN</td>\n      <td>NaN</td>\n      <td>NaN</td>\n      <td>NaN</td>\n      <td>NaN</td>\n      <td>NaN</td>\n      <td>NaN</td>\n      <td>NaN</td>\n      <td>NaN</td>\n      <td>NaN</td>\n      <td>NaN</td>\n      <td>NaN</td>\n      <td>NaN</td>\n      <td>NaN</td>\n      <td>NaN</td>\n      <td>NaN</td>\n      <td>NaN</td>\n      <td>NaN</td>\n      <td>NaN</td>\n      <td>NaN</td>\n      <td>NaN</td>\n      <td>NaN</td>\n      <td>NaN</td>\n      <td>NaN</td>\n      <td>NaN</td>\n      <td>NaN</td>\n      <td>NaN</td>\n      <td>...</td>\n      <td>NaN</td>\n      <td>NaN</td>\n      <td>NaN</td>\n      <td>NaN</td>\n      <td>NaN</td>\n      <td>NaN</td>\n      <td>NaN</td>\n      <td>NaN</td>\n      <td>NaN</td>\n      <td>NaN</td>\n      <td>NaN</td>\n      <td>NaN</td>\n      <td>NaN</td>\n      <td>NaN</td>\n      <td>NaN</td>\n      <td>NaN</td>\n      <td>NaN</td>\n      <td>NaN</td>\n      <td>NaN</td>\n      <td>NaN</td>\n      <td>NaN</td>\n      <td>NaN</td>\n      <td>NaN</td>\n      <td>NaN</td>\n      <td>NaN</td>\n      <td>NaN</td>\n      <td>NaN</td>\n      <td>NaN</td>\n      <td>NaN</td>\n      <td>NaN</td>\n      <td>NaN</td>\n      <td>NaN</td>\n      <td>NaN</td>\n      <td>NaN</td>\n      <td>NaN</td>\n      <td>NaN</td>\n      <td>NaN</td>\n      <td>NaN</td>\n      <td>NaN</td>\n      <td>NaN</td>\n      <td>NaN</td>\n      <td>NaN</td>\n      <td>NaN</td>\n      <td>NaN</td>\n      <td>NaN</td>\n      <td>NaN</td>\n      <td>NaN</td>\n      <td>NaN</td>\n      <td>NaN</td>\n      <td>NaN</td>\n    </tr>\n    <tr>\n      <th>0019de4561419b7543238e0979f2f33e</th>\n      <td>NaN</td>\n      <td>NaN</td>\n      <td>NaN</td>\n      <td>NaN</td>\n      <td>NaN</td>\n      <td>NaN</td>\n      <td>NaN</td>\n      <td>NaN</td>\n      <td>NaN</td>\n      <td>NaN</td>\n      <td>NaN</td>\n      <td>NaN</td>\n      <td>NaN</td>\n      <td>NaN</td>\n      <td>NaN</td>\n      <td>NaN</td>\n      <td>NaN</td>\n      <td>NaN</td>\n      <td>NaN</td>\n      <td>NaN</td>\n      <td>NaN</td>\n      <td>NaN</td>\n      <td>NaN</td>\n      <td>NaN</td>\n      <td>NaN</td>\n      <td>NaN</td>\n      <td>NaN</td>\n      <td>NaN</td>\n      <td>NaN</td>\n      <td>NaN</td>\n      <td>NaN</td>\n      <td>NaN</td>\n      <td>NaN</td>\n      <td>NaN</td>\n      <td>NaN</td>\n      <td>NaN</td>\n      <td>NaN</td>\n      <td>NaN</td>\n      <td>NaN</td>\n      <td>NaN</td>\n      <td>NaN</td>\n      <td>NaN</td>\n      <td>NaN</td>\n      <td>NaN</td>\n      <td>NaN</td>\n      <td>NaN</td>\n      <td>NaN</td>\n      <td>NaN</td>\n      <td>3.0</td>\n      <td>NaN</td>\n      <td>...</td>\n      <td>NaN</td>\n      <td>NaN</td>\n      <td>NaN</td>\n      <td>NaN</td>\n      <td>NaN</td>\n      <td>NaN</td>\n      <td>NaN</td>\n      <td>NaN</td>\n      <td>NaN</td>\n      <td>NaN</td>\n      <td>NaN</td>\n      <td>NaN</td>\n      <td>NaN</td>\n      <td>NaN</td>\n      <td>NaN</td>\n      <td>NaN</td>\n      <td>NaN</td>\n      <td>NaN</td>\n      <td>NaN</td>\n      <td>NaN</td>\n      <td>NaN</td>\n      <td>NaN</td>\n      <td>NaN</td>\n      <td>NaN</td>\n      <td>NaN</td>\n      <td>NaN</td>\n      <td>NaN</td>\n      <td>NaN</td>\n      <td>NaN</td>\n      <td>NaN</td>\n      <td>NaN</td>\n      <td>NaN</td>\n      <td>NaN</td>\n      <td>NaN</td>\n      <td>NaN</td>\n      <td>NaN</td>\n      <td>NaN</td>\n      <td>NaN</td>\n      <td>NaN</td>\n      <td>NaN</td>\n      <td>NaN</td>\n      <td>NaN</td>\n      <td>NaN</td>\n      <td>NaN</td>\n      <td>NaN</td>\n      <td>NaN</td>\n      <td>NaN</td>\n      <td>NaN</td>\n      <td>NaN</td>\n      <td>NaN</td>\n    </tr>\n    <tr>\n      <th>00204424763e8233c5f53f0729f2304f</th>\n      <td>NaN</td>\n      <td>NaN</td>\n      <td>NaN</td>\n      <td>NaN</td>\n      <td>NaN</td>\n      <td>NaN</td>\n      <td>NaN</td>\n      <td>NaN</td>\n      <td>NaN</td>\n      <td>NaN</td>\n      <td>NaN</td>\n      <td>NaN</td>\n      <td>NaN</td>\n      <td>NaN</td>\n      <td>NaN</td>\n      <td>NaN</td>\n      <td>NaN</td>\n      <td>NaN</td>\n      <td>NaN</td>\n      <td>NaN</td>\n      <td>NaN</td>\n      <td>NaN</td>\n      <td>NaN</td>\n      <td>NaN</td>\n      <td>NaN</td>\n      <td>NaN</td>\n      <td>NaN</td>\n      <td>NaN</td>\n      <td>NaN</td>\n      <td>NaN</td>\n      <td>NaN</td>\n      <td>NaN</td>\n      <td>NaN</td>\n      <td>NaN</td>\n      <td>NaN</td>\n      <td>NaN</td>\n      <td>NaN</td>\n      <td>NaN</td>\n      <td>NaN</td>\n      <td>NaN</td>\n      <td>NaN</td>\n      <td>NaN</td>\n      <td>NaN</td>\n      <td>NaN</td>\n      <td>NaN</td>\n      <td>NaN</td>\n      <td>NaN</td>\n      <td>NaN</td>\n      <td>NaN</td>\n      <td>NaN</td>\n      <td>...</td>\n      <td>NaN</td>\n      <td>NaN</td>\n      <td>NaN</td>\n      <td>NaN</td>\n      <td>NaN</td>\n      <td>NaN</td>\n      <td>NaN</td>\n      <td>NaN</td>\n      <td>NaN</td>\n      <td>NaN</td>\n      <td>NaN</td>\n      <td>NaN</td>\n      <td>NaN</td>\n      <td>NaN</td>\n      <td>NaN</td>\n      <td>NaN</td>\n      <td>NaN</td>\n      <td>NaN</td>\n      <td>NaN</td>\n      <td>NaN</td>\n      <td>NaN</td>\n      <td>NaN</td>\n      <td>NaN</td>\n      <td>NaN</td>\n      <td>NaN</td>\n      <td>NaN</td>\n      <td>NaN</td>\n      <td>NaN</td>\n      <td>NaN</td>\n      <td>NaN</td>\n      <td>NaN</td>\n      <td>NaN</td>\n      <td>NaN</td>\n      <td>NaN</td>\n      <td>NaN</td>\n      <td>NaN</td>\n      <td>NaN</td>\n      <td>NaN</td>\n      <td>NaN</td>\n      <td>NaN</td>\n      <td>NaN</td>\n      <td>NaN</td>\n      <td>NaN</td>\n      <td>NaN</td>\n      <td>NaN</td>\n      <td>NaN</td>\n      <td>NaN</td>\n      <td>NaN</td>\n      <td>NaN</td>\n      <td>NaN</td>\n    </tr>\n    <tr>\n      <th>00214d8b0a020837cccf5f41eb563037</th>\n      <td>NaN</td>\n      <td>NaN</td>\n      <td>NaN</td>\n      <td>NaN</td>\n      <td>NaN</td>\n      <td>NaN</td>\n      <td>NaN</td>\n      <td>NaN</td>\n      <td>NaN</td>\n      <td>NaN</td>\n      <td>NaN</td>\n      <td>NaN</td>\n      <td>NaN</td>\n      <td>NaN</td>\n      <td>NaN</td>\n      <td>NaN</td>\n      <td>NaN</td>\n      <td>NaN</td>\n      <td>NaN</td>\n      <td>NaN</td>\n      <td>NaN</td>\n      <td>NaN</td>\n      <td>NaN</td>\n      <td>NaN</td>\n      <td>NaN</td>\n      <td>NaN</td>\n      <td>NaN</td>\n      <td>NaN</td>\n      <td>NaN</td>\n      <td>NaN</td>\n      <td>NaN</td>\n      <td>NaN</td>\n      <td>NaN</td>\n      <td>NaN</td>\n      <td>NaN</td>\n      <td>NaN</td>\n      <td>NaN</td>\n      <td>NaN</td>\n      <td>NaN</td>\n      <td>NaN</td>\n      <td>NaN</td>\n      <td>NaN</td>\n      <td>NaN</td>\n      <td>NaN</td>\n      <td>NaN</td>\n      <td>NaN</td>\n      <td>NaN</td>\n      <td>NaN</td>\n      <td>NaN</td>\n      <td>NaN</td>\n      <td>...</td>\n      <td>NaN</td>\n      <td>NaN</td>\n      <td>NaN</td>\n      <td>NaN</td>\n      <td>NaN</td>\n      <td>NaN</td>\n      <td>NaN</td>\n      <td>NaN</td>\n      <td>NaN</td>\n      <td>NaN</td>\n      <td>NaN</td>\n      <td>NaN</td>\n      <td>NaN</td>\n      <td>NaN</td>\n      <td>NaN</td>\n      <td>NaN</td>\n      <td>NaN</td>\n      <td>NaN</td>\n      <td>NaN</td>\n      <td>NaN</td>\n      <td>NaN</td>\n      <td>NaN</td>\n      <td>NaN</td>\n      <td>NaN</td>\n      <td>NaN</td>\n      <td>NaN</td>\n      <td>NaN</td>\n      <td>NaN</td>\n      <td>NaN</td>\n      <td>NaN</td>\n      <td>NaN</td>\n      <td>NaN</td>\n      <td>NaN</td>\n      <td>NaN</td>\n      <td>NaN</td>\n      <td>NaN</td>\n      <td>NaN</td>\n      <td>NaN</td>\n      <td>NaN</td>\n      <td>NaN</td>\n      <td>NaN</td>\n      <td>NaN</td>\n      <td>NaN</td>\n      <td>NaN</td>\n      <td>NaN</td>\n      <td>NaN</td>\n      <td>NaN</td>\n      <td>NaN</td>\n      <td>NaN</td>\n      <td>NaN</td>\n    </tr>\n    <tr>\n      <th>00238d8a4c276c47f5d5e242f54a8f28</th>\n      <td>NaN</td>\n      <td>NaN</td>\n      <td>NaN</td>\n      <td>NaN</td>\n      <td>NaN</td>\n      <td>NaN</td>\n      <td>NaN</td>\n      <td>NaN</td>\n      <td>NaN</td>\n      <td>NaN</td>\n      <td>NaN</td>\n      <td>NaN</td>\n      <td>NaN</td>\n      <td>NaN</td>\n      <td>NaN</td>\n      <td>NaN</td>\n      <td>NaN</td>\n      <td>NaN</td>\n      <td>NaN</td>\n      <td>NaN</td>\n      <td>NaN</td>\n      <td>NaN</td>\n      <td>NaN</td>\n      <td>NaN</td>\n      <td>NaN</td>\n      <td>NaN</td>\n      <td>NaN</td>\n      <td>NaN</td>\n      <td>NaN</td>\n      <td>NaN</td>\n      <td>NaN</td>\n      <td>NaN</td>\n      <td>NaN</td>\n      <td>NaN</td>\n      <td>NaN</td>\n      <td>NaN</td>\n      <td>NaN</td>\n      <td>NaN</td>\n      <td>NaN</td>\n      <td>NaN</td>\n      <td>NaN</td>\n      <td>NaN</td>\n      <td>NaN</td>\n      <td>NaN</td>\n      <td>NaN</td>\n      <td>NaN</td>\n      <td>NaN</td>\n      <td>NaN</td>\n      <td>NaN</td>\n      <td>NaN</td>\n      <td>...</td>\n      <td>NaN</td>\n      <td>NaN</td>\n      <td>NaN</td>\n      <td>NaN</td>\n      <td>NaN</td>\n      <td>NaN</td>\n      <td>NaN</td>\n      <td>NaN</td>\n      <td>NaN</td>\n      <td>NaN</td>\n      <td>NaN</td>\n      <td>NaN</td>\n      <td>NaN</td>\n      <td>NaN</td>\n      <td>NaN</td>\n      <td>NaN</td>\n      <td>NaN</td>\n      <td>NaN</td>\n      <td>NaN</td>\n      <td>NaN</td>\n      <td>NaN</td>\n      <td>NaN</td>\n      <td>NaN</td>\n      <td>NaN</td>\n      <td>NaN</td>\n      <td>NaN</td>\n      <td>NaN</td>\n      <td>NaN</td>\n      <td>NaN</td>\n      <td>NaN</td>\n      <td>NaN</td>\n      <td>NaN</td>\n      <td>NaN</td>\n      <td>NaN</td>\n      <td>NaN</td>\n      <td>NaN</td>\n      <td>NaN</td>\n      <td>NaN</td>\n      <td>NaN</td>\n      <td>NaN</td>\n      <td>NaN</td>\n      <td>4.0</td>\n      <td>NaN</td>\n      <td>NaN</td>\n      <td>NaN</td>\n      <td>NaN</td>\n      <td>NaN</td>\n      <td>NaN</td>\n      <td>NaN</td>\n      <td>NaN</td>\n    </tr>\n    <tr>\n      <th>002a023d3de233b4bd3ec4fc3e9c581a</th>\n      <td>NaN</td>\n      <td>NaN</td>\n      <td>NaN</td>\n      <td>NaN</td>\n      <td>NaN</td>\n      <td>NaN</td>\n      <td>NaN</td>\n      <td>NaN</td>\n      <td>NaN</td>\n      <td>NaN</td>\n      <td>NaN</td>\n      <td>NaN</td>\n      <td>NaN</td>\n      <td>NaN</td>\n      <td>NaN</td>\n      <td>NaN</td>\n      <td>NaN</td>\n      <td>NaN</td>\n      <td>NaN</td>\n      <td>NaN</td>\n      <td>5.0</td>\n      <td>4.0</td>\n      <td>NaN</td>\n      <td>NaN</td>\n      <td>5.0</td>\n      <td>NaN</td>\n      <td>NaN</td>\n      <td>NaN</td>\n      <td>NaN</td>\n      <td>NaN</td>\n      <td>NaN</td>\n      <td>NaN</td>\n      <td>NaN</td>\n      <td>NaN</td>\n      <td>NaN</td>\n      <td>NaN</td>\n      <td>NaN</td>\n      <td>NaN</td>\n      <td>NaN</td>\n      <td>NaN</td>\n      <td>NaN</td>\n      <td>NaN</td>\n      <td>NaN</td>\n      <td>NaN</td>\n      <td>NaN</td>\n      <td>NaN</td>\n      <td>NaN</td>\n      <td>4.0</td>\n      <td>NaN</td>\n      <td>NaN</td>\n      <td>...</td>\n      <td>NaN</td>\n      <td>NaN</td>\n      <td>NaN</td>\n      <td>NaN</td>\n      <td>NaN</td>\n      <td>NaN</td>\n      <td>NaN</td>\n      <td>NaN</td>\n      <td>NaN</td>\n      <td>NaN</td>\n      <td>NaN</td>\n      <td>NaN</td>\n      <td>NaN</td>\n      <td>NaN</td>\n      <td>NaN</td>\n      <td>NaN</td>\n      <td>NaN</td>\n      <td>NaN</td>\n      <td>NaN</td>\n      <td>NaN</td>\n      <td>NaN</td>\n      <td>NaN</td>\n      <td>NaN</td>\n      <td>NaN</td>\n      <td>NaN</td>\n      <td>NaN</td>\n      <td>NaN</td>\n      <td>NaN</td>\n      <td>NaN</td>\n      <td>NaN</td>\n      <td>NaN</td>\n      <td>NaN</td>\n      <td>NaN</td>\n      <td>NaN</td>\n      <td>NaN</td>\n      <td>NaN</td>\n      <td>NaN</td>\n      <td>NaN</td>\n      <td>NaN</td>\n      <td>NaN</td>\n      <td>NaN</td>\n      <td>NaN</td>\n      <td>NaN</td>\n      <td>NaN</td>\n      <td>NaN</td>\n      <td>NaN</td>\n      <td>NaN</td>\n      <td>NaN</td>\n      <td>NaN</td>\n      <td>NaN</td>\n    </tr>\n    <tr>\n      <th>002e063d40ae0107a59d8f9c1aa7a423</th>\n      <td>NaN</td>\n      <td>NaN</td>\n      <td>NaN</td>\n      <td>NaN</td>\n      <td>NaN</td>\n      <td>NaN</td>\n      <td>NaN</td>\n      <td>NaN</td>\n      <td>NaN</td>\n      <td>NaN</td>\n      <td>NaN</td>\n      <td>NaN</td>\n      <td>NaN</td>\n      <td>NaN</td>\n      <td>NaN</td>\n      <td>NaN</td>\n      <td>NaN</td>\n      <td>NaN</td>\n      <td>NaN</td>\n      <td>NaN</td>\n      <td>NaN</td>\n      <td>NaN</td>\n      <td>NaN</td>\n      <td>NaN</td>\n      <td>NaN</td>\n      <td>NaN</td>\n      <td>NaN</td>\n      <td>NaN</td>\n      <td>NaN</td>\n      <td>NaN</td>\n      <td>NaN</td>\n      <td>NaN</td>\n      <td>NaN</td>\n      <td>NaN</td>\n      <td>NaN</td>\n      <td>NaN</td>\n      <td>NaN</td>\n      <td>NaN</td>\n      <td>NaN</td>\n      <td>NaN</td>\n      <td>NaN</td>\n      <td>NaN</td>\n      <td>NaN</td>\n      <td>NaN</td>\n      <td>NaN</td>\n      <td>NaN</td>\n      <td>NaN</td>\n      <td>NaN</td>\n      <td>NaN</td>\n      <td>NaN</td>\n      <td>...</td>\n      <td>NaN</td>\n      <td>NaN</td>\n      <td>NaN</td>\n      <td>NaN</td>\n      <td>NaN</td>\n      <td>NaN</td>\n      <td>NaN</td>\n      <td>NaN</td>\n      <td>NaN</td>\n      <td>NaN</td>\n      <td>NaN</td>\n      <td>NaN</td>\n      <td>NaN</td>\n      <td>NaN</td>\n      <td>NaN</td>\n      <td>NaN</td>\n      <td>NaN</td>\n      <td>NaN</td>\n      <td>NaN</td>\n      <td>NaN</td>\n      <td>NaN</td>\n      <td>NaN</td>\n      <td>NaN</td>\n      <td>NaN</td>\n      <td>NaN</td>\n      <td>NaN</td>\n      <td>NaN</td>\n      <td>NaN</td>\n      <td>NaN</td>\n      <td>NaN</td>\n      <td>NaN</td>\n      <td>NaN</td>\n      <td>NaN</td>\n      <td>NaN</td>\n      <td>NaN</td>\n      <td>NaN</td>\n      <td>NaN</td>\n      <td>NaN</td>\n      <td>NaN</td>\n      <td>NaN</td>\n      <td>NaN</td>\n      <td>NaN</td>\n      <td>NaN</td>\n      <td>NaN</td>\n      <td>NaN</td>\n      <td>NaN</td>\n      <td>NaN</td>\n      <td>NaN</td>\n      <td>NaN</td>\n      <td>NaN</td>\n    </tr>\n    <tr>\n      <th>005238c5743d61b58e49d5da089e43df</th>\n      <td>NaN</td>\n      <td>NaN</td>\n      <td>NaN</td>\n      <td>NaN</td>\n      <td>NaN</td>\n      <td>NaN</td>\n      <td>NaN</td>\n      <td>NaN</td>\n      <td>NaN</td>\n      <td>NaN</td>\n      <td>NaN</td>\n      <td>NaN</td>\n      <td>NaN</td>\n      <td>1.0</td>\n      <td>NaN</td>\n      <td>NaN</td>\n      <td>NaN</td>\n      <td>NaN</td>\n      <td>NaN</td>\n      <td>NaN</td>\n      <td>NaN</td>\n      <td>NaN</td>\n      <td>NaN</td>\n      <td>NaN</td>\n      <td>NaN</td>\n      <td>NaN</td>\n      <td>NaN</td>\n      <td>NaN</td>\n      <td>NaN</td>\n      <td>NaN</td>\n      <td>NaN</td>\n      <td>NaN</td>\n      <td>NaN</td>\n      <td>NaN</td>\n      <td>NaN</td>\n      <td>NaN</td>\n      <td>NaN</td>\n      <td>NaN</td>\n      <td>NaN</td>\n      <td>NaN</td>\n      <td>NaN</td>\n      <td>NaN</td>\n      <td>NaN</td>\n      <td>NaN</td>\n      <td>NaN</td>\n      <td>NaN</td>\n      <td>NaN</td>\n      <td>NaN</td>\n      <td>NaN</td>\n      <td>NaN</td>\n      <td>...</td>\n      <td>NaN</td>\n      <td>NaN</td>\n      <td>NaN</td>\n      <td>NaN</td>\n      <td>NaN</td>\n      <td>NaN</td>\n      <td>NaN</td>\n      <td>NaN</td>\n      <td>NaN</td>\n      <td>NaN</td>\n      <td>NaN</td>\n      <td>NaN</td>\n      <td>NaN</td>\n      <td>NaN</td>\n      <td>NaN</td>\n      <td>NaN</td>\n      <td>NaN</td>\n      <td>NaN</td>\n      <td>NaN</td>\n      <td>NaN</td>\n      <td>NaN</td>\n      <td>NaN</td>\n      <td>NaN</td>\n      <td>NaN</td>\n      <td>NaN</td>\n      <td>NaN</td>\n      <td>NaN</td>\n      <td>NaN</td>\n      <td>NaN</td>\n      <td>NaN</td>\n      <td>NaN</td>\n      <td>NaN</td>\n      <td>NaN</td>\n      <td>NaN</td>\n      <td>NaN</td>\n      <td>NaN</td>\n      <td>NaN</td>\n      <td>NaN</td>\n      <td>NaN</td>\n      <td>NaN</td>\n      <td>NaN</td>\n      <td>NaN</td>\n      <td>NaN</td>\n      <td>NaN</td>\n      <td>NaN</td>\n      <td>NaN</td>\n      <td>NaN</td>\n      <td>NaN</td>\n      <td>NaN</td>\n      <td>NaN</td>\n    </tr>\n    <tr>\n      <th>005a572f0bfe510fa796e6eadc6a2eb4</th>\n      <td>NaN</td>\n      <td>NaN</td>\n      <td>NaN</td>\n      <td>NaN</td>\n      <td>NaN</td>\n      <td>NaN</td>\n      <td>NaN</td>\n      <td>NaN</td>\n      <td>NaN</td>\n      <td>NaN</td>\n      <td>NaN</td>\n      <td>NaN</td>\n      <td>NaN</td>\n      <td>NaN</td>\n      <td>NaN</td>\n      <td>NaN</td>\n      <td>NaN</td>\n      <td>NaN</td>\n      <td>NaN</td>\n      <td>NaN</td>\n      <td>NaN</td>\n      <td>NaN</td>\n      <td>NaN</td>\n      <td>NaN</td>\n      <td>NaN</td>\n      <td>NaN</td>\n      <td>NaN</td>\n      <td>NaN</td>\n      <td>NaN</td>\n      <td>NaN</td>\n      <td>NaN</td>\n      <td>NaN</td>\n      <td>NaN</td>\n      <td>NaN</td>\n      <td>NaN</td>\n      <td>NaN</td>\n      <td>NaN</td>\n      <td>NaN</td>\n      <td>NaN</td>\n      <td>NaN</td>\n      <td>NaN</td>\n      <td>NaN</td>\n      <td>NaN</td>\n      <td>NaN</td>\n      <td>NaN</td>\n      <td>NaN</td>\n      <td>NaN</td>\n      <td>NaN</td>\n      <td>NaN</td>\n      <td>NaN</td>\n      <td>...</td>\n      <td>NaN</td>\n      <td>NaN</td>\n      <td>NaN</td>\n      <td>NaN</td>\n      <td>NaN</td>\n      <td>NaN</td>\n      <td>NaN</td>\n      <td>NaN</td>\n      <td>NaN</td>\n      <td>NaN</td>\n      <td>NaN</td>\n      <td>NaN</td>\n      <td>NaN</td>\n      <td>NaN</td>\n      <td>NaN</td>\n      <td>NaN</td>\n      <td>NaN</td>\n      <td>NaN</td>\n      <td>NaN</td>\n      <td>NaN</td>\n      <td>NaN</td>\n      <td>NaN</td>\n      <td>NaN</td>\n      <td>NaN</td>\n      <td>NaN</td>\n      <td>NaN</td>\n      <td>NaN</td>\n      <td>NaN</td>\n      <td>NaN</td>\n      <td>NaN</td>\n      <td>NaN</td>\n      <td>NaN</td>\n      <td>NaN</td>\n      <td>NaN</td>\n      <td>NaN</td>\n      <td>NaN</td>\n      <td>NaN</td>\n      <td>NaN</td>\n      <td>NaN</td>\n      <td>NaN</td>\n      <td>NaN</td>\n      <td>NaN</td>\n      <td>NaN</td>\n      <td>NaN</td>\n      <td>NaN</td>\n      <td>NaN</td>\n      <td>NaN</td>\n      <td>NaN</td>\n      <td>NaN</td>\n      <td>NaN</td>\n    </tr>\n  </tbody>\n</table>\n<p>10 rows × 2575 columns</p>\n</div>"
     },
     "execution_count": 31,
     "metadata": {},
     "output_type": "execute_result"
    }
   ]
  },
  {
   "cell_type": "markdown",
   "source": [
    "## Convert to an array to work with the matrix"
   ],
   "metadata": {
    "collapsed": false,
    "pycharm": {
     "name": "#%% md\n"
    }
   }
  },
  {
   "cell_type": "code",
   "execution_count": 10,
   "outputs": [
    {
     "data": {
      "text/plain": "book_id                           1         2         3         5         \\\nuser_id                                                                    \n000a1016fda6008d1edbba720ca00851       NaN       NaN       NaN       NaN   \n0011e1a9112b3d798702ef5b20bbf35b       NaN       NaN       NaN       NaN   \n0019de4561419b7543238e0979f2f33e       NaN       NaN       NaN       NaN   \n00204424763e8233c5f53f0729f2304f       NaN       NaN       NaN       NaN   \n00214d8b0a020837cccf5f41eb563037       NaN       NaN       NaN       NaN   \n...                                    ...       ...       ...       ...   \nfff3a250fbc018ad2c2c2d45c86734da       NaN       NaN       NaN       NaN   \nfff7bfd82b89fa347edfe9a82ac0c61b       NaN       NaN       NaN       NaN   \nfffc34d137f5c5c5e1ca1d6f325a4dcf       NaN       NaN       NaN       NaN   \nfffce7dae5ac5e8fb6288d81658ececc       NaN       NaN       NaN       NaN   \nffff7cafdaf5196383cb2efca08fb6fe       NaN       5.0       NaN       NaN   \n\nbook_id                           6         11        34        295       \\\nuser_id                                                                    \n000a1016fda6008d1edbba720ca00851       NaN       NaN       NaN       NaN   \n0011e1a9112b3d798702ef5b20bbf35b       NaN       NaN       NaN       NaN   \n0019de4561419b7543238e0979f2f33e       NaN       NaN       NaN       NaN   \n00204424763e8233c5f53f0729f2304f       NaN       NaN       NaN       NaN   \n00214d8b0a020837cccf5f41eb563037       NaN       NaN       NaN       NaN   \n...                                    ...       ...       ...       ...   \nfff3a250fbc018ad2c2c2d45c86734da       NaN       NaN       NaN       NaN   \nfff7bfd82b89fa347edfe9a82ac0c61b       NaN       NaN       NaN       NaN   \nfffc34d137f5c5c5e1ca1d6f325a4dcf       NaN       NaN       NaN       NaN   \nfffce7dae5ac5e8fb6288d81658ececc       NaN       NaN       NaN       NaN   \nffff7cafdaf5196383cb2efca08fb6fe       NaN       NaN       NaN       NaN   \n\nbook_id                           320       343       350       662       \\\nuser_id                                                                    \n000a1016fda6008d1edbba720ca00851       NaN       NaN       NaN       NaN   \n0011e1a9112b3d798702ef5b20bbf35b       NaN       NaN       NaN       NaN   \n0019de4561419b7543238e0979f2f33e       NaN       NaN       NaN       NaN   \n00204424763e8233c5f53f0729f2304f       NaN       NaN       NaN       NaN   \n00214d8b0a020837cccf5f41eb563037       NaN       NaN       NaN       NaN   \n...                                    ...       ...       ...       ...   \nfff3a250fbc018ad2c2c2d45c86734da       NaN       NaN       NaN       NaN   \nfff7bfd82b89fa347edfe9a82ac0c61b       NaN       NaN       NaN       NaN   \nfffc34d137f5c5c5e1ca1d6f325a4dcf       NaN       NaN       NaN       NaN   \nfffce7dae5ac5e8fb6288d81658ececc       NaN       NaN       NaN       NaN   \nffff7cafdaf5196383cb2efca08fb6fe       NaN       NaN       NaN       NaN   \n\nbook_id                           667       830       865       890       \\\nuser_id                                                                    \n000a1016fda6008d1edbba720ca00851       NaN       NaN       NaN       NaN   \n0011e1a9112b3d798702ef5b20bbf35b       NaN       NaN       NaN       NaN   \n0019de4561419b7543238e0979f2f33e       NaN       NaN       NaN       NaN   \n00204424763e8233c5f53f0729f2304f       NaN       NaN       NaN       NaN   \n00214d8b0a020837cccf5f41eb563037       NaN       NaN       NaN       NaN   \n...                                    ...       ...       ...       ...   \nfff3a250fbc018ad2c2c2d45c86734da       NaN       NaN       NaN       NaN   \nfff7bfd82b89fa347edfe9a82ac0c61b       NaN       NaN       NaN       NaN   \nfffc34d137f5c5c5e1ca1d6f325a4dcf       NaN       NaN       NaN       NaN   \nfffce7dae5ac5e8fb6288d81658ececc       NaN       NaN       NaN       NaN   \nffff7cafdaf5196383cb2efca08fb6fe       NaN       NaN       NaN       NaN   \n\nbook_id                           902       930       960       968       \\\nuser_id                                                                    \n000a1016fda6008d1edbba720ca00851       NaN       NaN       NaN       NaN   \n0011e1a9112b3d798702ef5b20bbf35b       NaN       NaN       NaN       NaN   \n0019de4561419b7543238e0979f2f33e       NaN       NaN       NaN       NaN   \n00204424763e8233c5f53f0729f2304f       NaN       NaN       NaN       NaN   \n00214d8b0a020837cccf5f41eb563037       NaN       NaN       NaN       NaN   \n...                                    ...       ...       ...       ...   \nfff3a250fbc018ad2c2c2d45c86734da       NaN       NaN       NaN       NaN   \nfff7bfd82b89fa347edfe9a82ac0c61b       NaN       NaN       NaN       NaN   \nfffc34d137f5c5c5e1ca1d6f325a4dcf       NaN       NaN       NaN       NaN   \nfffce7dae5ac5e8fb6288d81658ececc       NaN       NaN       NaN       NaN   \nffff7cafdaf5196383cb2efca08fb6fe       NaN       NaN       NaN       NaN   \n\nbook_id                           1103      1232      1420      1617      \\\nuser_id                                                                    \n000a1016fda6008d1edbba720ca00851       NaN       NaN       NaN       NaN   \n0011e1a9112b3d798702ef5b20bbf35b       NaN       NaN       NaN       NaN   \n0019de4561419b7543238e0979f2f33e       NaN       NaN       NaN       NaN   \n00204424763e8233c5f53f0729f2304f       NaN       NaN       NaN       NaN   \n00214d8b0a020837cccf5f41eb563037       NaN       NaN       NaN       NaN   \n...                                    ...       ...       ...       ...   \nfff3a250fbc018ad2c2c2d45c86734da       NaN       NaN       NaN       NaN   \nfff7bfd82b89fa347edfe9a82ac0c61b       NaN       NaN       NaN       NaN   \nfffc34d137f5c5c5e1ca1d6f325a4dcf       NaN       NaN       NaN       NaN   \nfffce7dae5ac5e8fb6288d81658ececc       NaN       NaN       NaN       NaN   \nffff7cafdaf5196383cb2efca08fb6fe       NaN       NaN       NaN       NaN   \n\nbook_id                           1618      1622      1845      1852      \\\nuser_id                                                                    \n000a1016fda6008d1edbba720ca00851       NaN       NaN       NaN       NaN   \n0011e1a9112b3d798702ef5b20bbf35b       NaN       NaN       NaN       NaN   \n0019de4561419b7543238e0979f2f33e       NaN       NaN       NaN       NaN   \n00204424763e8233c5f53f0729f2304f       NaN       NaN       NaN       NaN   \n00214d8b0a020837cccf5f41eb563037       NaN       NaN       NaN       NaN   \n...                                    ...       ...       ...       ...   \nfff3a250fbc018ad2c2c2d45c86734da       NaN       NaN       NaN       NaN   \nfff7bfd82b89fa347edfe9a82ac0c61b       NaN       NaN       NaN       NaN   \nfffc34d137f5c5c5e1ca1d6f325a4dcf       NaN       NaN       NaN       NaN   \nfffce7dae5ac5e8fb6288d81658ececc       NaN       NaN       NaN       NaN   \nffff7cafdaf5196383cb2efca08fb6fe       NaN       NaN       NaN       NaN   \n\nbook_id                           1885      1934      1953      2052      \\\nuser_id                                                                    \n000a1016fda6008d1edbba720ca00851       NaN       NaN       NaN       NaN   \n0011e1a9112b3d798702ef5b20bbf35b       NaN       NaN       NaN       NaN   \n0019de4561419b7543238e0979f2f33e       NaN       NaN       NaN       NaN   \n00204424763e8233c5f53f0729f2304f       NaN       NaN       NaN       NaN   \n00214d8b0a020837cccf5f41eb563037       NaN       NaN       NaN       NaN   \n...                                    ...       ...       ...       ...   \nfff3a250fbc018ad2c2c2d45c86734da       NaN       NaN       NaN       NaN   \nfff7bfd82b89fa347edfe9a82ac0c61b       NaN       NaN       NaN       NaN   \nfffc34d137f5c5c5e1ca1d6f325a4dcf       NaN       NaN       NaN       NaN   \nfffce7dae5ac5e8fb6288d81658ececc       NaN       NaN       NaN       NaN   \nffff7cafdaf5196383cb2efca08fb6fe       NaN       NaN       NaN       NaN   \n\nbook_id                           2156      2165      2187      2493      \\\nuser_id                                                                    \n000a1016fda6008d1edbba720ca00851       NaN       NaN       NaN       NaN   \n0011e1a9112b3d798702ef5b20bbf35b       NaN       NaN       NaN       NaN   \n0019de4561419b7543238e0979f2f33e       NaN       NaN       NaN       NaN   \n00204424763e8233c5f53f0729f2304f       NaN       NaN       NaN       NaN   \n00214d8b0a020837cccf5f41eb563037       NaN       NaN       NaN       NaN   \n...                                    ...       ...       ...       ...   \nfff3a250fbc018ad2c2c2d45c86734da       NaN       NaN       NaN       NaN   \nfff7bfd82b89fa347edfe9a82ac0c61b       NaN       NaN       NaN       NaN   \nfffc34d137f5c5c5e1ca1d6f325a4dcf       NaN       NaN       NaN       NaN   \nfffce7dae5ac5e8fb6288d81658ececc       NaN       NaN       NaN       NaN   \nffff7cafdaf5196383cb2efca08fb6fe       NaN       NaN       NaN       NaN   \n\nbook_id                           2526      2612      2623      2657      \\\nuser_id                                                                    \n000a1016fda6008d1edbba720ca00851       NaN       NaN       NaN       NaN   \n0011e1a9112b3d798702ef5b20bbf35b       NaN       NaN       NaN       NaN   \n0019de4561419b7543238e0979f2f33e       NaN       NaN       NaN       NaN   \n00204424763e8233c5f53f0729f2304f       NaN       NaN       NaN       NaN   \n00214d8b0a020837cccf5f41eb563037       NaN       NaN       NaN       NaN   \n...                                    ...       ...       ...       ...   \nfff3a250fbc018ad2c2c2d45c86734da       NaN       NaN       NaN       NaN   \nfff7bfd82b89fa347edfe9a82ac0c61b       NaN       NaN       NaN       NaN   \nfffc34d137f5c5c5e1ca1d6f325a4dcf       NaN       NaN       NaN       NaN   \nfffce7dae5ac5e8fb6288d81658ececc       NaN       NaN       NaN       NaN   \nffff7cafdaf5196383cb2efca08fb6fe       NaN       NaN       NaN       NaN   \n\nbook_id                           2744      2839      2956      2998      \\\nuser_id                                                                    \n000a1016fda6008d1edbba720ca00851       NaN       NaN       NaN       NaN   \n0011e1a9112b3d798702ef5b20bbf35b       NaN       NaN       NaN       NaN   \n0019de4561419b7543238e0979f2f33e       NaN       NaN       NaN       NaN   \n00204424763e8233c5f53f0729f2304f       NaN       NaN       NaN       NaN   \n00214d8b0a020837cccf5f41eb563037       NaN       NaN       NaN       NaN   \n...                                    ...       ...       ...       ...   \nfff3a250fbc018ad2c2c2d45c86734da       NaN       NaN       NaN       NaN   \nfff7bfd82b89fa347edfe9a82ac0c61b       NaN       NaN       NaN       NaN   \nfffc34d137f5c5c5e1ca1d6f325a4dcf       NaN       NaN       NaN       NaN   \nfffce7dae5ac5e8fb6288d81658ececc       NaN       NaN       NaN       NaN   \nffff7cafdaf5196383cb2efca08fb6fe       NaN       NaN       NaN       NaN   \n\nbook_id                           3008      3431      3473      3636      \\\nuser_id                                                                    \n000a1016fda6008d1edbba720ca00851       NaN       NaN       NaN       NaN   \n0011e1a9112b3d798702ef5b20bbf35b       NaN       NaN       NaN       NaN   \n0019de4561419b7543238e0979f2f33e       NaN       NaN       NaN       NaN   \n00204424763e8233c5f53f0729f2304f       NaN       NaN       NaN       NaN   \n00214d8b0a020837cccf5f41eb563037       NaN       NaN       NaN       NaN   \n...                                    ...       ...       ...       ...   \nfff3a250fbc018ad2c2c2d45c86734da       NaN       NaN       NaN       NaN   \nfff7bfd82b89fa347edfe9a82ac0c61b       NaN       NaN       NaN       NaN   \nfffc34d137f5c5c5e1ca1d6f325a4dcf       NaN       NaN       NaN       NaN   \nfffce7dae5ac5e8fb6288d81658ececc       NaN       NaN       NaN       NaN   \nffff7cafdaf5196383cb2efca08fb6fe       NaN       NaN       NaN       2.0   \n\nbook_id                           3682      3758      ...  30269126  30312891  \\\nuser_id                                               ...                       \n000a1016fda6008d1edbba720ca00851       NaN       NaN  ...       NaN       NaN   \n0011e1a9112b3d798702ef5b20bbf35b       NaN       NaN  ...       NaN       NaN   \n0019de4561419b7543238e0979f2f33e       3.0       NaN  ...       NaN       NaN   \n00204424763e8233c5f53f0729f2304f       NaN       NaN  ...       NaN       NaN   \n00214d8b0a020837cccf5f41eb563037       NaN       NaN  ...       NaN       NaN   \n...                                    ...       ...  ...       ...       ...   \nfff3a250fbc018ad2c2c2d45c86734da       NaN       NaN  ...       NaN       NaN   \nfff7bfd82b89fa347edfe9a82ac0c61b       NaN       NaN  ...       NaN       NaN   \nfffc34d137f5c5c5e1ca1d6f325a4dcf       NaN       NaN  ...       NaN       NaN   \nfffce7dae5ac5e8fb6288d81658ececc       NaN       NaN  ...       NaN       NaN   \nffff7cafdaf5196383cb2efca08fb6fe       NaN       NaN  ...       NaN       NaN   \n\nbook_id                           30325011  30415154  30555488  30633337  \\\nuser_id                                                                    \n000a1016fda6008d1edbba720ca00851       NaN       NaN       NaN       NaN   \n0011e1a9112b3d798702ef5b20bbf35b       NaN       NaN       NaN       NaN   \n0019de4561419b7543238e0979f2f33e       NaN       NaN       NaN       NaN   \n00204424763e8233c5f53f0729f2304f       NaN       NaN       NaN       NaN   \n00214d8b0a020837cccf5f41eb563037       NaN       NaN       NaN       NaN   \n...                                    ...       ...       ...       ...   \nfff3a250fbc018ad2c2c2d45c86734da       NaN       NaN       NaN       NaN   \nfff7bfd82b89fa347edfe9a82ac0c61b       NaN       NaN       NaN       NaN   \nfffc34d137f5c5c5e1ca1d6f325a4dcf       NaN       NaN       NaN       NaN   \nfffce7dae5ac5e8fb6288d81658ececc       NaN       NaN       NaN       NaN   \nffff7cafdaf5196383cb2efca08fb6fe       NaN       NaN       NaN       NaN   \n\nbook_id                           30653853  30687916  30688435  30724132  \\\nuser_id                                                                    \n000a1016fda6008d1edbba720ca00851       NaN       NaN       NaN       NaN   \n0011e1a9112b3d798702ef5b20bbf35b       NaN       NaN       NaN       NaN   \n0019de4561419b7543238e0979f2f33e       NaN       NaN       NaN       NaN   \n00204424763e8233c5f53f0729f2304f       NaN       NaN       NaN       NaN   \n00214d8b0a020837cccf5f41eb563037       NaN       NaN       NaN       NaN   \n...                                    ...       ...       ...       ...   \nfff3a250fbc018ad2c2c2d45c86734da       NaN       NaN       NaN       NaN   \nfff7bfd82b89fa347edfe9a82ac0c61b       NaN       NaN       NaN       NaN   \nfffc34d137f5c5c5e1ca1d6f325a4dcf       NaN       4.0       NaN       NaN   \nfffce7dae5ac5e8fb6288d81658ececc       NaN       NaN       NaN       NaN   \nffff7cafdaf5196383cb2efca08fb6fe       NaN       NaN       NaN       NaN   \n\nbook_id                           30731416  30747137  30809689  30821598  \\\nuser_id                                                                    \n000a1016fda6008d1edbba720ca00851       NaN       NaN       NaN       NaN   \n0011e1a9112b3d798702ef5b20bbf35b       NaN       NaN       NaN       NaN   \n0019de4561419b7543238e0979f2f33e       NaN       NaN       NaN       NaN   \n00204424763e8233c5f53f0729f2304f       NaN       NaN       NaN       NaN   \n00214d8b0a020837cccf5f41eb563037       NaN       NaN       NaN       NaN   \n...                                    ...       ...       ...       ...   \nfff3a250fbc018ad2c2c2d45c86734da       NaN       NaN       NaN       NaN   \nfff7bfd82b89fa347edfe9a82ac0c61b       NaN       NaN       NaN       NaN   \nfffc34d137f5c5c5e1ca1d6f325a4dcf       NaN       NaN       NaN       NaN   \nfffce7dae5ac5e8fb6288d81658ececc       NaN       NaN       NaN       NaN   \nffff7cafdaf5196383cb2efca08fb6fe       NaN       NaN       NaN       NaN   \n\nbook_id                           30831912  30839185  30969741  31140847  \\\nuser_id                                                                    \n000a1016fda6008d1edbba720ca00851       NaN       NaN       NaN       NaN   \n0011e1a9112b3d798702ef5b20bbf35b       NaN       NaN       NaN       NaN   \n0019de4561419b7543238e0979f2f33e       NaN       NaN       NaN       NaN   \n00204424763e8233c5f53f0729f2304f       NaN       NaN       NaN       NaN   \n00214d8b0a020837cccf5f41eb563037       NaN       NaN       NaN       NaN   \n...                                    ...       ...       ...       ...   \nfff3a250fbc018ad2c2c2d45c86734da       NaN       NaN       NaN       NaN   \nfff7bfd82b89fa347edfe9a82ac0c61b       NaN       NaN       NaN       NaN   \nfffc34d137f5c5c5e1ca1d6f325a4dcf       NaN       NaN       NaN       NaN   \nfffce7dae5ac5e8fb6288d81658ececc       NaN       NaN       NaN       NaN   \nffff7cafdaf5196383cb2efca08fb6fe       NaN       NaN       NaN       NaN   \n\nbook_id                           31145133  31145148  31176886  31423196  \\\nuser_id                                                                    \n000a1016fda6008d1edbba720ca00851       NaN       NaN       NaN       NaN   \n0011e1a9112b3d798702ef5b20bbf35b       NaN       NaN       NaN       NaN   \n0019de4561419b7543238e0979f2f33e       NaN       NaN       NaN       NaN   \n00204424763e8233c5f53f0729f2304f       NaN       NaN       NaN       NaN   \n00214d8b0a020837cccf5f41eb563037       NaN       NaN       NaN       NaN   \n...                                    ...       ...       ...       ...   \nfff3a250fbc018ad2c2c2d45c86734da       NaN       NaN       NaN       NaN   \nfff7bfd82b89fa347edfe9a82ac0c61b       NaN       NaN       NaN       NaN   \nfffc34d137f5c5c5e1ca1d6f325a4dcf       NaN       NaN       NaN       NaN   \nfffce7dae5ac5e8fb6288d81658ececc       NaN       NaN       NaN       NaN   \nffff7cafdaf5196383cb2efca08fb6fe       NaN       NaN       NaN       NaN   \n\nbook_id                           31450752  31450852  31450908  31451174  \\\nuser_id                                                                    \n000a1016fda6008d1edbba720ca00851       NaN       NaN       NaN       NaN   \n0011e1a9112b3d798702ef5b20bbf35b       NaN       NaN       NaN       NaN   \n0019de4561419b7543238e0979f2f33e       NaN       NaN       NaN       NaN   \n00204424763e8233c5f53f0729f2304f       NaN       NaN       NaN       NaN   \n00214d8b0a020837cccf5f41eb563037       NaN       NaN       NaN       NaN   \n...                                    ...       ...       ...       ...   \nfff3a250fbc018ad2c2c2d45c86734da       NaN       NaN       NaN       NaN   \nfff7bfd82b89fa347edfe9a82ac0c61b       NaN       NaN       NaN       NaN   \nfffc34d137f5c5c5e1ca1d6f325a4dcf       NaN       NaN       NaN       NaN   \nfffce7dae5ac5e8fb6288d81658ececc       NaN       NaN       NaN       NaN   \nffff7cafdaf5196383cb2efca08fb6fe       NaN       NaN       NaN       NaN   \n\nbook_id                           31538614  31538635  31538647  31931941  \\\nuser_id                                                                    \n000a1016fda6008d1edbba720ca00851       NaN       NaN       NaN       NaN   \n0011e1a9112b3d798702ef5b20bbf35b       NaN       NaN       NaN       NaN   \n0019de4561419b7543238e0979f2f33e       NaN       NaN       NaN       NaN   \n00204424763e8233c5f53f0729f2304f       NaN       NaN       NaN       NaN   \n00214d8b0a020837cccf5f41eb563037       NaN       NaN       NaN       NaN   \n...                                    ...       ...       ...       ...   \nfff3a250fbc018ad2c2c2d45c86734da       NaN       NaN       NaN       NaN   \nfff7bfd82b89fa347edfe9a82ac0c61b       NaN       NaN       NaN       NaN   \nfffc34d137f5c5c5e1ca1d6f325a4dcf       NaN       NaN       NaN       NaN   \nfffce7dae5ac5e8fb6288d81658ececc       NaN       NaN       NaN       NaN   \nffff7cafdaf5196383cb2efca08fb6fe       NaN       NaN       NaN       NaN   \n\nbook_id                           31952703  32075662  32075671  32078787  \\\nuser_id                                                                    \n000a1016fda6008d1edbba720ca00851       NaN       NaN       NaN       NaN   \n0011e1a9112b3d798702ef5b20bbf35b       NaN       NaN       NaN       NaN   \n0019de4561419b7543238e0979f2f33e       NaN       NaN       NaN       NaN   \n00204424763e8233c5f53f0729f2304f       NaN       NaN       NaN       NaN   \n00214d8b0a020837cccf5f41eb563037       NaN       NaN       NaN       NaN   \n...                                    ...       ...       ...       ...   \nfff3a250fbc018ad2c2c2d45c86734da       NaN       NaN       NaN       NaN   \nfff7bfd82b89fa347edfe9a82ac0c61b       NaN       NaN       NaN       NaN   \nfffc34d137f5c5c5e1ca1d6f325a4dcf       NaN       NaN       NaN       NaN   \nfffce7dae5ac5e8fb6288d81658ececc       NaN       NaN       NaN       NaN   \nffff7cafdaf5196383cb2efca08fb6fe       NaN       NaN       NaN       NaN   \n\nbook_id                           32571395  32796253  32848471  33140405  \\\nuser_id                                                                    \n000a1016fda6008d1edbba720ca00851       NaN       NaN       NaN       NaN   \n0011e1a9112b3d798702ef5b20bbf35b       NaN       NaN       NaN       NaN   \n0019de4561419b7543238e0979f2f33e       NaN       NaN       NaN       NaN   \n00204424763e8233c5f53f0729f2304f       NaN       NaN       NaN       NaN   \n00214d8b0a020837cccf5f41eb563037       NaN       NaN       NaN       NaN   \n...                                    ...       ...       ...       ...   \nfff3a250fbc018ad2c2c2d45c86734da       NaN       NaN       NaN       NaN   \nfff7bfd82b89fa347edfe9a82ac0c61b       NaN       NaN       NaN       NaN   \nfffc34d137f5c5c5e1ca1d6f325a4dcf       NaN       NaN       NaN       NaN   \nfffce7dae5ac5e8fb6288d81658ececc       NaN       NaN       NaN       NaN   \nffff7cafdaf5196383cb2efca08fb6fe       3.0       NaN       NaN       NaN   \n\nbook_id                           33151805  33232571  33280872  33288638  \\\nuser_id                                                                    \n000a1016fda6008d1edbba720ca00851       NaN       NaN       NaN       NaN   \n0011e1a9112b3d798702ef5b20bbf35b       NaN       NaN       NaN       NaN   \n0019de4561419b7543238e0979f2f33e       NaN       NaN       NaN       NaN   \n00204424763e8233c5f53f0729f2304f       NaN       NaN       NaN       NaN   \n00214d8b0a020837cccf5f41eb563037       NaN       NaN       NaN       NaN   \n...                                    ...       ...       ...       ...   \nfff3a250fbc018ad2c2c2d45c86734da       NaN       NaN       NaN       NaN   \nfff7bfd82b89fa347edfe9a82ac0c61b       NaN       NaN       NaN       NaN   \nfffc34d137f5c5c5e1ca1d6f325a4dcf       NaN       NaN       NaN       NaN   \nfffce7dae5ac5e8fb6288d81658ececc       NaN       NaN       NaN       NaN   \nffff7cafdaf5196383cb2efca08fb6fe       NaN       NaN       NaN       NaN   \n\nbook_id                           33385229  33643994  34044126  34076952  \\\nuser_id                                                                    \n000a1016fda6008d1edbba720ca00851       NaN       NaN       NaN       NaN   \n0011e1a9112b3d798702ef5b20bbf35b       NaN       NaN       NaN       NaN   \n0019de4561419b7543238e0979f2f33e       NaN       NaN       NaN       NaN   \n00204424763e8233c5f53f0729f2304f       NaN       NaN       NaN       NaN   \n00214d8b0a020837cccf5f41eb563037       NaN       NaN       NaN       NaN   \n...                                    ...       ...       ...       ...   \nfff3a250fbc018ad2c2c2d45c86734da       NaN       NaN       NaN       NaN   \nfff7bfd82b89fa347edfe9a82ac0c61b       NaN       NaN       NaN       NaN   \nfffc34d137f5c5c5e1ca1d6f325a4dcf       NaN       NaN       NaN       NaN   \nfffce7dae5ac5e8fb6288d81658ececc       NaN       NaN       NaN       NaN   \nffff7cafdaf5196383cb2efca08fb6fe       NaN       NaN       NaN       NaN   \n\nbook_id                           34273458  35247769  35404657  35504431  \nuser_id                                                                   \n000a1016fda6008d1edbba720ca00851       NaN       NaN       NaN       NaN  \n0011e1a9112b3d798702ef5b20bbf35b       NaN       NaN       NaN       NaN  \n0019de4561419b7543238e0979f2f33e       NaN       NaN       NaN       NaN  \n00204424763e8233c5f53f0729f2304f       NaN       NaN       NaN       NaN  \n00214d8b0a020837cccf5f41eb563037       NaN       NaN       NaN       NaN  \n...                                    ...       ...       ...       ...  \nfff3a250fbc018ad2c2c2d45c86734da       NaN       NaN       NaN       NaN  \nfff7bfd82b89fa347edfe9a82ac0c61b       NaN       NaN       NaN       NaN  \nfffc34d137f5c5c5e1ca1d6f325a4dcf       NaN       NaN       NaN       NaN  \nfffce7dae5ac5e8fb6288d81658ececc       NaN       NaN       NaN       NaN  \nffff7cafdaf5196383cb2efca08fb6fe       NaN       NaN       NaN       NaN  \n\n[9153 rows x 2575 columns]",
      "text/html": "<div>\n<style scoped>\n    .dataframe tbody tr th:only-of-type {\n        vertical-align: middle;\n    }\n\n    .dataframe tbody tr th {\n        vertical-align: top;\n    }\n\n    .dataframe thead th {\n        text-align: right;\n    }\n</style>\n<table border=\"1\" class=\"dataframe\">\n  <thead>\n    <tr style=\"text-align: right;\">\n      <th>book_id</th>\n      <th>1</th>\n      <th>2</th>\n      <th>3</th>\n      <th>5</th>\n      <th>6</th>\n      <th>11</th>\n      <th>34</th>\n      <th>295</th>\n      <th>320</th>\n      <th>343</th>\n      <th>350</th>\n      <th>662</th>\n      <th>667</th>\n      <th>830</th>\n      <th>865</th>\n      <th>890</th>\n      <th>902</th>\n      <th>930</th>\n      <th>960</th>\n      <th>968</th>\n      <th>1103</th>\n      <th>1232</th>\n      <th>1420</th>\n      <th>1617</th>\n      <th>1618</th>\n      <th>1622</th>\n      <th>1845</th>\n      <th>1852</th>\n      <th>1885</th>\n      <th>1934</th>\n      <th>1953</th>\n      <th>2052</th>\n      <th>2156</th>\n      <th>2165</th>\n      <th>2187</th>\n      <th>2493</th>\n      <th>2526</th>\n      <th>2612</th>\n      <th>2623</th>\n      <th>2657</th>\n      <th>2744</th>\n      <th>2839</th>\n      <th>2956</th>\n      <th>2998</th>\n      <th>3008</th>\n      <th>3431</th>\n      <th>3473</th>\n      <th>3636</th>\n      <th>3682</th>\n      <th>3758</th>\n      <th>...</th>\n      <th>30269126</th>\n      <th>30312891</th>\n      <th>30325011</th>\n      <th>30415154</th>\n      <th>30555488</th>\n      <th>30633337</th>\n      <th>30653853</th>\n      <th>30687916</th>\n      <th>30688435</th>\n      <th>30724132</th>\n      <th>30731416</th>\n      <th>30747137</th>\n      <th>30809689</th>\n      <th>30821598</th>\n      <th>30831912</th>\n      <th>30839185</th>\n      <th>30969741</th>\n      <th>31140847</th>\n      <th>31145133</th>\n      <th>31145148</th>\n      <th>31176886</th>\n      <th>31423196</th>\n      <th>31450752</th>\n      <th>31450852</th>\n      <th>31450908</th>\n      <th>31451174</th>\n      <th>31538614</th>\n      <th>31538635</th>\n      <th>31538647</th>\n      <th>31931941</th>\n      <th>31952703</th>\n      <th>32075662</th>\n      <th>32075671</th>\n      <th>32078787</th>\n      <th>32571395</th>\n      <th>32796253</th>\n      <th>32848471</th>\n      <th>33140405</th>\n      <th>33151805</th>\n      <th>33232571</th>\n      <th>33280872</th>\n      <th>33288638</th>\n      <th>33385229</th>\n      <th>33643994</th>\n      <th>34044126</th>\n      <th>34076952</th>\n      <th>34273458</th>\n      <th>35247769</th>\n      <th>35404657</th>\n      <th>35504431</th>\n    </tr>\n    <tr>\n      <th>user_id</th>\n      <th></th>\n      <th></th>\n      <th></th>\n      <th></th>\n      <th></th>\n      <th></th>\n      <th></th>\n      <th></th>\n      <th></th>\n      <th></th>\n      <th></th>\n      <th></th>\n      <th></th>\n      <th></th>\n      <th></th>\n      <th></th>\n      <th></th>\n      <th></th>\n      <th></th>\n      <th></th>\n      <th></th>\n      <th></th>\n      <th></th>\n      <th></th>\n      <th></th>\n      <th></th>\n      <th></th>\n      <th></th>\n      <th></th>\n      <th></th>\n      <th></th>\n      <th></th>\n      <th></th>\n      <th></th>\n      <th></th>\n      <th></th>\n      <th></th>\n      <th></th>\n      <th></th>\n      <th></th>\n      <th></th>\n      <th></th>\n      <th></th>\n      <th></th>\n      <th></th>\n      <th></th>\n      <th></th>\n      <th></th>\n      <th></th>\n      <th></th>\n      <th></th>\n      <th></th>\n      <th></th>\n      <th></th>\n      <th></th>\n      <th></th>\n      <th></th>\n      <th></th>\n      <th></th>\n      <th></th>\n      <th></th>\n      <th></th>\n      <th></th>\n      <th></th>\n      <th></th>\n      <th></th>\n      <th></th>\n      <th></th>\n      <th></th>\n      <th></th>\n      <th></th>\n      <th></th>\n      <th></th>\n      <th></th>\n      <th></th>\n      <th></th>\n      <th></th>\n      <th></th>\n      <th></th>\n      <th></th>\n      <th></th>\n      <th></th>\n      <th></th>\n      <th></th>\n      <th></th>\n      <th></th>\n      <th></th>\n      <th></th>\n      <th></th>\n      <th></th>\n      <th></th>\n      <th></th>\n      <th></th>\n      <th></th>\n      <th></th>\n      <th></th>\n      <th></th>\n      <th></th>\n      <th></th>\n      <th></th>\n      <th></th>\n    </tr>\n  </thead>\n  <tbody>\n    <tr>\n      <th>000a1016fda6008d1edbba720ca00851</th>\n      <td>NaN</td>\n      <td>NaN</td>\n      <td>NaN</td>\n      <td>NaN</td>\n      <td>NaN</td>\n      <td>NaN</td>\n      <td>NaN</td>\n      <td>NaN</td>\n      <td>NaN</td>\n      <td>NaN</td>\n      <td>NaN</td>\n      <td>NaN</td>\n      <td>NaN</td>\n      <td>NaN</td>\n      <td>NaN</td>\n      <td>NaN</td>\n      <td>NaN</td>\n      <td>NaN</td>\n      <td>NaN</td>\n      <td>NaN</td>\n      <td>NaN</td>\n      <td>NaN</td>\n      <td>NaN</td>\n      <td>NaN</td>\n      <td>NaN</td>\n      <td>NaN</td>\n      <td>NaN</td>\n      <td>NaN</td>\n      <td>NaN</td>\n      <td>NaN</td>\n      <td>NaN</td>\n      <td>NaN</td>\n      <td>NaN</td>\n      <td>NaN</td>\n      <td>NaN</td>\n      <td>NaN</td>\n      <td>NaN</td>\n      <td>NaN</td>\n      <td>NaN</td>\n      <td>NaN</td>\n      <td>NaN</td>\n      <td>NaN</td>\n      <td>NaN</td>\n      <td>NaN</td>\n      <td>NaN</td>\n      <td>NaN</td>\n      <td>NaN</td>\n      <td>NaN</td>\n      <td>NaN</td>\n      <td>NaN</td>\n      <td>...</td>\n      <td>NaN</td>\n      <td>NaN</td>\n      <td>NaN</td>\n      <td>NaN</td>\n      <td>NaN</td>\n      <td>NaN</td>\n      <td>NaN</td>\n      <td>NaN</td>\n      <td>NaN</td>\n      <td>NaN</td>\n      <td>NaN</td>\n      <td>NaN</td>\n      <td>NaN</td>\n      <td>NaN</td>\n      <td>NaN</td>\n      <td>NaN</td>\n      <td>NaN</td>\n      <td>NaN</td>\n      <td>NaN</td>\n      <td>NaN</td>\n      <td>NaN</td>\n      <td>NaN</td>\n      <td>NaN</td>\n      <td>NaN</td>\n      <td>NaN</td>\n      <td>NaN</td>\n      <td>NaN</td>\n      <td>NaN</td>\n      <td>NaN</td>\n      <td>NaN</td>\n      <td>NaN</td>\n      <td>NaN</td>\n      <td>NaN</td>\n      <td>NaN</td>\n      <td>NaN</td>\n      <td>NaN</td>\n      <td>NaN</td>\n      <td>NaN</td>\n      <td>NaN</td>\n      <td>NaN</td>\n      <td>NaN</td>\n      <td>NaN</td>\n      <td>NaN</td>\n      <td>NaN</td>\n      <td>NaN</td>\n      <td>NaN</td>\n      <td>NaN</td>\n      <td>NaN</td>\n      <td>NaN</td>\n      <td>NaN</td>\n    </tr>\n    <tr>\n      <th>0011e1a9112b3d798702ef5b20bbf35b</th>\n      <td>NaN</td>\n      <td>NaN</td>\n      <td>NaN</td>\n      <td>NaN</td>\n      <td>NaN</td>\n      <td>NaN</td>\n      <td>NaN</td>\n      <td>NaN</td>\n      <td>NaN</td>\n      <td>NaN</td>\n      <td>NaN</td>\n      <td>NaN</td>\n      <td>NaN</td>\n      <td>NaN</td>\n      <td>NaN</td>\n      <td>NaN</td>\n      <td>NaN</td>\n      <td>NaN</td>\n      <td>NaN</td>\n      <td>NaN</td>\n      <td>NaN</td>\n      <td>NaN</td>\n      <td>NaN</td>\n      <td>NaN</td>\n      <td>NaN</td>\n      <td>NaN</td>\n      <td>NaN</td>\n      <td>NaN</td>\n      <td>NaN</td>\n      <td>NaN</td>\n      <td>NaN</td>\n      <td>NaN</td>\n      <td>NaN</td>\n      <td>NaN</td>\n      <td>NaN</td>\n      <td>NaN</td>\n      <td>NaN</td>\n      <td>NaN</td>\n      <td>NaN</td>\n      <td>NaN</td>\n      <td>NaN</td>\n      <td>NaN</td>\n      <td>NaN</td>\n      <td>NaN</td>\n      <td>NaN</td>\n      <td>NaN</td>\n      <td>NaN</td>\n      <td>NaN</td>\n      <td>NaN</td>\n      <td>NaN</td>\n      <td>...</td>\n      <td>NaN</td>\n      <td>NaN</td>\n      <td>NaN</td>\n      <td>NaN</td>\n      <td>NaN</td>\n      <td>NaN</td>\n      <td>NaN</td>\n      <td>NaN</td>\n      <td>NaN</td>\n      <td>NaN</td>\n      <td>NaN</td>\n      <td>NaN</td>\n      <td>NaN</td>\n      <td>NaN</td>\n      <td>NaN</td>\n      <td>NaN</td>\n      <td>NaN</td>\n      <td>NaN</td>\n      <td>NaN</td>\n      <td>NaN</td>\n      <td>NaN</td>\n      <td>NaN</td>\n      <td>NaN</td>\n      <td>NaN</td>\n      <td>NaN</td>\n      <td>NaN</td>\n      <td>NaN</td>\n      <td>NaN</td>\n      <td>NaN</td>\n      <td>NaN</td>\n      <td>NaN</td>\n      <td>NaN</td>\n      <td>NaN</td>\n      <td>NaN</td>\n      <td>NaN</td>\n      <td>NaN</td>\n      <td>NaN</td>\n      <td>NaN</td>\n      <td>NaN</td>\n      <td>NaN</td>\n      <td>NaN</td>\n      <td>NaN</td>\n      <td>NaN</td>\n      <td>NaN</td>\n      <td>NaN</td>\n      <td>NaN</td>\n      <td>NaN</td>\n      <td>NaN</td>\n      <td>NaN</td>\n      <td>NaN</td>\n    </tr>\n    <tr>\n      <th>0019de4561419b7543238e0979f2f33e</th>\n      <td>NaN</td>\n      <td>NaN</td>\n      <td>NaN</td>\n      <td>NaN</td>\n      <td>NaN</td>\n      <td>NaN</td>\n      <td>NaN</td>\n      <td>NaN</td>\n      <td>NaN</td>\n      <td>NaN</td>\n      <td>NaN</td>\n      <td>NaN</td>\n      <td>NaN</td>\n      <td>NaN</td>\n      <td>NaN</td>\n      <td>NaN</td>\n      <td>NaN</td>\n      <td>NaN</td>\n      <td>NaN</td>\n      <td>NaN</td>\n      <td>NaN</td>\n      <td>NaN</td>\n      <td>NaN</td>\n      <td>NaN</td>\n      <td>NaN</td>\n      <td>NaN</td>\n      <td>NaN</td>\n      <td>NaN</td>\n      <td>NaN</td>\n      <td>NaN</td>\n      <td>NaN</td>\n      <td>NaN</td>\n      <td>NaN</td>\n      <td>NaN</td>\n      <td>NaN</td>\n      <td>NaN</td>\n      <td>NaN</td>\n      <td>NaN</td>\n      <td>NaN</td>\n      <td>NaN</td>\n      <td>NaN</td>\n      <td>NaN</td>\n      <td>NaN</td>\n      <td>NaN</td>\n      <td>NaN</td>\n      <td>NaN</td>\n      <td>NaN</td>\n      <td>NaN</td>\n      <td>3.0</td>\n      <td>NaN</td>\n      <td>...</td>\n      <td>NaN</td>\n      <td>NaN</td>\n      <td>NaN</td>\n      <td>NaN</td>\n      <td>NaN</td>\n      <td>NaN</td>\n      <td>NaN</td>\n      <td>NaN</td>\n      <td>NaN</td>\n      <td>NaN</td>\n      <td>NaN</td>\n      <td>NaN</td>\n      <td>NaN</td>\n      <td>NaN</td>\n      <td>NaN</td>\n      <td>NaN</td>\n      <td>NaN</td>\n      <td>NaN</td>\n      <td>NaN</td>\n      <td>NaN</td>\n      <td>NaN</td>\n      <td>NaN</td>\n      <td>NaN</td>\n      <td>NaN</td>\n      <td>NaN</td>\n      <td>NaN</td>\n      <td>NaN</td>\n      <td>NaN</td>\n      <td>NaN</td>\n      <td>NaN</td>\n      <td>NaN</td>\n      <td>NaN</td>\n      <td>NaN</td>\n      <td>NaN</td>\n      <td>NaN</td>\n      <td>NaN</td>\n      <td>NaN</td>\n      <td>NaN</td>\n      <td>NaN</td>\n      <td>NaN</td>\n      <td>NaN</td>\n      <td>NaN</td>\n      <td>NaN</td>\n      <td>NaN</td>\n      <td>NaN</td>\n      <td>NaN</td>\n      <td>NaN</td>\n      <td>NaN</td>\n      <td>NaN</td>\n      <td>NaN</td>\n    </tr>\n    <tr>\n      <th>00204424763e8233c5f53f0729f2304f</th>\n      <td>NaN</td>\n      <td>NaN</td>\n      <td>NaN</td>\n      <td>NaN</td>\n      <td>NaN</td>\n      <td>NaN</td>\n      <td>NaN</td>\n      <td>NaN</td>\n      <td>NaN</td>\n      <td>NaN</td>\n      <td>NaN</td>\n      <td>NaN</td>\n      <td>NaN</td>\n      <td>NaN</td>\n      <td>NaN</td>\n      <td>NaN</td>\n      <td>NaN</td>\n      <td>NaN</td>\n      <td>NaN</td>\n      <td>NaN</td>\n      <td>NaN</td>\n      <td>NaN</td>\n      <td>NaN</td>\n      <td>NaN</td>\n      <td>NaN</td>\n      <td>NaN</td>\n      <td>NaN</td>\n      <td>NaN</td>\n      <td>NaN</td>\n      <td>NaN</td>\n      <td>NaN</td>\n      <td>NaN</td>\n      <td>NaN</td>\n      <td>NaN</td>\n      <td>NaN</td>\n      <td>NaN</td>\n      <td>NaN</td>\n      <td>NaN</td>\n      <td>NaN</td>\n      <td>NaN</td>\n      <td>NaN</td>\n      <td>NaN</td>\n      <td>NaN</td>\n      <td>NaN</td>\n      <td>NaN</td>\n      <td>NaN</td>\n      <td>NaN</td>\n      <td>NaN</td>\n      <td>NaN</td>\n      <td>NaN</td>\n      <td>...</td>\n      <td>NaN</td>\n      <td>NaN</td>\n      <td>NaN</td>\n      <td>NaN</td>\n      <td>NaN</td>\n      <td>NaN</td>\n      <td>NaN</td>\n      <td>NaN</td>\n      <td>NaN</td>\n      <td>NaN</td>\n      <td>NaN</td>\n      <td>NaN</td>\n      <td>NaN</td>\n      <td>NaN</td>\n      <td>NaN</td>\n      <td>NaN</td>\n      <td>NaN</td>\n      <td>NaN</td>\n      <td>NaN</td>\n      <td>NaN</td>\n      <td>NaN</td>\n      <td>NaN</td>\n      <td>NaN</td>\n      <td>NaN</td>\n      <td>NaN</td>\n      <td>NaN</td>\n      <td>NaN</td>\n      <td>NaN</td>\n      <td>NaN</td>\n      <td>NaN</td>\n      <td>NaN</td>\n      <td>NaN</td>\n      <td>NaN</td>\n      <td>NaN</td>\n      <td>NaN</td>\n      <td>NaN</td>\n      <td>NaN</td>\n      <td>NaN</td>\n      <td>NaN</td>\n      <td>NaN</td>\n      <td>NaN</td>\n      <td>NaN</td>\n      <td>NaN</td>\n      <td>NaN</td>\n      <td>NaN</td>\n      <td>NaN</td>\n      <td>NaN</td>\n      <td>NaN</td>\n      <td>NaN</td>\n      <td>NaN</td>\n    </tr>\n    <tr>\n      <th>00214d8b0a020837cccf5f41eb563037</th>\n      <td>NaN</td>\n      <td>NaN</td>\n      <td>NaN</td>\n      <td>NaN</td>\n      <td>NaN</td>\n      <td>NaN</td>\n      <td>NaN</td>\n      <td>NaN</td>\n      <td>NaN</td>\n      <td>NaN</td>\n      <td>NaN</td>\n      <td>NaN</td>\n      <td>NaN</td>\n      <td>NaN</td>\n      <td>NaN</td>\n      <td>NaN</td>\n      <td>NaN</td>\n      <td>NaN</td>\n      <td>NaN</td>\n      <td>NaN</td>\n      <td>NaN</td>\n      <td>NaN</td>\n      <td>NaN</td>\n      <td>NaN</td>\n      <td>NaN</td>\n      <td>NaN</td>\n      <td>NaN</td>\n      <td>NaN</td>\n      <td>NaN</td>\n      <td>NaN</td>\n      <td>NaN</td>\n      <td>NaN</td>\n      <td>NaN</td>\n      <td>NaN</td>\n      <td>NaN</td>\n      <td>NaN</td>\n      <td>NaN</td>\n      <td>NaN</td>\n      <td>NaN</td>\n      <td>NaN</td>\n      <td>NaN</td>\n      <td>NaN</td>\n      <td>NaN</td>\n      <td>NaN</td>\n      <td>NaN</td>\n      <td>NaN</td>\n      <td>NaN</td>\n      <td>NaN</td>\n      <td>NaN</td>\n      <td>NaN</td>\n      <td>...</td>\n      <td>NaN</td>\n      <td>NaN</td>\n      <td>NaN</td>\n      <td>NaN</td>\n      <td>NaN</td>\n      <td>NaN</td>\n      <td>NaN</td>\n      <td>NaN</td>\n      <td>NaN</td>\n      <td>NaN</td>\n      <td>NaN</td>\n      <td>NaN</td>\n      <td>NaN</td>\n      <td>NaN</td>\n      <td>NaN</td>\n      <td>NaN</td>\n      <td>NaN</td>\n      <td>NaN</td>\n      <td>NaN</td>\n      <td>NaN</td>\n      <td>NaN</td>\n      <td>NaN</td>\n      <td>NaN</td>\n      <td>NaN</td>\n      <td>NaN</td>\n      <td>NaN</td>\n      <td>NaN</td>\n      <td>NaN</td>\n      <td>NaN</td>\n      <td>NaN</td>\n      <td>NaN</td>\n      <td>NaN</td>\n      <td>NaN</td>\n      <td>NaN</td>\n      <td>NaN</td>\n      <td>NaN</td>\n      <td>NaN</td>\n      <td>NaN</td>\n      <td>NaN</td>\n      <td>NaN</td>\n      <td>NaN</td>\n      <td>NaN</td>\n      <td>NaN</td>\n      <td>NaN</td>\n      <td>NaN</td>\n      <td>NaN</td>\n      <td>NaN</td>\n      <td>NaN</td>\n      <td>NaN</td>\n      <td>NaN</td>\n    </tr>\n    <tr>\n      <th>...</th>\n      <td>...</td>\n      <td>...</td>\n      <td>...</td>\n      <td>...</td>\n      <td>...</td>\n      <td>...</td>\n      <td>...</td>\n      <td>...</td>\n      <td>...</td>\n      <td>...</td>\n      <td>...</td>\n      <td>...</td>\n      <td>...</td>\n      <td>...</td>\n      <td>...</td>\n      <td>...</td>\n      <td>...</td>\n      <td>...</td>\n      <td>...</td>\n      <td>...</td>\n      <td>...</td>\n      <td>...</td>\n      <td>...</td>\n      <td>...</td>\n      <td>...</td>\n      <td>...</td>\n      <td>...</td>\n      <td>...</td>\n      <td>...</td>\n      <td>...</td>\n      <td>...</td>\n      <td>...</td>\n      <td>...</td>\n      <td>...</td>\n      <td>...</td>\n      <td>...</td>\n      <td>...</td>\n      <td>...</td>\n      <td>...</td>\n      <td>...</td>\n      <td>...</td>\n      <td>...</td>\n      <td>...</td>\n      <td>...</td>\n      <td>...</td>\n      <td>...</td>\n      <td>...</td>\n      <td>...</td>\n      <td>...</td>\n      <td>...</td>\n      <td>...</td>\n      <td>...</td>\n      <td>...</td>\n      <td>...</td>\n      <td>...</td>\n      <td>...</td>\n      <td>...</td>\n      <td>...</td>\n      <td>...</td>\n      <td>...</td>\n      <td>...</td>\n      <td>...</td>\n      <td>...</td>\n      <td>...</td>\n      <td>...</td>\n      <td>...</td>\n      <td>...</td>\n      <td>...</td>\n      <td>...</td>\n      <td>...</td>\n      <td>...</td>\n      <td>...</td>\n      <td>...</td>\n      <td>...</td>\n      <td>...</td>\n      <td>...</td>\n      <td>...</td>\n      <td>...</td>\n      <td>...</td>\n      <td>...</td>\n      <td>...</td>\n      <td>...</td>\n      <td>...</td>\n      <td>...</td>\n      <td>...</td>\n      <td>...</td>\n      <td>...</td>\n      <td>...</td>\n      <td>...</td>\n      <td>...</td>\n      <td>...</td>\n      <td>...</td>\n      <td>...</td>\n      <td>...</td>\n      <td>...</td>\n      <td>...</td>\n      <td>...</td>\n      <td>...</td>\n      <td>...</td>\n      <td>...</td>\n      <td>...</td>\n    </tr>\n    <tr>\n      <th>fff3a250fbc018ad2c2c2d45c86734da</th>\n      <td>NaN</td>\n      <td>NaN</td>\n      <td>NaN</td>\n      <td>NaN</td>\n      <td>NaN</td>\n      <td>NaN</td>\n      <td>NaN</td>\n      <td>NaN</td>\n      <td>NaN</td>\n      <td>NaN</td>\n      <td>NaN</td>\n      <td>NaN</td>\n      <td>NaN</td>\n      <td>NaN</td>\n      <td>NaN</td>\n      <td>NaN</td>\n      <td>NaN</td>\n      <td>NaN</td>\n      <td>NaN</td>\n      <td>NaN</td>\n      <td>NaN</td>\n      <td>NaN</td>\n      <td>NaN</td>\n      <td>NaN</td>\n      <td>NaN</td>\n      <td>NaN</td>\n      <td>NaN</td>\n      <td>NaN</td>\n      <td>NaN</td>\n      <td>NaN</td>\n      <td>NaN</td>\n      <td>NaN</td>\n      <td>NaN</td>\n      <td>NaN</td>\n      <td>NaN</td>\n      <td>NaN</td>\n      <td>NaN</td>\n      <td>NaN</td>\n      <td>NaN</td>\n      <td>NaN</td>\n      <td>NaN</td>\n      <td>NaN</td>\n      <td>NaN</td>\n      <td>NaN</td>\n      <td>NaN</td>\n      <td>NaN</td>\n      <td>NaN</td>\n      <td>NaN</td>\n      <td>NaN</td>\n      <td>NaN</td>\n      <td>...</td>\n      <td>NaN</td>\n      <td>NaN</td>\n      <td>NaN</td>\n      <td>NaN</td>\n      <td>NaN</td>\n      <td>NaN</td>\n      <td>NaN</td>\n      <td>NaN</td>\n      <td>NaN</td>\n      <td>NaN</td>\n      <td>NaN</td>\n      <td>NaN</td>\n      <td>NaN</td>\n      <td>NaN</td>\n      <td>NaN</td>\n      <td>NaN</td>\n      <td>NaN</td>\n      <td>NaN</td>\n      <td>NaN</td>\n      <td>NaN</td>\n      <td>NaN</td>\n      <td>NaN</td>\n      <td>NaN</td>\n      <td>NaN</td>\n      <td>NaN</td>\n      <td>NaN</td>\n      <td>NaN</td>\n      <td>NaN</td>\n      <td>NaN</td>\n      <td>NaN</td>\n      <td>NaN</td>\n      <td>NaN</td>\n      <td>NaN</td>\n      <td>NaN</td>\n      <td>NaN</td>\n      <td>NaN</td>\n      <td>NaN</td>\n      <td>NaN</td>\n      <td>NaN</td>\n      <td>NaN</td>\n      <td>NaN</td>\n      <td>NaN</td>\n      <td>NaN</td>\n      <td>NaN</td>\n      <td>NaN</td>\n      <td>NaN</td>\n      <td>NaN</td>\n      <td>NaN</td>\n      <td>NaN</td>\n      <td>NaN</td>\n    </tr>\n    <tr>\n      <th>fff7bfd82b89fa347edfe9a82ac0c61b</th>\n      <td>NaN</td>\n      <td>NaN</td>\n      <td>NaN</td>\n      <td>NaN</td>\n      <td>NaN</td>\n      <td>NaN</td>\n      <td>NaN</td>\n      <td>NaN</td>\n      <td>NaN</td>\n      <td>NaN</td>\n      <td>NaN</td>\n      <td>NaN</td>\n      <td>NaN</td>\n      <td>NaN</td>\n      <td>NaN</td>\n      <td>NaN</td>\n      <td>NaN</td>\n      <td>NaN</td>\n      <td>NaN</td>\n      <td>NaN</td>\n      <td>NaN</td>\n      <td>NaN</td>\n      <td>NaN</td>\n      <td>NaN</td>\n      <td>NaN</td>\n      <td>NaN</td>\n      <td>NaN</td>\n      <td>NaN</td>\n      <td>NaN</td>\n      <td>NaN</td>\n      <td>NaN</td>\n      <td>NaN</td>\n      <td>NaN</td>\n      <td>NaN</td>\n      <td>NaN</td>\n      <td>NaN</td>\n      <td>NaN</td>\n      <td>NaN</td>\n      <td>NaN</td>\n      <td>NaN</td>\n      <td>NaN</td>\n      <td>NaN</td>\n      <td>NaN</td>\n      <td>NaN</td>\n      <td>NaN</td>\n      <td>NaN</td>\n      <td>NaN</td>\n      <td>NaN</td>\n      <td>NaN</td>\n      <td>NaN</td>\n      <td>...</td>\n      <td>NaN</td>\n      <td>NaN</td>\n      <td>NaN</td>\n      <td>NaN</td>\n      <td>NaN</td>\n      <td>NaN</td>\n      <td>NaN</td>\n      <td>NaN</td>\n      <td>NaN</td>\n      <td>NaN</td>\n      <td>NaN</td>\n      <td>NaN</td>\n      <td>NaN</td>\n      <td>NaN</td>\n      <td>NaN</td>\n      <td>NaN</td>\n      <td>NaN</td>\n      <td>NaN</td>\n      <td>NaN</td>\n      <td>NaN</td>\n      <td>NaN</td>\n      <td>NaN</td>\n      <td>NaN</td>\n      <td>NaN</td>\n      <td>NaN</td>\n      <td>NaN</td>\n      <td>NaN</td>\n      <td>NaN</td>\n      <td>NaN</td>\n      <td>NaN</td>\n      <td>NaN</td>\n      <td>NaN</td>\n      <td>NaN</td>\n      <td>NaN</td>\n      <td>NaN</td>\n      <td>NaN</td>\n      <td>NaN</td>\n      <td>NaN</td>\n      <td>NaN</td>\n      <td>NaN</td>\n      <td>NaN</td>\n      <td>NaN</td>\n      <td>NaN</td>\n      <td>NaN</td>\n      <td>NaN</td>\n      <td>NaN</td>\n      <td>NaN</td>\n      <td>NaN</td>\n      <td>NaN</td>\n      <td>NaN</td>\n    </tr>\n    <tr>\n      <th>fffc34d137f5c5c5e1ca1d6f325a4dcf</th>\n      <td>NaN</td>\n      <td>NaN</td>\n      <td>NaN</td>\n      <td>NaN</td>\n      <td>NaN</td>\n      <td>NaN</td>\n      <td>NaN</td>\n      <td>NaN</td>\n      <td>NaN</td>\n      <td>NaN</td>\n      <td>NaN</td>\n      <td>NaN</td>\n      <td>NaN</td>\n      <td>NaN</td>\n      <td>NaN</td>\n      <td>NaN</td>\n      <td>NaN</td>\n      <td>NaN</td>\n      <td>NaN</td>\n      <td>NaN</td>\n      <td>NaN</td>\n      <td>NaN</td>\n      <td>NaN</td>\n      <td>NaN</td>\n      <td>NaN</td>\n      <td>NaN</td>\n      <td>NaN</td>\n      <td>NaN</td>\n      <td>NaN</td>\n      <td>NaN</td>\n      <td>NaN</td>\n      <td>NaN</td>\n      <td>NaN</td>\n      <td>NaN</td>\n      <td>NaN</td>\n      <td>NaN</td>\n      <td>NaN</td>\n      <td>NaN</td>\n      <td>NaN</td>\n      <td>NaN</td>\n      <td>NaN</td>\n      <td>NaN</td>\n      <td>NaN</td>\n      <td>NaN</td>\n      <td>NaN</td>\n      <td>NaN</td>\n      <td>NaN</td>\n      <td>NaN</td>\n      <td>NaN</td>\n      <td>NaN</td>\n      <td>...</td>\n      <td>NaN</td>\n      <td>NaN</td>\n      <td>NaN</td>\n      <td>NaN</td>\n      <td>NaN</td>\n      <td>NaN</td>\n      <td>NaN</td>\n      <td>4.0</td>\n      <td>NaN</td>\n      <td>NaN</td>\n      <td>NaN</td>\n      <td>NaN</td>\n      <td>NaN</td>\n      <td>NaN</td>\n      <td>NaN</td>\n      <td>NaN</td>\n      <td>NaN</td>\n      <td>NaN</td>\n      <td>NaN</td>\n      <td>NaN</td>\n      <td>NaN</td>\n      <td>NaN</td>\n      <td>NaN</td>\n      <td>NaN</td>\n      <td>NaN</td>\n      <td>NaN</td>\n      <td>NaN</td>\n      <td>NaN</td>\n      <td>NaN</td>\n      <td>NaN</td>\n      <td>NaN</td>\n      <td>NaN</td>\n      <td>NaN</td>\n      <td>NaN</td>\n      <td>NaN</td>\n      <td>NaN</td>\n      <td>NaN</td>\n      <td>NaN</td>\n      <td>NaN</td>\n      <td>NaN</td>\n      <td>NaN</td>\n      <td>NaN</td>\n      <td>NaN</td>\n      <td>NaN</td>\n      <td>NaN</td>\n      <td>NaN</td>\n      <td>NaN</td>\n      <td>NaN</td>\n      <td>NaN</td>\n      <td>NaN</td>\n    </tr>\n    <tr>\n      <th>fffce7dae5ac5e8fb6288d81658ececc</th>\n      <td>NaN</td>\n      <td>NaN</td>\n      <td>NaN</td>\n      <td>NaN</td>\n      <td>NaN</td>\n      <td>NaN</td>\n      <td>NaN</td>\n      <td>NaN</td>\n      <td>NaN</td>\n      <td>NaN</td>\n      <td>NaN</td>\n      <td>NaN</td>\n      <td>NaN</td>\n      <td>NaN</td>\n      <td>NaN</td>\n      <td>NaN</td>\n      <td>NaN</td>\n      <td>NaN</td>\n      <td>NaN</td>\n      <td>NaN</td>\n      <td>NaN</td>\n      <td>NaN</td>\n      <td>NaN</td>\n      <td>NaN</td>\n      <td>NaN</td>\n      <td>NaN</td>\n      <td>NaN</td>\n      <td>NaN</td>\n      <td>NaN</td>\n      <td>NaN</td>\n      <td>NaN</td>\n      <td>NaN</td>\n      <td>NaN</td>\n      <td>NaN</td>\n      <td>NaN</td>\n      <td>NaN</td>\n      <td>NaN</td>\n      <td>NaN</td>\n      <td>NaN</td>\n      <td>NaN</td>\n      <td>NaN</td>\n      <td>NaN</td>\n      <td>NaN</td>\n      <td>NaN</td>\n      <td>NaN</td>\n      <td>NaN</td>\n      <td>NaN</td>\n      <td>NaN</td>\n      <td>NaN</td>\n      <td>NaN</td>\n      <td>...</td>\n      <td>NaN</td>\n      <td>NaN</td>\n      <td>NaN</td>\n      <td>NaN</td>\n      <td>NaN</td>\n      <td>NaN</td>\n      <td>NaN</td>\n      <td>NaN</td>\n      <td>NaN</td>\n      <td>NaN</td>\n      <td>NaN</td>\n      <td>NaN</td>\n      <td>NaN</td>\n      <td>NaN</td>\n      <td>NaN</td>\n      <td>NaN</td>\n      <td>NaN</td>\n      <td>NaN</td>\n      <td>NaN</td>\n      <td>NaN</td>\n      <td>NaN</td>\n      <td>NaN</td>\n      <td>NaN</td>\n      <td>NaN</td>\n      <td>NaN</td>\n      <td>NaN</td>\n      <td>NaN</td>\n      <td>NaN</td>\n      <td>NaN</td>\n      <td>NaN</td>\n      <td>NaN</td>\n      <td>NaN</td>\n      <td>NaN</td>\n      <td>NaN</td>\n      <td>NaN</td>\n      <td>NaN</td>\n      <td>NaN</td>\n      <td>NaN</td>\n      <td>NaN</td>\n      <td>NaN</td>\n      <td>NaN</td>\n      <td>NaN</td>\n      <td>NaN</td>\n      <td>NaN</td>\n      <td>NaN</td>\n      <td>NaN</td>\n      <td>NaN</td>\n      <td>NaN</td>\n      <td>NaN</td>\n      <td>NaN</td>\n    </tr>\n    <tr>\n      <th>ffff7cafdaf5196383cb2efca08fb6fe</th>\n      <td>NaN</td>\n      <td>5.0</td>\n      <td>NaN</td>\n      <td>NaN</td>\n      <td>NaN</td>\n      <td>NaN</td>\n      <td>NaN</td>\n      <td>NaN</td>\n      <td>NaN</td>\n      <td>NaN</td>\n      <td>NaN</td>\n      <td>NaN</td>\n      <td>NaN</td>\n      <td>NaN</td>\n      <td>NaN</td>\n      <td>NaN</td>\n      <td>NaN</td>\n      <td>NaN</td>\n      <td>NaN</td>\n      <td>NaN</td>\n      <td>NaN</td>\n      <td>NaN</td>\n      <td>NaN</td>\n      <td>NaN</td>\n      <td>NaN</td>\n      <td>NaN</td>\n      <td>NaN</td>\n      <td>NaN</td>\n      <td>NaN</td>\n      <td>NaN</td>\n      <td>NaN</td>\n      <td>NaN</td>\n      <td>NaN</td>\n      <td>NaN</td>\n      <td>NaN</td>\n      <td>NaN</td>\n      <td>NaN</td>\n      <td>NaN</td>\n      <td>NaN</td>\n      <td>NaN</td>\n      <td>NaN</td>\n      <td>NaN</td>\n      <td>NaN</td>\n      <td>NaN</td>\n      <td>NaN</td>\n      <td>NaN</td>\n      <td>NaN</td>\n      <td>2.0</td>\n      <td>NaN</td>\n      <td>NaN</td>\n      <td>...</td>\n      <td>NaN</td>\n      <td>NaN</td>\n      <td>NaN</td>\n      <td>NaN</td>\n      <td>NaN</td>\n      <td>NaN</td>\n      <td>NaN</td>\n      <td>NaN</td>\n      <td>NaN</td>\n      <td>NaN</td>\n      <td>NaN</td>\n      <td>NaN</td>\n      <td>NaN</td>\n      <td>NaN</td>\n      <td>NaN</td>\n      <td>NaN</td>\n      <td>NaN</td>\n      <td>NaN</td>\n      <td>NaN</td>\n      <td>NaN</td>\n      <td>NaN</td>\n      <td>NaN</td>\n      <td>NaN</td>\n      <td>NaN</td>\n      <td>NaN</td>\n      <td>NaN</td>\n      <td>NaN</td>\n      <td>NaN</td>\n      <td>NaN</td>\n      <td>NaN</td>\n      <td>NaN</td>\n      <td>NaN</td>\n      <td>NaN</td>\n      <td>NaN</td>\n      <td>3.0</td>\n      <td>NaN</td>\n      <td>NaN</td>\n      <td>NaN</td>\n      <td>NaN</td>\n      <td>NaN</td>\n      <td>NaN</td>\n      <td>NaN</td>\n      <td>NaN</td>\n      <td>NaN</td>\n      <td>NaN</td>\n      <td>NaN</td>\n      <td>NaN</td>\n      <td>NaN</td>\n      <td>NaN</td>\n      <td>NaN</td>\n    </tr>\n  </tbody>\n</table>\n<p>9153 rows × 2575 columns</p>\n</div>"
     },
     "execution_count": 10,
     "metadata": {},
     "output_type": "execute_result"
    }
   ],
   "source": [
    "df.reset_index(drop=True)\n",
    "df"
   ],
   "metadata": {
    "collapsed": false,
    "pycharm": {
     "name": "#%%\n"
    }
   }
  },
  {
   "cell_type": "code",
   "execution_count": 11,
   "outputs": [
    {
     "name": "stdout",
     "output_type": "stream",
     "text": [
      "[[nan nan nan ... nan nan nan]\n",
      " [nan nan nan ... nan nan nan]\n",
      " [nan nan nan ... nan nan nan]\n",
      " ...\n",
      " [nan nan nan ... nan nan nan]\n",
      " [nan nan nan ... nan nan nan]\n",
      " [nan  5. nan ... nan nan nan]]\n"
     ]
    }
   ],
   "source": [
    "data_matrix = df.to_numpy(na_value=np.nan)\n",
    "print(data_matrix)"
   ],
   "metadata": {
    "collapsed": false,
    "pycharm": {
     "name": "#%%\n"
    }
   }
  },
  {
   "cell_type": "code",
   "execution_count": 12,
   "outputs": [
    {
     "name": "stdout",
     "output_type": "stream",
     "text": [
      "[[   0  419]\n",
      " [   0  427]\n",
      " [   0  495]\n",
      " ...\n",
      " [9152 2452]\n",
      " [9152 2475]\n",
      " [9152 2559]]\n"
     ]
    }
   ],
   "source": [
    "# Check how to get the index of not empty values\n",
    "idx = np.argwhere(~np.isnan(data_matrix))\n",
    "print(idx)"
   ],
   "metadata": {
    "collapsed": false,
    "pycharm": {
     "name": "#%%\n"
    }
   }
  },
  {
   "cell_type": "code",
   "execution_count": 16,
   "outputs": [
    {
     "data": {
      "text/plain": "array([0., 1., 2., 3., 4., 5.])"
     },
     "execution_count": 16,
     "metadata": {},
     "output_type": "execute_result"
    }
   ],
   "source": [
    "np.unique(data_matrix[idx[:,0], idx[:,1]])"
   ],
   "metadata": {
    "collapsed": false,
    "pycharm": {
     "name": "#%%\n"
    }
   }
  },
  {
   "cell_type": "markdown",
   "source": [
    "# Frank-Wolfe - standard algorithm"
   ],
   "metadata": {
    "id": "IKX1GoN3vcYY"
   }
  },
  {
   "cell_type": "markdown",
   "source": [
    "- Should we feed $\\delta$ to the FW algorithm or should it be defined based on the dimensions of the data?\n",
    "- Which is the correct objective function?\n",
    "- Initialize with random matrix of integers from 1 to 5 or with zeros matrix?"
   ],
   "metadata": {
    "collapsed": false,
    "pycharm": {
     "name": "#%% md\n"
    }
   }
  },
  {
   "cell_type": "markdown",
   "source": [],
   "metadata": {
    "collapsed": false,
    "pycharm": {
     "name": "#%% md\n"
    }
   }
  },
  {
   "cell_type": "code",
   "execution_count": 3,
   "outputs": [],
   "source": [
    "from scipy import sparse\n",
    "from scipy import stats"
   ],
   "metadata": {
    "collapsed": false,
    "pycharm": {
     "name": "#%%\n"
    }
   }
  },
  {
   "cell_type": "code",
   "execution_count": 39,
   "outputs": [],
   "source": [
    "def FW_objective_function(diff_vec):\n",
    "    return 0.5*(np.power(diff_vec,2).sum())\n",
    "    #return 0.5 * np.linalg.norm(diff_vec, 2)**2\n",
    "\n",
    "def FrankWolfe(X, objective_function, Z_init=None, max_iter=150, patience=1e-3):\n",
    "    '''\n",
    "    :param X: sparse matrix with ratings and 'empty values', rows - users, columns - books.\n",
    "    :param objective_function: objective function that we would like to minimize with FW\n",
    "    :param Z_init: In case we want to initialize Z with a known matrix, if not given Z_init will be a zeros matrix\n",
    "    :param max_iter: max number of iterations for the method\n",
    "    :param patience: once reached this tolerance provide the result\n",
    "    :return: Z: matrix of predicted ratings - it should be like X but with no 'empty values'\n",
    "            accuracy: difference between original values (X) and predicted ones (Z)\n",
    "    '''\n",
    "\n",
    "    # Get X indexes for not empty values\n",
    "    idx_ratings = np.argwhere(X != 0)\n",
    "    #idx_ratings = np.argwhere(~np.isnan(X))\n",
    "    idx_rows = idx_ratings[:,0]\n",
    "    idx_cols = idx_ratings[:,1]\n",
    "\n",
    "    # Initialize Z -- think about a good init\n",
    "    if Z_init is not None:\n",
    "        Z = Z_init\n",
    "    else:\n",
    "        #Z = np.random.randint(1, 6, size=X.shape)\n",
    "        #Z = Z.astype(float)\n",
    "        Z = np.zeros(X.shape)\n",
    "\n",
    "    # Create vectors with the not empty features of the sparse matrix\n",
    "    X_rated = X[idx_rows, idx_cols]\n",
    "    Z_rated = Z[idx_rows, idx_cols]\n",
    "    diff_vec = Z_rated - X_rated\n",
    "\n",
    "    # choose an appropriate delta\n",
    "    delta = 6.01\n",
    "\n",
    "    diff_err = patience + 1\n",
    "    err = objective_function(diff_vec)\n",
    "    it = 0\n",
    "    while (diff_err > patience) and (it < max_iter):\n",
    "\n",
    "        # Gradient\n",
    "        grad = sparse.csr_matrix((diff_vec, (idx_rows, idx_cols)))\n",
    "\n",
    "        # SVD\n",
    "        u_max, s_max, v_max = sparse.linalg.svds(grad, k = 1, which='LM')   # Compute k = 1 singular values, starting from the largest (which = 'LM')\n",
    "\n",
    "        # Update\n",
    "        update_Z = -delta*np.outer(u_max,v_max)     # Zk_tilde in the theory\n",
    "\n",
    "        #alpha - as studied in class\n",
    "        alpha_k = 2/(it+2)\n",
    "        Z = (1-alpha_k)*Z + alpha_k*update_Z\n",
    "\n",
    "        # Error\n",
    "        diff_vec = Z[idx_rows, idx_cols] - X[idx_rows, idx_cols]\n",
    "        new_err = objective_function(diff_vec)\n",
    "\n",
    "        # Improvement at this iteration\n",
    "        diff_err = np.abs(err - new_err)\n",
    "        err = new_err\n",
    "\n",
    "        print('Iteration:', it, 'Err:', err, 'Diff err:', diff_err)\n",
    "\n",
    "        # Count iteration\n",
    "        it += 1\n",
    "    return Z, err"
   ],
   "metadata": {
    "collapsed": false,
    "pycharm": {
     "name": "#%%\n"
    }
   }
  },
  {
   "cell_type": "markdown",
   "source": [
    "We build a smaller matrix for testing the FW alg, then we will apply it to our data"
   ],
   "metadata": {
    "collapsed": false,
    "pycharm": {
     "name": "#%% md\n"
    }
   }
  },
  {
   "cell_type": "code",
   "execution_count": 40,
   "outputs": [],
   "source": [
    "# Create a random sparse matrix for testing\n",
    "rvs = stats.randint(1,6).rvs\n",
    "X_test = sparse.random(1500, 2000,              # shape of the sparse matrix\n",
    "            density = 0.05,             # density of the sparse matrix\n",
    "            dtype = np.int32,           # data type\n",
    "            data_rvs=rvs).toarray()     # distribution\n",
    "\n",
    "#Normalize the values\n",
    "X_test_norm = X_test/5"
   ],
   "metadata": {
    "collapsed": false,
    "pycharm": {
     "name": "#%%\n"
    }
   }
  },
  {
   "cell_type": "code",
   "execution_count": 41,
   "outputs": [
    {
     "name": "stdout",
     "output_type": "stream",
     "text": [
      "Iteration: 0 Err: 32713.079509187362 Diff err: 315.92049081264486\n",
      "Iteration: 1 Err: 32713.079412083018 Diff err: 9.710434460430406e-05\n",
      "Iteration: 2 Err: 32713.079387946957 Diff err: 2.4136061256285757e-05\n",
      "Iteration: 3 Err: 32713.07937830788 Diff err: 9.639075869927183e-06\n",
      "Iteration: 4 Err: 32713.079373491597 Diff err: 4.816283762920648e-06\n",
      "Iteration: 5 Err: 32713.079370740397 Diff err: 2.7511996449902654e-06\n",
      "Iteration: 6 Err: 32713.079369021245 Diff err: 1.7191523511428386e-06\n",
      "Iteration: 7 Err: 32713.0793678753 Diff err: 1.1459451343398541e-06\n",
      "Iteration: 8 Err: 32713.07936707321 Diff err: 8.020906534511596e-07\n",
      "Iteration: 9 Err: 32713.079366489914 Diff err: 5.832953320350498e-07\n",
      "Iteration: 10 Err: 32713.079366052454 Diff err: 4.374596755951643e-07\n",
      "Iteration: 11 Err: 32713.07936571596 Diff err: 3.36494849761948e-07\n",
      "Iteration: 12 Err: 32713.07936545158 Diff err: 2.6437919586896896e-07\n",
      "Iteration: 13 Err: 32713.07936524007 Diff err: 2.115084498655051e-07\n",
      "Iteration: 14 Err: 32713.07936506824 Diff err: 1.7183265299536288e-07\n",
      "Iteration: 15 Err: 32713.079364926725 Diff err: 1.4151373761706054e-07\n",
      "Iteration: 16 Err: 32713.07936480879 Diff err: 1.1793599696829915e-07\n",
      "Iteration: 17 Err: 32713.07936470949 Diff err: 9.92986315395683e-08\n"
     ]
    }
   ],
   "source": [
    "pred_ratings, loss = FrankWolfe(X_test_norm, FW_objective_function, max_iter=1000, patience=1e-7)"
   ],
   "metadata": {
    "collapsed": false,
    "pycharm": {
     "name": "#%%\n"
    }
   }
  },
  {
   "cell_type": "code",
   "execution_count": 42,
   "outputs": [
    {
     "data": {
      "text/plain": "array([[0.01674913, 0.01434759, 0.01507895, ..., 0.01425873, 0.01171163,\n        0.01912285],\n       [0.02097993, 0.01797177, 0.01888787, ..., 0.01786046, 0.01466997,\n        0.02395326],\n       [0.01818798, 0.01558014, 0.01637433, ..., 0.01548364, 0.01271773,\n        0.02076562],\n       ...,\n       [0.01870729, 0.01602499, 0.01684185, ..., 0.01592574, 0.01308085,\n        0.02135853],\n       [0.01441318, 0.01234658, 0.01297594, ..., 0.01227011, 0.01007824,\n        0.01645585],\n       [0.01650178, 0.01413571, 0.01485627, ..., 0.01404816, 0.01153867,\n        0.01884045]])"
     },
     "execution_count": 42,
     "metadata": {},
     "output_type": "execute_result"
    }
   ],
   "source": [
    "pred_ratings*5"
   ],
   "metadata": {
    "collapsed": false,
    "pycharm": {
     "name": "#%%\n"
    }
   }
  },
  {
   "cell_type": "code",
   "execution_count": 43,
   "outputs": [
    {
     "data": {
      "text/plain": "array([0.01674913, 0.01434759, 0.01507895, ..., 0.01404816, 0.01153867,\n       0.01884045])"
     },
     "execution_count": 43,
     "metadata": {},
     "output_type": "execute_result"
    }
   ],
   "source": [
    "idx_ratings = np.argwhere(~np.isnan(X_test))\n",
    "idx_rows = idx_ratings[:,0]\n",
    "idx_cols = idx_ratings[:,1]\n",
    "pred_ratings[idx_rows,idx_cols]*5"
   ],
   "metadata": {
    "collapsed": false,
    "pycharm": {
     "name": "#%%\n"
    }
   }
  },
  {
   "cell_type": "markdown",
   "source": [
    "#### Our data prediction"
   ],
   "metadata": {
    "collapsed": false,
    "pycharm": {
     "name": "#%% md\n"
    }
   }
  },
  {
   "cell_type": "code",
   "execution_count": null,
   "outputs": [],
   "source": [
    "pred_ratings, loss = FrankWolfe(data_matrix, FW_objective_function, max_iter=10000, patience=1e-5)"
   ],
   "metadata": {
    "collapsed": false,
    "pycharm": {
     "name": "#%%\n"
    }
   }
  },
  {
   "cell_type": "markdown",
   "source": [
    "# Frank-Wolfe In-face"
   ],
   "metadata": {
    "id": "6y-VOlLMvfq8"
   }
  },
  {
   "cell_type": "code",
   "execution_count": 10,
   "outputs": [
    {
     "data": {
      "text/plain": "array([1, 4, 3, 8, 5])"
     },
     "execution_count": 10,
     "metadata": {},
     "output_type": "execute_result"
    }
   ],
   "source": [
    "a = np.array([1,2,1,2,1])\n",
    "b = np.array([1,2,3,4,5])\n",
    "np.multiply(a,b)"
   ],
   "metadata": {
    "collapsed": false,
    "pycharm": {
     "name": "#%%\n"
    }
   }
  },
  {
   "cell_type": "code",
   "execution_count": null,
   "outputs": [],
   "source": [
    "def FW_objective_function(diff_vec):\n",
    "    return 0.5*(np.power(diff_vec,2).sum())\n",
    "    #return 0.5 * np.linalg.norm(diff_vec, 2)**2\n",
    "\n",
    "def FW_inface(X, objective_function, delta, Z_init=None, max_iter=150, patience=1e-3):\n",
    "    '''\n",
    "    :param X: sparse matrix with ratings and 'empty values', rows - users, columns - books.\n",
    "    :param objective_function: objective function that we would like to minimize with FW.\n",
    "    :param Z_init: In case we want to initialize Z with a known matrix, if not given Z_init will be a zeros matrix.\n",
    "    :param max_iter: max number of iterations for the method.\n",
    "    :param patience: once reached this tolerance provide the result.\n",
    "    :return: Z: matrix of predicted ratings - it should be like X but with no 'empty values'\n",
    "            loss: difference between original values (X) and predicted ones (Z).\n",
    "    '''\n",
    "\n",
    "    # Get X indexes for not empty values\n",
    "    idx_ratings = np.argwhere(X != 0)\n",
    "    #idx_ratings = np.argwhere(~np.isnan(X))\n",
    "    idx_rows = idx_ratings[:,0]\n",
    "    idx_cols = idx_ratings[:,1]\n",
    "\n",
    "    # choose an appropriate delta\n",
    "\n",
    "    # Initialize Z_{-1}\n",
    "    if Z_init is not None:\n",
    "        Z = Z_init\n",
    "    else:\n",
    "        Z = np.zeros(X.shape)\n",
    "\n",
    "    # Create vectors with the not empty features of the sparse matrix\n",
    "    X_rated = X[idx_rows, idx_cols]\n",
    "    Z_rated = Z[idx_rows, idx_cols]\n",
    "    diff_vec = Z_rated - X_rated\n",
    "\n",
    "    # Initial gradient and Z0\n",
    "    grad = sparse.csr_matrix((diff_vec, (idx_rows, idx_cols)))\n",
    "    u_max, s_max, v_max = sparse.linalg.svds(grad, k = 1, which='LM')\n",
    "    Z = -delta*np.outer(u_max,v_max)\n",
    "    Z_rated = Z[idx_rows, idx_cols]\n",
    "\n",
    "    # Initialize lower bound on the optimal objective function (f*)\n",
    "    diff_vec = Z_rated - X_rated\n",
    "    new_low_bound = np.max((objective_function(diff_vec) + np.multiply(diff_vec,Z_rated)),0)\n",
    "\n",
    "    # Set L and D constants and gamma1, gamma2 constraints\n",
    "    L = 1\n",
    "    D = 2*delta\n",
    "    gamma1 = 0\n",
    "    gamma2 = 1\n",
    "\n",
    "    # Compute first iteration thin SVD\n",
    "    grad = sparse.csr_matrix((diff_vec, (idx_rows, idx_cols)))\n",
    "    r_grad = sparse.csgraph.structural_rank(grad)   # Compute rank of the gradient sparse matrix to find thin SVD size\n",
    "    U_thin, D_thin, Vh_thin = sparse.linalg.svds(grad, k = r_grad, which='LM')   # Compute k = rank singular values, starting from the largest (which = 'LM')\n",
    "\n",
    "\n",
    "    # Additional needed parameters\n",
    "    diff_objective = patience + 1\n",
    "    objective = objective_function(diff_vec)\n",
    "    it = 0\n",
    "    while (diff_objective > patience) and (it < max_iter):\n",
    "\n",
    "        # Lower bound update\n",
    "        low_bound = new_low_bound\n",
    "\n",
    "        # In-face direction with the away step strategy: two calculations depending of where Z lies within the feasible set\n",
    "        if Z: #in border\n",
    "            G = ...\n",
    "            u = ... #unitary eigenvector corresponding to largest eigenvalue of G\n",
    "            M = np.outer(u,u)\n",
    "            update_direction = delta*U_thin*M*Vh_thin\n",
    "        else: #inside\n",
    "            idx_max_s = np.argmax(D_thin)\n",
    "            update_direction = delta*np.outer(U_thin[idx_max_s,:],Vh_thin[idx_max_s,:])\n",
    "\n",
    "\n",
    "        # Check if the direction is good for our purposes - if yes create possible updates\n",
    "        alpha_B = ...\n",
    "        Z_B = ...\n",
    "        diff_vec_B = ...\n",
    "\n",
    "        Z_A = ...\n",
    "        diff_vec_A = ...\n",
    "\n",
    "        ## THREE SCENARIOS\n",
    "\n",
    "        # 1. Move to a lower dimensional face\n",
    "        if 1/(objective_function(diff_vec_B)-low_bound) >= (1/(objective-low_bound)+gamma1/(2*L*D**2)):\n",
    "            Z = Z_B\n",
    "        # 2. Stay in the current face\n",
    "        elif 1/(objective_function(diff_vec_A)-low_bound) >= (1/(objective-low_bound)+gamma2/(2*L*D**2)):\n",
    "            Z = Z_A\n",
    "        # 3. Do a regular FW step and update the lower bound\n",
    "        else:\n",
    "            # Zk update\n",
    "            idx_max_s = np.argmax(D_thin)\n",
    "            update_Z = -delta*np.outer(U_thin[idx_max_s,:],Vh_thin[:,idx_max_s]) # Am i selecting right the vectors??\n",
    "            alpha_k = 2/(it+2)\n",
    "            Z = (1-alpha_k)*Z + alpha_k*update_Z\n",
    "\n",
    "            # Lower bound update\n",
    "            direction_vec = update_Z.flatten() - Z.flatten()\n",
    "            wolfe_gap = grad.T * direction_vec\n",
    "            B_w = objective + wolfe_gap.sum() # - bound_slack This is in matlab(Gabri)s code -- is it necessary?\n",
    "            new_low_bound = np.max(low_bound, B_w)\n",
    "\n",
    "        # Thin SVD\n",
    "\n",
    "\n",
    "        # Loss\n",
    "        diff_vec = Z[idx_rows, idx_cols] - X[idx_rows, idx_cols]\n",
    "        new_objective = objective_function(diff_vec)\n",
    "\n",
    "        # Improvement at this iteration\n",
    "        diff_objective = np.abs(objective - new_objective)\n",
    "        objective = new_objective\n",
    "\n",
    "        # Gradient\n",
    "        grad = sparse.csr_matrix((diff_vec, (idx_rows, idx_cols)))\n",
    "\n",
    "        # Count iteration\n",
    "        it += 1\n",
    "\n",
    "        print('Iteration:', it, 'f(Z_k):', objective, 'f(Z_{k-1}) -f(Z_k):', diff_objective)\n",
    "    return Z, objective"
   ],
   "metadata": {
    "collapsed": false,
    "pycharm": {
     "name": "#%%\n"
    }
   }
  },
  {
   "cell_type": "code",
   "execution_count": null,
   "outputs": [],
   "source": [],
   "metadata": {
    "collapsed": false,
    "pycharm": {
     "name": "#%%\n"
    }
   }
  },
  {
   "cell_type": "code",
   "execution_count": null,
   "outputs": [],
   "source": [],
   "metadata": {
    "collapsed": false,
    "pycharm": {
     "name": "#%%\n"
    }
   }
  },
  {
   "cell_type": "code",
   "execution_count": null,
   "outputs": [],
   "source": [],
   "metadata": {
    "collapsed": false,
    "pycharm": {
     "name": "#%%\n"
    }
   }
  },
  {
   "cell_type": "code",
   "execution_count": null,
   "outputs": [],
   "source": [],
   "metadata": {
    "collapsed": false,
    "pycharm": {
     "name": "#%%\n"
    }
   }
  },
  {
   "cell_type": "code",
   "execution_count": null,
   "outputs": [],
   "source": [],
   "metadata": {
    "collapsed": false,
    "pycharm": {
     "name": "#%%\n"
    }
   }
  },
  {
   "cell_type": "markdown",
   "source": [
    "## Sub-Chapter"
   ],
   "metadata": {
    "id": "cpS5jRz4vpHa"
   }
  }
 ]
}