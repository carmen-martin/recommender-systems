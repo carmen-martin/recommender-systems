{
 "cells": [
  {
   "cell_type": "code",
   "execution_count": 1,
   "metadata": {},
   "outputs": [],
   "source": [
    "import numpy as np\n",
    "import pandas as pd"
   ]
  },
  {
   "cell_type": "markdown",
   "metadata": {},
   "source": [
    "## Algorithm: \n",
    "\n",
    "### The end goal is to find a matrix which gives the minimum square loss w.r.t. the original matrix (i.e. reviews). \n",
    "\n",
    "\n",
    "$$min_{Z \\in \\mathbb{R}^{m\\times n}}\\ \\  f(Z) :=  \\frac{1}{2}\\sum_{(i,j)\\in \\Omega} \\left( Z_{ij} - X_{ij}\\right)^{2}$$\n",
    "\n",
    "Subject to having a low rank (or a small nuclear norm). \n",
    "\n",
    "\n",
    "NOTE: It would seem to me that the gradient of this function would simply be: \n",
    "$$ \\nabla f(Z) = \\sum_{ij}(Z_{ij} - X_{ij}) $$\n",
    "right?\n",
    "\n",
    "\n",
    "### This found matrix needs to have low rank for two reasons: \n",
    "1. It is a constraint that allows for the problem to be well posed. (Otherwise the matrix elements could be anything). \n",
    "2. Rank identifies the number of linearly indipendent columns, since we want to build a recommender system we would like there to be relations among the columns, the constraint is not a weakness, it is a desired property.\n",
    "\n",
    "\n",
    "\n",
    "\n",
    "### How is this matrix found? (i think)\n",
    "\n",
    "1. The Frank-Wolfe algorithm starts at the zeroth (k) iteration with a guess of a good solution, this solution is called $Z^{k}$. \n",
    "2. This solution (it is a matrix) is then used to solve a \"sub\"-minimization problem. Frank-Wolfe looks for a matrix $Z$ (with nuclear norm below a certain quantity) which minimizes the following quantity: $$ \\nabla f(Z^{k}) \\cdot Z $$ The matrix which satisfies this is called $\\tilde{Z}^{k}$. \n",
    "3. Then the algorithm chooses $Z^{k+1}$ by means of a standard stepping procedure: $$ Z^{k+1} = (1-\\alpha_{k}) Z^{k} + \\alpha_{k}\\tilde{Z}^{k}$$ \n",
    "\n",
    "\n",
    "Note that the FW algorithms already gives a recipe to calculate the matrix $\\tilde{Z}^{k}$ at step 2. It holds that: \n",
    "$$ \\tilde{Z}^{k} = -\\delta u_{1}(v_{1})^{T}$$ is a rank-one matrix. Where $u_{1}, v_{1}$ are the singular vectors (why only 2 ?) associated with the largest singular value of $\\nabla f(Z^{k})$."
   ]
  },
  {
   "cell_type": "code",
   "execution_count": 39,
   "metadata": {},
   "outputs": [],
   "source": [
    "#------------IDEAS TO APPLY TO ACTUAL DATA---------------\n",
    "\n",
    "# df.fillna(0)\n",
    "# function to replace NaNs with 0s. (nobody gives 0 rating, come on.)\n",
    "\n",
    "# Then I can use https://docs.scipy.org/doc/scipy/reference/generated/scipy.sparse.linalg.svds.html\n",
    "# to search for the singular values of the gradient of the matrix. \n",
    "\n",
    "# Then I update the matrix with the procedure in the paper/slides\n",
    "\n",
    "# Repeat until tolerance/max iterations reached (?)"
   ]
  },
  {
   "cell_type": "code",
   "execution_count": 80,
   "metadata": {},
   "outputs": [
    {
     "name": "stdout",
     "output_type": "stream",
     "text": [
      "\n",
      " Example of nuclear norm:\n",
      "\n",
      " The matrix is: \n",
      " [[1 0 0]\n",
      " [0 1 0]\n",
      " [0 0 1]]\n",
      "\n",
      " Its nuclear norm is:  3.0\n"
     ]
    }
   ],
   "source": [
    "# (probably won't need this function, maybe as a check on the nuclear norm of the solution at each step (?) ) #\n",
    "\n",
    "\n",
    "\n",
    "#This function calculates the nuclear norm of a matrix.\n",
    "# (the nuclear norm is the sum of all non-zero singular values of a matrix)\n",
    "\n",
    "\n",
    "#the [1] accesses the eigenvalues of the diagonal matrix D -----> X^{T}*D*X\n",
    "def nuclear_norm(A):\n",
    "    return np.sum(np.linalg.svd(A)[1])\n",
    "\n",
    "X = np.array([[1,0,0], [0,1,0], [0, 0, 1]])\n",
    "Y= np.array([[1,0,1], [0,1,0], [1, 0, 1]])\n",
    "\n",
    "print('\\n Example of nuclear norm:')\n",
    "print('\\n The matrix is: \\n', X)\n",
    "print('\\n Its nuclear norm is: ', nuclear_norm(X))"
   ]
  },
  {
   "cell_type": "code",
   "execution_count": 2,
   "metadata": {},
   "outputs": [],
   "source": [
    "from scipy.linalg import svd"
   ]
  },
  {
   "cell_type": "markdown",
   "metadata": {},
   "source": [
    "# Tried both of these, not sure which is WORST"
   ]
  },
  {
   "cell_type": "code",
   "execution_count": 18,
   "metadata": {},
   "outputs": [],
   "source": [
    "from sklearn.decomposition import TruncatedSVD\n",
    "# svd\n",
    "def create_update(g):\n",
    "    U,s,VT = svd(g)\n",
    "    return (U[1] * VT[1])"
   ]
  },
  {
   "cell_type": "code",
   "execution_count": 20,
   "metadata": {},
   "outputs": [],
   "source": [
    "from sklearn.decomposition import TruncatedSVD\n",
    "# svd\n",
    "def create_update(g):\n",
    "    retain_biggest_sv = TruncatedSVD(n_components=1)\n",
    "    retain_biggest_sv.fit(g)\n",
    "    result = retain_biggest_sv.transform(g)\n",
    "    return result"
   ]
  },
  {
   "cell_type": "code",
   "execution_count": 21,
   "metadata": {},
   "outputs": [
    {
     "name": "stdout",
     "output_type": "stream",
     "text": [
      "Rank of tilde zk:  1\n",
      "\n",
      " [[ -91.92592405  -91.92592405  -98.25925739]\n",
      " [-208.47498798 -245.47498798 -241.47498798]\n",
      " [ -41.28002916  -44.28002916  -31.61336249]] \n",
      "\n",
      "Rank of tilde zk:  1\n",
      "\n",
      " [[-291.72094153 -291.72094153 -294.88760819]\n",
      " [-707.99606528 -726.49606528 -724.49606528]\n",
      " [-122.63732397 -124.13732397 -117.80399064]] \n",
      "\n",
      "Rank of tilde zk:  1\n",
      "\n",
      " [[ -784.9220792   -784.9220792   -786.8220792 ]\n",
      " [-1920.68528308 -1931.78528308 -1930.58528308]\n",
      " [ -326.84215049  -327.74215049  -323.94215049]] \n",
      "\n",
      "Rank of tilde zk:  1\n",
      "\n",
      " [[-1885.05538355 -1885.05538355 -1886.32205022]\n",
      " [-4619.31650915 -4626.71650915 -4625.91650915]\n",
      " [ -783.42258216  -784.02258216  -781.48924883]] \n",
      "\n",
      "Rank of tilde zk:  1\n",
      "\n",
      " [[ -4146.66570757  -4146.66570757  -4147.57046947]\n",
      " [-10164.34818042 -10169.63389471 -10169.06246614]\n",
      " [ -1722.50323141  -1722.93180283  -1721.12227903]] \n",
      "\n",
      "Rank of tilde zk:  1\n",
      "\n",
      " [[ -8497.93374104  -8497.93374104  -8498.61231247]\n",
      " [-20831.46721248 -20835.43149819 -20835.00292676]\n",
      " [ -3529.49533795  -3529.81676652  -3528.45962366]] \n",
      "\n",
      "Rank of tilde zk:  1\n",
      "\n",
      " [[-16423.10364148 -16423.10364148 -16423.63141926]\n",
      " [-40259.24551645 -40262.32884978 -40261.99551645]\n",
      " [ -6820.78317389  -6821.03317389  -6819.97761833]] \n",
      "\n",
      "Rank of tilde zk:  1\n",
      "\n",
      " [[-30206.74850766 -30206.74850766 -30207.17072989]\n",
      " [-74048.05238757 -74050.51905424 -74050.25238757]\n",
      " [-12545.14630213 -12545.34630213 -12544.50185768]] \n",
      "\n",
      "Rank of tilde zk:  1\n",
      "\n",
      " [[ -53253.35147659  -53253.35147659  -53253.69693113]\n",
      " [-130543.50645415 -130545.52463597 -130545.30645415]\n",
      " [ -22116.47508453  -22116.6387209   -22115.94781181]] \n",
      "\n"
     ]
    },
    {
     "data": {
      "text/plain": [
       "array([[ -53253.35147659,  -53253.35147659,  -53253.69693113],\n",
       "       [-130543.50645415, -130545.52463597, -130545.30645415],\n",
       "       [ -22116.47508453,  -22116.6387209 ,  -22115.94781181]])"
      ]
     },
     "execution_count": 21,
     "metadata": {},
     "output_type": "execute_result"
    }
   ],
   "source": [
    "def step(data, delta = 3):\n",
    "    # might not be a good idea to pass the original data matrix everytime\n",
    "    for i in range(1, 10):\n",
    "        steps = 2/(i+2)\n",
    "        if (i==1):\n",
    "            it = np.array([42,42,23,123,12,24, 12,3,41]).reshape(3,3)\n",
    "        else:\n",
    "            it = z_kp1\n",
    "\n",
    "    # ----------calculate gradient here (it's a matrix as defined in the paper)\n",
    "        g = it - data \n",
    "    #-----------find SVD of gradient\n",
    "    \n",
    "        \n",
    "    #-----------take u_1 and v_1 and delta and create update TILDE ZK (check that it has rank one)\n",
    "    \n",
    "        zk_tilde = -delta * create_update(g)\n",
    "        print('Rank of tilde zk: ', np.linalg.matrix_rank(zk_tilde))\n",
    "    #------------create new iterate Z^{k+1}\n",
    "\n",
    "        z_kp1 = (1 - steps)*it + steps*zk_tilde\n",
    "        print('\\n', z_kp1, '\\n')   \n",
    "    \n",
    "    #------------repeat\n",
    "    return z_kp1\n",
    "\n",
    "example = np.array([1,0,1, 0,0,0,0,0,1]).reshape(3,3)\n",
    "\n",
    "step(example)"
   ]
  },
  {
   "cell_type": "code",
   "execution_count": 21,
   "metadata": {},
   "outputs": [
    {
     "name": "stdout",
     "output_type": "stream",
     "text": [
      "[[1 2 3]\n",
      " [4 5 6]\n",
      " [7 8 9]]\n",
      "[[ 3.6196    ]\n",
      " [ 8.77091014]\n",
      " [13.92222029]]\n"
     ]
    }
   ],
   "source": [
    "\n"
   ]
  },
  {
   "cell_type": "markdown",
   "metadata": {},
   "source": [
    "### FabianP\n"
   ]
  },
  {
   "cell_type": "code",
   "execution_count": 25,
   "metadata": {},
   "outputs": [
    {
     "data": {
      "image/png": "[encoded data removed]",
      "text/plain": [
       "<Figure size 432x288 with 1 Axes>"
      ]
     },
     "metadata": {
      "needs_background": "light"
     },
     "output_type": "display_data"
    },
    {
     "name": "stdout",
     "output_type": "stream",
     "text": [
      "Sparsity of solution: 0.1%\n"
     ]
    }
   ],
   "source": [
    "import numpy as np\n",
    "from scipy import sparse\n",
    "\n",
    "# .. for plotting ..\n",
    "import pylab as plt\n",
    "# .. to generate a synthetic dataset ..\n",
    "from sklearn import datasets\n",
    "\n",
    "n_samples, n_features = 1000, 10000\n",
    "A, b = datasets.make_regression(n_samples, n_features)\n",
    "\n",
    "def FW(alpha, max_iter=200, tol=1e-8):\n",
    "    # .. initial estimate, could be any feasible point ..\n",
    "    x_t = sparse.dok_matrix((n_features, 1))\n",
    "    trace = []  # to keep track of the gap\n",
    "\n",
    "    # .. some quantities can be precomputed ..\n",
    "    Atb = A.T.dot(b)\n",
    "    for it in range(max_iter):\n",
    "        # .. compute gradient. Slightly more involved than usual because ..\n",
    "        # .. of the use of sparse matrices ..\n",
    "        Ax = x_t.T.dot(A.T).ravel()\n",
    "        grad = (A.T.dot(Ax) - Atb)\n",
    "\n",
    "        # .. the LMO results in a vector that is zero everywhere except for ..\n",
    "        # .. a single index. Of this vector we only store its index and magnitude ..\n",
    "        idx_oracle = np.argmax(np.abs(grad))\n",
    "        mag_oracle = alpha * np.sign(-grad[idx_oracle])\n",
    "        g_t = x_t.T.dot(grad).ravel() - grad[idx_oracle] * mag_oracle\n",
    "        trace.append(g_t)\n",
    "        if g_t <= tol:\n",
    "            break\n",
    "        q_t = A[:, idx_oracle] * mag_oracle - Ax\n",
    "        step_size = min(q_t.dot(b - Ax) / q_t.dot(q_t), 1.)\n",
    "        x_t = (1. - step_size) * x_t\n",
    "        x_t[idx_oracle] = x_t[idx_oracle] + step_size * mag_oracle\n",
    "    return x_t, np.array(trace)\n",
    "\n",
    "# .. plot evolution of FW gap ..\n",
    "sol, trace = FW(.5 * n_features)\n",
    "plt.plot(trace)\n",
    "plt.yscale('log')\n",
    "plt.xlabel('Number of iterations')\n",
    "plt.ylabel('FW gap')\n",
    "plt.title('FW on a Lasso problem')\n",
    "plt.grid()\n",
    "plt.show()\n",
    "\n",
    "sparsity = np.mean(sol.toarray().ravel() != 0)\n",
    "print('Sparsity of solution: %s%%' % (sparsity * 100))"
   ]
  },
  {
   "cell_type": "code",
   "execution_count": null,
   "metadata": {},
   "outputs": [],
   "source": []
  }
 ],
 "metadata": {
  "kernelspec": {
   "display_name": "Python 3",
   "language": "python",
   "name": "python3"
  },
  "language_info": {
   "codemirror_mode": {
    "name": "ipython",
    "version": 3
   },
   "file_extension": ".py",
   "mimetype": "text/x-python",
   "name": "python",
   "nbconvert_exporter": "python",
   "pygments_lexer": "ipython3",
   "version": "3.8.10"
  }
 },
 "nbformat": 4,
 "nbformat_minor": 4
}
